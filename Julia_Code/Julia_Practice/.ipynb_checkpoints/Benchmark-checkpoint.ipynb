{
 "cells": [
  {
   "cell_type": "markdown",
   "metadata": {},
   "source": [
    "<p style=\"font-family: Arial; font-size:3.75em;color:purple; font-style:bold\"><br>\n",
    "Benchmark read write with file formats</p><br>\n",
    "\n",
    "**_DataFrames_** is a Julia library for tabular data manipulation. It offers a number of data exploration, cleaning and transformation operations that are critical in working with data in Julia. Similar to pandas in Python and data.table, dplyr in R. DataFrames.jl work well with a range of file formats such as CSVs (using CSV.jl), Apache Arrow (using Arrow.jl) Stata, SPSS, and SAS files (using StatFiles.jl), and reading and writing parquet files (using Parquet.jl)\n",
    "\n",
    "\n",
    "## Advanced Topics: Working with Other file formats\n",
    "\n",
    "Let us compare the read write using a huge file.\n",
    "\n",
    "XML, JSON , BSON, YAML , MessagePack, and protobuf are some commonly used data serialization formats.\n",
    "\n",
    "JDF is a serailization format supported by Julia. JDF stores a DataFrame in a folder with each column stored as a separate file. There is also a metadata.jls file that stores metadata about the original DataFrame. Collectively, the column files, the metadata file, and the folder is called a JDF \"file\".\n",
    "\n",
    "JDF.jl is a pure-Julia solution and there are a lot of ways to do nifty things like compression and encapsulating the underlying struture of the arrays that's hard to do in R and Python. E.g. Python's numpy arrays are C objects, but all the vector types used in JDF are Julia data types.\n",
    "\n",
    "JDF is a DataFrames serialization format with the following goals\n",
    "\n",
    "* Fast save and load times\n",
    "* Compressed storage on disk\n",
    "* Enable disk-based data manipulation (not yet achieved; from v0.4.0)\n",
    "* Supports machine learning workloads, e.g. mini-batch, sampling (not yet achieved; from v0.4.0)\n",
    "\n",
    "\n",
    "More here: https://github.com/xiaodaigh/JDF.jl"
   ]
  },
  {
   "cell_type": "markdown",
   "metadata": {},
   "source": [
    "## Data: Seattle Library Collection Inventory\n",
    "\n",
    "This dataset includes monthly snapshot of all of the physical items in the Seattle Public Library’s collection. Consistent monthly data begins with a snapshot taken August 1, 2016, continuing to the present. Additionally, this dataset contains snapshots taken on: January 1 in the years 2012, 2013, 2014, and 2016.\n",
    "\n",
    "* Approx 12 GB of data from August 2016 to Nov 2019. \n",
    "* Dimension of the data: 35,5,31,308 * 13 (approx. 35 million observation across 13 variables)\n",
    "\n",
    "This code is to compare the read time of a large file. The data was taken from https://www.kaggle.com/city-of-seattle/seattle-library-collection-inventory\n",
    "\n",
    "\n",
    "Memory management in R: http://adv-r.had.co.nz/memory.html"
   ]
  },
  {
   "cell_type": "markdown",
   "metadata": {},
   "source": [
    "## Importing library"
   ]
  },
  {
   "cell_type": "code",
   "execution_count": 1,
   "metadata": {},
   "outputs": [],
   "source": [
    "using Pkg"
   ]
  },
  {
   "cell_type": "code",
   "execution_count": 2,
   "metadata": {},
   "outputs": [],
   "source": [
    "#Pkg.add(\"DataFrames\")\n",
    "#Pkg.add(\"CSV\") ## To load a file\n",
    "#Pkg.add(\"TableView\") ## optional - to render a table\n",
    "#Pkg.add(\"WebIO\")\n",
    "#Pkg.add(\"DataFramesMeta\")"
   ]
  },
  {
   "cell_type": "code",
   "execution_count": 1,
   "metadata": {
    "scrolled": true
   },
   "outputs": [],
   "source": [
    "using CSV\n",
    "using DataFrames"
   ]
  },
  {
   "cell_type": "code",
   "execution_count": 4,
   "metadata": {},
   "outputs": [],
   "source": [
    "#using WebIO\n",
    "#WebIO.install_jupyter_nbextension()\n",
    "#using TableView"
   ]
  },
  {
   "cell_type": "markdown",
   "metadata": {},
   "source": [
    "## General settings \n",
    "\n",
    "By default, Julia uses 80 horizontal space to show columns and 30 vertical space to show rows.\n",
    "> * Check the default number of rows and columns which are displayed. \n",
    "* Change the default setting."
   ]
  },
  {
   "cell_type": "code",
   "execution_count": 2,
   "metadata": {},
   "outputs": [
    {
     "data": {
      "text/plain": [
       "\"80\""
      ]
     },
     "execution_count": 2,
     "metadata": {},
     "output_type": "execute_result"
    }
   ],
   "source": [
    "ENV[\"COLUMNS\"]"
   ]
  },
  {
   "cell_type": "code",
   "execution_count": 3,
   "metadata": {},
   "outputs": [
    {
     "data": {
      "text/plain": [
       "\"30\""
      ]
     },
     "execution_count": 3,
     "metadata": {},
     "output_type": "execute_result"
    }
   ],
   "source": [
    "ENV[\"LINES\"]"
   ]
  },
  {
   "cell_type": "code",
   "execution_count": 4,
   "metadata": {},
   "outputs": [
    {
     "data": {
      "text/plain": [
       "\"/Users/Rahul\""
      ]
     },
     "execution_count": 4,
     "metadata": {},
     "output_type": "execute_result"
    }
   ],
   "source": [
    "#os.getcwd()\n",
    "homedir()"
   ]
  },
  {
   "cell_type": "code",
   "execution_count": 5,
   "metadata": {},
   "outputs": [
    {
     "data": {
      "text/plain": [
       "\"/Users/Rahul/Documents/Rahul Office/IIMB/Concepts/Julia/ML_using_Julia/Julia_Code/Julia_Practice\""
      ]
     },
     "execution_count": 5,
     "metadata": {},
     "output_type": "execute_result"
    }
   ],
   "source": [
    "pwd()"
   ]
  },
  {
   "cell_type": "code",
   "execution_count": 6,
   "metadata": {},
   "outputs": [],
   "source": [
    "cd(\"../\")"
   ]
  },
  {
   "cell_type": "code",
   "execution_count": 7,
   "metadata": {},
   "outputs": [
    {
     "data": {
      "text/plain": [
       "\"/Users/Rahul/Documents/Rahul Office/IIMB/Concepts/Julia/ML_using_Julia/Julia_Code\""
      ]
     },
     "execution_count": 7,
     "metadata": {},
     "output_type": "execute_result"
    }
   ],
   "source": [
    "pwd()"
   ]
  },
  {
   "cell_type": "code",
   "execution_count": 8,
   "metadata": {},
   "outputs": [],
   "source": [
    "cd(\"./Julia_Practice\")"
   ]
  },
  {
   "cell_type": "code",
   "execution_count": 9,
   "metadata": {},
   "outputs": [
    {
     "data": {
      "text/plain": [
       "\"/Users/Rahul/Documents/Rahul Office/IIMB/Concepts/Julia/ML_using_Julia/Julia_Code/Julia_Practice\""
      ]
     },
     "execution_count": 9,
     "metadata": {},
     "output_type": "execute_result"
    }
   ],
   "source": [
    "pwd()"
   ]
  },
  {
   "cell_type": "markdown",
   "metadata": {},
   "source": [
    "## Read the dataset, which is in csv format\n",
    "\n",
    "Pandas has many read_* functions to read data from multiples data sources or formats like json, jdbc, excel, pickel (python serialized objects) etc."
   ]
  },
  {
   "cell_type": "code",
   "execution_count": 10,
   "metadata": {},
   "outputs": [
    {
     "data": {
      "text/plain": [
       "1000"
      ]
     },
     "execution_count": 10,
     "metadata": {},
     "output_type": "execute_result"
    }
   ],
   "source": [
    "ENV[\"COLUMNS\"] = 1000"
   ]
  },
  {
   "cell_type": "code",
   "execution_count": 11,
   "metadata": {},
   "outputs": [
    {
     "data": {
      "text/plain": [
       "\"/Users/Rahul/Documents/Rahul Office/IIMB/Concepts/Julia/ML_using_Julia/Julia_Code/Julia_Practice\""
      ]
     },
     "execution_count": 11,
     "metadata": {},
     "output_type": "execute_result"
    }
   ],
   "source": [
    "pwd()"
   ]
  },
  {
   "cell_type": "code",
   "execution_count": 12,
   "metadata": {},
   "outputs": [],
   "source": [
    "cd(\"../../../../\")"
   ]
  },
  {
   "cell_type": "code",
   "execution_count": 13,
   "metadata": {},
   "outputs": [
    {
     "data": {
      "text/plain": [
       "\"/Users/Rahul/Documents/Rahul Office/IIMB/Concepts\""
      ]
     },
     "execution_count": 13,
     "metadata": {},
     "output_type": "execute_result"
    }
   ],
   "source": [
    "pwd()"
   ]
  },
  {
   "cell_type": "code",
   "execution_count": 14,
   "metadata": {},
   "outputs": [
    {
     "data": {
      "text/plain": [
       "6"
      ]
     },
     "execution_count": 14,
     "metadata": {},
     "output_type": "execute_result"
    }
   ],
   "source": [
    "Threads.nthreads()"
   ]
  },
  {
   "cell_type": "code",
   "execution_count": 15,
   "metadata": {
    "scrolled": false
   },
   "outputs": [
    {
     "data": {
      "text/html": [
       "<table class=\"data-frame\"><thead><tr><th></th><th>BibNum</th><th>Title</th><th>Author</th><th>ISBN</th><th>PublicationYear</th><th>Publisher</th><th>Subjects</th><th>ItemType</th><th>ItemCollection</th><th>FloatingItem</th><th>ItemLocation</th><th>ReportDate</th><th>ItemCount</th></tr><tr><th></th><th>Int64</th><th>String?</th><th>String?</th><th>String?</th><th>String?</th><th>String?</th><th>String?</th><th>String</th><th>String</th><th>String</th><th>String</th><th>DateTim…</th><th>Int64</th></tr></thead><tbody><p>35,531,308 rows × 13 columns</p><tr><th>1</th><td>3011076</td><td>A tale of two friends / adapted by Ellie O'Ryan ; illustrated by Tom Caulfield, Frederick Gardner, Megan Petasky, and Allen Tam.</td><td>O'Ryan, Ellie</td><td>1481425730, 1481425749, 9781481425735, 9781481425742</td><td>2014.</td><td>Simon Spotlight,</td><td>Musicians Fiction, Bullfighters Fiction, Best friends Fiction, Friendship Fiction, Adventure and adventurers Fiction</td><td>jcbk</td><td>ncrdr</td><td>Floating</td><td>qna</td><td>2017-09-01T00:00:00</td><td>1</td></tr><tr><th>2</th><td>2248846</td><td>Naruto. Vol. 1, Uzumaki Naruto / story and art by Masashi Kishimoto ; [English adaptation by Jo Duffy].</td><td>Kishimoto, Masashi, 1974-</td><td>1569319006</td><td>2003, c1999.</td><td>Viz,</td><td>Ninja Japan Comic books strips etc, Comic books strips etc Japan Translations into English, Graphic novels</td><td>acbk</td><td>nycomic</td><td>NA</td><td>lcy</td><td>2017-09-01T00:00:00</td><td>1</td></tr><tr><th>3</th><td>3209270</td><td>Peace, love &amp; Wi-Fi : a ZITS treasury / by Jerry Scott and Jim Borgman.</td><td>Scott, Jerry, 1955-</td><td>144945867X, 9781449458676</td><td>2014.</td><td>Andrews McMeel Publishing,</td><td>Duncan Jeremy Fictitious character Comic books strips etc, Teenagers United States Comic books strips etc, Parent and teenager Comic books strips etc, Families Comic books strips etc, Comic books strips etc, Comics Graphic works, Humorous comics</td><td>acbk</td><td>nycomic</td><td>NA</td><td>bea</td><td>2017-09-01T00:00:00</td><td>1</td></tr><tr><th>4</th><td>1907265</td><td>The Paris pilgrims : a novel / Clancy Carlile.</td><td>Carlile, Clancy, 1930-</td><td>0786706155</td><td>c1999.</td><td>Carroll &amp; Graf,</td><td>Hemingway Ernest 1899 1961 Fiction, Biographical fiction, Historical fiction</td><td>acbk</td><td>cafic</td><td>NA</td><td>cen</td><td>2017-09-01T00:00:00</td><td>1</td></tr><tr><th>5</th><td>1644616</td><td>Erotic by nature : a celebration of life, of love, and of our wonderful bodies / edited by David Steinberg.</td><td><em>missing</em></td><td>094020813X</td><td>1991, c1988.</td><td>Red Alder Books/Down There Press,</td><td>Erotic literature American, American literature 20th century</td><td>acbk</td><td>canf</td><td>NA</td><td>cen</td><td>2017-09-01T00:00:00</td><td>1</td></tr><tr><th>6</th><td>1736505</td><td>Children of Cambodia's killing fields : memoirs by survivors / compiled by Dith Pran ; introduction by Ben Kiernan ; edited by Kim DePaul.</td><td><em>missing</em></td><td>0300068395, 0300078730</td><td>c1997.</td><td>Yale University Press,</td><td>Political atrocities Cambodia, Children Cambodia Biography, Cambodia History 1975</td><td>acbk</td><td>canf</td><td>NA</td><td>cen</td><td>2017-09-01T00:00:00</td><td>1</td></tr><tr><th>7</th><td>1749492</td><td>Anti-Zionism : analytical reflections / editors: Roselle Tekiner, Samir Abed-Rabbo, Norton Mezvinsky.</td><td><em>missing</em></td><td>091559773X</td><td>c1989.</td><td>Amana Books,</td><td>Berger Elmer 1908 1996, Zionism Controversial literature</td><td>acbk</td><td>canf</td><td>NA</td><td>cen</td><td>2017-09-01T00:00:00</td><td>1</td></tr><tr><th>8</th><td>3270562</td><td>Hard-hearted Highlander / Julia London.</td><td>London, Julia</td><td>0373789998, 037380394X, 9780373789993, 9780373803941</td><td>[2017]</td><td>HQN,</td><td>Man woman relationships Fiction, Betrothal Fiction, Governesses Fiction, Highlands Scotland Fiction, Romance fiction, Historical fiction</td><td>acbk</td><td>nanew</td><td>NA</td><td>lcy</td><td>2017-09-01T00:00:00</td><td>1</td></tr><tr><th>9</th><td>3264577</td><td>The Sandcastle Empire / Kayla Olson.</td><td>Olson, Kayla</td><td>0062484877, 9780062484871</td><td>2017.</td><td>HarperTeen,</td><td>Survival Juvenile fiction, Islands Juvenile fiction, Dystopias Juvenile fiction, Fantasy fiction, Young adult fiction</td><td>acbk</td><td>nynew</td><td>NA</td><td>nga</td><td>2017-09-01T00:00:00</td><td>1</td></tr><tr><th>10</th><td>3236819</td><td>Doctor Who. The return of Doctor Mysterio / BBC ; BBC Wales ; produced by Peter Bennett ; [written] by Steven Moffat ; directed by Ed Bazalgette.</td><td><em>missing</em></td><td><em>missing</em></td><td>[2017]</td><td>BBC Worldwide,</td><td>Doctor Fictitious character Drama, Time travel Drama, Human alien encounters Drama, Science fiction television programs, Fiction television programs, Television series, Video recordings for the hearing impaired</td><td>acdvd</td><td>nadvd</td><td>Floating</td><td>wts</td><td>2017-09-01T00:00:00</td><td>2</td></tr><tr><th>11</th><td>3018388</td><td>Burnt toast makes you sing good : a memoir of food and love from an American Midwest family / Kathleen Flinn.</td><td>Flinn, Kathleen</td><td>067001544X, 9780670015443</td><td>2014.</td><td>Viking,</td><td>Cooking American Midwestern style, Flinn Kathleen Family, Cooks United States Biography, Cookbooks</td><td>acbk</td><td>nanf</td><td>NA</td><td>mon</td><td>2017-09-01T00:00:00</td><td>1</td></tr><tr><th>12</th><td>3122831</td><td>Barbie &amp; her sisters in the great puppy adventure [videorecording] / Universal ; Mattel Playground Productions ; produced by Margaret M. Dean and Gabrielle Miles, Genna du Plessis ; written by Amy Wolfram ; directed by Andrew Tan.</td><td><em>missing</em></td><td><em>missing</em></td><td>[2015]</td><td>Universal Studios Home Entertainment,</td><td>Barbie Fictitious character Juvenile drama, Sisters Juvenile drama, Treasure troves Juvenile drama, Childrens films, Animated films, Feature films, Video recordings for the hearing impaired</td><td>jcdvd</td><td>ncdvd</td><td>Floating</td><td>rbe</td><td>2017-09-01T00:00:00</td><td>1</td></tr><tr><th>13</th><td>2519097</td><td>Stop bullying now! [videorecording] : Take a stand, lend a hand.</td><td><em>missing</em></td><td><em>missing</em></td><td>[2006?]</td><td>U.S. Dept. of Health and Human Services ; Dept. of Education,</td><td>Bullying in schools United States Prevention, Bullying United States Prevention, Aggressiveness in children United States Prevention, Educational films, Animated films</td><td>acdvd</td><td>cadvdnf</td><td>NA</td><td>cen</td><td>2017-09-01T00:00:00</td><td>1</td></tr><tr><th>14</th><td>3274605</td><td>The only child : a novel / Andrew Pyper.</td><td>Pyper, Andrew</td><td>1476755213, 9781476755212</td><td>2017.</td><td>Simon &amp; Schuster,</td><td>Forensic psychiatrists Fiction, Psychological fiction, Thrillers Fiction</td><td>acbk</td><td>cafic</td><td>NA</td><td>cen</td><td>2017-09-01T00:00:00</td><td>1</td></tr><tr><th>15</th><td>3265336</td><td>The Jolley-Rogers and the monster's gold / Jonny Duddle.</td><td>Duddle, Jonny</td><td>0763692921, 9780763692926</td><td>2017.</td><td>Templar Books, an imprint of Candelwick Press,</td><td>Pirates Juvenile fiction, Monsters Juvenile fiction, Treasure troves Juvenile fiction</td><td>jcbk</td><td>ncef</td><td>NA</td><td>net</td><td>2017-09-01T00:00:00</td><td>1</td></tr><tr><th>16</th><td>3154492</td><td>Duke in his own words : John Wayne's life in letters, handwritten notes and never-before-seen photos / [introduction by Ethan Wayne].</td><td><em>missing</em></td><td>1942556195, 9781942556190</td><td>c2015.</td><td>Topix Media Lab,</td><td>Wayne John 1907 1979 Correspondence, Wayne John 1907 1979, Motion picture actors and actresses United States Correspondence, Motion picture actors and actresses United States Biography</td><td>acbk</td><td>nanf</td><td>NA</td><td>bro</td><td>2017-09-01T00:00:00</td><td>1</td></tr><tr><th>17</th><td>3167678</td><td>The Alchemists' Council / Cynthea Masson.</td><td>Masson, Cynthea, 1962-</td><td>1770412719, 9781770412712</td><td>2016.</td><td>ECW Press,</td><td>Alchemy Fiction, Fantasy fiction</td><td>acbk</td><td>nafic</td><td>NA</td><td>glk</td><td>2017-09-01T00:00:00</td><td>1</td></tr><tr><th>18</th><td>3137398</td><td>Parrots of the wild : a natural history of the world's most captivating birds / Catherine A. Toft and Timothy F. Wright ; foreword by James D. Gilardi.</td><td>Toft, Catherine Ann, 1950-2011,,</td><td>0520239253, 9780520239258</td><td>[2015]</td><td>University of California Press ; in collaboration with the World Parrot Trust,</td><td>Parrots, Parrots Conservation, Human animal relationships</td><td>acbk</td><td>nanf</td><td>NA</td><td>gwd</td><td>2017-09-01T00:00:00</td><td>1</td></tr><tr><th>19</th><td>3165211</td><td>The aromatherapy garden : growing fragrant plants for happiness and well-being / Kathi Keville.</td><td>Keville, Kathi</td><td>1604695498, 9781604695496</td><td>2016.</td><td>Timber Press,</td><td>Fragrant gardens, Aromatic plants Therapeutic use, Aromatherapy</td><td>acbk</td><td>nanf</td><td>NA</td><td>net</td><td>2017-09-01T00:00:00</td><td>1</td></tr><tr><th>20</th><td>2483968</td><td>The walking dead. Volume 8, Made to suffer / [Robert Kirkman, creator, writer ; Charlie Adlard, penciler, inker ; Cliff Rathburn, gray tones ; Rus Wooton, letterer ; Charlie Adlard &amp; Cliff Rathburn, cover].</td><td>Kirkman, Robert</td><td>1582408831, 9781582408835</td><td>c2008.</td><td>Image Comics</td><td>Graphic novels, Horror comic books strips etc</td><td>acbk</td><td>nacomic</td><td>NA</td><td>bal</td><td>2017-09-01T00:00:00</td><td>1</td></tr><tr><th>21</th><td>3199800</td><td>Naked '76 / Kevin Brooks.</td><td>Brooks, Kevin</td><td>1512404187, 9781512404180</td><td>2016.</td><td>Carolrhoda Labs,</td><td>Bands Music Fiction, Punk rock music Fiction, Interpersonal relations Fiction, Romance fiction, Great Britain History 20th century Fiction</td><td>acbk</td><td>nyfic</td><td>NA</td><td>glk</td><td>2017-09-01T00:00:00</td><td>1</td></tr><tr><th>22</th><td>2268788</td><td>Abakada ng pag-ibig : Paula / Maia Jose.</td><td>Jose, Maia.</td><td>9718240357</td><td>2000.</td><td>Books for Pleasure,</td><td>Lesbianism Fiction, Same sex marriage Fiction, Love stories</td><td>acbk</td><td>caln</td><td>NA</td><td>cen</td><td>2017-09-01T00:00:00</td><td>1</td></tr><tr><th>23</th><td>797564</td><td>Broadcasting yearbook--marketbook issue.</td><td><em>missing</em></td><td><em>missing</em></td><td>1960.</td><td>[Broadcasting Publications],</td><td>Broadcast advertising United States Periodicals, Television broadcasting United States Periodicals, Radio broadcasting United States Periodicals</td><td>arbk</td><td>cs6r</td><td>NA</td><td>cen</td><td>2017-09-01T00:00:00</td><td>1</td></tr><tr><th>24</th><td>2059264</td><td>House of dreams / Brenda Joyce.</td><td>Joyce, Brenda</td><td>158724036X</td><td>c2000.</td><td>Wheeler Pub.,</td><td>Aristocracy Social class Fiction, Spirit possession Fiction, Revenge Fiction, Large type books, Great Britain History Mary I 1553 1558 Fiction, Spain Fiction, Romantic suspense fiction, Paranormal fiction, Historical fiction</td><td>acbk</td><td>cs1malf</td><td>NA</td><td>cen</td><td>2017-09-01T00:00:00</td><td>1</td></tr><tr><th>25</th><td>2940843</td><td>Recentering the universe : the radical theories of Copernicus, Kepler, Galileo, and Newton / Ron Miller.</td><td>Miller, Ron, 1947-</td><td>0761358854, 9780761358855</td><td>c2014.</td><td>Twenty-First Century Books,</td><td>Astronomy History Juvenile literature, Astronomy Religious aspects Christianity History Juvenile literature</td><td>acbk</td><td>nynf</td><td>NA</td><td>nga</td><td>2017-09-01T00:00:00</td><td>1</td></tr><tr><th>26</th><td>3028235</td><td>Take a bow-wow / by Kristin Earhart ; illustrated by Vivienne To.</td><td>Earhart, Kristin</td><td>0545617618, 9780545617611</td><td>[2014]</td><td>Scholastic Inc.,</td><td>Dogs Juvenile fiction, Poodles Juvenile fiction, Pets Juvenile fiction, Magic Juvenile fiction, Talent shows Juvenile fiction, Stage fright Juvenile fiction, Dogs Fiction, Pets Fiction, Magic Fiction, Talent shows Fiction, Stage fright Fiction</td><td>jcbk</td><td>ncef</td><td>NA</td><td>gwd</td><td>2017-09-01T00:00:00</td><td>1</td></tr><tr><th>27</th><td>2985327</td><td>Everyday [videorecording] / Sundance Selects ; Bankside Films ; Film 4 ; a Revolution Films production ; produced by Melissa Parmenter ; written by Laurence Coriat, Michael Winterbottom ; directed by Michael Winterbottom.</td><td><em>missing</em></td><td>0788617818, 9780788617812</td><td>©2014</td><td>distributed by MPI Home Video</td><td>Families Drama, Drug traffic Drama, Prisons Drama, Fiction films, Feature films, Video recordings for the hearing impaired</td><td>acdvd</td><td>nadvd</td><td>Floating</td><td>bal</td><td>2017-09-01T00:00:00</td><td>1</td></tr><tr><th>28</th><td>2352640</td><td>Morningstar guide to mutual funds : five-star strategies for success / [edited by] Christine Benz.</td><td><em>missing</em></td><td>0471718327, 9780471718321</td><td>c2005.</td><td>John Wiley &amp; Sons ,</td><td>Mutual funds</td><td>acbk</td><td>canf</td><td>NA</td><td>cen</td><td>2017-09-01T00:00:00</td><td>1</td></tr><tr><th>29</th><td>2552455</td><td>The great powers outage / William Boniface ; illustrations by Stephen Gilpin.</td><td>Boniface, William</td><td>0060774703, 0060774711, 9780060774707, 9780060774714</td><td>2008.</td><td>HarperCollins,</td><td>Heroes Juvenile fiction, Criminals Juvenile fiction, Humorous stories</td><td>jcbk</td><td>ncfic</td><td>NA</td><td>mgm</td><td>2017-09-01T00:00:00</td><td>1</td></tr><tr><th>30</th><td>2242143</td><td>Last day, hooray! / Nancy Poydar.</td><td>Poydar, Nancy</td><td>0823418073</td><td>2004.</td><td>Holiday House,</td><td>Schools Fiction, Parties Fiction</td><td>jcbk</td><td>ccpic</td><td>NA</td><td>cen</td><td>2017-09-01T00:00:00</td><td>3</td></tr><tr><th>&vellip;</th><td>&vellip;</td><td>&vellip;</td><td>&vellip;</td><td>&vellip;</td><td>&vellip;</td><td>&vellip;</td><td>&vellip;</td><td>&vellip;</td><td>&vellip;</td><td>&vellip;</td><td>&vellip;</td><td>&vellip;</td><td>&vellip;</td></tr></tbody></table>"
      ],
      "text/latex": [
       "\\begin{tabular}{r|ccccccccccccc}\n",
       "\t& BibNum & Title & Author & ISBN & PublicationYear & Publisher & Subjects & ItemType & ItemCollection & FloatingItem & ItemLocation & ReportDate & ItemCount\\\\\n",
       "\t\\hline\n",
       "\t& Int64 & String? & String? & String? & String? & String? & String? & String & String & String & String & DateTim… & Int64\\\\\n",
       "\t\\hline\n",
       "\t1 & 3011076 & A tale of two friends / adapted by Ellie O'Ryan ; illustrated by Tom Caulfield, Frederick Gardner, Megan Petasky, and Allen Tam. & O'Ryan, Ellie & 1481425730, 1481425749, 9781481425735, 9781481425742 & 2014. & Simon Spotlight, & Musicians Fiction, Bullfighters Fiction, Best friends Fiction, Friendship Fiction, Adventure and adventurers Fiction & jcbk & ncrdr & Floating & qna & 2017-09-01T00:00:00 & 1 \\\\\n",
       "\t2 & 2248846 & Naruto. Vol. 1, Uzumaki Naruto / story and art by Masashi Kishimoto ; [English adaptation by Jo Duffy]. & Kishimoto, Masashi, 1974- & 1569319006 & 2003, c1999. & Viz, & Ninja Japan Comic books strips etc, Comic books strips etc Japan Translations into English, Graphic novels & acbk & nycomic & NA & lcy & 2017-09-01T00:00:00 & 1 \\\\\n",
       "\t3 & 3209270 & Peace, love \\& Wi-Fi : a ZITS treasury / by Jerry Scott and Jim Borgman. & Scott, Jerry, 1955- & 144945867X, 9781449458676 & 2014. & Andrews McMeel Publishing, & Duncan Jeremy Fictitious character Comic books strips etc, Teenagers United States Comic books strips etc, Parent and teenager Comic books strips etc, Families Comic books strips etc, Comic books strips etc, Comics Graphic works, Humorous comics & acbk & nycomic & NA & bea & 2017-09-01T00:00:00 & 1 \\\\\n",
       "\t4 & 1907265 & The Paris pilgrims : a novel / Clancy Carlile. & Carlile, Clancy, 1930- & 0786706155 & c1999. & Carroll \\& Graf, & Hemingway Ernest 1899 1961 Fiction, Biographical fiction, Historical fiction & acbk & cafic & NA & cen & 2017-09-01T00:00:00 & 1 \\\\\n",
       "\t5 & 1644616 & Erotic by nature : a celebration of life, of love, and of our wonderful bodies / edited by David Steinberg. & \\emph{missing} & 094020813X & 1991, c1988. & Red Alder Books/Down There Press, & Erotic literature American, American literature 20th century & acbk & canf & NA & cen & 2017-09-01T00:00:00 & 1 \\\\\n",
       "\t6 & 1736505 & Children of Cambodia's killing fields : memoirs by survivors / compiled by Dith Pran ; introduction by Ben Kiernan ; edited by Kim DePaul. & \\emph{missing} & 0300068395, 0300078730 & c1997. & Yale University Press, & Political atrocities Cambodia, Children Cambodia Biography, Cambodia History 1975 & acbk & canf & NA & cen & 2017-09-01T00:00:00 & 1 \\\\\n",
       "\t7 & 1749492 & Anti-Zionism : analytical reflections / editors: Roselle Tekiner, Samir Abed-Rabbo, Norton Mezvinsky. & \\emph{missing} & 091559773X & c1989. & Amana Books, & Berger Elmer 1908 1996, Zionism Controversial literature & acbk & canf & NA & cen & 2017-09-01T00:00:00 & 1 \\\\\n",
       "\t8 & 3270562 & Hard-hearted Highlander / Julia London. & London, Julia & 0373789998, 037380394X, 9780373789993, 9780373803941 & [2017] & HQN, & Man woman relationships Fiction, Betrothal Fiction, Governesses Fiction, Highlands Scotland Fiction, Romance fiction, Historical fiction & acbk & nanew & NA & lcy & 2017-09-01T00:00:00 & 1 \\\\\n",
       "\t9 & 3264577 & The Sandcastle Empire / Kayla Olson. & Olson, Kayla & 0062484877, 9780062484871 & 2017. & HarperTeen, & Survival Juvenile fiction, Islands Juvenile fiction, Dystopias Juvenile fiction, Fantasy fiction, Young adult fiction & acbk & nynew & NA & nga & 2017-09-01T00:00:00 & 1 \\\\\n",
       "\t10 & 3236819 & Doctor Who. The return of Doctor Mysterio / BBC ; BBC Wales ; produced by Peter Bennett ; [written] by Steven Moffat ; directed by Ed Bazalgette. & \\emph{missing} & \\emph{missing} & [2017] & BBC Worldwide, & Doctor Fictitious character Drama, Time travel Drama, Human alien encounters Drama, Science fiction television programs, Fiction television programs, Television series, Video recordings for the hearing impaired & acdvd & nadvd & Floating & wts & 2017-09-01T00:00:00 & 2 \\\\\n",
       "\t11 & 3018388 & Burnt toast makes you sing good : a memoir of food and love from an American Midwest family / Kathleen Flinn. & Flinn, Kathleen & 067001544X, 9780670015443 & 2014. & Viking, & Cooking American Midwestern style, Flinn Kathleen Family, Cooks United States Biography, Cookbooks & acbk & nanf & NA & mon & 2017-09-01T00:00:00 & 1 \\\\\n",
       "\t12 & 3122831 & Barbie \\& her sisters in the great puppy adventure [videorecording] / Universal ; Mattel Playground Productions ; produced by Margaret M. Dean and Gabrielle Miles, Genna du Plessis ; written by Amy Wolfram ; directed by Andrew Tan. & \\emph{missing} & \\emph{missing} & [2015] & Universal Studios Home Entertainment, & Barbie Fictitious character Juvenile drama, Sisters Juvenile drama, Treasure troves Juvenile drama, Childrens films, Animated films, Feature films, Video recordings for the hearing impaired & jcdvd & ncdvd & Floating & rbe & 2017-09-01T00:00:00 & 1 \\\\\n",
       "\t13 & 2519097 & Stop bullying now! [videorecording] : Take a stand, lend a hand. & \\emph{missing} & \\emph{missing} & [2006?] & U.S. Dept. of Health and Human Services ; Dept. of Education, & Bullying in schools United States Prevention, Bullying United States Prevention, Aggressiveness in children United States Prevention, Educational films, Animated films & acdvd & cadvdnf & NA & cen & 2017-09-01T00:00:00 & 1 \\\\\n",
       "\t14 & 3274605 & The only child : a novel / Andrew Pyper. & Pyper, Andrew & 1476755213, 9781476755212 & 2017. & Simon \\& Schuster, & Forensic psychiatrists Fiction, Psychological fiction, Thrillers Fiction & acbk & cafic & NA & cen & 2017-09-01T00:00:00 & 1 \\\\\n",
       "\t15 & 3265336 & The Jolley-Rogers and the monster's gold / Jonny Duddle. & Duddle, Jonny & 0763692921, 9780763692926 & 2017. & Templar Books, an imprint of Candelwick Press, & Pirates Juvenile fiction, Monsters Juvenile fiction, Treasure troves Juvenile fiction & jcbk & ncef & NA & net & 2017-09-01T00:00:00 & 1 \\\\\n",
       "\t16 & 3154492 & Duke in his own words : John Wayne's life in letters, handwritten notes and never-before-seen photos / [introduction by Ethan Wayne]. & \\emph{missing} & 1942556195, 9781942556190 & c2015. & Topix Media Lab, & Wayne John 1907 1979 Correspondence, Wayne John 1907 1979, Motion picture actors and actresses United States Correspondence, Motion picture actors and actresses United States Biography & acbk & nanf & NA & bro & 2017-09-01T00:00:00 & 1 \\\\\n",
       "\t17 & 3167678 & The Alchemists' Council / Cynthea Masson. & Masson, Cynthea, 1962- & 1770412719, 9781770412712 & 2016. & ECW Press, & Alchemy Fiction, Fantasy fiction & acbk & nafic & NA & glk & 2017-09-01T00:00:00 & 1 \\\\\n",
       "\t18 & 3137398 & Parrots of the wild : a natural history of the world's most captivating birds / Catherine A. Toft and Timothy F. Wright ; foreword by James D. Gilardi. & Toft, Catherine Ann, 1950-2011,, & 0520239253, 9780520239258 & [2015] & University of California Press ; in collaboration with the World Parrot Trust, & Parrots, Parrots Conservation, Human animal relationships & acbk & nanf & NA & gwd & 2017-09-01T00:00:00 & 1 \\\\\n",
       "\t19 & 3165211 & The aromatherapy garden : growing fragrant plants for happiness and well-being / Kathi Keville. & Keville, Kathi & 1604695498, 9781604695496 & 2016. & Timber Press, & Fragrant gardens, Aromatic plants Therapeutic use, Aromatherapy & acbk & nanf & NA & net & 2017-09-01T00:00:00 & 1 \\\\\n",
       "\t20 & 2483968 & The walking dead. Volume 8, Made to suffer / [Robert Kirkman, creator, writer ; Charlie Adlard, penciler, inker ; Cliff Rathburn, gray tones ; Rus Wooton, letterer ; Charlie Adlard \\& Cliff Rathburn, cover]. & Kirkman, Robert & 1582408831, 9781582408835 & c2008. & Image Comics & Graphic novels, Horror comic books strips etc & acbk & nacomic & NA & bal & 2017-09-01T00:00:00 & 1 \\\\\n",
       "\t21 & 3199800 & Naked '76 / Kevin Brooks. & Brooks, Kevin & 1512404187, 9781512404180 & 2016. & Carolrhoda Labs, & Bands Music Fiction, Punk rock music Fiction, Interpersonal relations Fiction, Romance fiction, Great Britain History 20th century Fiction & acbk & nyfic & NA & glk & 2017-09-01T00:00:00 & 1 \\\\\n",
       "\t22 & 2268788 & Abakada ng pag-ibig : Paula / Maia Jose. & Jose, Maia. & 9718240357 & 2000. & Books for Pleasure, & Lesbianism Fiction, Same sex marriage Fiction, Love stories & acbk & caln & NA & cen & 2017-09-01T00:00:00 & 1 \\\\\n",
       "\t23 & 797564 & Broadcasting yearbook--marketbook issue. & \\emph{missing} & \\emph{missing} & 1960. & [Broadcasting Publications], & Broadcast advertising United States Periodicals, Television broadcasting United States Periodicals, Radio broadcasting United States Periodicals & arbk & cs6r & NA & cen & 2017-09-01T00:00:00 & 1 \\\\\n",
       "\t24 & 2059264 & House of dreams / Brenda Joyce. & Joyce, Brenda & 158724036X & c2000. & Wheeler Pub., & Aristocracy Social class Fiction, Spirit possession Fiction, Revenge Fiction, Large type books, Great Britain History Mary I 1553 1558 Fiction, Spain Fiction, Romantic suspense fiction, Paranormal fiction, Historical fiction & acbk & cs1malf & NA & cen & 2017-09-01T00:00:00 & 1 \\\\\n",
       "\t25 & 2940843 & Recentering the universe : the radical theories of Copernicus, Kepler, Galileo, and Newton / Ron Miller. & Miller, Ron, 1947- & 0761358854, 9780761358855 & c2014. & Twenty-First Century Books, & Astronomy History Juvenile literature, Astronomy Religious aspects Christianity History Juvenile literature & acbk & nynf & NA & nga & 2017-09-01T00:00:00 & 1 \\\\\n",
       "\t26 & 3028235 & Take a bow-wow / by Kristin Earhart ; illustrated by Vivienne To. & Earhart, Kristin & 0545617618, 9780545617611 & [2014] & Scholastic Inc., & Dogs Juvenile fiction, Poodles Juvenile fiction, Pets Juvenile fiction, Magic Juvenile fiction, Talent shows Juvenile fiction, Stage fright Juvenile fiction, Dogs Fiction, Pets Fiction, Magic Fiction, Talent shows Fiction, Stage fright Fiction & jcbk & ncef & NA & gwd & 2017-09-01T00:00:00 & 1 \\\\\n",
       "\t27 & 2985327 & Everyday [videorecording] / Sundance Selects ; Bankside Films ; Film 4 ; a Revolution Films production ; produced by Melissa Parmenter ; written by Laurence Coriat, Michael Winterbottom ; directed by Michael Winterbottom. & \\emph{missing} & 0788617818, 9780788617812 & ©2014 & distributed by MPI Home Video & Families Drama, Drug traffic Drama, Prisons Drama, Fiction films, Feature films, Video recordings for the hearing impaired & acdvd & nadvd & Floating & bal & 2017-09-01T00:00:00 & 1 \\\\\n",
       "\t28 & 2352640 & Morningstar guide to mutual funds : five-star strategies for success / [edited by] Christine Benz. & \\emph{missing} & 0471718327, 9780471718321 & c2005. & John Wiley \\& Sons , & Mutual funds & acbk & canf & NA & cen & 2017-09-01T00:00:00 & 1 \\\\\n",
       "\t29 & 2552455 & The great powers outage / William Boniface ; illustrations by Stephen Gilpin. & Boniface, William & 0060774703, 0060774711, 9780060774707, 9780060774714 & 2008. & HarperCollins, & Heroes Juvenile fiction, Criminals Juvenile fiction, Humorous stories & jcbk & ncfic & NA & mgm & 2017-09-01T00:00:00 & 1 \\\\\n",
       "\t30 & 2242143 & Last day, hooray! / Nancy Poydar. & Poydar, Nancy & 0823418073 & 2004. & Holiday House, & Schools Fiction, Parties Fiction & jcbk & ccpic & NA & cen & 2017-09-01T00:00:00 & 3 \\\\\n",
       "\t$\\dots$ & $\\dots$ & $\\dots$ & $\\dots$ & $\\dots$ & $\\dots$ & $\\dots$ & $\\dots$ & $\\dots$ & $\\dots$ & $\\dots$ & $\\dots$ & $\\dots$ & $\\dots$ \\\\\n",
       "\\end{tabular}\n"
      ],
      "text/plain": [
       "35531308×13 DataFrame\n",
       "│ Row      │ BibNum  │ Title                                                                                                                                             │ Author                    │ ISBN                                                 │ PublicationYear │ Publisher                                               │ Subjects                                                                                                                                                                                                                                                                                                                │ ItemType │ ItemCollection │ FloatingItem │ ItemLocation │ ReportDate          │ ItemCount │\n",
       "│          │ \u001b[90mInt64\u001b[39m   │ \u001b[90mUnion{Missing, String}\u001b[39m                                                                                                                            │ \u001b[90mUnion{Missing, String}\u001b[39m    │ \u001b[90mUnion{Missing, String}\u001b[39m                               │ \u001b[90mString?\u001b[39m         │ \u001b[90mUnion{Missing, String}\u001b[39m                                  │ \u001b[90mUnion{Missing, String}\u001b[39m                                                                                                                                                                                                                                                                                                  │ \u001b[90mString\u001b[39m   │ \u001b[90mString\u001b[39m         │ \u001b[90mString\u001b[39m       │ \u001b[90mString\u001b[39m       │ \u001b[90mDates.DateTime\u001b[39m      │ \u001b[90mInt64\u001b[39m     │\n",
       "├──────────┼─────────┼───────────────────────────────────────────────────────────────────────────────────────────────────────────────────────────────────────────────────┼───────────────────────────┼──────────────────────────────────────────────────────┼─────────────────┼─────────────────────────────────────────────────────────┼─────────────────────────────────────────────────────────────────────────────────────────────────────────────────────────────────────────────────────────────────────────────────────────────────────────────────────────────────────────────────────────────────────────────────────────────────────────────────────────┼──────────┼────────────────┼──────────────┼──────────────┼─────────────────────┼───────────┤\n",
       "│ 1        │ 3011076 │ A tale of two friends / adapted by Ellie O'Ryan ; illustrated by Tom Caulfield, Frederick Gardner, Megan Petasky, and Allen Tam.                  │ O'Ryan, Ellie             │ 1481425730, 1481425749, 9781481425735, 9781481425742 │ 2014.           │ Simon Spotlight,                                        │ Musicians Fiction, Bullfighters Fiction, Best friends Fiction, Friendship Fiction, Adventure and adventurers Fiction                                                                                                                                                                                                    │ jcbk     │ ncrdr          │ Floating     │ qna          │ 2017-09-01T00:00:00 │ 1         │\n",
       "│ 2        │ 2248846 │ Naruto. Vol. 1, Uzumaki Naruto / story and art by Masashi Kishimoto ; [English adaptation by Jo Duffy].                                           │ Kishimoto, Masashi, 1974- │ 1569319006                                           │ 2003, c1999.    │ Viz,                                                    │ Ninja Japan Comic books strips etc, Comic books strips etc Japan Translations into English, Graphic novels                                                                                                                                                                                                              │ acbk     │ nycomic        │ NA           │ lcy          │ 2017-09-01T00:00:00 │ 1         │\n",
       "│ 3        │ 3209270 │ Peace, love & Wi-Fi : a ZITS treasury / by Jerry Scott and Jim Borgman.                                                                           │ Scott, Jerry, 1955-       │ 144945867X, 9781449458676                            │ 2014.           │ Andrews McMeel Publishing,                              │ Duncan Jeremy Fictitious character Comic books strips etc, Teenagers United States Comic books strips etc, Parent and teenager Comic books strips etc, Families Comic books strips etc, Comic books strips etc, Comics Graphic works, Humorous comics                                                                   │ acbk     │ nycomic        │ NA           │ bea          │ 2017-09-01T00:00:00 │ 1         │\n",
       "│ 4        │ 1907265 │ The Paris pilgrims : a novel / Clancy Carlile.                                                                                                    │ Carlile, Clancy, 1930-    │ 0786706155                                           │ c1999.          │ Carroll & Graf,                                         │ Hemingway Ernest 1899 1961 Fiction, Biographical fiction, Historical fiction                                                                                                                                                                                                                                            │ acbk     │ cafic          │ NA           │ cen          │ 2017-09-01T00:00:00 │ 1         │\n",
       "│ 5        │ 1644616 │ Erotic by nature : a celebration of life, of love, and of our wonderful bodies / edited by David Steinberg.                                       │ \u001b[90mmissing\u001b[39m                   │ 094020813X                                           │ 1991, c1988.    │ Red Alder Books/Down There Press,                       │ Erotic literature American, American literature 20th century                                                                                                                                                                                                                                                            │ acbk     │ canf           │ NA           │ cen          │ 2017-09-01T00:00:00 │ 1         │\n",
       "│ 6        │ 1736505 │ Children of Cambodia's killing fields : memoirs by survivors / compiled by Dith Pran ; introduction by Ben Kiernan ; edited by Kim DePaul.        │ \u001b[90mmissing\u001b[39m                   │ 0300068395, 0300078730                               │ c1997.          │ Yale University Press,                                  │ Political atrocities Cambodia, Children Cambodia Biography, Cambodia History 1975                                                                                                                                                                                                                                       │ acbk     │ canf           │ NA           │ cen          │ 2017-09-01T00:00:00 │ 1         │\n",
       "│ 7        │ 1749492 │ Anti-Zionism : analytical reflections / editors: Roselle Tekiner, Samir Abed-Rabbo, Norton Mezvinsky.                                             │ \u001b[90mmissing\u001b[39m                   │ 091559773X                                           │ c1989.          │ Amana Books,                                            │ Berger Elmer 1908 1996, Zionism Controversial literature                                                                                                                                                                                                                                                                │ acbk     │ canf           │ NA           │ cen          │ 2017-09-01T00:00:00 │ 1         │\n",
       "│ 8        │ 3270562 │ Hard-hearted Highlander / Julia London.                                                                                                           │ London, Julia             │ 0373789998, 037380394X, 9780373789993, 9780373803941 │ [2017]          │ HQN,                                                    │ Man woman relationships Fiction, Betrothal Fiction, Governesses Fiction, Highlands Scotland Fiction, Romance fiction, Historical fiction                                                                                                                                                                                │ acbk     │ nanew          │ NA           │ lcy          │ 2017-09-01T00:00:00 │ 1         │\n",
       "│ 9        │ 3264577 │ The Sandcastle Empire / Kayla Olson.                                                                                                              │ Olson, Kayla              │ 0062484877, 9780062484871                            │ 2017.           │ HarperTeen,                                             │ Survival Juvenile fiction, Islands Juvenile fiction, Dystopias Juvenile fiction, Fantasy fiction, Young adult fiction                                                                                                                                                                                                   │ acbk     │ nynew          │ NA           │ nga          │ 2017-09-01T00:00:00 │ 1         │\n",
       "│ 10       │ 3236819 │ Doctor Who. The return of Doctor Mysterio / BBC ; BBC Wales ; produced by Peter Bennett ; [written] by Steven Moffat ; directed by Ed Bazalgette. │ \u001b[90mmissing\u001b[39m                   │ \u001b[90mmissing\u001b[39m                                              │ [2017]          │ BBC Worldwide,                                          │ Doctor Fictitious character Drama, Time travel Drama, Human alien encounters Drama, Science fiction television programs, Fiction television programs, Television series, Video recordings for the hearing impaired                                                                                                      │ acdvd    │ nadvd          │ Floating     │ wts          │ 2017-09-01T00:00:00 │ 2         │\n",
       "⋮\n",
       "│ 35531298 │ 2733531 │ Our bodies, ourselves / the Boston Women's Health Book Collective.                                                                                │ \u001b[90mmissing\u001b[39m                   │ 1439190666, 9781439190661                            │ 2011.           │ Touchstone/Simon & Schuster,                            │ Women Health and hygiene, Women Diseases, Women Psychology                                                                                                                                                                                                                                                              │ acbk     │ nanf           │ NA           │ hip          │ 2019-11-01T00:00:00 │ 1         │\n",
       "│ 35531299 │ 997977  │ Uncataloged Adult book                                                                                                                            │ \u001b[90mmissing\u001b[39m                   │ \u001b[90mmissing\u001b[39m                                              │ \u001b[90mmissing\u001b[39m         │ \u001b[90mmissing\u001b[39m                                                 │ \u001b[90mmissing\u001b[39m                                                                                                                                                                                                                                                                                                                 │ ucunkn   │ caln           │ NA           │ cen          │ 2019-11-01T00:00:00 │ 1         │\n",
       "│ 35531300 │ 2816771 │ A hologram for the king : a novel / Dave Eggers.                                                                                                  │ Eggers, Dave              │ 193636574X, 9781936365746                            │ 2012.           │ McSweeney's Books,                                      │ Businessmen United States Fiction, Recessions United States Fiction, Families Fiction, Saudi Arabia Fiction                                                                                                                                                                                                             │ acbk     │ nafic          │ NA           │ spa          │ 2019-11-01T00:00:00 │ 1         │\n",
       "│ 35531301 │ 3338830 │ Everything you love will burn : inside the rebirth of white nationalism in America / Vegas Tenold.                                                │ Tenold, Vegas             │ 1568589948, 9781568589947                            │ 2018.           │ Nation Books,                                           │ White nationalism United States, White supremacy movements United States, Whites United States Politics and government, Racism United States, Hate groups United States, United States Race relations, United States Ethnic relations, United States Social conditions 1980, United States Politics and government 1989 │ acbk     │ nanf           │ NA           │ dth          │ 2019-11-01T00:00:00 │ 1         │\n",
       "│ 35531302 │ 1744637 │ Pai hua T`ang Sung ch`uan chi.                                                                                                                    │ \u001b[90mmissing\u001b[39m                   │ 9579431655                                           │ [199?]          │ Man dingdang ch`u ban she,                              │ Chinese literature Tang dynasty 618 907, Chinese literature Song dynasty 960 1279                                                                                                                                                                                                                                       │ acbk     │ caln           │ NA           │ cen          │ 2019-11-01T00:00:00 │ 1         │\n",
       "│ 35531303 │ 2435572 │ Two at the table : cooking for couples now that the kids are gone / Cheryl Fall.                                                                  │ Fall, Cheryl              │ 1570615128, 9781570615122                            │ [2007]          │ Sasquatch Books,                                        │ Cooking for two, Empty nesters                                                                                                                                                                                                                                                                                          │ acbk     │ canf           │ NA           │ cen          │ 2019-11-01T00:00:00 │ 1         │\n",
       "│ 35531304 │ 386561  │ The best paper aircraft / Campbell Morris.                                                                                                        │ Morris, Campbell, 1962-   │ 039951113X                                           │ 1985.           │ Putnam,                                                 │ Paper airplanes                                                                                                                                                                                                                                                                                                         │ arbk     │ caaero         │ NA           │ cen          │ 2019-11-01T00:00:00 │ 1         │\n",
       "│ 35531305 │ 3045405 │ Ignite : a Defy novel / Sara B. Larson.                                                                                                           │ Larson, Sara B.           │ 0545644747, 9780545644747                            │ 2015.           │ Scholastic Press,                                       │ Magic Fiction, Kings and rulers Fiction, Conspiracies Fiction, Adventure stories, Young adult fiction                                                                                                                                                                                                                   │ acbk     │ nyfic          │ NA           │ nga          │ 2019-11-01T00:00:00 │ 1         │\n",
       "│ 35531306 │ 3386344 │ Left : a love story / Mary Hogan.                                                                                                                 │ Hogan, Mary, 1957-        │ 006267837X, 9780062678379                            │ [2018]          │ William Morrow, an imprint of HarperCollins Publishers, │ Married people Fiction, Dementia Fiction, Medical fiction                                                                                                                                                                                                                                                               │ acbk     │ canew          │ NA           │ cen          │ 2019-11-01T00:00:00 │ 1         │\n",
       "│ 35531307 │ 3438763 │ Beyond curry : Indian cookbook : a culinary journey through India / Denise D'silva Sankhé.                                                        │ Sankhé, Denise D'silva,   │ 1623156963, 9781623156961                            │ [2016]          │ Rockridge Press,                                        │ Cooking Indic, Cookbooks                                                                                                                                                                                                                                                                                                │ acbk     │ nanf           │ NA           │ bro          │ 2019-11-01T00:00:00 │ 1         │\n",
       "│ 35531308 │ 2154322 │ The problem of the soul : two visions of mind and how to reconcile them / Owen Flanagan.                                                          │ Flanagan, Owen J.         │ 0465024602                                           │ 2002.           │ Basic Books,                                            │ Philosophical anthropology, Philosophy of mind, Naturalism                                                                                                                                                                                                                                                              │ acbk     │ canf           │ NA           │ cen          │ 2019-11-01T00:00:00 │ 1         │"
      ]
     },
     "execution_count": 15,
     "metadata": {},
     "output_type": "execute_result"
    }
   ],
   "source": [
    "big_df = CSV.read(\"./R/seattle-library-collection-inventory/library-collection-inventory.csv\",DataFrame, tasks=6)\n",
    "#big_df = CSV.read(\"./data/bigdata.csv\", DataFrame)\n",
    "\n",
    "#CSV.File(\"abc.csv\"; allowmissing=:none, limit=5)"
   ]
  },
  {
   "cell_type": "markdown",
   "metadata": {},
   "source": [
    "with @elapsed @time:\n",
    "\n",
    "244.506704 seconds (300.00 M allocations: 20.825 GiB, 73.34% gc time)\n",
    "Out[17]:\n",
    "244.545922116"
   ]
  },
  {
   "cell_type": "code",
   "execution_count": 16,
   "metadata": {},
   "outputs": [
    {
     "data": {
      "text/plain": [
       "DataFrame"
      ]
     },
     "execution_count": 16,
     "metadata": {},
     "output_type": "execute_result"
    }
   ],
   "source": [
    "typeof(big_df)"
   ]
  },
  {
   "cell_type": "markdown",
   "metadata": {},
   "source": [
    "### Benchmark - Read Write"
   ]
  },
  {
   "cell_type": "code",
   "execution_count": null,
   "metadata": {},
   "outputs": [],
   "source": [
    "#using Pkg\n",
    "#Pkg.add(\"DataFrames\")\n",
    "#Pkg.add(\"JSONTables\")\n",
    "#Pkg.add(\"JLSO\")\n",
    "#Pkg.add(\"JDF\")\n",
    "#Pkg.add(\"Arrow\")\n",
    "#Pkg.add(\"Serialization\")\n",
    "#Pkg.add(\"StatsPlots\")\n"
   ]
  },
  {
   "cell_type": "code",
   "execution_count": 17,
   "metadata": {},
   "outputs": [],
   "source": [
    "#using JSONTables\n",
    "#using DataFrames\n",
    "#using JLSO\n",
    "using JDF\n",
    "using Arrow\n",
    "#using Serialization\n",
    "#using StatsPlots"
   ]
  },
  {
   "cell_type": "code",
   "execution_count": 21,
   "metadata": {},
   "outputs": [
    {
     "name": "stdout",
     "output_type": "stream",
     "text": [
      "First run\n",
      "CSV.jl\n",
      "674.821815 seconds (2.60 G allocations: 83.748 GiB, 59.96% gc time)\n"
     ]
    },
    {
     "data": {
      "text/plain": [
       "675.136428251"
      ]
     },
     "execution_count": 21,
     "metadata": {},
     "output_type": "execute_result"
    }
   ],
   "source": [
    "println(\"First run\")\n",
    "println(\"CSV.jl\")\n",
    "csvwrite1 = @elapsed @time CSV.write(\"bigdata.csv\", big_df)"
   ]
  },
  {
   "cell_type": "code",
   "execution_count": null,
   "metadata": {},
   "outputs": [],
   "source": [
    "#println(\"Serialization\")\n",
    "#serializewrite1 = @elapsed @time open(io -> serialize(io, big_df), \"bigdata.bin\", \"w\")"
   ]
  },
  {
   "cell_type": "code",
   "execution_count": 18,
   "metadata": {},
   "outputs": [
    {
     "name": "stdout",
     "output_type": "stream",
     "text": [
      "JDF.jl\n",
      "6667.948019 seconds (3.60 M allocations: 17.884 GiB, 89.95% gc time)\n"
     ]
    },
    {
     "data": {
      "text/plain": [
       "6668.017561573"
      ]
     },
     "execution_count": 18,
     "metadata": {},
     "output_type": "execute_result"
    }
   ],
   "source": [
    "println(\"JDF.jl\")\n",
    "jdfwrite1 = @elapsed @time JDF.save(\"bigdata.jdf\", big_df)"
   ]
  },
  {
   "cell_type": "code",
   "execution_count": null,
   "metadata": {},
   "outputs": [],
   "source": [
    "#println(\"JLSO.jl\")\n",
    "#jlsowrite1 = @elapsed @time JLSO.save(\"bigdata.jlso\", :data => big_df)"
   ]
  },
  {
   "cell_type": "code",
   "execution_count": null,
   "metadata": {},
   "outputs": [],
   "source": [
    "println(\"Arrow.jl\")\n",
    "arrowwrite1 = @elapsed @time Arrow.write(\"bigdata.arrow\", big_df)"
   ]
  },
  {
   "cell_type": "code",
   "execution_count": null,
   "metadata": {},
   "outputs": [],
   "source": [
    "#println(\"JSONTables.jl arraytable\")\n",
    "#jsontablesawrite1 = @elapsed @time open(io -> arraytable(io, big_df), \"bigdata1.json\", \"w\")\n",
    "\n",
    "#println(\"JSONTables.jl objecttable\")\n",
    "#jsontablesowrite1 = @elapsed @time open(io -> objecttable(io, big_df), \"bigdata.json\", \"w\")"
   ]
  },
  {
   "cell_type": "code",
   "execution_count": null,
   "metadata": {},
   "outputs": [],
   "source": [
    "println(\"Second run\")\n",
    "println(\"CSV.jl\")\n",
    "csvwrite2 = @elapsed @time CSV.write(\"bigdata.csv\", big_df)"
   ]
  },
  {
   "cell_type": "code",
   "execution_count": null,
   "metadata": {},
   "outputs": [],
   "source": [
    "#println(\"Serialization\")\n",
    "#serializewrite2 = @elapsed @time open(io -> serialize(io, big_df), \"bigdata.bin\", \"w\")"
   ]
  },
  {
   "cell_type": "code",
   "execution_count": null,
   "metadata": {},
   "outputs": [],
   "source": [
    "println(\"JDF.jl\")\n",
    "jdfwrite2 = @elapsed @time JDF.save(\"bigdata.jdf\", big_df)"
   ]
  },
  {
   "cell_type": "code",
   "execution_count": null,
   "metadata": {},
   "outputs": [],
   "source": [
    "println(\"JLSO.jl\")\n",
    "jlsowrite2 = @elapsed @time JLSO.save(\"bigdata.jlso\", :data => big_df)"
   ]
  },
  {
   "cell_type": "code",
   "execution_count": null,
   "metadata": {},
   "outputs": [],
   "source": [
    "println(\"Arrow.jl\")\n",
    "arrowwrite2 = @elapsed @time Arrow.write(\"bigdata.arrow\", big_df)"
   ]
  },
  {
   "cell_type": "code",
   "execution_count": null,
   "metadata": {},
   "outputs": [],
   "source": [
    "#println(\"JSONTables.jl arraytable\")\n",
    "#jsontablesawrite2 = @elapsed @time open(io -> arraytable(io, big_df), \"bigdata1.json\", \"w\")\n",
    "\n",
    "println(\"JSONTables.jl objecttable\")\n",
    "jsontablesowrite2 = @elapsed @time open(io -> objecttable(io, big_df), \"bigdata.json\", \"w\")"
   ]
  },
  {
   "cell_type": "code",
   "execution_count": null,
   "metadata": {},
   "outputs": [],
   "source": [
    "using StatsPlots"
   ]
  },
  {
   "cell_type": "code",
   "execution_count": null,
   "metadata": {},
   "outputs": [],
   "source": [
    "groupedbar(\n",
    "    # Exclude JSONTables.jl arraytable due to timing\n",
    "    repeat([\"CSV.jl\", \"Serialization\",\"JDF.jl\", \"JLSO.jl\", \"Arrow.jl\", \"JSONTables.jl\\nobjecttable\"],\n",
    "            inner = 2),\n",
    "    [csvwrite1, csvwrite2, serializewrite1, serializewrite1, jdfwrite1, jdfwrite2,\n",
    "     jlsowrite1, jlsowrite2, arrowwrite1, arrowwrite2, jsontablesowrite2, jsontablesowrite2],\n",
    "    group = repeat([\"1st\", \"2nd\"], outer = 6),\n",
    "    ylab = \"Second\",\n",
    "    title = \"Write Performance\\nDataFrame: big_df\\nSize: $(size(big_df))\"\n",
    ")"
   ]
  },
  {
   "cell_type": "code",
   "execution_count": null,
   "metadata": {},
   "outputs": [],
   "source": [
    "data_files = [\"bigdata.csv\", \"bigdata.bin\", \"bigdata.arrow\", \"bigdata.json\", \"bigdata.json\"]\n",
    "df = DataFrame(file = data_files, size = getfield.(stat.(data_files), :size))"
   ]
  },
  {
   "cell_type": "code",
   "execution_count": null,
   "metadata": {},
   "outputs": [],
   "source": [
    "pwd()"
   ]
  },
  {
   "cell_type": "code",
   "execution_count": null,
   "metadata": {},
   "outputs": [],
   "source": [
    "append!(df, DataFrame(file = \"bigdata.jdf\", size=reduce((x,y)->(x+y.size),\n",
    "                                                      stat.(joinpath.(\"bigdata.jdf\", readdir(\"bigdata.jdf\"))),\n",
    "                                                      init=0)))\n",
    "sort!(df, :size)"
   ]
  },
  {
   "cell_type": "code",
   "execution_count": null,
   "metadata": {},
   "outputs": [],
   "source": [
    "@df df plot(:file, :size/1024^2, seriestype=:bar, title = \"Format File Size (MB)\", label=\"Size\", ylab=\"MB\")"
   ]
  },
  {
   "cell_type": "code",
   "execution_count": null,
   "metadata": {},
   "outputs": [],
   "source": [
    "println(\"First run\")\n",
    "println(\"CSV.jl\")\n",
    "csvread1 = @elapsed @time CSV.read(\"bigdata.csv\", DataFrame)\n",
    "\n",
    "println(\"Serialization\")\n",
    "serializeread1 = @elapsed @time open(deserialize, \"bigdata.bin\")\n",
    "\n",
    "println(\"JDF.jl\")\n",
    "jdfread1 = @elapsed @time JDF.load(\"bigdata.jdf\") |> DataFrame\n",
    "\n",
    "println(\"JLSO.jl\")\n",
    "jlsoread1 = @elapsed @time JLSO.load(\"bigdata.jlso\")\n",
    "\n",
    "println(\"Arrow.jl\")\n",
    "arrowread1 = @elapsed @time df_tmp = Arrow.Table(\"bigdata.arrow\") |> DataFrame\n",
    "arrowread1copy = @elapsed @time copy(df_tmp)\n",
    "\n",
    "#println(\"JSONTables.jl arraytable\")\n",
    "#jsontablesaread1 = @elapsed @time open(jsontable, \"bigdata.json\")\n",
    "\n",
    "println(\"JSONTables.jl objecttable\")\n",
    "jsontablesoread1 = @elapsed @time open(jsontable, \"bigdata.json\")"
   ]
  },
  {
   "cell_type": "code",
   "execution_count": null,
   "metadata": {},
   "outputs": [],
   "source": [
    "println(\"Second run\")\n",
    "csvread2 = @elapsed @time CSV.read(\"bigdata.csv\", DataFrame)\n",
    "\n",
    "println(\"Serialization\")\n",
    "serializeread2 = @elapsed @time open(deserialize, \"bigdata.bin\")\n",
    "\n",
    "println(\"JDF.jl\")\n",
    "jdfread2 = @elapsed @time JDF.load(\"bigdata.jdf\") |> DataFrame\n",
    "\n",
    "println(\"JLSO.jl\")\n",
    "jlsoread2 = @elapsed @time JLSO.load(\"bigdata.jlso\")\n",
    "\n",
    "println(\"Arrow.jl\")\n",
    "arrowread2 = @elapsed @time df_tmp = Arrow.Table(\"bigdata.arrow\") |> DataFrame\n",
    "arrowread2copy = @elapsed @time copy(df_tmp)\n",
    "\n",
    "#println(\"JSONTables.jl arraytable\")\n",
    "#jsontablesaread2 = @elapsed @time open(jsontable, \"bigdata.json\")\n",
    "\n",
    "println(\"JSONTables.jl objecttable\")\n",
    "jsontablesoread2 = @elapsed @time open(jsontable, \"bigdata.json\");"
   ]
  },
  {
   "cell_type": "code",
   "execution_count": null,
   "metadata": {},
   "outputs": [],
   "source": [
    "# Exclude JSON\\narraytable arraytable due to much longer timing\n",
    "groupedbar(\n",
    "    repeat([\"CSV.jl\", \"Serialization\", \"JDF.jl\", \"JLSO.jl\", \"Arrow.jl\", \"Arrow.jl\\ncopy\", #\"JSON\\narraytable\",\n",
    "            \"JSON\\nobjecttable\"], inner = 2),\n",
    "    [csvread1, csvread2, serializeread1, serializeread2, jdfread1, jdfread2, jlsoread1, jlsoread2,\n",
    "     arrowread1, arrowread2, arrowread1+arrowread1copy, arrowread2+arrowread2copy,\n",
    "     # jsontablesaread1, jsontablesaread2,\n",
    "     jsontablesoread1, jsontablesoread2],    \n",
    "    group = repeat([\"1st\", \"2nd\"], outer = 7),\n",
    "    ylab = \"Second\",\n",
    "    title = \"Read Performance\\nDataFrame: big_df\\nSize: $(size(big_df))\"\n",
    ")"
   ]
  },
  {
   "cell_type": "markdown",
   "metadata": {},
   "source": [
    "https://github.com/bkamins/Julia-DataFrames-Tutorial/blob/master/04_loadsave.ipynb"
   ]
  },
  {
   "cell_type": "markdown",
   "metadata": {},
   "source": [
    "## Thank You"
   ]
  }
 ],
 "metadata": {
  "@webio": {
   "lastCommId": null,
   "lastKernelId": null
  },
  "kernelspec": {
   "display_name": "Julia 6 Threads 1.5.2",
   "language": "julia",
   "name": "julia-6-threads-1.5"
  },
  "language_info": {
   "file_extension": ".jl",
   "mimetype": "application/julia",
   "name": "julia",
   "version": "1.5.2"
  }
 },
 "nbformat": 4,
 "nbformat_minor": 2
}

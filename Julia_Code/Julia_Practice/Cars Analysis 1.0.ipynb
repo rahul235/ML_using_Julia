{
 "cells": [
  {
   "cell_type": "markdown",
   "metadata": {},
   "source": [
    "<p style=\"font-family: Arial; font-size:3.75em;color:purple; font-style:bold\"><br>\n",
    "Introduction to Gadfly</p><br>\n",
    "\n",
    "**_Gadfly_** is a library for plotting and visualization written in Julia. It is based largely on Hadley Wickhams's ggplot2 for R and Leland Wilkinson's book The Grammar of Graphics. Similar package in python is plotnine (https://realpython.com/ggplot-python/).\n",
    "\n",
    "Some of  the features are::\n",
    "\n",
    "> * Renders publication quality graphics to SVG, PNG, Postscript, and PDF\n",
    "* Intuitive and consistent plotting interface\n",
    "* Works with Jupyter notebooks via IJulia out of the box\n",
    "* Tight integration with DataFrames.jl\n",
    "* Interactivity like panning, zooming, toggling powered by Snap.svg\n",
    "* Supports a large number of common plot types\n",
    "\n",
    "**Additional Recommended Resources:**\n",
    "* `Gadfly` Documentation: http://gadflyjl.org/stable/"
   ]
  },
  {
   "cell_type": "code",
   "execution_count": null,
   "metadata": {},
   "outputs": [],
   "source": [
    "using CSV\n",
    "using DataFrames\n",
    "using Statistics\n",
    "using FreqTables\n",
    "using StatsBase\n",
    "using DataFramesMeta\n",
    "using Gadfly\n",
    "using NamedArrays ##For named arrays"
   ]
  },
  {
   "cell_type": "code",
   "execution_count": null,
   "metadata": {},
   "outputs": [],
   "source": [
    "ENV[\"COLUMNS\"] = 1000\n",
    "ENV[\"LINES\"] = 20"
   ]
  },
  {
   "cell_type": "markdown",
   "metadata": {},
   "source": [
    "## Case : Cars Data\n",
    "\n",
    "This dataset is a slightly modified version of the dataset provided in the StatLib library. In line with the use by Ross Quinlan (1993) in predicting the attribute \"mpg\", 8 of the original instances were removed because they had unknown values for the \"mpg\" attribute. The original dataset is available in the file \"auto-mpg.data-original\". \n",
    "\n",
    "\"The data concerns city-cycle fuel consumption in miles per gallon, to be predicted in terms of 3 multivalued discrete and 5 continuous attributes.\" (Quinlan, 1993)\n",
    "\n",
    "\n",
    "Attribute Information:\n",
    "\n",
    "1. mpg: continuous \n",
    "2. cylinders: multi-valued discrete \n",
    "3. displacement: continuous \n",
    "4. horsepower: continuous \n",
    "5. weight: continuous \n",
    "6. acceleration: continuous \n",
    "7. model year: multi-valued discrete \n",
    "8. origin: multi-valued discrete (1: American, 2: European 3: Japanese)\n",
    "9. car name: string (unique for each instance)\n",
    "\n",
    "More info: https://archive.ics.uci.edu/ml/datasets/Auto+MPG"
   ]
  },
  {
   "cell_type": "markdown",
   "metadata": {},
   "source": [
    "## Read the data\n",
    "\n",
    "Read the data from the url source (fixed-width formatted lines)"
   ]
  },
  {
   "cell_type": "code",
   "execution_count": null,
   "metadata": {},
   "outputs": [],
   "source": [
    "homedir()"
   ]
  },
  {
   "cell_type": "code",
   "execution_count": null,
   "metadata": {},
   "outputs": [],
   "source": [
    "pwd()"
   ]
  },
  {
   "cell_type": "code",
   "execution_count": null,
   "metadata": {
    "scrolled": true
   },
   "outputs": [],
   "source": [
    "#autos_df = pd.read_csv('./data/autos_df.csv',\n",
    "                       #index_col=['car_name'])\n",
    "#autos_df.head()"
   ]
  },
  {
   "cell_type": "code",
   "execution_count": null,
   "metadata": {},
   "outputs": [],
   "source": [
    "autos_df = CSV.read(\"./data/autos_df.csv\", DataFrame)"
   ]
  },
  {
   "cell_type": "code",
   "execution_count": null,
   "metadata": {},
   "outputs": [],
   "source": [
    "#autos_df.info()\n",
    "eltypes(autos_df)"
   ]
  },
  {
   "cell_type": "markdown",
   "metadata": {},
   "source": [
    "## Typecast\n",
    "\n",
    "* convert converts from one Julia type to another, for things that “behave the same”. Float32 and Int64 are both * numbers, for the most part. Whereas a String and an Int64 are different things entirely."
   ]
  },
  {
   "cell_type": "code",
   "execution_count": null,
   "metadata": {},
   "outputs": [],
   "source": [
    "autos_df[:,:origin] = convert.(Float64, autos_df[:,:origin])"
   ]
  },
  {
   "cell_type": "code",
   "execution_count": null,
   "metadata": {},
   "outputs": [],
   "source": [
    "autos_df[:,:origin] = convert.(Int64, autos_df[:,:origin])"
   ]
  },
  {
   "cell_type": "markdown",
   "metadata": {},
   "source": [
    "* string turns things into strings"
   ]
  },
  {
   "cell_type": "code",
   "execution_count": null,
   "metadata": {
    "scrolled": false
   },
   "outputs": [],
   "source": [
    "autos_df[:, :s_origin] = string.(autos_df[:,:origin])"
   ]
  },
  {
   "cell_type": "markdown",
   "metadata": {},
   "source": [
    "* parse turns a string into a Julia type. It only works on strings and not other types."
   ]
  },
  {
   "cell_type": "code",
   "execution_count": null,
   "metadata": {},
   "outputs": [],
   "source": [
    "autos_df[:, :origin] = parse.(Int64, autos_df[:,:s_origin]);"
   ]
  },
  {
   "cell_type": "code",
   "execution_count": null,
   "metadata": {},
   "outputs": [],
   "source": [
    "autos_df[!, :origin] = parse.(Float64, autos_df[:,:s_origin])"
   ]
  },
  {
   "cell_type": "code",
   "execution_count": null,
   "metadata": {},
   "outputs": [],
   "source": [
    "head(autos_df,2)\n",
    "\n",
    "#head(autos_df,2)"
   ]
  },
  {
   "cell_type": "markdown",
   "metadata": {},
   "source": [
    "## Describe the features\n",
    "\n",
    "Get the mean, median, mode etc"
   ]
  },
  {
   "cell_type": "code",
   "execution_count": null,
   "metadata": {},
   "outputs": [],
   "source": [
    "#autos_df.describe()\n",
    "\n",
    "describe(autos_df)"
   ]
  },
  {
   "cell_type": "markdown",
   "metadata": {},
   "source": [
    "> horsepower seems to have missing values"
   ]
  },
  {
   "cell_type": "code",
   "execution_count": null,
   "metadata": {},
   "outputs": [],
   "source": [
    "#autos_df[\"horsepower\"].isnull().values.any()\n",
    "#autos_df[autos_df.horsepower.isnull()]\n",
    "\n",
    "any(ismissing.(autos_df.horsepower))"
   ]
  },
  {
   "cell_type": "code",
   "execution_count": null,
   "metadata": {},
   "outputs": [],
   "source": [
    "#autos_df = autos_df.dropna()\n",
    "\n",
    "autos_df = dropmissing(autos_df,:)"
   ]
  },
  {
   "cell_type": "code",
   "execution_count": null,
   "metadata": {},
   "outputs": [],
   "source": [
    "#autos_df[[\"mpg\", \"displacement\",\"horsepower\",\"weight\",\"acceleration\"]].describe()\n",
    "\n",
    "describe(autos_df[:,[\"mpg\", \"displacement\",\"horsepower\",\"weight\",\"acceleration\"]])"
   ]
  },
  {
   "cell_type": "markdown",
   "metadata": {},
   "source": [
    "> What is the average miles per gallon for car with different origin"
   ]
  },
  {
   "cell_type": "code",
   "execution_count": null,
   "metadata": {},
   "outputs": [],
   "source": [
    "#autos_df.groupby('origin')['mpg'].mean()\n",
    "\n",
    "combine(groupby(autos_df,:s_origin), :mpg .=> [mean])"
   ]
  },
  {
   "cell_type": "markdown",
   "metadata": {},
   "source": [
    "## Plot\n",
    "\n",
    "Using Gadfly for different plots."
   ]
  },
  {
   "cell_type": "markdown",
   "metadata": {},
   "source": [
    "### Distribution Plot\n",
    "\n",
    "#### Histogram plot\n",
    "\n",
    "Histogram is a tool to visualize one dimensional data which is continous in nature. Given a collection of single random variables:\n",
    "\n",
    "> * Choose a interval (bins in which the entire dataset can be bucketed)\n",
    "* Count the data points within each bin (the y axis represents the frequency count)\n",
    "\n",
    "plot function with Geom.histogram frokm gadfly package will render a histogram."
   ]
  },
  {
   "cell_type": "markdown",
   "metadata": {},
   "source": [
    "* **Plot the distribution of miles per gallon for cars with American origin and Japanese origin**"
   ]
  },
  {
   "cell_type": "code",
   "execution_count": null,
   "metadata": {},
   "outputs": [],
   "source": [
    "autos_df[autos_df.s_origin .== \"1\",:]"
   ]
  },
  {
   "cell_type": "code",
   "execution_count": null,
   "metadata": {},
   "outputs": [],
   "source": [
    "#sn.distplot(autos_df[autos_df.origin == 1]['mpg'], label = 'American')\n",
    "#plt.legend()"
   ]
  },
  {
   "cell_type": "code",
   "execution_count": null,
   "metadata": {},
   "outputs": [],
   "source": [
    "set_default_plot_size(24cm, 12cm)"
   ]
  },
  {
   "cell_type": "code",
   "execution_count": null,
   "metadata": {},
   "outputs": [],
   "source": [
    "origin_filter = autos_df[autos_df.s_origin .== \"1\",:]\n",
    "\n",
    "hp1 = plot(origin_filter, \n",
    "            x=\"mpg\", \n",
    "            Geom.histogram, \n",
    "    \n",
    "            Guide.title(\"Cars of American Origin - 1\"))"
   ]
  },
  {
   "cell_type": "code",
   "execution_count": null,
   "metadata": {},
   "outputs": [],
   "source": [
    "hp2 = plot(origin_filter, \n",
    "            x=\"mpg\", \n",
    "            Geom.histogram(bincount=30), \n",
    "            \n",
    "            Guide.title(\"Cars of American origin - 2\"))"
   ]
  },
  {
   "cell_type": "markdown",
   "metadata": {},
   "source": [
    "> Plot the distribution of miles per gallon for cars from all origin"
   ]
  },
  {
   "cell_type": "code",
   "execution_count": null,
   "metadata": {},
   "outputs": [],
   "source": [
    "#sn.distplot(autos_df[autos_df.origin == 1]['mpg'],label = 'American', hist=True)\n",
    "#sn.distplot(autos_df[autos_df.origin == 2]['mpg'], label = 'European',hist = True)\n",
    "#sn.distplot(autos_df[autos_df.origin == 3]['mpg'], label = 'Japenese',hist = True)\n",
    "#plt.legend()"
   ]
  },
  {
   "cell_type": "code",
   "execution_count": null,
   "metadata": {},
   "outputs": [],
   "source": [
    "##If plotting mpg for cars from american, european and japanese make.\n",
    "hp3 = plot(autos_df, \n",
    "            x=:mpg,  \n",
    "            color=:s_origin,\n",
    "    \n",
    "            Geom.histogram(position=:identity, bincount=40),\n",
    "    \n",
    "            Scale.color_discrete_manual(\"skyblue\",\"red\",\"green\"),\n",
    "            Theme(alphas=[0.5], discrete_highlight_color=identity),\n",
    "\n",
    "            Guide.title(\"Cars with all origins\"))"
   ]
  },
  {
   "cell_type": "code",
   "execution_count": null,
   "metadata": {},
   "outputs": [],
   "source": [
    "hstack(hp1, hp2, hp3)"
   ]
  },
  {
   "cell_type": "markdown",
   "metadata": {},
   "source": [
    "> * Plot the histogram along with density"
   ]
  },
  {
   "cell_type": "code",
   "execution_count": null,
   "metadata": {},
   "outputs": [],
   "source": [
    "#Histogram with density plot\n",
    "hp4 = plot(autos_df, \n",
    "            x=:mpg,  \n",
    "            color=:s_origin,\n",
    "    \n",
    "            Geom.density(), \n",
    "            Geom.histogram(position=:identity, density = true, bincount=40),\n",
    "    \n",
    "            Guide.title(\"Histogram and Density Plot-1\"),\n",
    "    \n",
    "            Scale.color_discrete_manual(\"skyblue\",\"red\",\"green\"),\n",
    "            Theme(alphas=[0.5], discrete_highlight_color=identity))"
   ]
  },
  {
   "cell_type": "code",
   "execution_count": null,
   "metadata": {},
   "outputs": [],
   "source": [
    "#The other way to write p4\n",
    "hp5 = plot(autos_df, \n",
    "            x=:mpg,  \n",
    "            color=:s_origin,\n",
    "    \n",
    "            layer(Geom.density(), Geom.histogram(position=:identity, density = true, bincount=40)),\n",
    "    \n",
    "            Guide.title(\"Histogram and Density Plot-1\"),\n",
    "    \n",
    "            Scale.color_discrete_manual(\"skyblue\",\"red\",\"green\"),\n",
    "            Theme(alphas=[0.5], discrete_highlight_color=identity))"
   ]
  },
  {
   "cell_type": "code",
   "execution_count": null,
   "metadata": {},
   "outputs": [],
   "source": [
    "gridstack([hp4 hp5])"
   ]
  },
  {
   "cell_type": "code",
   "execution_count": null,
   "metadata": {},
   "outputs": [],
   "source": [
    "## Density plot using Geom.polygon \n",
    "hp6 = plot(autos_df, \n",
    "            x=:mpg,  \n",
    "            color=:s_origin,\n",
    "    \n",
    "            Stat.density(),\n",
    "            Geom.polygon(fill=true, preserve_order=true),\n",
    "            Geom.histogram(position=:identity, density = true, bincount=40),\n",
    "    \n",
    "            Guide.title(\"Histogram and Density Plot-1\"),\n",
    "            Scale.color_discrete_manual(\"skyblue\",\"red\",\"green\"),\n",
    "            Theme(alphas=[0.5], discrete_highlight_color=identity))"
   ]
  },
  {
   "cell_type": "code",
   "execution_count": null,
   "metadata": {},
   "outputs": [],
   "source": [
    "##The other way to write p6\n",
    "hp7 = plot(autos_df, \n",
    "            x=:mpg,  \n",
    "            color=:s_origin,\n",
    "    \n",
    "            layer(Geom.density(), Geom.histogram(position=:identity, density = true, bincount=40)),\n",
    "            \n",
    "            ##Comment the above line nd uncomment the below one to see the change.\n",
    "            #layer(Stat.density(), Geom.polygon(fill = true, preserve_order = true)),\n",
    "            #layer(Geom.histogram(position=:identity, density = true, bincount=40)),\n",
    "    \n",
    "            Guide.title(\"Histogram and Density Plot-1\"),\n",
    "    \n",
    "            Scale.color_discrete_manual(\"skyblue\",\"red\",\"green\"),\n",
    "            Theme(alphas=[0.5], discrete_highlight_color=identity))"
   ]
  },
  {
   "cell_type": "code",
   "execution_count": null,
   "metadata": {},
   "outputs": [],
   "source": [
    "gridstack([hp6 hp7])"
   ]
  },
  {
   "cell_type": "code",
   "execution_count": null,
   "metadata": {},
   "outputs": [],
   "source": [
    "#sn.distplot(autos_df[autos_df.origin == 3]['mpg'],label = 'Japenese',hist=False)\n",
    "#plt.legend()"
   ]
  },
  {
   "cell_type": "code",
   "execution_count": null,
   "metadata": {},
   "outputs": [],
   "source": [
    "#sn.distplot(autos_df['mpg'],hist = False)"
   ]
  },
  {
   "cell_type": "markdown",
   "metadata": {},
   "source": [
    "#### Exercise\n",
    "\n",
    "> Plot the distribution of horsepower for cars with American origin and Japanese origin"
   ]
  },
  {
   "cell_type": "code",
   "execution_count": null,
   "metadata": {
    "scrolled": true
   },
   "outputs": [],
   "source": []
  },
  {
   "cell_type": "markdown",
   "metadata": {},
   "source": [
    "#### Kde Plot\n",
    "\n",
    "Kernel density estimation(KDE) plot — plots a smooth curve shape of the distribution. It is a nonparametric estimation of density where inferences about the population is made from the finite data sample.\n",
    "\n",
    "`Parametric Data/Test`: When the data is assumed to have been drawn from a particular distribution and some parametric test can be applied to it\n",
    "\n",
    "`Non-Parametric Data/Test`: When we have no knowledge about the population and the underlying distribution\n",
    "\n",
    "**What is a Kernal?**\n",
    "\n",
    "Kernal: A kernel is a special type of probability density function (PDF) with the added property that it must be even.  Thus, a kernel is a function with the following properties\n",
    "\n",
    "> * non-negative\n",
    "* real-valued\n",
    "* even\n",
    "* its definite integral over its support set must equal to 1\n",
    "\n",
    "Some common PDFs are kernels; they include the **Uniform(-1,1)** and **standard normal distributions**.\n",
    "\n",
    "\n",
    "**What is Kernal density estimation?**\n",
    "\n",
    "**`Kernel density estimation`** is a non-parametric method of estimating the probability density function (PDF) of a continuous random variable.  It is non-parametric because it does not assume any underlying distribution for the variable.  Essentially, at every datum, a kernel function is created with the datum at its centre – this ensures that the kernel is symmetric about the datum.  The PDF is then estimated by adding all of these kernel functions and dividing by the number of data to ensure that it satisfies the 2 properties of a PDF:\n",
    "\n",
    "> * Every possible value of the PDF (i.e. the function, f(x)), is non-negative.\n",
    "* The definite integral of the PDF over its support set equals to 1.\n",
    "\n",
    "Steps in estimating kernal density:\n",
    "\n",
    "> * Each observation is first replaced with a normal (Gaussian) curve centered at that value.\n",
    "> * These curves are summed to compute the value of the density at each point in the support grid. The resulting curve is then normalized so that the area under it is equal to 1\n",
    "\n",
    "More about KDE at: \n",
    "> * https://chemicalstatistician.wordpress.com/2013/06/09/exploratory-data-analysis-kernel-density-estimation-in-r-on-ozone-pollution-data-in-new-york-and-ozonopolis/\n"
   ]
  },
  {
   "cell_type": "markdown",
   "metadata": {},
   "source": [
    "* **Comparing mpg distributions of cars by different origins**"
   ]
  },
  {
   "cell_type": "code",
   "execution_count": null,
   "metadata": {},
   "outputs": [],
   "source": [
    "#sn.distplot(autos_df[autos_df.origin == 1]['mpg'],hist=False, label = 'American')\n",
    "#sn.distplot(autos_df[autos_df.origin == 2]['mpg'], hist = False, label = 'European')\n",
    "#sn.distplot(autos_df[autos_df.origin == 3]['mpg'], hist = False, label = 'Japenese')"
   ]
  },
  {
   "cell_type": "code",
   "execution_count": null,
   "metadata": {},
   "outputs": [],
   "source": [
    "# Just the density plot\n",
    "dp1 = plot(autos_df, \n",
    "            x=:mpg,  \n",
    "            color=:s_origin,\n",
    "    \n",
    "            layer(Stat.density(), Geom.polygon(fill=true, preserve_order=true)),\n",
    "    \n",
    "            Scale.color_discrete_manual(\"skyblue\",\"red\",\"green\"),\n",
    "            Theme(alphas=[0.5], discrete_highlight_color=identity))"
   ]
  },
  {
   "cell_type": "code",
   "execution_count": null,
   "metadata": {},
   "outputs": [],
   "source": [
    "#Density plot with central 90% confidence limit.\n",
    "\n",
    "dp2 = plot(autos_df, \n",
    "            x=:mpg,  \n",
    "            color=:s_origin,\n",
    "    \n",
    "            #layer(Stat.density, Geom.polygon(fill=true, preserve_order=true), alpha=[0.4]),\n",
    "            layer(Geom.density()),\n",
    "            layer(Stat.quantile_bars(quantiles=[0.05, 0.95]), Geom.segment),\n",
    "    \n",
    "            Guide.title(\"1st Density plot with 90% CI\"),\n",
    "    \n",
    "            Scale.color_discrete_manual(\"skyblue\",\"red\",\"green\"),\n",
    "            Theme(alphas=[0.2], discrete_highlight_color=identity))"
   ]
  },
  {
   "cell_type": "code",
   "execution_count": null,
   "metadata": {},
   "outputs": [],
   "source": [
    "##The other way\n",
    "dp3 = plot(autos_df, \n",
    "            x=:mpg,  \n",
    "            color=:s_origin,\n",
    "    \n",
    "            layer(Stat.density, Geom.polygon(fill=true, preserve_order=true) ), #alpha=[0.4]\n",
    "            layer(Stat.quantile_bars(quantiles=[0.05, 0.95]), Geom.segment),\n",
    "    \n",
    "            Guide.title(\"2nd Density plot with 90% CI\"),\n",
    "    \n",
    "            Scale.color_discrete_manual(\"skyblue\",\"red\",\"green\"),\n",
    "            Theme(alphas=[0.4], discrete_highlight_color=identity))\n"
   ]
  },
  {
   "cell_type": "code",
   "execution_count": null,
   "metadata": {},
   "outputs": [],
   "source": [
    "#hstack(dp1,dp2,dp3)\n",
    "gridstack([dp1 dp2 dp3])"
   ]
  },
  {
   "cell_type": "markdown",
   "metadata": {},
   "source": [
    "### Bar plot\n",
    "\n",
    "* **Plot average miles per gallon for different cylinder types using autos_df dataframe.**"
   ]
  },
  {
   "cell_type": "markdown",
   "metadata": {},
   "source": [
    "In Seaborm package (Python), `barplot` function has an estimator paramter which will anyways estimate the average value of a numeric feature for each categorical feature."
   ]
  },
  {
   "cell_type": "code",
   "execution_count": null,
   "metadata": {},
   "outputs": [],
   "source": [
    "#sn.barplot(y = 's_origin',\n",
    "#           x = 'cylinders',\n",
    "#           data = autos_df,\n",
    "#          )"
   ]
  },
  {
   "cell_type": "markdown",
   "metadata": {},
   "source": [
    "If it is just a count of values w.r.t a variable:"
   ]
  },
  {
   "cell_type": "code",
   "execution_count": null,
   "metadata": {},
   "outputs": [],
   "source": [
    "plot(autos_df,\n",
    "    x = \"cylinders\",\n",
    "    Geom.bar,\n",
    "    Theme(bar_spacing = 4mm)\n",
    "    )"
   ]
  },
  {
   "cell_type": "markdown",
   "metadata": {},
   "source": [
    "Here we have to compute it separate before using plot function.\n",
    "\n",
    "\n",
    "> To plot average miles per gallon for different cylinder types using DataFrames and Gadfly:\n",
    "1. Use groupby method to group by `cylinders` and calulcate mean of mpg. Name this dataframe as `mpg_cylinder_df`.\n",
    "2. call plot() from gadfly with Geom.bar to plot `mpg_cylinder_df`."
   ]
  },
  {
   "cell_type": "code",
   "execution_count": null,
   "metadata": {
    "scrolled": true
   },
   "outputs": [],
   "source": [
    "mpg_cylinder_df = combine(groupby(autos_df,[:cylinders]), :mpg .=> [mean])"
   ]
  },
  {
   "cell_type": "code",
   "execution_count": null,
   "metadata": {},
   "outputs": [],
   "source": [
    "bp1 = plot(mpg_cylinder_df, \n",
    "            x=:cylinders, \n",
    "            y=:mpg_mean,    \n",
    "    \n",
    "            Geom.bar(), #position=:dodge or :stack (but not needed for now.)\n",
    "            \n",
    "    \n",
    "            Guide.title(\"1st Bar plot\"),\n",
    "    \n",
    "    \n",
    "            Theme( \n",
    "                  bar_spacing=4mm, \n",
    "                  key_position=:right),\n",
    "    \n",
    "            Coord.cartesian(xmin=2, xmax=9))\n",
    "            \n"
   ]
  },
  {
   "cell_type": "markdown",
   "metadata": {},
   "source": [
    "* **Draw the barplot for average miles per gallon grouped by cylinder and origin using DataFrames and Gadfly**\n",
    "> 1. Use groupby method to group by `cylinders`, `origin` and calulcate mean of mpg. Name this dataframe as `mpg_cylinders_origin_df`.\n",
    "> 2. call plot() from gadfly with Geom.bar to plot `mpg_cylinder_df`."
   ]
  },
  {
   "cell_type": "code",
   "execution_count": null,
   "metadata": {},
   "outputs": [],
   "source": [
    "#sn.barplot(x = 'cylinders',\n",
    "#           y = 'mpg',\n",
    "#           hue = 'origin',\n",
    "#           data = autos_df)"
   ]
  },
  {
   "cell_type": "code",
   "execution_count": null,
   "metadata": {},
   "outputs": [],
   "source": [
    "mpg_cylinders_origin_df = combine(groupby(autos_df,[:cylinders,:s_origin]), :mpg .=> [mean])\n",
    "\n",
    "mpg_cylinders_origin_df.label=string.(round.(Int, mpg_cylinders_origin_df.mpg_mean))\n",
    "\n",
    "mpg_cylinders_origin_df"
   ]
  },
  {
   "cell_type": "code",
   "execution_count": null,
   "metadata": {},
   "outputs": [],
   "source": [
    "bp2 = plot(mpg_cylinders_origin_df, \n",
    "            x=:cylinders, \n",
    "            y=:mpg_mean,    \n",
    "            color=:s_origin,\n",
    "    \n",
    "            \n",
    "            label=:label,Geom.label(position=:centered),  Stat.dodge(position=:stack),\n",
    "            Geom.bar(position=:stack),\n",
    "           \n",
    "            \n",
    "    \n",
    "            Guide.title(\"1st Bar plot\"),\n",
    "    \n",
    "            Scale.color_discrete_manual(\"skyblue\",\"red\",\"green\"),\n",
    "    \n",
    "            Theme( \n",
    "                  bar_spacing=4mm, \n",
    "                  key_position=:right),\n",
    "    \n",
    "            Coord.cartesian(xmin=2, xmax=9))"
   ]
  },
  {
   "cell_type": "markdown",
   "metadata": {},
   "source": [
    "### Exercise\n",
    "\n",
    "> Make the change in the above code to make the bar chart vertically dodged."
   ]
  },
  {
   "cell_type": "code",
   "execution_count": null,
   "metadata": {},
   "outputs": [],
   "source": []
  },
  {
   "cell_type": "markdown",
   "metadata": {},
   "source": [
    "A horizontal dodged chart can be plotted as below:"
   ]
  },
  {
   "cell_type": "code",
   "execution_count": null,
   "metadata": {},
   "outputs": [],
   "source": [
    "bp3 = plot(mpg_cylinders_origin_df, \n",
    "            y=:cylinders, \n",
    "            x=:mpg_mean,    \n",
    "            color=:s_origin,\n",
    "    \n",
    "            \n",
    "            label=:label,Geom.label(position=:right),  Stat.dodge( axis=:y),\n",
    "            Geom.bar(position=:dodge,orientation=:horizontal),\n",
    "               \n",
    "    \n",
    "            Guide.title(\"2nd Bar plot\"),\n",
    "            Guide.yticks(orientation=:vertical), \n",
    "            Guide.ylabel(\"# Cylinders\"),\n",
    "            Guide.xlabel(\"Avg miles per gallon\"),\n",
    "    \n",
    "            Scale.color_discrete_manual(\"skyblue\",\"red\",\"green\"),\n",
    "    \n",
    "            Theme( \n",
    "                  bar_spacing=4mm, \n",
    "                  key_position=:right),\n",
    "    \n",
    "            Coord.cartesian(ymin=2, ymax=9, yflip=true))"
   ]
  },
  {
   "cell_type": "markdown",
   "metadata": {},
   "source": [
    "\n",
    "* **Draw a barplot which shows the count of cars w.r.t it origin and number of cylinders the car has.**\n",
    "\n",
    "> 1. Use groupby method to group by `cylinders`, `s_origin` and and count the number of car. Name this dataframe as `origin_cylinders_df`.\n",
    "> 2. call plot() from gadfly with Geom.bar to plot `mpg_cylinder_df`."
   ]
  },
  {
   "cell_type": "code",
   "execution_count": null,
   "metadata": {
    "scrolled": true
   },
   "outputs": [],
   "source": [
    "origin_cylinders_df = combine(groupby(autos_df,[:s_origin,:cylinders]), nrow .=> [:count])"
   ]
  },
  {
   "cell_type": "code",
   "execution_count": null,
   "metadata": {},
   "outputs": [],
   "source": [
    "bp4 = plot(origin_cylinders_df, \n",
    "            x=:cylinders, \n",
    "            y=:count,    \n",
    "            color=:s_origin,\n",
    "    \n",
    "            \n",
    "            layer(\n",
    "            label=string.(origin_cylinders_df.count),\n",
    "            Geom.label(position=:centered), \n",
    "            Stat.dodge(position=:dodge)),\n",
    "    \n",
    "            Geom.bar(position=:dodge),\n",
    "           \n",
    "            \n",
    "    \n",
    "            Guide.title(\"Count of cars with cylinders and origin\"),\n",
    "    \n",
    "            Scale.color_discrete_manual(\"skyblue\",\"red\",\"green\"),\n",
    "    \n",
    "            Theme( \n",
    "                  bar_spacing=4mm, \n",
    "                  key_position=:right),\n",
    "    \n",
    "            Coord.cartesian(xmin=2, xmax=9))"
   ]
  },
  {
   "cell_type": "markdown",
   "metadata": {},
   "source": [
    "### Heatmap\n",
    "\n",
    "\n",
    "Can be used to visulize a square matrix, say a correlation matrix. To visulize a rectangular data, Gadfly has Geom.rectbin:\n",
    "\n",
    "http://gadflyjl.org/stable/gallery/geometries/#[Geom.rect](@ref),-[Geom.rectbin](@ref)\n",
    "\n",
    "We will proceed with visualizing a correlation matrix. Strictly speaking, Pearson’s correlation requires that each dataset be normally distributed, and not necessarily zero-mean. \n",
    "\n",
    "> * Like other correlation coefficients, this one varies between -1 and +1 with 0 implying no correlation.\n",
    "* Correlations of -1 or +1 imply an exact linear relationship. \n",
    "* Positive correlations imply that as x increases, so does y. \n",
    "* Negative correlations imply that as x increases, y decreases.\n",
    "\n",
    "\n",
    "\n",
    "* **Plot the correlation between 'mpg', 'displacement','horsepower','acceleration','weight'**"
   ]
  },
  {
   "cell_type": "code",
   "execution_count": null,
   "metadata": {},
   "outputs": [],
   "source": [
    "autos_cor_df = autos_df[:,[\"mpg\",\n",
    "                        \"displacement\",\n",
    "                        \"horsepower\",\n",
    "                        \"weight\",\n",
    "                        \"acceleration\"]]\n",
    "\n",
    "head(autos_cor_df)"
   ]
  },
  {
   "cell_type": "markdown",
   "metadata": {},
   "source": [
    "Below code using pandas will give correlation matrix in python"
   ]
  },
  {
   "cell_type": "code",
   "execution_count": null,
   "metadata": {
    "scrolled": false
   },
   "outputs": [],
   "source": [
    "#auto_cor_df.corr()"
   ]
  },
  {
   "cell_type": "code",
   "execution_count": null,
   "metadata": {},
   "outputs": [],
   "source": [
    "cor(autos_df[:,\"mpg\"],autos_df[:,\"horsepower\"])"
   ]
  },
  {
   "cell_type": "code",
   "execution_count": null,
   "metadata": {},
   "outputs": [],
   "source": [
    "cor(Matrix(autos_cor_df))"
   ]
  },
  {
   "cell_type": "code",
   "execution_count": null,
   "metadata": {},
   "outputs": [],
   "source": []
  },
  {
   "cell_type": "code",
   "execution_count": null,
   "metadata": {},
   "outputs": [],
   "source": [
    "cor_matrix = NamedArray( cor( Matrix(autos_cor_df) ) )"
   ]
  },
  {
   "cell_type": "code",
   "execution_count": null,
   "metadata": {},
   "outputs": [],
   "source": [
    "cor_matrix = NamedArray( cor( Matrix(autos_cor_df)), \n",
    "            ([names(autos_cor_df);],[names(autos_cor_df);]), \n",
    "            (\"Rows\", \"Cols\"))"
   ]
  },
  {
   "cell_type": "markdown",
   "metadata": {},
   "source": [
    "**A developers way of doign the above. The below code block is not mine.**\n",
    "\n",
    "Source: https://discourse.julialang.org/t/first-impression-of-dataframes-jl/49753/5"
   ]
  },
  {
   "cell_type": "code",
   "execution_count": null,
   "metadata": {},
   "outputs": [],
   "source": [
    "struct NoPrint end; Base.show(::IO, ::NoPrint) = nothing\n",
    "NamedArray([i > j ? cor(autos_cor_df[!, i], autos_cor_df[!, j]) : \n",
    "        NoPrint() \n",
    "        for i in 2:ncol(autos_cor_df), \n",
    "            j in 1:ncol(autos_cor_df)-1],\n",
    "                  (names(autos_cor_df)[2:end], names(autos_cor_df)[1:end-1]))"
   ]
  },
  {
   "cell_type": "markdown",
   "metadata": {},
   "source": [
    "**End of developers code.**\n",
    "\n",
    "**Proceeding with heatmap**"
   ]
  },
  {
   "cell_type": "markdown",
   "metadata": {},
   "source": [
    "Heatmap using seaborn in python."
   ]
  },
  {
   "cell_type": "code",
   "execution_count": null,
   "metadata": {
    "scrolled": true
   },
   "outputs": [],
   "source": [
    "#sn.heatmap(auto_clean_df.corr(),\n",
    "#           annot = True,\n",
    "#           cmap = sn.diverging_palette(250, 10, n = 25))"
   ]
  },
  {
   "cell_type": "markdown",
   "metadata": {},
   "source": [
    "The basic heatmap using spy function from Gadfly"
   ]
  },
  {
   "cell_type": "code",
   "execution_count": null,
   "metadata": {},
   "outputs": [],
   "source": [
    "spy(cor_matrix)"
   ]
  },
  {
   "cell_type": "code",
   "execution_count": null,
   "metadata": {
    "scrolled": true
   },
   "outputs": [],
   "source": [
    "cor_names= [names(cor_matrix,1);]  ##could have written (cor_matrix,2) as well"
   ]
  },
  {
   "cell_type": "markdown",
   "metadata": {},
   "source": []
  },
  {
   "cell_type": "code",
   "execution_count": null,
   "metadata": {},
   "outputs": [],
   "source": [
    "spy(cor_matrix, \n",
    "    Scale.y_discrete(labels = i->cor_names[i]), \n",
    "    Scale.x_discrete(labels = i->cor_names[i]),\n",
    "    Scale.color_continuous(colormap=Scale.lab_gradient(\"red\", \"white\", \"green\")))"
   ]
  },
  {
   "cell_type": "markdown",
   "metadata": {},
   "source": [
    "### scatter plot\n",
    "\n",
    "Scatter plot is a cloud of points showing a joint distribution of two numerical variables where each point represents an observation from the dataset. Helps to understand the relationship between two numerical variables"
   ]
  },
  {
   "cell_type": "markdown",
   "metadata": {},
   "source": [
    "* **Scatter plot mpg and weight of the cars**"
   ]
  },
  {
   "cell_type": "code",
   "execution_count": null,
   "metadata": {
    "scrolled": false
   },
   "outputs": [],
   "source": [
    "#sn.jointplot(x = 'mpg',\n",
    "#             y = 'weight',\n",
    "#            hue = 's_origin',\n",
    "#             data = autos_df, \n",
    "#             kind = 'scatter'\n",
    "#            )"
   ]
  },
  {
   "cell_type": "code",
   "execution_count": null,
   "metadata": {},
   "outputs": [],
   "source": [
    "Gadfly.push_theme(:dark) #default"
   ]
  },
  {
   "cell_type": "code",
   "execution_count": null,
   "metadata": {},
   "outputs": [],
   "source": [
    "plot(autos_df, x=\"mpg\", y=\"weight\", color = \"s_origin\", Geom.point)"
   ]
  },
  {
   "cell_type": "markdown",
   "metadata": {},
   "source": [
    "The problem with scatter plot in over plotting. When dataset is huge, dots of the scatterplot tend to overlap, and  graphic becomes unreadable and meanigless.\n",
    "\n",
    "### Hexabin plot\n",
    "\n",
    "\n",
    "In one dimension straight line segments are the only possible shape for bin in a histogram. However for data in two dimensions bins can be more general shape (rectangular/Hexagon):\n",
    "\n",
    "> * The obvious strategy is to choose a rectangular bin to build a histogram. Imagine the above scatter plot being filled with rectangular boxes (where the boxes represents the bins in horizontal and vertical direction). The count of values in each of the bins can be colored with gradient fill.\n",
    "* The hexagon tiling uses a hexagon shape for binning. The same scatterplot chart can be filled with hexagon shapes and the count of points falling in each hexagon can be used to fill the shape\n",
    "\n",
    "> Hex plot mpg and weight of the cars\n",
    "\n",
    "### Exercise\n",
    "\n",
    "Using Geom.hexbin from Gadfly to draw the hexabin plot"
   ]
  },
  {
   "cell_type": "code",
   "execution_count": null,
   "metadata": {},
   "outputs": [],
   "source": []
  },
  {
   "cell_type": "markdown",
   "metadata": {},
   "source": [
    "This is how it is done in seaborn (Python):"
   ]
  },
  {
   "cell_type": "code",
   "execution_count": null,
   "metadata": {},
   "outputs": [],
   "source": [
    "#sn.jointplot(x = 'mpg',\n",
    "#             y = 'weight',\n",
    "#             data = autos_df, color = 'k',\n",
    "#             kind = 'hex'\n",
    "#            )"
   ]
  },
  {
   "cell_type": "markdown",
   "metadata": {},
   "source": [
    "### Boxplot\n",
    "\n",
    "Box plot is a graphical representation of numerical data that can be used to understand the variability of the data and the existence of outliers.\n",
    "\n",
    "A boxplot is a graph that gives you a good indication of how the values in the data are spread out.\n",
    "\n",
    "To generate a box plot: Assume data as : 98, 77, 85, 88, 82, 83, 87, 67, 100, 63, 105\n",
    "\n",
    "> * Arrange data in ascending order: 63, 67, 77, 82, 83, 85, 87, 88, 98, 100, 105\n",
    "*Calculate the median (middle value of the data, 85). This is Q2\n",
    "*Calculate the median of the first half of the data, 77). This is Q1.\n",
    "*Calculate the median of the second half of the data, 98). This is Q3.\n",
    "* The box joins Q1 to Q3 (contains middle 50% of data).\n",
    "* IQR = Q3 - Q1 = 11\n",
    "* LIF = Q1 - 1.5*IQR = 60.5 ; UIF = Q3 + 1.5 IQR = 114.5\n",
    "* The point adjancent to LIF is 67 and point adjancent to UIF is 105.\n",
    "* The smallest observation greater than or equal to LIF builds lower whisker.\n",
    "* The largest observation less than or equal to UIF builds upper whisker.\n",
    "\n",
    "\n",
    "**Point outside the fences are outliers.** \n",
    "\n",
    "\n",
    "Intrepret boxplot:\n",
    "\n",
    "If wide box and long whiskers, then maybe the data doesn’t cluster.\n",
    "If box is small and the whiskers are short, then probably your data does indeed cluster\n",
    "If box is small and the whiskers are long, then maybe the data clusters, but have some “outliers”\n",
    "\n",
    "* **Plot the outliers in miles per gallon w.r.t. cylinders and origin.**"
   ]
  },
  {
   "cell_type": "code",
   "execution_count": null,
   "metadata": {},
   "outputs": [],
   "source": [
    "Gadfly.push_theme(:default)"
   ]
  },
  {
   "cell_type": "code",
   "execution_count": null,
   "metadata": {},
   "outputs": [],
   "source": [
    "bp1 = plot(autos_df, x=:cylinders, y=:mpg, color=:s_origin,\n",
    "    Geom.boxplot, Theme(boxplot_spacing=0.1mm),\n",
    "    \n",
    "    Guide.title(\"Boxplot of mpg with #cylinders\"),\n",
    "    Scale.color_discrete_manual(\"skyblue\",\"red\",\"green\")\n",
    ")"
   ]
  },
  {
   "cell_type": "markdown",
   "metadata": {},
   "source": [
    "## Concept of subgrid\n",
    "\n",
    "What if we want to bring more than 4 dimensions of data in the same plot."
   ]
  },
  {
   "cell_type": "code",
   "execution_count": null,
   "metadata": {},
   "outputs": [],
   "source": [
    "set_default_plot_size(24cm, 20cm)"
   ]
  },
  {
   "cell_type": "code",
   "execution_count": null,
   "metadata": {
    "scrolled": true
   },
   "outputs": [],
   "source": [
    "subgrid1_df = combine(groupby(autos_df,[:s_origin,:cylinders]), :mpg .=> [mean])"
   ]
  },
  {
   "cell_type": "code",
   "execution_count": null,
   "metadata": {},
   "outputs": [],
   "source": [
    "gp1 = plot(subgrid1_df, \n",
    "            x=:s_origin, \n",
    "            y=:mpg_mean,    \n",
    "            #xgroup=:cylinders, ##it can be any other categorical variable.\n",
    "            ygroup=:cylinders,\n",
    "            color=:s_origin, ## This can be some other categorical variable. Putting origin does not give any info.\n",
    "    \n",
    "            \n",
    "            Geom.subplot_grid(\n",
    "            layer(\n",
    "            Geom.bar(position=:dodge)\n",
    "            ),\n",
    "        \n",
    "            #To label the bars.\n",
    "            layer(\n",
    "            label=string.(round.(Int,subgrid1_df.mpg_mean)),\n",
    "            Geom.label(position=:above)#, \n",
    "            #Stat.dodge(position=:dodge)\n",
    "            )),\n",
    "            \n",
    "    \n",
    "            Guide.title(\"Avg miles per gallon with cylinders and origin\"),\n",
    "    \n",
    "            Scale.color_discrete_manual(\"skyblue\",\"red\",\"green\"),\n",
    "    \n",
    "            Theme( \n",
    "                  bar_spacing=4mm, \n",
    "                  key_position=:right)\n",
    ")"
   ]
  },
  {
   "cell_type": "code",
   "execution_count": null,
   "metadata": {},
   "outputs": [],
   "source": [
    "subgrid2_df = combine(groupby(autos_df,[:model_year,:s_origin,:cylinders]), :mpg .=> [mean])\n",
    "\n",
    "tail(subgrid2_df)"
   ]
  },
  {
   "cell_type": "code",
   "execution_count": null,
   "metadata": {
    "scrolled": false
   },
   "outputs": [],
   "source": [
    "gp2 = plot(subgrid2_df, \n",
    "            x=:model_year, \n",
    "            y=:mpg_mean,    \n",
    "            #xgroup=:model_year, ##it can be any other categorical variable.\n",
    "            ygroup=:cylinders,\n",
    "            color=:s_origin, ## This can be some other categorical variable. Putting origin does not give any info.\n",
    "    \n",
    "            \n",
    "            Geom.subplot_grid(\n",
    "            layer(\n",
    "            Geom.line()\n",
    "            ),\n",
    "        \n",
    "            layer(\n",
    "            label=string.(round.(Int,subgrid2_df.mpg_mean)),\n",
    "            Geom.label(position=:dynamic, hide_overlaps=true)\n",
    "            )),\n",
    "            \n",
    "            \n",
    "    \n",
    "            Guide.title(\"Avg miles per gallon with cylinders and origin\"),\n",
    "    \n",
    "            Scale.color_discrete_manual(\"skyblue\",\"red\",\"green\"),\n",
    "    \n",
    "    \n",
    "            Scale.x_continuous(;minvalue=65, maxvalue=80),\n",
    "    \n",
    "            Theme(panel_stroke=colorant\"black\",\n",
    "                  grid_line_width=0mm) ## we can use style() or theme to pass these parameters.\n",
    ")"
   ]
  },
  {
   "cell_type": "markdown",
   "metadata": {},
   "source": [
    "More on setting themes: http://gadflyjl.org/v0.7/man/themes.html#style-1"
   ]
  },
  {
   "cell_type": "markdown",
   "metadata": {},
   "source": [
    "### Exercise\n",
    "\n",
    "Draw a boxplot using Geom.subplot_grid to split the boxplot with ygroup = s_origin. Refer Geom.subplot_grid used to plot barplot in above section."
   ]
  },
  {
   "cell_type": "code",
   "execution_count": null,
   "metadata": {},
   "outputs": [],
   "source": []
  },
  {
   "cell_type": "markdown",
   "metadata": {},
   "source": [
    "### Additional plots \n",
    "\n",
    "Gadfly provides geometricall object to get fancy plots like \n",
    "\n",
    "* Violin plot: http://gadflyjl.org/stable/gallery/geometries/#[Geom.violin](@ref)\n",
    "* Beeswarm: http://gadflyjl.org/stable/gallery/geometries/#[Geom.beeswarm](@ref)\n",
    "* Contour plot: http://gadflyjl.org/stable/gallery/geometries/#[Geom.contour](@ref)\n",
    "* 2dDensity plot: http://gadflyjl.org/stable/gallery/geometries/#[Geom.density2d](@ref)\n",
    "\n",
    "and many more....\n"
   ]
  },
  {
   "cell_type": "markdown",
   "metadata": {},
   "source": [
    "## Thank you"
   ]
  }
 ],
 "metadata": {
  "@webio": {
   "lastCommId": null,
   "lastKernelId": null
  },
  "kernelspec": {
   "display_name": "Julia 1.5.2",
   "language": "julia",
   "name": "julia-1.5"
  },
  "language_info": {
   "file_extension": ".jl",
   "mimetype": "application/julia",
   "name": "julia",
   "version": "1.5.2"
  }
 },
 "nbformat": 4,
 "nbformat_minor": 2
}

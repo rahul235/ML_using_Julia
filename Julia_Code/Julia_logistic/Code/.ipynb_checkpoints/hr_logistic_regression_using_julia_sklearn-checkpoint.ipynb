{
 "cells": [
  {
   "cell_type": "markdown",
   "metadata": {},
   "source": [
    "<p style=\"font-family: Arial; font-size:2.75em;color:purple; font-style:bold\">\n",
    "Logistic Regression using Python (ScikitLearn):</p>\n",
    "<p style=\"font-family: Arial; font-size:2.25em;color:green; font-style:bold\">\n",
    "Kumar Rahul</p><br>\n",
    "\n",
    "ScikitLearn.jl implements the popular scikit-learn interface and algorithms in Julia. It supports both models from the Julia ecosystem and those of the scikit-learn library (via PyCall.jl).\n",
    "\n",
    "* More at: https://cstjean.github.io/ScikitLearn.jl/dev/man/python/\n",
    "* Examples at: https://github.com/cstjean/ScikitLearn.jl/blob/master/docs/src/man/examples.md\n",
    "\n",
    "### We will be using HR data in this exercise. Refer the Exhibit 1 to understand the feature list. Use the HR data and answer the below questions.\n",
    "\n",
    "1.\tLoad the dataset in Jupyter Notebook using pandas\n",
    "2.\tBuild a correlation matrix between all the numeric features in the dataset.\n",
    "3.\tBuild a new feature named LOB_Hike_Offered using LOB and percentage hike offered. Include this as a part of the data frame created in step 1. What assumption are you trying to test with such variables?\n",
    "4.\tCreate a new data frame with the numeric features and categorical features as dummy variable coded features. Which features will you include for model building and why?\n",
    "5.\tSplit the data into training set and test set. Use 80% of data for model training and 20% for model testing. \n",
    "6.\tBuild a model using Gender and Age as independent variable and Status as dependent variable.\n",
    "    >* Are Gender and Age a significant feature in this model?\n",
    "    * What inferences can be drawn from this model? \n",
    "7.\tBuild a model with statsmodel.api to predict the probability of Not Joining. How do you interpret the model outcome? Report the model performance on the test set.\n",
    "8.\tBuild a model with statsmodel.formula.api to predict the probability of Not Joining and report the model performance on the test set. What difference do you observe in the model built here and the one built in step 7.\n",
    "9.\tBuild a model using sklearn package to predict the probability of Not Joining. What difference do you observe in this model compared to model built in step 7 and 8.\n",
    "10.\tFine-tune the cut-off value using cost of misclassification as a strategy. The cut-off should help classify maximum number of Not Joining cases correctly.\n",
    "11.\tFine-tune the cut-off value using youdens index as a strategy. The cut-off should help balance the classification of Joined and Not Joined cases.\n",
    "12.\tApply the cut-off values obtained in step 10 and step 11 on the test set. What inference can be deduced from it?\n",
    "13. Build model using gradient descent to get an intuition about the inner working of optimization algorithms.\n",
    "14. Build model using gradient descent with regularization to get an intution about the inner working of optimization algorithms.\n",
    "\n",
    "**PS: Not all the questions are being answered as a part of the same notebook. You are encouraged to answer the questions if you find them missing.**\n",
    "\n",
    "**Exhibit 1**\n",
    "\n",
    "\n",
    "|Sl.No.|Name of Variable|Variable Description|\n",
    "|:-------|----------------|:--------------------|\n",
    "|1\t|Candidate reference number|\tUnique number to identify the candidate|\n",
    "|2\t|DOJ extended|Binary variable identifying whether candidate asked for date of joining extension (Yes/No)|\n",
    "|3\t|Duration to accept the offer|\tNumber of days taken by the candidate to accept the offer (continuous variable)|\n",
    "|4\t|Notice period|\tNotice period to be served in the parting company before candidate can join this company (continuous variable)|\n",
    "|5\t|Offered band|\tBand offered to the candidate based on experience and performance in interview rounds (categorical variable labelled C0/C1/C2/C3/C4/C5/C6)|\n",
    "|6\t|Percentage hike (CTC) expected|\tPercentage hike expected by the candidate (continuous variable)|\n",
    "|7\t|Percentage hike offered (CTC)| Percentage hike offered by the company (continuous variable)|\n",
    "|8\t|Percent difference CTC|\tPercentage difference between offered and expected CTC (continuous variable)|\n",
    "|9\t|Joining bonus|\tBinary variable indicating if joining bonus was given or not (Yes/No)|\n",
    "|10\t|Gender|\tGender of the candidate (Male/Female)|\n",
    "|11\t|Candidate source|\tSource from which resume of the candidate was obtained (categorical variables with categories  Employee referral/Agency/Direct)|\n",
    "|12\t|REX (in years)|\tRelevant years of experience of the candidate for the position offered (continuous variable)|\n",
    "|13\t|LOB|\tLine of business for which offer was rolled out (categorical variable)|\n",
    "|14\t|DOB|\tDate of birth of the candidate|\n",
    "|15\t|Joining location|\tCompany location for which offer was rolled out for candidate to join (categorical variable)|\n",
    "|16\t|Candidate relocation status|\tBinary variable indicating whether candidate has to relocate from one city to another city for joining (Yes/No)|\n",
    "|17 |HR status|\tFinal joining status of candidate (Joined/Not-Joined)|\n",
    "\n",
    "***\n",
    "\n",
    "# Code starts here"
   ]
  },
  {
   "cell_type": "markdown",
   "metadata": {},
   "source": [
    "We are going to use below mentioned libraries for **data import, processing and visulization**. As we progress, we will use other specific libraries for model building and evaluation. "
   ]
  },
  {
   "cell_type": "code",
   "execution_count": 1,
   "metadata": {},
   "outputs": [],
   "source": [
    "using Pkg\n",
    "using CSV\n",
    "using DataFrames\n",
    "using Statistics\n",
    "using FreqTables\n",
    "using StatsBase\n",
    "using Gadfly\n",
    "using Printf\n",
    "using MLJ ##Machine Learning Julia, schema() from this package.\n",
    "using ScikitLearn ##Machine Learning using SciKitLearn\n",
    "using JLD ##To save model object\n",
    "using PyCallJLD #to save model object"
   ]
  },
  {
   "cell_type": "code",
   "execution_count": 2,
   "metadata": {},
   "outputs": [
    {
     "data": {
      "text/plain": [
       "\"/Users/Rahul/Documents/Rahul Office/IIMB/Concepts/Julia/ML_using_Julia/Julia_Code/Julia_logistic/Code\""
      ]
     },
     "execution_count": 2,
     "metadata": {},
     "output_type": "execute_result"
    }
   ],
   "source": [
    "ENV[\"COLUMNS\"] = 1000\n",
    "ENV[\"LINES\"] = 30\n",
    "pwd()"
   ]
  },
  {
   "cell_type": "markdown",
   "metadata": {},
   "source": [
    "\n",
    "## Data Import and Manipulation\n",
    "\n",
    "### 1. Importing a data set\n",
    "\n",
    "_Give the correct path to the data_\n",
    "\n"
   ]
  },
  {
   "cell_type": "markdown",
   "metadata": {},
   "source": [
    "modify the ast_note_interactivity kernel option to see the value of multiple statements at once."
   ]
  },
  {
   "cell_type": "code",
   "execution_count": 3,
   "metadata": {
    "Rmd_chunk_options": "readData, echo=TRUE,tidy=TRUE",
    "autoscroll": false
   },
   "outputs": [
    {
     "data": {
      "text/html": [
       "<table class=\"data-frame\"><thead><tr><th></th><th>SLNO</th><th>Candidate_Ref</th><th>DOJ_Extended</th><th>Duration_to_accept_offer</th><th>Notice_period</th><th>Offered_band</th><th>Pecent_hike_expected_in_CTC</th><th>Percent_hike_offered_in_CTC</th><th>Percent_difference_CTC</th><th>Joining_Bonus</th><th>Candidate_relocate_actual</th><th>Gender</th><th>Candidate_Source</th><th>Rex_in_Yrs</th><th>LOB</th><th>Location</th><th>Age</th><th>Status</th></tr><tr><th></th><th>Int64</th><th>Int64</th><th>String</th><th>Int64</th><th>Int64</th><th>String</th><th>Float64</th><th>Float64</th><th>Float64</th><th>String</th><th>String</th><th>String</th><th>String</th><th>Int64</th><th>String</th><th>String</th><th>Int64</th><th>String</th></tr></thead><tbody><p>6 rows × 18 columns</p><tr><th>1</th><td>1</td><td>2110407</td><td>Yes</td><td>14</td><td>30</td><td>E2</td><td>-20.79</td><td>13.16</td><td>42.86</td><td>No</td><td>No</td><td>Female</td><td>Agency</td><td>7</td><td>ERS</td><td>Noida</td><td>34</td><td>Joined</td></tr><tr><th>2</th><td>2</td><td>2112635</td><td>No</td><td>18</td><td>30</td><td>E2</td><td>50.0</td><td>320.0</td><td>180.0</td><td>No</td><td>No</td><td>Male</td><td>Employee Referral</td><td>8</td><td>INFRA</td><td>Chennai</td><td>34</td><td>Joined</td></tr><tr><th>3</th><td>3</td><td>2112838</td><td>No</td><td>3</td><td>45</td><td>E2</td><td>42.84</td><td>42.84</td><td>0.0</td><td>No</td><td>No</td><td>Male</td><td>Agency</td><td>4</td><td>INFRA</td><td>Noida</td><td>27</td><td>Joined</td></tr><tr><th>4</th><td>4</td><td>2115021</td><td>No</td><td>26</td><td>30</td><td>E2</td><td>42.84</td><td>42.84</td><td>0.0</td><td>No</td><td>No</td><td>Male</td><td>Employee Referral</td><td>4</td><td>INFRA</td><td>Noida</td><td>34</td><td>Joined</td></tr><tr><th>5</th><td>5</td><td>2115125</td><td>Yes</td><td>1</td><td>120</td><td>E2</td><td>42.59</td><td>42.59</td><td>0.0</td><td>No</td><td>Yes</td><td>Male</td><td>Employee Referral</td><td>6</td><td>INFRA</td><td>Noida</td><td>34</td><td>Joined</td></tr><tr><th>6</th><td>6</td><td>2117167</td><td>Yes</td><td>17</td><td>30</td><td>E1</td><td>42.83</td><td>42.83</td><td>0.0</td><td>No</td><td>No</td><td>Male</td><td>Employee Referral</td><td>2</td><td>INFRA</td><td>Noida</td><td>34</td><td>Joined</td></tr></tbody></table>"
      ],
      "text/latex": [
       "\\begin{tabular}{r|cccccccccccccccccc}\n",
       "\t& SLNO & Candidate\\_Ref & DOJ\\_Extended & Duration\\_to\\_accept\\_offer & Notice\\_period & Offered\\_band & Pecent\\_hike\\_expected\\_in\\_CTC & Percent\\_hike\\_offered\\_in\\_CTC & Percent\\_difference\\_CTC & Joining\\_Bonus & Candidate\\_relocate\\_actual & Gender & Candidate\\_Source & Rex\\_in\\_Yrs & LOB & Location & Age & Status\\\\\n",
       "\t\\hline\n",
       "\t& Int64 & Int64 & String & Int64 & Int64 & String & Float64 & Float64 & Float64 & String & String & String & String & Int64 & String & String & Int64 & String\\\\\n",
       "\t\\hline\n",
       "\t1 & 1 & 2110407 & Yes & 14 & 30 & E2 & -20.79 & 13.16 & 42.86 & No & No & Female & Agency & 7 & ERS & Noida & 34 & Joined \\\\\n",
       "\t2 & 2 & 2112635 & No & 18 & 30 & E2 & 50.0 & 320.0 & 180.0 & No & No & Male & Employee Referral & 8 & INFRA & Chennai & 34 & Joined \\\\\n",
       "\t3 & 3 & 2112838 & No & 3 & 45 & E2 & 42.84 & 42.84 & 0.0 & No & No & Male & Agency & 4 & INFRA & Noida & 27 & Joined \\\\\n",
       "\t4 & 4 & 2115021 & No & 26 & 30 & E2 & 42.84 & 42.84 & 0.0 & No & No & Male & Employee Referral & 4 & INFRA & Noida & 34 & Joined \\\\\n",
       "\t5 & 5 & 2115125 & Yes & 1 & 120 & E2 & 42.59 & 42.59 & 0.0 & No & Yes & Male & Employee Referral & 6 & INFRA & Noida & 34 & Joined \\\\\n",
       "\t6 & 6 & 2117167 & Yes & 17 & 30 & E1 & 42.83 & 42.83 & 0.0 & No & No & Male & Employee Referral & 2 & INFRA & Noida & 34 & Joined \\\\\n",
       "\\end{tabular}\n"
      ],
      "text/plain": [
       "6×18 DataFrame\n",
       "│ Row │ SLNO  │ Candidate_Ref │ DOJ_Extended │ Duration_to_accept_offer │ Notice_period │ Offered_band │ Pecent_hike_expected_in_CTC │ Percent_hike_offered_in_CTC │ Percent_difference_CTC │ Joining_Bonus │ Candidate_relocate_actual │ Gender │ Candidate_Source  │ Rex_in_Yrs │ LOB    │ Location │ Age   │ Status │\n",
       "│     │ \u001b[90mInt64\u001b[39m │ \u001b[90mInt64\u001b[39m         │ \u001b[90mString\u001b[39m       │ \u001b[90mInt64\u001b[39m                    │ \u001b[90mInt64\u001b[39m         │ \u001b[90mString\u001b[39m       │ \u001b[90mFloat64\u001b[39m                     │ \u001b[90mFloat64\u001b[39m                     │ \u001b[90mFloat64\u001b[39m                │ \u001b[90mString\u001b[39m        │ \u001b[90mString\u001b[39m                    │ \u001b[90mString\u001b[39m │ \u001b[90mString\u001b[39m            │ \u001b[90mInt64\u001b[39m      │ \u001b[90mString\u001b[39m │ \u001b[90mString\u001b[39m   │ \u001b[90mInt64\u001b[39m │ \u001b[90mString\u001b[39m │\n",
       "├─────┼───────┼───────────────┼──────────────┼──────────────────────────┼───────────────┼──────────────┼─────────────────────────────┼─────────────────────────────┼────────────────────────┼───────────────┼───────────────────────────┼────────┼───────────────────┼────────────┼────────┼──────────┼───────┼────────┤\n",
       "│ 1   │ 1     │ 2110407       │ Yes          │ 14                       │ 30            │ E2           │ -20.79                      │ 13.16                       │ 42.86                  │ No            │ No                        │ Female │ Agency            │ 7          │ ERS    │ Noida    │ 34    │ Joined │\n",
       "│ 2   │ 2     │ 2112635       │ No           │ 18                       │ 30            │ E2           │ 50.0                        │ 320.0                       │ 180.0                  │ No            │ No                        │ Male   │ Employee Referral │ 8          │ INFRA  │ Chennai  │ 34    │ Joined │\n",
       "│ 3   │ 3     │ 2112838       │ No           │ 3                        │ 45            │ E2           │ 42.84                       │ 42.84                       │ 0.0                    │ No            │ No                        │ Male   │ Agency            │ 4          │ INFRA  │ Noida    │ 27    │ Joined │\n",
       "│ 4   │ 4     │ 2115021       │ No           │ 26                       │ 30            │ E2           │ 42.84                       │ 42.84                       │ 0.0                    │ No            │ No                        │ Male   │ Employee Referral │ 4          │ INFRA  │ Noida    │ 34    │ Joined │\n",
       "│ 5   │ 5     │ 2115125       │ Yes          │ 1                        │ 120           │ E2           │ 42.59                       │ 42.59                       │ 0.0                    │ No            │ Yes                       │ Male   │ Employee Referral │ 6          │ INFRA  │ Noida    │ 34    │ Joined │\n",
       "│ 6   │ 6     │ 2117167       │ Yes          │ 17                       │ 30            │ E1           │ 42.83                       │ 42.83                       │ 0.0                    │ No            │ No                        │ Male   │ Employee Referral │ 2          │ INFRA  │ Noida    │ 34    │ Joined │"
      ]
     },
     "execution_count": 3,
     "metadata": {},
     "output_type": "execute_result"
    }
   ],
   "source": [
    "raw_df = CSV.read( \"../HR_case/data/IMB533_HR_Data_No_Missing_Value.csv\", DataFrame, \n",
    "                    delim = \",\", header =1,\n",
    "                    normalizenames=true,\n",
    "                    missingstrings = [\"\", \" \"]\n",
    "                    )\n",
    "head(raw_df)"
   ]
  },
  {
   "cell_type": "code",
   "execution_count": 4,
   "metadata": {
    "Rmd_chunk_options": "readData, echo=TRUE,tidy=TRUE",
    "autoscroll": false,
    "scrolled": true
   },
   "outputs": [],
   "source": [
    "rename!(raw_df, lowercase.(names(raw_df)));"
   ]
  },
  {
   "cell_type": "code",
   "execution_count": 5,
   "metadata": {},
   "outputs": [
    {
     "data": {
      "text/html": [
       "<table class=\"data-frame\"><thead><tr><th></th><th>slno</th><th>candidate_ref</th><th>doj_extended</th><th>duration_to_accept_offer</th><th>notice_period</th><th>offered_band</th><th>pecent_hike_expected_in_ctc</th><th>percent_hike_offered_in_ctc</th><th>percent_difference_ctc</th><th>joining_bonus</th><th>candidate_relocate_actual</th><th>gender</th><th>candidate_source</th><th>rex_in_yrs</th><th>lob</th><th>location</th><th>age</th><th>status</th></tr><tr><th></th><th>Int64</th><th>Int64</th><th>String</th><th>Int64</th><th>Int64</th><th>String</th><th>Float64</th><th>Float64</th><th>Float64</th><th>String</th><th>String</th><th>String</th><th>String</th><th>Int64</th><th>String</th><th>String</th><th>Int64</th><th>String</th></tr></thead><tbody><p>6 rows × 18 columns</p><tr><th>1</th><td>1</td><td>2110407</td><td>Yes</td><td>14</td><td>30</td><td>E2</td><td>-20.79</td><td>13.16</td><td>42.86</td><td>No</td><td>No</td><td>Female</td><td>Agency</td><td>7</td><td>ERS</td><td>Noida</td><td>34</td><td>Joined</td></tr><tr><th>2</th><td>2</td><td>2112635</td><td>No</td><td>18</td><td>30</td><td>E2</td><td>50.0</td><td>320.0</td><td>180.0</td><td>No</td><td>No</td><td>Male</td><td>Employee Referral</td><td>8</td><td>INFRA</td><td>Chennai</td><td>34</td><td>Joined</td></tr><tr><th>3</th><td>3</td><td>2112838</td><td>No</td><td>3</td><td>45</td><td>E2</td><td>42.84</td><td>42.84</td><td>0.0</td><td>No</td><td>No</td><td>Male</td><td>Agency</td><td>4</td><td>INFRA</td><td>Noida</td><td>27</td><td>Joined</td></tr><tr><th>4</th><td>4</td><td>2115021</td><td>No</td><td>26</td><td>30</td><td>E2</td><td>42.84</td><td>42.84</td><td>0.0</td><td>No</td><td>No</td><td>Male</td><td>Employee Referral</td><td>4</td><td>INFRA</td><td>Noida</td><td>34</td><td>Joined</td></tr><tr><th>5</th><td>5</td><td>2115125</td><td>Yes</td><td>1</td><td>120</td><td>E2</td><td>42.59</td><td>42.59</td><td>0.0</td><td>No</td><td>Yes</td><td>Male</td><td>Employee Referral</td><td>6</td><td>INFRA</td><td>Noida</td><td>34</td><td>Joined</td></tr><tr><th>6</th><td>6</td><td>2117167</td><td>Yes</td><td>17</td><td>30</td><td>E1</td><td>42.83</td><td>42.83</td><td>0.0</td><td>No</td><td>No</td><td>Male</td><td>Employee Referral</td><td>2</td><td>INFRA</td><td>Noida</td><td>34</td><td>Joined</td></tr></tbody></table>"
      ],
      "text/latex": [
       "\\begin{tabular}{r|cccccccccccccccccc}\n",
       "\t& slno & candidate\\_ref & doj\\_extended & duration\\_to\\_accept\\_offer & notice\\_period & offered\\_band & pecent\\_hike\\_expected\\_in\\_ctc & percent\\_hike\\_offered\\_in\\_ctc & percent\\_difference\\_ctc & joining\\_bonus & candidate\\_relocate\\_actual & gender & candidate\\_source & rex\\_in\\_yrs & lob & location & age & status\\\\\n",
       "\t\\hline\n",
       "\t& Int64 & Int64 & String & Int64 & Int64 & String & Float64 & Float64 & Float64 & String & String & String & String & Int64 & String & String & Int64 & String\\\\\n",
       "\t\\hline\n",
       "\t1 & 1 & 2110407 & Yes & 14 & 30 & E2 & -20.79 & 13.16 & 42.86 & No & No & Female & Agency & 7 & ERS & Noida & 34 & Joined \\\\\n",
       "\t2 & 2 & 2112635 & No & 18 & 30 & E2 & 50.0 & 320.0 & 180.0 & No & No & Male & Employee Referral & 8 & INFRA & Chennai & 34 & Joined \\\\\n",
       "\t3 & 3 & 2112838 & No & 3 & 45 & E2 & 42.84 & 42.84 & 0.0 & No & No & Male & Agency & 4 & INFRA & Noida & 27 & Joined \\\\\n",
       "\t4 & 4 & 2115021 & No & 26 & 30 & E2 & 42.84 & 42.84 & 0.0 & No & No & Male & Employee Referral & 4 & INFRA & Noida & 34 & Joined \\\\\n",
       "\t5 & 5 & 2115125 & Yes & 1 & 120 & E2 & 42.59 & 42.59 & 0.0 & No & Yes & Male & Employee Referral & 6 & INFRA & Noida & 34 & Joined \\\\\n",
       "\t6 & 6 & 2117167 & Yes & 17 & 30 & E1 & 42.83 & 42.83 & 0.0 & No & No & Male & Employee Referral & 2 & INFRA & Noida & 34 & Joined \\\\\n",
       "\\end{tabular}\n"
      ],
      "text/plain": [
       "6×18 DataFrame\n",
       "│ Row │ slno  │ candidate_ref │ doj_extended │ duration_to_accept_offer │ notice_period │ offered_band │ pecent_hike_expected_in_ctc │ percent_hike_offered_in_ctc │ percent_difference_ctc │ joining_bonus │ candidate_relocate_actual │ gender │ candidate_source  │ rex_in_yrs │ lob    │ location │ age   │ status │\n",
       "│     │ \u001b[90mInt64\u001b[39m │ \u001b[90mInt64\u001b[39m         │ \u001b[90mString\u001b[39m       │ \u001b[90mInt64\u001b[39m                    │ \u001b[90mInt64\u001b[39m         │ \u001b[90mString\u001b[39m       │ \u001b[90mFloat64\u001b[39m                     │ \u001b[90mFloat64\u001b[39m                     │ \u001b[90mFloat64\u001b[39m                │ \u001b[90mString\u001b[39m        │ \u001b[90mString\u001b[39m                    │ \u001b[90mString\u001b[39m │ \u001b[90mString\u001b[39m            │ \u001b[90mInt64\u001b[39m      │ \u001b[90mString\u001b[39m │ \u001b[90mString\u001b[39m   │ \u001b[90mInt64\u001b[39m │ \u001b[90mString\u001b[39m │\n",
       "├─────┼───────┼───────────────┼──────────────┼──────────────────────────┼───────────────┼──────────────┼─────────────────────────────┼─────────────────────────────┼────────────────────────┼───────────────┼───────────────────────────┼────────┼───────────────────┼────────────┼────────┼──────────┼───────┼────────┤\n",
       "│ 1   │ 1     │ 2110407       │ Yes          │ 14                       │ 30            │ E2           │ -20.79                      │ 13.16                       │ 42.86                  │ No            │ No                        │ Female │ Agency            │ 7          │ ERS    │ Noida    │ 34    │ Joined │\n",
       "│ 2   │ 2     │ 2112635       │ No           │ 18                       │ 30            │ E2           │ 50.0                        │ 320.0                       │ 180.0                  │ No            │ No                        │ Male   │ Employee Referral │ 8          │ INFRA  │ Chennai  │ 34    │ Joined │\n",
       "│ 3   │ 3     │ 2112838       │ No           │ 3                        │ 45            │ E2           │ 42.84                       │ 42.84                       │ 0.0                    │ No            │ No                        │ Male   │ Agency            │ 4          │ INFRA  │ Noida    │ 27    │ Joined │\n",
       "│ 4   │ 4     │ 2115021       │ No           │ 26                       │ 30            │ E2           │ 42.84                       │ 42.84                       │ 0.0                    │ No            │ No                        │ Male   │ Employee Referral │ 4          │ INFRA  │ Noida    │ 34    │ Joined │\n",
       "│ 5   │ 5     │ 2115125       │ Yes          │ 1                        │ 120           │ E2           │ 42.59                       │ 42.59                       │ 0.0                    │ No            │ Yes                       │ Male   │ Employee Referral │ 6          │ INFRA  │ Noida    │ 34    │ Joined │\n",
       "│ 6   │ 6     │ 2117167       │ Yes          │ 17                       │ 30            │ E1           │ 42.83                       │ 42.83                       │ 0.0                    │ No            │ No                        │ Male   │ Employee Referral │ 2          │ INFRA  │ Noida    │ 34    │ Joined │"
      ]
     },
     "execution_count": 5,
     "metadata": {},
     "output_type": "execute_result"
    }
   ],
   "source": [
    "head(raw_df)"
   ]
  },
  {
   "cell_type": "code",
   "execution_count": 6,
   "metadata": {},
   "outputs": [],
   "source": [
    "#?pd.read_csv"
   ]
  },
  {
   "cell_type": "markdown",
   "metadata": {},
   "source": [
    "Dropping SLNo and Candidate.Ref as these will not be used for any analysis or model building."
   ]
  },
  {
   "cell_type": "code",
   "execution_count": 7,
   "metadata": {},
   "outputs": [
    {
     "data": {
      "text/plain": [
       "2-element Array{String,1}:\n",
       " \"slno\"\n",
       " \"candidate_ref\""
      ]
     },
     "execution_count": 7,
     "metadata": {},
     "output_type": "execute_result"
    }
   ],
   "source": [
    "drop_feature = [ \"slno\", \"candidate_ref\" ]"
   ]
  },
  {
   "cell_type": "code",
   "execution_count": 8,
   "metadata": {},
   "outputs": [
    {
     "data": {
      "text/plain": [
       "false"
      ]
     },
     "execution_count": 8,
     "metadata": {},
     "output_type": "execute_result"
    }
   ],
   "source": [
    "drop_feature ∈ names(raw_df)"
   ]
  },
  {
   "cell_type": "code",
   "execution_count": 9,
   "metadata": {
    "scrolled": false
   },
   "outputs": [
    {
     "data": {
      "text/html": [
       "<table class=\"data-frame\"><thead><tr><th></th><th>doj_extended</th><th>duration_to_accept_offer</th><th>notice_period</th><th>offered_band</th><th>pecent_hike_expected_in_ctc</th><th>percent_hike_offered_in_ctc</th><th>percent_difference_ctc</th><th>joining_bonus</th><th>candidate_relocate_actual</th><th>gender</th><th>candidate_source</th><th>rex_in_yrs</th><th>lob</th><th>location</th><th>age</th><th>status</th></tr><tr><th></th><th>String</th><th>Int64</th><th>Int64</th><th>String</th><th>Float64</th><th>Float64</th><th>Float64</th><th>String</th><th>String</th><th>String</th><th>String</th><th>Int64</th><th>String</th><th>String</th><th>Int64</th><th>String</th></tr></thead><tbody><p>8,995 rows × 16 columns</p><tr><th>1</th><td>Yes</td><td>14</td><td>30</td><td>E2</td><td>-20.79</td><td>13.16</td><td>42.86</td><td>No</td><td>No</td><td>Female</td><td>Agency</td><td>7</td><td>ERS</td><td>Noida</td><td>34</td><td>Joined</td></tr><tr><th>2</th><td>No</td><td>18</td><td>30</td><td>E2</td><td>50.0</td><td>320.0</td><td>180.0</td><td>No</td><td>No</td><td>Male</td><td>Employee Referral</td><td>8</td><td>INFRA</td><td>Chennai</td><td>34</td><td>Joined</td></tr><tr><th>3</th><td>No</td><td>3</td><td>45</td><td>E2</td><td>42.84</td><td>42.84</td><td>0.0</td><td>No</td><td>No</td><td>Male</td><td>Agency</td><td>4</td><td>INFRA</td><td>Noida</td><td>27</td><td>Joined</td></tr><tr><th>4</th><td>No</td><td>26</td><td>30</td><td>E2</td><td>42.84</td><td>42.84</td><td>0.0</td><td>No</td><td>No</td><td>Male</td><td>Employee Referral</td><td>4</td><td>INFRA</td><td>Noida</td><td>34</td><td>Joined</td></tr><tr><th>5</th><td>Yes</td><td>1</td><td>120</td><td>E2</td><td>42.59</td><td>42.59</td><td>0.0</td><td>No</td><td>Yes</td><td>Male</td><td>Employee Referral</td><td>6</td><td>INFRA</td><td>Noida</td><td>34</td><td>Joined</td></tr><tr><th>6</th><td>Yes</td><td>17</td><td>30</td><td>E1</td><td>42.83</td><td>42.83</td><td>0.0</td><td>No</td><td>No</td><td>Male</td><td>Employee Referral</td><td>2</td><td>INFRA</td><td>Noida</td><td>34</td><td>Joined</td></tr><tr><th>7</th><td>Yes</td><td>37</td><td>30</td><td>E2</td><td>31.58</td><td>31.58</td><td>0.0</td><td>No</td><td>No</td><td>Male</td><td>Employee Referral</td><td>7</td><td>INFRA</td><td>Noida</td><td>32</td><td>Joined</td></tr><tr><th>8</th><td>Yes</td><td>16</td><td>0</td><td>E1</td><td>-20.0</td><td>-20.0</td><td>0.0</td><td>No</td><td>No</td><td>Female</td><td>Direct</td><td>8</td><td>Healthcare</td><td>Noida</td><td>34</td><td>Joined</td></tr><tr><th>9</th><td>No</td><td>1</td><td>30</td><td>E1</td><td>-22.22</td><td>-22.22</td><td>0.0</td><td>No</td><td>No</td><td>Female</td><td>Employee Referral</td><td>3</td><td>BFSI</td><td>Gurgaon</td><td>26</td><td>Joined</td></tr><tr><th>10</th><td>No</td><td>6</td><td>30</td><td>E1</td><td>240.0</td><td>220.0</td><td>-5.88</td><td>No</td><td>No</td><td>Male</td><td>Employee Referral</td><td>3</td><td>CSMP</td><td>Chennai</td><td>34</td><td>Joined</td></tr><tr><th>11</th><td>No</td><td>120</td><td>30</td><td>E2</td><td>5.26</td><td>-60.53</td><td>-62.5</td><td>No</td><td>No</td><td>Male</td><td>Employee Referral</td><td>3</td><td>INFRA</td><td>Noida</td><td>34</td><td>Not Joined</td></tr><tr><th>12</th><td>No</td><td>3</td><td>0</td><td>E2</td><td>28.21</td><td>37.18</td><td>7.0</td><td>No</td><td>No</td><td>Male</td><td>Employee Referral</td><td>7</td><td>INFRA</td><td>Chennai</td><td>34</td><td>Joined</td></tr><tr><th>13</th><td>Yes</td><td>14</td><td>30</td><td>E2</td><td>50.0</td><td>287.5</td><td>158.33</td><td>No</td><td>No</td><td>Male</td><td>Agency</td><td>7</td><td>INFRA</td><td>Noida</td><td>29</td><td>Not Joined</td></tr><tr><th>14</th><td>No</td><td>44</td><td>75</td><td>E2</td><td>45.45</td><td>60.0</td><td>10.0</td><td>No</td><td>No</td><td>Male</td><td>Direct</td><td>8</td><td>INFRA</td><td>Noida</td><td>34</td><td>Not Joined</td></tr><tr><th>15</th><td>No</td><td>7</td><td>30</td><td>E3</td><td>53.85</td><td>50.0</td><td>-2.5</td><td>No</td><td>No</td><td>Male</td><td>Employee Referral</td><td>5</td><td>INFRA</td><td>Noida</td><td>34</td><td>Not Joined</td></tr><tr><th>16</th><td>No</td><td>1</td><td>30</td><td>E3</td><td>-27.31</td><td>-27.31</td><td>0.0</td><td>No</td><td>No</td><td>Male</td><td>Direct</td><td>18</td><td>ETS</td><td>Bangalore</td><td>34</td><td>Joined</td></tr><tr><th>17</th><td>Yes</td><td>98</td><td>30</td><td>E2</td><td>50.0</td><td>165.36</td><td>76.91</td><td>No</td><td>No</td><td>Male</td><td>Agency</td><td>8</td><td>INFRA</td><td>Noida</td><td>36</td><td>Not Joined</td></tr><tr><th>18</th><td>No</td><td>1</td><td>0</td><td>E2</td><td>30.0</td><td>30.0</td><td>0.0</td><td>No</td><td>No</td><td>Male</td><td>Direct</td><td>6</td><td>INFRA</td><td>Noida</td><td>34</td><td>Joined</td></tr><tr><th>19</th><td>No</td><td>1</td><td>30</td><td>E1</td><td>-13.42</td><td>42.86</td><td>65.0</td><td>No</td><td>No</td><td>Male</td><td>Direct</td><td>1</td><td>INFRA</td><td>Gurgaon</td><td>34</td><td>Joined</td></tr><tr><th>20</th><td>No</td><td>7</td><td>30</td><td>E1</td><td>221.43</td><td>164.29</td><td>-17.78</td><td>No</td><td>No</td><td>Male</td><td>Direct</td><td>2</td><td>ERS</td><td>Noida</td><td>34</td><td>Joined</td></tr><tr><th>21</th><td>No</td><td>1</td><td>0</td><td>E3</td><td>42.78</td><td>42.78</td><td>0.0</td><td>No</td><td>Yes</td><td>Male</td><td>Employee Referral</td><td>8</td><td>INFRA</td><td>Chennai</td><td>29</td><td>Joined</td></tr><tr><th>22</th><td>No</td><td>0</td><td>30</td><td>E1</td><td>37.5</td><td>37.5</td><td>0.0</td><td>No</td><td>No</td><td>Female</td><td>Employee Referral</td><td>3</td><td>ERS</td><td>Chennai</td><td>30</td><td>Joined</td></tr><tr><th>23</th><td>No</td><td>1</td><td>0</td><td>E2</td><td>42.86</td><td>42.86</td><td>0.0</td><td>No</td><td>No</td><td>Male</td><td>Direct</td><td>5</td><td>INFRA</td><td>Noida</td><td>30</td><td>Joined</td></tr><tr><th>24</th><td>Yes</td><td>83</td><td>60</td><td>E2</td><td>25.0</td><td>25.0</td><td>0.0</td><td>No</td><td>No</td><td>Male</td><td>Direct</td><td>5</td><td>AXON</td><td>Noida</td><td>30</td><td>Joined</td></tr><tr><th>25</th><td>No</td><td>1</td><td>0</td><td>E3</td><td>114.82</td><td>42.86</td><td>-33.5</td><td>No</td><td>No</td><td>Male</td><td>Direct</td><td>6</td><td>INFRA</td><td>Noida</td><td>31</td><td>Joined</td></tr><tr><th>26</th><td>No</td><td>16</td><td>60</td><td>E1</td><td>41.18</td><td>0.0</td><td>-29.17</td><td>No</td><td>No</td><td>Male</td><td>Direct</td><td>7</td><td>AXON</td><td>Noida</td><td>31</td><td>Not Joined</td></tr><tr><th>27</th><td>Yes</td><td>32</td><td>120</td><td>E3</td><td>50.97</td><td>57.0</td><td>4.0</td><td>No</td><td>No</td><td>Male</td><td>Direct</td><td>13</td><td>ERS</td><td>Chennai</td><td>40</td><td>Joined</td></tr><tr><th>28</th><td>Yes</td><td>19</td><td>30</td><td>E2</td><td>42.85</td><td>42.85</td><td>0.0</td><td>No</td><td>No</td><td>Male</td><td>Direct</td><td>7</td><td>INFRA</td><td>Noida</td><td>28</td><td>Joined</td></tr><tr><th>29</th><td>Yes</td><td>0</td><td>0</td><td>E2</td><td>23.08</td><td>15.38</td><td>-6.25</td><td>No</td><td>No</td><td>Male</td><td>Employee Referral</td><td>6</td><td>BFSI</td><td>Chennai</td><td>34</td><td>Not Joined</td></tr><tr><th>30</th><td>No</td><td>4</td><td>30</td><td>E2</td><td>-2.17</td><td>-2.17</td><td>0.0</td><td>No</td><td>No</td><td>Female</td><td>Employee Referral</td><td>5</td><td>ERS</td><td>Chennai</td><td>33</td><td>Joined</td></tr><tr><th>&vellip;</th><td>&vellip;</td><td>&vellip;</td><td>&vellip;</td><td>&vellip;</td><td>&vellip;</td><td>&vellip;</td><td>&vellip;</td><td>&vellip;</td><td>&vellip;</td><td>&vellip;</td><td>&vellip;</td><td>&vellip;</td><td>&vellip;</td><td>&vellip;</td><td>&vellip;</td><td>&vellip;</td></tr></tbody></table>"
      ],
      "text/latex": [
       "\\begin{tabular}{r|cccccccccccccccc}\n",
       "\t& doj\\_extended & duration\\_to\\_accept\\_offer & notice\\_period & offered\\_band & pecent\\_hike\\_expected\\_in\\_ctc & percent\\_hike\\_offered\\_in\\_ctc & percent\\_difference\\_ctc & joining\\_bonus & candidate\\_relocate\\_actual & gender & candidate\\_source & rex\\_in\\_yrs & lob & location & age & status\\\\\n",
       "\t\\hline\n",
       "\t& String & Int64 & Int64 & String & Float64 & Float64 & Float64 & String & String & String & String & Int64 & String & String & Int64 & String\\\\\n",
       "\t\\hline\n",
       "\t1 & Yes & 14 & 30 & E2 & -20.79 & 13.16 & 42.86 & No & No & Female & Agency & 7 & ERS & Noida & 34 & Joined \\\\\n",
       "\t2 & No & 18 & 30 & E2 & 50.0 & 320.0 & 180.0 & No & No & Male & Employee Referral & 8 & INFRA & Chennai & 34 & Joined \\\\\n",
       "\t3 & No & 3 & 45 & E2 & 42.84 & 42.84 & 0.0 & No & No & Male & Agency & 4 & INFRA & Noida & 27 & Joined \\\\\n",
       "\t4 & No & 26 & 30 & E2 & 42.84 & 42.84 & 0.0 & No & No & Male & Employee Referral & 4 & INFRA & Noida & 34 & Joined \\\\\n",
       "\t5 & Yes & 1 & 120 & E2 & 42.59 & 42.59 & 0.0 & No & Yes & Male & Employee Referral & 6 & INFRA & Noida & 34 & Joined \\\\\n",
       "\t6 & Yes & 17 & 30 & E1 & 42.83 & 42.83 & 0.0 & No & No & Male & Employee Referral & 2 & INFRA & Noida & 34 & Joined \\\\\n",
       "\t7 & Yes & 37 & 30 & E2 & 31.58 & 31.58 & 0.0 & No & No & Male & Employee Referral & 7 & INFRA & Noida & 32 & Joined \\\\\n",
       "\t8 & Yes & 16 & 0 & E1 & -20.0 & -20.0 & 0.0 & No & No & Female & Direct & 8 & Healthcare & Noida & 34 & Joined \\\\\n",
       "\t9 & No & 1 & 30 & E1 & -22.22 & -22.22 & 0.0 & No & No & Female & Employee Referral & 3 & BFSI & Gurgaon & 26 & Joined \\\\\n",
       "\t10 & No & 6 & 30 & E1 & 240.0 & 220.0 & -5.88 & No & No & Male & Employee Referral & 3 & CSMP & Chennai & 34 & Joined \\\\\n",
       "\t11 & No & 120 & 30 & E2 & 5.26 & -60.53 & -62.5 & No & No & Male & Employee Referral & 3 & INFRA & Noida & 34 & Not Joined \\\\\n",
       "\t12 & No & 3 & 0 & E2 & 28.21 & 37.18 & 7.0 & No & No & Male & Employee Referral & 7 & INFRA & Chennai & 34 & Joined \\\\\n",
       "\t13 & Yes & 14 & 30 & E2 & 50.0 & 287.5 & 158.33 & No & No & Male & Agency & 7 & INFRA & Noida & 29 & Not Joined \\\\\n",
       "\t14 & No & 44 & 75 & E2 & 45.45 & 60.0 & 10.0 & No & No & Male & Direct & 8 & INFRA & Noida & 34 & Not Joined \\\\\n",
       "\t15 & No & 7 & 30 & E3 & 53.85 & 50.0 & -2.5 & No & No & Male & Employee Referral & 5 & INFRA & Noida & 34 & Not Joined \\\\\n",
       "\t16 & No & 1 & 30 & E3 & -27.31 & -27.31 & 0.0 & No & No & Male & Direct & 18 & ETS & Bangalore & 34 & Joined \\\\\n",
       "\t17 & Yes & 98 & 30 & E2 & 50.0 & 165.36 & 76.91 & No & No & Male & Agency & 8 & INFRA & Noida & 36 & Not Joined \\\\\n",
       "\t18 & No & 1 & 0 & E2 & 30.0 & 30.0 & 0.0 & No & No & Male & Direct & 6 & INFRA & Noida & 34 & Joined \\\\\n",
       "\t19 & No & 1 & 30 & E1 & -13.42 & 42.86 & 65.0 & No & No & Male & Direct & 1 & INFRA & Gurgaon & 34 & Joined \\\\\n",
       "\t20 & No & 7 & 30 & E1 & 221.43 & 164.29 & -17.78 & No & No & Male & Direct & 2 & ERS & Noida & 34 & Joined \\\\\n",
       "\t21 & No & 1 & 0 & E3 & 42.78 & 42.78 & 0.0 & No & Yes & Male & Employee Referral & 8 & INFRA & Chennai & 29 & Joined \\\\\n",
       "\t22 & No & 0 & 30 & E1 & 37.5 & 37.5 & 0.0 & No & No & Female & Employee Referral & 3 & ERS & Chennai & 30 & Joined \\\\\n",
       "\t23 & No & 1 & 0 & E2 & 42.86 & 42.86 & 0.0 & No & No & Male & Direct & 5 & INFRA & Noida & 30 & Joined \\\\\n",
       "\t24 & Yes & 83 & 60 & E2 & 25.0 & 25.0 & 0.0 & No & No & Male & Direct & 5 & AXON & Noida & 30 & Joined \\\\\n",
       "\t25 & No & 1 & 0 & E3 & 114.82 & 42.86 & -33.5 & No & No & Male & Direct & 6 & INFRA & Noida & 31 & Joined \\\\\n",
       "\t26 & No & 16 & 60 & E1 & 41.18 & 0.0 & -29.17 & No & No & Male & Direct & 7 & AXON & Noida & 31 & Not Joined \\\\\n",
       "\t27 & Yes & 32 & 120 & E3 & 50.97 & 57.0 & 4.0 & No & No & Male & Direct & 13 & ERS & Chennai & 40 & Joined \\\\\n",
       "\t28 & Yes & 19 & 30 & E2 & 42.85 & 42.85 & 0.0 & No & No & Male & Direct & 7 & INFRA & Noida & 28 & Joined \\\\\n",
       "\t29 & Yes & 0 & 0 & E2 & 23.08 & 15.38 & -6.25 & No & No & Male & Employee Referral & 6 & BFSI & Chennai & 34 & Not Joined \\\\\n",
       "\t30 & No & 4 & 30 & E2 & -2.17 & -2.17 & 0.0 & No & No & Female & Employee Referral & 5 & ERS & Chennai & 33 & Joined \\\\\n",
       "\t$\\dots$ & $\\dots$ & $\\dots$ & $\\dots$ & $\\dots$ & $\\dots$ & $\\dots$ & $\\dots$ & $\\dots$ & $\\dots$ & $\\dots$ & $\\dots$ & $\\dots$ & $\\dots$ & $\\dots$ & $\\dots$ & $\\dots$ \\\\\n",
       "\\end{tabular}\n"
      ],
      "text/plain": [
       "8995×16 DataFrame\n",
       "│ Row  │ doj_extended │ duration_to_accept_offer │ notice_period │ offered_band │ pecent_hike_expected_in_ctc │ percent_hike_offered_in_ctc │ percent_difference_ctc │ joining_bonus │ candidate_relocate_actual │ gender │ candidate_source  │ rex_in_yrs │ lob        │ location │ age   │ status     │\n",
       "│      │ \u001b[90mString\u001b[39m       │ \u001b[90mInt64\u001b[39m                    │ \u001b[90mInt64\u001b[39m         │ \u001b[90mString\u001b[39m       │ \u001b[90mFloat64\u001b[39m                     │ \u001b[90mFloat64\u001b[39m                     │ \u001b[90mFloat64\u001b[39m                │ \u001b[90mString\u001b[39m        │ \u001b[90mString\u001b[39m                    │ \u001b[90mString\u001b[39m │ \u001b[90mString\u001b[39m            │ \u001b[90mInt64\u001b[39m      │ \u001b[90mString\u001b[39m     │ \u001b[90mString\u001b[39m   │ \u001b[90mInt64\u001b[39m │ \u001b[90mString\u001b[39m     │\n",
       "├──────┼──────────────┼──────────────────────────┼───────────────┼──────────────┼─────────────────────────────┼─────────────────────────────┼────────────────────────┼───────────────┼───────────────────────────┼────────┼───────────────────┼────────────┼────────────┼──────────┼───────┼────────────┤\n",
       "│ 1    │ Yes          │ 14                       │ 30            │ E2           │ -20.79                      │ 13.16                       │ 42.86                  │ No            │ No                        │ Female │ Agency            │ 7          │ ERS        │ Noida    │ 34    │ Joined     │\n",
       "│ 2    │ No           │ 18                       │ 30            │ E2           │ 50.0                        │ 320.0                       │ 180.0                  │ No            │ No                        │ Male   │ Employee Referral │ 8          │ INFRA      │ Chennai  │ 34    │ Joined     │\n",
       "│ 3    │ No           │ 3                        │ 45            │ E2           │ 42.84                       │ 42.84                       │ 0.0                    │ No            │ No                        │ Male   │ Agency            │ 4          │ INFRA      │ Noida    │ 27    │ Joined     │\n",
       "│ 4    │ No           │ 26                       │ 30            │ E2           │ 42.84                       │ 42.84                       │ 0.0                    │ No            │ No                        │ Male   │ Employee Referral │ 4          │ INFRA      │ Noida    │ 34    │ Joined     │\n",
       "│ 5    │ Yes          │ 1                        │ 120           │ E2           │ 42.59                       │ 42.59                       │ 0.0                    │ No            │ Yes                       │ Male   │ Employee Referral │ 6          │ INFRA      │ Noida    │ 34    │ Joined     │\n",
       "│ 6    │ Yes          │ 17                       │ 30            │ E1           │ 42.83                       │ 42.83                       │ 0.0                    │ No            │ No                        │ Male   │ Employee Referral │ 2          │ INFRA      │ Noida    │ 34    │ Joined     │\n",
       "│ 7    │ Yes          │ 37                       │ 30            │ E2           │ 31.58                       │ 31.58                       │ 0.0                    │ No            │ No                        │ Male   │ Employee Referral │ 7          │ INFRA      │ Noida    │ 32    │ Joined     │\n",
       "│ 8    │ Yes          │ 16                       │ 0             │ E1           │ -20.0                       │ -20.0                       │ 0.0                    │ No            │ No                        │ Female │ Direct            │ 8          │ Healthcare │ Noida    │ 34    │ Joined     │\n",
       "│ 9    │ No           │ 1                        │ 30            │ E1           │ -22.22                      │ -22.22                      │ 0.0                    │ No            │ No                        │ Female │ Employee Referral │ 3          │ BFSI       │ Gurgaon  │ 26    │ Joined     │\n",
       "│ 10   │ No           │ 6                        │ 30            │ E1           │ 240.0                       │ 220.0                       │ -5.88                  │ No            │ No                        │ Male   │ Employee Referral │ 3          │ CSMP       │ Chennai  │ 34    │ Joined     │\n",
       "⋮\n",
       "│ 8985 │ No           │ 1                        │ 30            │ E1           │ 71.43                       │ 42.86                       │ -16.67                 │ No            │ No                        │ Male   │ Direct            │ 2          │ INFRA      │ Noida    │ 34    │ Joined     │\n",
       "│ 8986 │ No           │ 5                        │ 0             │ E3           │ 9.68                        │ 9.68                        │ 0.0                    │ No            │ Yes                       │ Male   │ Employee Referral │ 5          │ INFRA      │ Chennai  │ 34    │ Joined     │\n",
       "│ 8987 │ No           │ 2                        │ 0             │ E1           │ 25.0                        │ 25.0                        │ 0.0                    │ No            │ No                        │ Male   │ Direct            │ 1          │ INFRA      │ Chennai  │ 34    │ Joined     │\n",
       "│ 8988 │ No           │ 2                        │ 0             │ E1           │ 49.07                       │ 42.59                       │ -4.35                  │ No            │ No                        │ Male   │ Agency            │ 5          │ ERS        │ Noida    │ 34    │ Joined     │\n",
       "│ 8989 │ No           │ 1                        │ 30            │ E1           │ 96.85                       │ 75.2                        │ -11.0                  │ No            │ No                        │ Male   │ Agency            │ 4          │ ERS        │ Pune     │ 34    │ Joined     │\n",
       "│ 8990 │ No           │ 0                        │ 30            │ E1           │ 50.0                        │ 50.0                        │ 0.0                    │ No            │ No                        │ Female │ Agency            │ 4          │ INFRA      │ Chennai  │ 34    │ Not Joined │\n",
       "│ 8991 │ No           │ 4                        │ 0             │ E1           │ 191.67                      │ 191.67                      │ 0.0                    │ No            │ No                        │ Male   │ Employee Referral │ 1          │ ERS        │ Chennai  │ 34    │ Joined     │\n",
       "│ 8992 │ Yes          │ 2                        │ 0             │ E1           │ 150.0                       │ 150.0                       │ 0.0                    │ No            │ No                        │ Female │ Direct            │ 3          │ BFSI       │ Chennai  │ 34    │ Joined     │\n",
       "│ 8993 │ No           │ 0                        │ 0             │ E2           │ 35.42                       │ 35.42                       │ 0.0                    │ No            │ No                        │ Male   │ Direct            │ 5          │ INFRA      │ Noida    │ 34    │ Joined     │\n",
       "│ 8994 │ No           │ 0                        │ 30            │ E1           │ 76.92                       │ 53.85                       │ -13.04                 │ No            │ No                        │ Male   │ Direct            │ 4          │ INFRA      │ Noida    │ 34    │ Joined     │\n",
       "│ 8995 │ No           │ 2                        │ 0             │ E1           │ 45.25                       │ 14.09                       │ -21.45                 │ No            │ No                        │ Female │ Employee Referral │ 1          │ INFRA      │ Chennai  │ 34    │ Joined     │"
      ]
     },
     "execution_count": 9,
     "metadata": {},
     "output_type": "execute_result"
    }
   ],
   "source": [
    "select!(raw_df, Not([\"slno\",\"candidate_ref\"]))"
   ]
  },
  {
   "cell_type": "markdown",
   "metadata": {},
   "source": [
    "\n",
    "### 2. Structure of the dataset\n",
    "\n"
   ]
  },
  {
   "cell_type": "code",
   "execution_count": 10,
   "metadata": {
    "Rmd_chunk_options": "summarizeData, echo=TRUE,tidy=TRUE",
    "autoscroll": false,
    "scrolled": false
   },
   "outputs": [
    {
     "data": {
      "text/plain": [
       "Dict{String,DataType} with 16 entries:\n",
       "  \"rex_in_yrs\"                  => Int64\n",
       "  \"joining_bonus\"               => String\n",
       "  \"lob\"                         => String\n",
       "  \"age\"                         => Int64\n",
       "  \"percent_difference_ctc\"      => Float64\n",
       "  \"notice_period\"               => Int64\n",
       "  \"location\"                    => String\n",
       "  \"status\"                      => String\n",
       "  \"pecent_hike_expected_in_ctc\" => Float64\n",
       "  \"duration_to_accept_offer\"    => Int64\n",
       "  \"percent_hike_offered_in_ctc\" => Float64\n",
       "  \"doj_extended\"                => String\n",
       "  \"candidate_relocate_actual\"   => String\n",
       "  \"gender\"                      => String\n",
       "  \"offered_band\"                => String\n",
       "  \"candidate_source\"            => String"
      ]
     },
     "execution_count": 10,
     "metadata": {},
     "output_type": "execute_result"
    }
   ],
   "source": [
    "Dict(names(raw_df) .=> eltype.(eachcol(raw_df)))"
   ]
  },
  {
   "cell_type": "code",
   "execution_count": 11,
   "metadata": {},
   "outputs": [
    {
     "data": {
      "text/plain": [
       "┌─────────────────────────────┬─────────┬────────────┐\n",
       "│\u001b[22m _.names                     \u001b[0m│\u001b[22m _.types \u001b[0m│\u001b[22m _.scitypes \u001b[0m│\n",
       "├─────────────────────────────┼─────────┼────────────┤\n",
       "│ doj_extended                │ String  │ Textual    │\n",
       "│ duration_to_accept_offer    │ Int64   │ Count      │\n",
       "│ notice_period               │ Int64   │ Count      │\n",
       "│ offered_band                │ String  │ Textual    │\n",
       "│ pecent_hike_expected_in_ctc │ Float64 │ Continuous │\n",
       "│ percent_hike_offered_in_ctc │ Float64 │ Continuous │\n",
       "│ percent_difference_ctc      │ Float64 │ Continuous │\n",
       "│ joining_bonus               │ String  │ Textual    │\n",
       "│ candidate_relocate_actual   │ String  │ Textual    │\n",
       "│ gender                      │ String  │ Textual    │\n",
       "│ candidate_source            │ String  │ Textual    │\n",
       "│ rex_in_yrs                  │ Int64   │ Count      │\n",
       "│ lob                         │ String  │ Textual    │\n",
       "│ location                    │ String  │ Textual    │\n",
       "│ age                         │ Int64   │ Count      │\n",
       "│ status                      │ String  │ Textual    │\n",
       "└─────────────────────────────┴─────────┴────────────┘\n",
       "_.nrows = 8995\n"
      ]
     },
     "execution_count": 11,
     "metadata": {},
     "output_type": "execute_result"
    }
   ],
   "source": [
    "schema(raw_df)"
   ]
  },
  {
   "cell_type": "code",
   "execution_count": 12,
   "metadata": {},
   "outputs": [
    {
     "data": {
      "text/plain": [
       "9-element Array{String,1}:\n",
       " \"doj_extended\"\n",
       " \"offered_band\"\n",
       " \"joining_bonus\"\n",
       " \"candidate_relocate_actual\"\n",
       " \"gender\"\n",
       " \"candidate_source\"\n",
       " \"lob\"\n",
       " \"location\"\n",
       " \"status\""
      ]
     },
     "execution_count": 12,
     "metadata": {},
     "output_type": "execute_result"
    }
   ],
   "source": [
    "numerical_features = names(raw_df[(<:).(eltypes(raw_df),Union{Number,Missing})])\n",
    "categorical_features = names(raw_df[(<:).(eltypes(raw_df),Union{String,Missing})])"
   ]
  },
  {
   "cell_type": "code",
   "execution_count": 13,
   "metadata": {},
   "outputs": [
    {
     "data": {
      "text/html": [
       "<table class=\"data-frame\"><thead><tr><th></th><th>variable</th><th>mean</th><th>std</th><th>min</th><th>q25</th><th>median</th><th>q75</th><th>max</th><th>nunique</th><th>nmissing</th><th>first</th><th>last</th><th>eltype</th></tr><tr><th></th><th>Symbol</th><th>Float64</th><th>Float64</th><th>Real</th><th>Float64</th><th>Float64</th><th>Float64</th><th>Real</th><th>Nothing</th><th>Nothing</th><th>Real</th><th>Real</th><th>DataType</th></tr></thead><tbody><p>7 rows × 13 columns</p><tr><th>1</th><td>duration_to_accept_offer</td><td>21.4345</td><td>25.8116</td><td>0</td><td>3.0</td><td>10.0</td><td>33.0</td><td>224</td><td></td><td></td><td>14</td><td>2</td><td>Int64</td></tr><tr><th>2</th><td>notice_period</td><td>39.2918</td><td>22.2202</td><td>0</td><td>30.0</td><td>30.0</td><td>60.0</td><td>120</td><td></td><td></td><td>30</td><td>0</td><td>Int64</td></tr><tr><th>3</th><td>pecent_hike_expected_in_ctc</td><td>43.8648</td><td>29.789</td><td>-68.83</td><td>27.27</td><td>40.0</td><td>53.85</td><td>359.77</td><td></td><td></td><td>-20.79</td><td>45.25</td><td>Float64</td></tr><tr><th>4</th><td>percent_hike_offered_in_ctc</td><td>40.6574</td><td>36.0641</td><td>-60.53</td><td>22.09</td><td>36.0</td><td>50.0</td><td>471.43</td><td></td><td></td><td>13.16</td><td>14.09</td><td>Float64</td></tr><tr><th>5</th><td>percent_difference_ctc</td><td>-1.5738</td><td>19.6107</td><td>-67.27</td><td>-8.33</td><td>0.0</td><td>0.0</td><td>300.0</td><td></td><td></td><td>42.86</td><td>-21.45</td><td>Float64</td></tr><tr><th>6</th><td>rex_in_yrs</td><td>4.23902</td><td>2.54757</td><td>0</td><td>3.0</td><td>4.0</td><td>6.0</td><td>24</td><td></td><td></td><td>7</td><td>1</td><td>Int64</td></tr><tr><th>7</th><td>age</td><td>29.9132</td><td>4.09791</td><td>20</td><td>27.0</td><td>29.0</td><td>34.0</td><td>60</td><td></td><td></td><td>34</td><td>34</td><td>Int64</td></tr></tbody></table>"
      ],
      "text/latex": [
       "\\begin{tabular}{r|ccccccccccccc}\n",
       "\t& variable & mean & std & min & q25 & median & q75 & max & nunique & nmissing & first & last & eltype\\\\\n",
       "\t\\hline\n",
       "\t& Symbol & Float64 & Float64 & Real & Float64 & Float64 & Float64 & Real & Nothing & Nothing & Real & Real & DataType\\\\\n",
       "\t\\hline\n",
       "\t1 & duration\\_to\\_accept\\_offer & 21.4345 & 25.8116 & 0 & 3.0 & 10.0 & 33.0 & 224 &  &  & 14 & 2 & Int64 \\\\\n",
       "\t2 & notice\\_period & 39.2918 & 22.2202 & 0 & 30.0 & 30.0 & 60.0 & 120 &  &  & 30 & 0 & Int64 \\\\\n",
       "\t3 & pecent\\_hike\\_expected\\_in\\_ctc & 43.8648 & 29.789 & -68.83 & 27.27 & 40.0 & 53.85 & 359.77 &  &  & -20.79 & 45.25 & Float64 \\\\\n",
       "\t4 & percent\\_hike\\_offered\\_in\\_ctc & 40.6574 & 36.0641 & -60.53 & 22.09 & 36.0 & 50.0 & 471.43 &  &  & 13.16 & 14.09 & Float64 \\\\\n",
       "\t5 & percent\\_difference\\_ctc & -1.5738 & 19.6107 & -67.27 & -8.33 & 0.0 & 0.0 & 300.0 &  &  & 42.86 & -21.45 & Float64 \\\\\n",
       "\t6 & rex\\_in\\_yrs & 4.23902 & 2.54757 & 0 & 3.0 & 4.0 & 6.0 & 24 &  &  & 7 & 1 & Int64 \\\\\n",
       "\t7 & age & 29.9132 & 4.09791 & 20 & 27.0 & 29.0 & 34.0 & 60 &  &  & 34 & 34 & Int64 \\\\\n",
       "\\end{tabular}\n"
      ],
      "text/plain": [
       "7×13 DataFrame\n",
       "│ Row │ variable                    │ mean    │ std     │ min    │ q25     │ median  │ q75     │ max    │ nunique │ nmissing │ first  │ last   │ eltype   │\n",
       "│     │ \u001b[90mSymbol\u001b[39m                      │ \u001b[90mFloat64\u001b[39m │ \u001b[90mFloat64\u001b[39m │ \u001b[90mReal\u001b[39m   │ \u001b[90mFloat64\u001b[39m │ \u001b[90mFloat64\u001b[39m │ \u001b[90mFloat64\u001b[39m │ \u001b[90mReal\u001b[39m   │ \u001b[90mNothing\u001b[39m │ \u001b[90mNothing\u001b[39m  │ \u001b[90mReal\u001b[39m   │ \u001b[90mReal\u001b[39m   │ \u001b[90mDataType\u001b[39m │\n",
       "├─────┼─────────────────────────────┼─────────┼─────────┼────────┼─────────┼─────────┼─────────┼────────┼─────────┼──────────┼────────┼────────┼──────────┤\n",
       "│ 1   │ duration_to_accept_offer    │ 21.4345 │ 25.8116 │ 0      │ 3.0     │ 10.0    │ 33.0    │ 224    │         │          │ 14     │ 2      │ Int64    │\n",
       "│ 2   │ notice_period               │ 39.2918 │ 22.2202 │ 0      │ 30.0    │ 30.0    │ 60.0    │ 120    │         │          │ 30     │ 0      │ Int64    │\n",
       "│ 3   │ pecent_hike_expected_in_ctc │ 43.8648 │ 29.789  │ -68.83 │ 27.27   │ 40.0    │ 53.85   │ 359.77 │         │          │ -20.79 │ 45.25  │ Float64  │\n",
       "│ 4   │ percent_hike_offered_in_ctc │ 40.6574 │ 36.0641 │ -60.53 │ 22.09   │ 36.0    │ 50.0    │ 471.43 │         │          │ 13.16  │ 14.09  │ Float64  │\n",
       "│ 5   │ percent_difference_ctc      │ -1.5738 │ 19.6107 │ -67.27 │ -8.33   │ 0.0     │ 0.0     │ 300.0  │         │          │ 42.86  │ -21.45 │ Float64  │\n",
       "│ 6   │ rex_in_yrs                  │ 4.23902 │ 2.54757 │ 0      │ 3.0     │ 4.0     │ 6.0     │ 24     │         │          │ 7      │ 1      │ Int64    │\n",
       "│ 7   │ age                         │ 29.9132 │ 4.09791 │ 20     │ 27.0    │ 29.0    │ 34.0    │ 60     │         │          │ 34     │ 34     │ Int64    │"
      ]
     },
     "execution_count": 13,
     "metadata": {},
     "output_type": "execute_result"
    }
   ],
   "source": [
    "describe(raw_df, :all, cols=numerical_features)"
   ]
  },
  {
   "cell_type": "code",
   "execution_count": 14,
   "metadata": {},
   "outputs": [
    {
     "data": {
      "text/html": [
       "<table class=\"data-frame\"><thead><tr><th></th><th>variable</th><th>mean</th><th>std</th><th>min</th><th>q25</th><th>median</th><th>q75</th><th>max</th><th>nunique</th><th>nmissing</th><th>first</th><th>last</th><th>eltype</th></tr><tr><th></th><th>Symbol</th><th>Nothing</th><th>Nothing</th><th>String</th><th>Nothing</th><th>Nothing</th><th>Nothing</th><th>String</th><th>Int64</th><th>Nothing</th><th>String</th><th>String</th><th>DataType</th></tr></thead><tbody><p>9 rows × 13 columns</p><tr><th>1</th><td>doj_extended</td><td></td><td></td><td>No</td><td></td><td></td><td></td><td>Yes</td><td>2</td><td></td><td>Yes</td><td>No</td><td>String</td></tr><tr><th>2</th><td>offered_band</td><td></td><td></td><td>E0</td><td></td><td></td><td></td><td>E3</td><td>4</td><td></td><td>E2</td><td>E1</td><td>String</td></tr><tr><th>3</th><td>joining_bonus</td><td></td><td></td><td>No</td><td></td><td></td><td></td><td>Yes</td><td>2</td><td></td><td>No</td><td>No</td><td>String</td></tr><tr><th>4</th><td>candidate_relocate_actual</td><td></td><td></td><td>No</td><td></td><td></td><td></td><td>Yes</td><td>2</td><td></td><td>No</td><td>No</td><td>String</td></tr><tr><th>5</th><td>gender</td><td></td><td></td><td>Female</td><td></td><td></td><td></td><td>Male</td><td>2</td><td></td><td>Female</td><td>Female</td><td>String</td></tr><tr><th>6</th><td>candidate_source</td><td></td><td></td><td>Agency</td><td></td><td></td><td></td><td>Employee Referral</td><td>3</td><td></td><td>Agency</td><td>Employee Referral</td><td>String</td></tr><tr><th>7</th><td>lob</td><td></td><td></td><td>AXON</td><td></td><td></td><td></td><td>MMS</td><td>9</td><td></td><td>ERS</td><td>INFRA</td><td>String</td></tr><tr><th>8</th><td>location</td><td></td><td></td><td>Ahmedabad</td><td></td><td></td><td></td><td>Pune</td><td>11</td><td></td><td>Noida</td><td>Chennai</td><td>String</td></tr><tr><th>9</th><td>status</td><td></td><td></td><td>Joined</td><td></td><td></td><td></td><td>Not Joined</td><td>2</td><td></td><td>Joined</td><td>Joined</td><td>String</td></tr></tbody></table>"
      ],
      "text/latex": [
       "\\begin{tabular}{r|ccccccccccccc}\n",
       "\t& variable & mean & std & min & q25 & median & q75 & max & nunique & nmissing & first & last & eltype\\\\\n",
       "\t\\hline\n",
       "\t& Symbol & Nothing & Nothing & String & Nothing & Nothing & Nothing & String & Int64 & Nothing & String & String & DataType\\\\\n",
       "\t\\hline\n",
       "\t1 & doj\\_extended &  &  & No &  &  &  & Yes & 2 &  & Yes & No & String \\\\\n",
       "\t2 & offered\\_band &  &  & E0 &  &  &  & E3 & 4 &  & E2 & E1 & String \\\\\n",
       "\t3 & joining\\_bonus &  &  & No &  &  &  & Yes & 2 &  & No & No & String \\\\\n",
       "\t4 & candidate\\_relocate\\_actual &  &  & No &  &  &  & Yes & 2 &  & No & No & String \\\\\n",
       "\t5 & gender &  &  & Female &  &  &  & Male & 2 &  & Female & Female & String \\\\\n",
       "\t6 & candidate\\_source &  &  & Agency &  &  &  & Employee Referral & 3 &  & Agency & Employee Referral & String \\\\\n",
       "\t7 & lob &  &  & AXON &  &  &  & MMS & 9 &  & ERS & INFRA & String \\\\\n",
       "\t8 & location &  &  & Ahmedabad &  &  &  & Pune & 11 &  & Noida & Chennai & String \\\\\n",
       "\t9 & status &  &  & Joined &  &  &  & Not Joined & 2 &  & Joined & Joined & String \\\\\n",
       "\\end{tabular}\n"
      ],
      "text/plain": [
       "9×13 DataFrame\n",
       "│ Row │ variable                  │ mean    │ std     │ min       │ q25     │ median  │ q75     │ max               │ nunique │ nmissing │ first  │ last              │ eltype   │\n",
       "│     │ \u001b[90mSymbol\u001b[39m                    │ \u001b[90mNothing\u001b[39m │ \u001b[90mNothing\u001b[39m │ \u001b[90mString\u001b[39m    │ \u001b[90mNothing\u001b[39m │ \u001b[90mNothing\u001b[39m │ \u001b[90mNothing\u001b[39m │ \u001b[90mString\u001b[39m            │ \u001b[90mInt64\u001b[39m   │ \u001b[90mNothing\u001b[39m  │ \u001b[90mString\u001b[39m │ \u001b[90mString\u001b[39m            │ \u001b[90mDataType\u001b[39m │\n",
       "├─────┼───────────────────────────┼─────────┼─────────┼───────────┼─────────┼─────────┼─────────┼───────────────────┼─────────┼──────────┼────────┼───────────────────┼──────────┤\n",
       "│ 1   │ doj_extended              │         │         │ No        │         │         │         │ Yes               │ 2       │          │ Yes    │ No                │ String   │\n",
       "│ 2   │ offered_band              │         │         │ E0        │         │         │         │ E3                │ 4       │          │ E2     │ E1                │ String   │\n",
       "│ 3   │ joining_bonus             │         │         │ No        │         │         │         │ Yes               │ 2       │          │ No     │ No                │ String   │\n",
       "│ 4   │ candidate_relocate_actual │         │         │ No        │         │         │         │ Yes               │ 2       │          │ No     │ No                │ String   │\n",
       "│ 5   │ gender                    │         │         │ Female    │         │         │         │ Male              │ 2       │          │ Female │ Female            │ String   │\n",
       "│ 6   │ candidate_source          │         │         │ Agency    │         │         │         │ Employee Referral │ 3       │          │ Agency │ Employee Referral │ String   │\n",
       "│ 7   │ lob                       │         │         │ AXON      │         │         │         │ MMS               │ 9       │          │ ERS    │ INFRA             │ String   │\n",
       "│ 8   │ location                  │         │         │ Ahmedabad │         │         │         │ Pune              │ 11      │          │ Noida  │ Chennai           │ String   │\n",
       "│ 9   │ status                    │         │         │ Joined    │         │         │         │ Not Joined        │ 2       │          │ Joined │ Joined            │ String   │"
      ]
     },
     "execution_count": 14,
     "metadata": {},
     "output_type": "execute_result"
    }
   ],
   "source": [
    "describe(raw_df, :all, cols=categorical_features)"
   ]
  },
  {
   "cell_type": "markdown",
   "metadata": {},
   "source": [
    "### 2. Summarizing the dataset\n",
    "Create a new data frame and store the raw data copy. This is being done to have a copy of the raw data intact for further manipulation if needed."
   ]
  },
  {
   "cell_type": "code",
   "execution_count": 15,
   "metadata": {
    "Rmd_chunk_options": "createDataCopy, echo=TRUE,tidy=TRUE",
    "autoscroll": false,
    "scrolled": false
   },
   "outputs": [
    {
     "data": {
      "text/plain": [
       "┌─────────────────────────────┬─────────┬────────────┐\n",
       "│\u001b[22m _.names                     \u001b[0m│\u001b[22m _.types \u001b[0m│\u001b[22m _.scitypes \u001b[0m│\n",
       "├─────────────────────────────┼─────────┼────────────┤\n",
       "│ doj_extended                │ String  │ Textual    │\n",
       "│ duration_to_accept_offer    │ Int64   │ Count      │\n",
       "│ notice_period               │ Int64   │ Count      │\n",
       "│ offered_band                │ String  │ Textual    │\n",
       "│ pecent_hike_expected_in_ctc │ Float64 │ Continuous │\n",
       "│ percent_hike_offered_in_ctc │ Float64 │ Continuous │\n",
       "│ percent_difference_ctc      │ Float64 │ Continuous │\n",
       "│ joining_bonus               │ String  │ Textual    │\n",
       "│ candidate_relocate_actual   │ String  │ Textual    │\n",
       "│ gender                      │ String  │ Textual    │\n",
       "│ candidate_source            │ String  │ Textual    │\n",
       "│ rex_in_yrs                  │ Int64   │ Count      │\n",
       "│ lob                         │ String  │ Textual    │\n",
       "│ location                    │ String  │ Textual    │\n",
       "│ age                         │ Int64   │ Count      │\n",
       "│ status                      │ String  │ Textual    │\n",
       "└─────────────────────────────┴─────────┴────────────┘\n",
       "_.nrows = 8995\n"
      ]
     },
     "execution_count": 15,
     "metadata": {},
     "output_type": "execute_result"
    }
   ],
   "source": [
    "filter_df = copy(dropmissing(raw_df))\n",
    "schema(filter_df)"
   ]
  },
  {
   "cell_type": "markdown",
   "metadata": {},
   "source": [
    "We will first start by printing the unique labels in categorical features"
   ]
  },
  {
   "cell_type": "code",
   "execution_count": 16,
   "metadata": {
    "scrolled": false
   },
   "outputs": [
    {
     "name": "stdout",
     "output_type": "stream",
     "text": [
      "\n",
      "The unique labels in doj_extended is [\"Yes\", \"No\"] \n",
      "\n",
      "The unique labels in doj_extended is Dict(\"Yes\" => 4207,\"No\" => 4788) \n",
      "\n",
      "The unique labels in offered_band is [\"E2\", \"E1\", \"E3\", \"E0\"] \n",
      "\n",
      "The unique labels in offered_band is Dict(\"E0\" => 211,\"E3\" => 505,\"E2\" => 2711,\"E1\" => 5568) \n",
      "\n",
      "The unique labels in joining_bonus is [\"No\", \"Yes\"] \n",
      "\n",
      "The unique labels in joining_bonus is Dict(\"Yes\" => 417,\"No\" => 8578) \n",
      "\n",
      "The unique labels in candidate_relocate_actual is [\"No\", \"Yes\"] \n",
      "\n",
      "The unique labels in candidate_relocate_actual is Dict(\"Yes\" => 1290,\"No\" => 7705) \n",
      "\n",
      "The unique labels in gender is [\"Female\", \"Male\"] \n",
      "\n",
      "The unique labels in gender is Dict(\"Female\" => 1551,\"Male\" => 7444) \n",
      "\n",
      "The unique labels in candidate_source is [\"Agency\", \"Employee Referral\", \"Direct\"] \n",
      "\n",
      "The unique labels in candidate_source is Dict(\"Agency\" => 2585,\"Direct\" => 4801,\"Employee Referral\" => 1609) \n",
      "\n",
      "The unique labels in lob is [\"ERS\", \"INFRA\", \"Healthcare\", \"BFSI\", \"CSMP\", \"ETS\", \"AXON\", \"EAS\", \"MMS\"] \n",
      "\n",
      "The unique labels in lob is Dict(\"EAS\" => 346,\"MMS\" => 15,\"BFSI\" => 1396,\"CSMP\" => 579,\"AXON\" => 568,\"INFRA\" => 2850,\"Healthcare\" => 124,\"ETS\" => 691,\"ERS\" => 2426) \n",
      "\n",
      "The unique labels in location is [\"Noida\", \"Chennai\", \"Gurgaon\", \"Bangalore\", \"Hyderabad\", \"Kolkata\", \"Cochin\", \"Pune\", \"Others\", \"Mumbai\", \"Ahmedabad\"] \n",
      "\n",
      "The unique labels in location is Dict(\"Mumbai\" => 197,\"Hyderabad\" => 341,\"Kolkata\" => 129,\"Cochin\" => 8,\"Ahmedabad\" => 6,\"Pune\" => 48,\"Others\" => 13,\"Noida\" => 2727,\"Chennai\" => 3150,\"Bangalore\" => 2230,\"Gurgaon\" => 146) \n",
      "\n",
      "The unique labels in status is [\"Joined\", \"Not Joined\"] \n",
      "\n",
      "The unique labels in status is Dict(\"Not Joined\" => 1682,\"Joined\" => 7313) \n"
     ]
    }
   ],
   "source": [
    "for f in categorical_features\n",
    "    unq = unique(filter_df[:, f]) ## Set(filter_df[:, (f)]) also works.\n",
    "    val_cnt = StatsBase.countmap(filter_df[:, (f)])\n",
    "    @printf(\"\\nThe unique labels in %s is %s \\n\", f, unq)\n",
    "    @printf(\"\\nThe unique labels in %s is %s \\n\", f, val_cnt)\n",
    "end"
   ]
  },
  {
   "cell_type": "markdown",
   "metadata": {},
   "source": [
    "Looking at the feature **line of business** it seems that *EAS, Healthcare and MMS* does not have enough observations and may be clubbed together"
   ]
  },
  {
   "cell_type": "code",
   "execution_count": 17,
   "metadata": {},
   "outputs": [],
   "source": [
    "filter_df[(filter_df.lob .==\"EAS\") .| \n",
    "          (filter_df.lob .==\"Healthcare\") .|\n",
    "          (filter_df.lob .==\"MMS\"),\"lob\"] .= \"Others\";"
   ]
  },
  {
   "cell_type": "code",
   "execution_count": 18,
   "metadata": {},
   "outputs": [
    {
     "data": {
      "text/plain": [
       "Dict{String,Int64} with 7 entries:\n",
       "  \"Others\" => 485\n",
       "  \"BFSI\"   => 1396\n",
       "  \"CSMP\"   => 579\n",
       "  \"AXON\"   => 568\n",
       "  \"INFRA\"  => 2850\n",
       "  \"ETS\"    => 691\n",
       "  \"ERS\"    => 2426"
      ]
     },
     "execution_count": 18,
     "metadata": {},
     "output_type": "execute_result"
    }
   ],
   "source": [
    "countmap(filter_df.lob)"
   ]
  },
  {
   "cell_type": "markdown",
   "metadata": {},
   "source": [
    "We will use **groupby** function of pandas to get deeper insights of the behaviour of people **Joining** or **Not Joining** the company. We will write a generic function to report the mean by any categorical variable."
   ]
  },
  {
   "cell_type": "code",
   "execution_count": 19,
   "metadata": {},
   "outputs": [],
   "source": [
    "##Write your code\n",
    "\n"
   ]
  },
  {
   "cell_type": "code",
   "execution_count": 20,
   "metadata": {},
   "outputs": [],
   "source": [
    "## Call the function group_by() defined above\n",
    "\n",
    "#group_by(\"doj_extended\")\n",
    "#group_by(\"status\")\n",
    "#group_by(\"location\")"
   ]
  },
  {
   "cell_type": "markdown",
   "metadata": {},
   "source": [
    "### 3. Visualizing the Data using Gadfly\n",
    "\n",
    "Write a custom function to create bar plot to visualize the average of numeric features w.r.t each categorical feature. Say, average number of days to accept the offer w.r.t status as joined vs. not joined."
   ]
  },
  {
   "cell_type": "code",
   "execution_count": 21,
   "metadata": {},
   "outputs": [],
   "source": [
    "## Write your code here"
   ]
  },
  {
   "cell_type": "code",
   "execution_count": null,
   "metadata": {
    "scrolled": false
   },
   "outputs": [],
   "source": []
  },
  {
   "cell_type": "markdown",
   "metadata": {},
   "source": [
    "## Model Building\n",
    "\n",
    "### Dummy Variable coding\n",
    "\n",
    "Remove the response variable from the dataset¶\n"
   ]
  },
  {
   "cell_type": "code",
   "execution_count": 22,
   "metadata": {},
   "outputs": [
    {
     "data": {
      "text/plain": [
       "4-element Array{String,1}:\n",
       " \"status\"\n",
       " \"pecent_hike_expected_in_ctc\"\n",
       " \"percent_hike_offered_in_ctc\"\n",
       " \"candidate_relocate_actual\""
      ]
     },
     "execution_count": 22,
     "metadata": {},
     "output_type": "execute_result"
    }
   ],
   "source": [
    "removed_features = [\"status\",\"pecent_hike_expected_in_ctc\",\n",
    "                    \"percent_hike_offered_in_ctc\",\"candidate_relocate_actual\"]"
   ]
  },
  {
   "cell_type": "code",
   "execution_count": 23,
   "metadata": {},
   "outputs": [
    {
     "data": {
      "text/plain": [
       "12-element Array{String,1}:\n",
       " \"doj_extended\"\n",
       " \"duration_to_accept_offer\"\n",
       " \"notice_period\"\n",
       " \"offered_band\"\n",
       " \"percent_difference_ctc\"\n",
       " \"joining_bonus\"\n",
       " \"gender\"\n",
       " \"candidate_source\"\n",
       " \"rex_in_yrs\"\n",
       " \"lob\"\n",
       " \"location\"\n",
       " \"age\""
      ]
     },
     "execution_count": 23,
     "metadata": {},
     "output_type": "execute_result"
    }
   ],
   "source": [
    "X_features = [x for x ∈ names(filter_df) if x ∉ removed_features]"
   ]
  },
  {
   "cell_type": "code",
   "execution_count": 24,
   "metadata": {
    "scrolled": true
   },
   "outputs": [],
   "source": [
    "X_numeric = names(filter_df[:,X_features][(<:).(eltypes(filter_df[:,X_features]),Union{Number,Missing})]);\n",
    "X_categoric = names(filter_df[:,X_features][(<:).(eltypes(filter_df[:,X_features]),Union{String,Missing})]);"
   ]
  },
  {
   "cell_type": "markdown",
   "metadata": {},
   "source": [
    "### MLJ Package\n",
    "\n",
    "MLJ (Machine Learning in Julia) is a toolbox written in Julia providing a common interface and meta-algorithms for selecting, tuning, evaluating, composing and comparing over 150 machine learning models written in Julia and other languages. In particular MLJ wraps a large number of scikit-learn models.\n",
    "\n",
    "https://alan-turing-institute.github.io/MLJ.jl/dev/list_of_supported_models/"
   ]
  },
  {
   "cell_type": "code",
   "execution_count": 25,
   "metadata": {},
   "outputs": [
    {
     "data": {
      "text/plain": [
       "NamedTuple{(:name, :package_name, :is_supervised, :docstring, :hyperparameter_ranges, :hyperparameter_types, :hyperparameters, :implemented_methods, :is_pure_julia, :is_wrapper, :iteration_parameter, :load_path, :package_license, :package_url, :package_uuid, :prediction_type, :supports_class_weights, :supports_online, :supports_training_losses, :supports_weights, :input_scitype, :target_scitype, :output_scitype),T} where T<:Tuple[]"
      ]
     },
     "execution_count": 25,
     "metadata": {},
     "output_type": "execute_result"
    }
   ],
   "source": [
    "localmodels(\"logistic\")"
   ]
  },
  {
   "cell_type": "code",
   "execution_count": 26,
   "metadata": {},
   "outputs": [
    {
     "data": {
      "text/plain": [
       "┌─────────────────────────────┬─────────┬────────────┐\n",
       "│\u001b[22m _.names                     \u001b[0m│\u001b[22m _.types \u001b[0m│\u001b[22m _.scitypes \u001b[0m│\n",
       "├─────────────────────────────┼─────────┼────────────┤\n",
       "│ doj_extended                │ String  │ Textual    │\n",
       "│ duration_to_accept_offer    │ Int64   │ Count      │\n",
       "│ notice_period               │ Int64   │ Count      │\n",
       "│ offered_band                │ String  │ Textual    │\n",
       "│ pecent_hike_expected_in_ctc │ Float64 │ Continuous │\n",
       "│ percent_hike_offered_in_ctc │ Float64 │ Continuous │\n",
       "│ percent_difference_ctc      │ Float64 │ Continuous │\n",
       "│ joining_bonus               │ String  │ Textual    │\n",
       "│ candidate_relocate_actual   │ String  │ Textual    │\n",
       "│ gender                      │ String  │ Textual    │\n",
       "│ candidate_source            │ String  │ Textual    │\n",
       "│ rex_in_yrs                  │ Int64   │ Count      │\n",
       "│ lob                         │ String  │ Textual    │\n",
       "│ location                    │ String  │ Textual    │\n",
       "│ age                         │ Int64   │ Count      │\n",
       "│ status                      │ String  │ Textual    │\n",
       "└─────────────────────────────┴─────────┴────────────┘\n",
       "_.nrows = 8995\n"
      ]
     },
     "execution_count": 26,
     "metadata": {},
     "output_type": "execute_result"
    }
   ],
   "source": [
    "schema(filter_df)"
   ]
  },
  {
   "cell_type": "markdown",
   "metadata": {},
   "source": [
    "Since we want to coerce all Textual column to multiclass, we can write:"
   ]
  },
  {
   "cell_type": "code",
   "execution_count": 27,
   "metadata": {},
   "outputs": [
    {
     "data": {
      "text/html": [
       "<table class=\"data-frame\"><thead><tr><th></th><th>doj_extended</th><th>duration_to_accept_offer</th><th>notice_period</th><th>offered_band</th><th>pecent_hike_expected_in_ctc</th><th>percent_hike_offered_in_ctc</th><th>percent_difference_ctc</th><th>joining_bonus</th><th>candidate_relocate_actual</th><th>gender</th><th>candidate_source</th><th>rex_in_yrs</th><th>lob</th><th>location</th><th>age</th><th>status</th></tr><tr><th></th><th>Cat…</th><th>Int64</th><th>Int64</th><th>Cat…</th><th>Float64</th><th>Float64</th><th>Float64</th><th>Cat…</th><th>Cat…</th><th>Cat…</th><th>Cat…</th><th>Int64</th><th>Cat…</th><th>Cat…</th><th>Int64</th><th>Cat…</th></tr></thead><tbody><p>6 rows × 16 columns</p><tr><th>1</th><td>Yes</td><td>14</td><td>30</td><td>E2</td><td>-20.79</td><td>13.16</td><td>42.86</td><td>No</td><td>No</td><td>Female</td><td>Agency</td><td>7</td><td>ERS</td><td>Noida</td><td>34</td><td>Joined</td></tr><tr><th>2</th><td>No</td><td>18</td><td>30</td><td>E2</td><td>50.0</td><td>320.0</td><td>180.0</td><td>No</td><td>No</td><td>Male</td><td>Employee Referral</td><td>8</td><td>INFRA</td><td>Chennai</td><td>34</td><td>Joined</td></tr><tr><th>3</th><td>No</td><td>3</td><td>45</td><td>E2</td><td>42.84</td><td>42.84</td><td>0.0</td><td>No</td><td>No</td><td>Male</td><td>Agency</td><td>4</td><td>INFRA</td><td>Noida</td><td>27</td><td>Joined</td></tr><tr><th>4</th><td>No</td><td>26</td><td>30</td><td>E2</td><td>42.84</td><td>42.84</td><td>0.0</td><td>No</td><td>No</td><td>Male</td><td>Employee Referral</td><td>4</td><td>INFRA</td><td>Noida</td><td>34</td><td>Joined</td></tr><tr><th>5</th><td>Yes</td><td>1</td><td>120</td><td>E2</td><td>42.59</td><td>42.59</td><td>0.0</td><td>No</td><td>Yes</td><td>Male</td><td>Employee Referral</td><td>6</td><td>INFRA</td><td>Noida</td><td>34</td><td>Joined</td></tr><tr><th>6</th><td>Yes</td><td>17</td><td>30</td><td>E1</td><td>42.83</td><td>42.83</td><td>0.0</td><td>No</td><td>No</td><td>Male</td><td>Employee Referral</td><td>2</td><td>INFRA</td><td>Noida</td><td>34</td><td>Joined</td></tr></tbody></table>"
      ],
      "text/latex": [
       "\\begin{tabular}{r|cccccccccccccccc}\n",
       "\t& doj\\_extended & duration\\_to\\_accept\\_offer & notice\\_period & offered\\_band & pecent\\_hike\\_expected\\_in\\_ctc & percent\\_hike\\_offered\\_in\\_ctc & percent\\_difference\\_ctc & joining\\_bonus & candidate\\_relocate\\_actual & gender & candidate\\_source & rex\\_in\\_yrs & lob & location & age & status\\\\\n",
       "\t\\hline\n",
       "\t& Cat… & Int64 & Int64 & Cat… & Float64 & Float64 & Float64 & Cat… & Cat… & Cat… & Cat… & Int64 & Cat… & Cat… & Int64 & Cat…\\\\\n",
       "\t\\hline\n",
       "\t1 & Yes & 14 & 30 & E2 & -20.79 & 13.16 & 42.86 & No & No & Female & Agency & 7 & ERS & Noida & 34 & Joined \\\\\n",
       "\t2 & No & 18 & 30 & E2 & 50.0 & 320.0 & 180.0 & No & No & Male & Employee Referral & 8 & INFRA & Chennai & 34 & Joined \\\\\n",
       "\t3 & No & 3 & 45 & E2 & 42.84 & 42.84 & 0.0 & No & No & Male & Agency & 4 & INFRA & Noida & 27 & Joined \\\\\n",
       "\t4 & No & 26 & 30 & E2 & 42.84 & 42.84 & 0.0 & No & No & Male & Employee Referral & 4 & INFRA & Noida & 34 & Joined \\\\\n",
       "\t5 & Yes & 1 & 120 & E2 & 42.59 & 42.59 & 0.0 & No & Yes & Male & Employee Referral & 6 & INFRA & Noida & 34 & Joined \\\\\n",
       "\t6 & Yes & 17 & 30 & E1 & 42.83 & 42.83 & 0.0 & No & No & Male & Employee Referral & 2 & INFRA & Noida & 34 & Joined \\\\\n",
       "\\end{tabular}\n"
      ],
      "text/plain": [
       "6×16 DataFrame\n",
       "│ Row │ doj_extended │ duration_to_accept_offer │ notice_period │ offered_band │ pecent_hike_expected_in_ctc │ percent_hike_offered_in_ctc │ percent_difference_ctc │ joining_bonus │ candidate_relocate_actual │ gender │ candidate_source  │ rex_in_yrs │ lob   │ location │ age   │ status │\n",
       "│     │ \u001b[90mCategorical…\u001b[39m │ \u001b[90mInt64\u001b[39m                    │ \u001b[90mInt64\u001b[39m         │ \u001b[90mCategorical…\u001b[39m │ \u001b[90mFloat64\u001b[39m                     │ \u001b[90mFloat64\u001b[39m                     │ \u001b[90mFloat64\u001b[39m                │ \u001b[90mCategorical…\u001b[39m  │ \u001b[90mCategoricalValue…\u001b[39m         │ \u001b[90mCat…\u001b[39m   │ \u001b[90mCategoricalValue…\u001b[39m │ \u001b[90mInt64\u001b[39m      │ \u001b[90mCat…\u001b[39m  │ \u001b[90mCat…\u001b[39m     │ \u001b[90mInt64\u001b[39m │ \u001b[90mCat…\u001b[39m   │\n",
       "├─────┼──────────────┼──────────────────────────┼───────────────┼──────────────┼─────────────────────────────┼─────────────────────────────┼────────────────────────┼───────────────┼───────────────────────────┼────────┼───────────────────┼────────────┼───────┼──────────┼───────┼────────┤\n",
       "│ 1   │ Yes          │ 14                       │ 30            │ E2           │ -20.79                      │ 13.16                       │ 42.86                  │ No            │ No                        │ Female │ Agency            │ 7          │ ERS   │ Noida    │ 34    │ Joined │\n",
       "│ 2   │ No           │ 18                       │ 30            │ E2           │ 50.0                        │ 320.0                       │ 180.0                  │ No            │ No                        │ Male   │ Employee Referral │ 8          │ INFRA │ Chennai  │ 34    │ Joined │\n",
       "│ 3   │ No           │ 3                        │ 45            │ E2           │ 42.84                       │ 42.84                       │ 0.0                    │ No            │ No                        │ Male   │ Agency            │ 4          │ INFRA │ Noida    │ 27    │ Joined │\n",
       "│ 4   │ No           │ 26                       │ 30            │ E2           │ 42.84                       │ 42.84                       │ 0.0                    │ No            │ No                        │ Male   │ Employee Referral │ 4          │ INFRA │ Noida    │ 34    │ Joined │\n",
       "│ 5   │ Yes          │ 1                        │ 120           │ E2           │ 42.59                       │ 42.59                       │ 0.0                    │ No            │ Yes                       │ Male   │ Employee Referral │ 6          │ INFRA │ Noida    │ 34    │ Joined │\n",
       "│ 6   │ Yes          │ 17                       │ 30            │ E1           │ 42.83                       │ 42.83                       │ 0.0                    │ No            │ No                        │ Male   │ Employee Referral │ 2          │ INFRA │ Noida    │ 34    │ Joined │"
      ]
     },
     "execution_count": 27,
     "metadata": {},
     "output_type": "execute_result"
    }
   ],
   "source": [
    "head(coerce!(filter_df, Textual => Multiclass))"
   ]
  },
  {
   "cell_type": "markdown",
   "metadata": {},
   "source": [
    "Transform is same as calling predict function in python. In MLJ:\n",
    "* For supervised problem, we will call predict\n",
    "* For unsupervised problem, it will be transform\n",
    "\n",
    "The function 'machine()' binds a model (i.e., a choice of algorithm + hyperparameters) to data. A machine is also the object storing learned parameters. Under the hood, calling fit! on a machine calls either MLJBase.fit or MLJBase.update, depending on the machine's internal state (as recorded in private fields old_model and old_rows). "
   ]
  },
  {
   "cell_type": "code",
   "execution_count": 28,
   "metadata": {},
   "outputs": [
    {
     "name": "stderr",
     "output_type": "stream",
     "text": [
      "┌ Info: Training \u001b[34mMachine{OneHotEncoder,…} @688\u001b[39m.\n",
      "└ @ MLJBase /Users/Rahul/.julia/packages/MLJBase/hLtde/src/machines.jl:342\n",
      "┌ Info: Spawning 1 sub-features to one-hot encode feature :doj_extended.\n",
      "└ @ MLJModels /Users/Rahul/.julia/packages/MLJModels/E8BbE/src/builtins/Transformers.jl:1142\n",
      "┌ Info: Spawning 3 sub-features to one-hot encode feature :offered_band.\n",
      "└ @ MLJModels /Users/Rahul/.julia/packages/MLJModels/E8BbE/src/builtins/Transformers.jl:1142\n",
      "┌ Info: Spawning 1 sub-features to one-hot encode feature :joining_bonus.\n",
      "└ @ MLJModels /Users/Rahul/.julia/packages/MLJModels/E8BbE/src/builtins/Transformers.jl:1142\n",
      "┌ Info: Spawning 1 sub-features to one-hot encode feature :gender.\n",
      "└ @ MLJModels /Users/Rahul/.julia/packages/MLJModels/E8BbE/src/builtins/Transformers.jl:1142\n",
      "┌ Info: Spawning 2 sub-features to one-hot encode feature :candidate_source.\n",
      "└ @ MLJModels /Users/Rahul/.julia/packages/MLJModels/E8BbE/src/builtins/Transformers.jl:1142\n",
      "┌ Info: Spawning 6 sub-features to one-hot encode feature :lob.\n",
      "└ @ MLJModels /Users/Rahul/.julia/packages/MLJModels/E8BbE/src/builtins/Transformers.jl:1142\n",
      "┌ Info: Spawning 10 sub-features to one-hot encode feature :location.\n",
      "└ @ MLJModels /Users/Rahul/.julia/packages/MLJModels/E8BbE/src/builtins/Transformers.jl:1142\n"
     ]
    }
   ],
   "source": [
    "X_ohe = machine(MLJ.OneHotEncoder(drop_last=true), filter_df[:,X_features])\n",
    "MLJ.fit!(X_ohe)\n",
    "encoded_X_df = MLJ.transform(X_ohe, filter_df[:,X_features]);"
   ]
  },
  {
   "cell_type": "code",
   "execution_count": 30,
   "metadata": {},
   "outputs": [
    {
     "name": "stderr",
     "output_type": "stream",
     "text": [
      "┌ Info: Training \u001b[34mMachine{OneHotEncoder,…} @600\u001b[39m.\n",
      "└ @ MLJBase /Users/Rahul/.julia/packages/MLJBase/hLtde/src/machines.jl:342\n",
      "┌ Info: Spawning 1 sub-features to one-hot encode feature :status.\n",
      "└ @ MLJModels /Users/Rahul/.julia/packages/MLJModels/E8BbE/src/builtins/Transformers.jl:1142\n"
     ]
    }
   ],
   "source": [
    "Y_ohe = machine(MLJ.OneHotEncoder(drop_last=true), filter_df[:,[\"status\"]])\n",
    "MLJ.fit!(Y_ohe)\n",
    "encoded_Y_df = MLJ.transform(Y_ohe, filter_df[:,[\"status\"]]);"
   ]
  },
  {
   "cell_type": "code",
   "execution_count": 33,
   "metadata": {},
   "outputs": [
    {
     "data": {
      "text/html": [
       "<table class=\"data-frame\"><thead><tr><th></th><th>doj_extended__No</th><th>duration_to_accept_offer</th><th>notice_period</th><th>offered_band__E0</th><th>offered_band__E1</th><th>offered_band__E2</th><th>percent_difference_ctc</th><th>joining_bonus__No</th><th>gender__Female</th><th>candidate_source__Agency</th><th>candidate_source__Direct</th><th>rex_in_yrs</th><th>lob__AXON</th><th>lob__BFSI</th><th>lob__CSMP</th><th>lob__ERS</th><th>lob__ETS</th><th>lob__INFRA</th><th>location__Ahmedabad</th><th>location__Bangalore</th><th>location__Chennai</th><th>location__Cochin</th><th>location__Gurgaon</th><th>location__Hyderabad</th><th>location__Kolkata</th><th>location__Mumbai</th><th>location__Noida</th><th>location__Others</th><th>age</th></tr><tr><th></th><th>Float64</th><th>Int64</th><th>Int64</th><th>Float64</th><th>Float64</th><th>Float64</th><th>Float64</th><th>Float64</th><th>Float64</th><th>Float64</th><th>Float64</th><th>Int64</th><th>Float64</th><th>Float64</th><th>Float64</th><th>Float64</th><th>Float64</th><th>Float64</th><th>Float64</th><th>Float64</th><th>Float64</th><th>Float64</th><th>Float64</th><th>Float64</th><th>Float64</th><th>Float64</th><th>Float64</th><th>Float64</th><th>Int64</th></tr></thead><tbody><p>6 rows × 29 columns</p><tr><th>1</th><td>0.0</td><td>14</td><td>30</td><td>0.0</td><td>0.0</td><td>1.0</td><td>42.86</td><td>1.0</td><td>1.0</td><td>1.0</td><td>0.0</td><td>7</td><td>0.0</td><td>0.0</td><td>0.0</td><td>1.0</td><td>0.0</td><td>0.0</td><td>0.0</td><td>0.0</td><td>0.0</td><td>0.0</td><td>0.0</td><td>0.0</td><td>0.0</td><td>0.0</td><td>1.0</td><td>0.0</td><td>34</td></tr><tr><th>2</th><td>1.0</td><td>18</td><td>30</td><td>0.0</td><td>0.0</td><td>1.0</td><td>180.0</td><td>1.0</td><td>0.0</td><td>0.0</td><td>0.0</td><td>8</td><td>0.0</td><td>0.0</td><td>0.0</td><td>0.0</td><td>0.0</td><td>1.0</td><td>0.0</td><td>0.0</td><td>1.0</td><td>0.0</td><td>0.0</td><td>0.0</td><td>0.0</td><td>0.0</td><td>0.0</td><td>0.0</td><td>34</td></tr><tr><th>3</th><td>1.0</td><td>3</td><td>45</td><td>0.0</td><td>0.0</td><td>1.0</td><td>0.0</td><td>1.0</td><td>0.0</td><td>1.0</td><td>0.0</td><td>4</td><td>0.0</td><td>0.0</td><td>0.0</td><td>0.0</td><td>0.0</td><td>1.0</td><td>0.0</td><td>0.0</td><td>0.0</td><td>0.0</td><td>0.0</td><td>0.0</td><td>0.0</td><td>0.0</td><td>1.0</td><td>0.0</td><td>27</td></tr><tr><th>4</th><td>1.0</td><td>26</td><td>30</td><td>0.0</td><td>0.0</td><td>1.0</td><td>0.0</td><td>1.0</td><td>0.0</td><td>0.0</td><td>0.0</td><td>4</td><td>0.0</td><td>0.0</td><td>0.0</td><td>0.0</td><td>0.0</td><td>1.0</td><td>0.0</td><td>0.0</td><td>0.0</td><td>0.0</td><td>0.0</td><td>0.0</td><td>0.0</td><td>0.0</td><td>1.0</td><td>0.0</td><td>34</td></tr><tr><th>5</th><td>0.0</td><td>1</td><td>120</td><td>0.0</td><td>0.0</td><td>1.0</td><td>0.0</td><td>1.0</td><td>0.0</td><td>0.0</td><td>0.0</td><td>6</td><td>0.0</td><td>0.0</td><td>0.0</td><td>0.0</td><td>0.0</td><td>1.0</td><td>0.0</td><td>0.0</td><td>0.0</td><td>0.0</td><td>0.0</td><td>0.0</td><td>0.0</td><td>0.0</td><td>1.0</td><td>0.0</td><td>34</td></tr><tr><th>6</th><td>0.0</td><td>17</td><td>30</td><td>0.0</td><td>1.0</td><td>0.0</td><td>0.0</td><td>1.0</td><td>0.0</td><td>0.0</td><td>0.0</td><td>2</td><td>0.0</td><td>0.0</td><td>0.0</td><td>0.0</td><td>0.0</td><td>1.0</td><td>0.0</td><td>0.0</td><td>0.0</td><td>0.0</td><td>0.0</td><td>0.0</td><td>0.0</td><td>0.0</td><td>1.0</td><td>0.0</td><td>34</td></tr></tbody></table>"
      ],
      "text/latex": [
       "\\begin{tabular}{r|ccccccccccccccccccccccccccccc}\n",
       "\t& doj\\_extended\\_\\_No & duration\\_to\\_accept\\_offer & notice\\_period & offered\\_band\\_\\_E0 & offered\\_band\\_\\_E1 & offered\\_band\\_\\_E2 & percent\\_difference\\_ctc & joining\\_bonus\\_\\_No & gender\\_\\_Female & candidate\\_source\\_\\_Agency & candidate\\_source\\_\\_Direct & rex\\_in\\_yrs & lob\\_\\_AXON & lob\\_\\_BFSI & lob\\_\\_CSMP & lob\\_\\_ERS & lob\\_\\_ETS & lob\\_\\_INFRA & location\\_\\_Ahmedabad & location\\_\\_Bangalore & location\\_\\_Chennai & location\\_\\_Cochin & location\\_\\_Gurgaon & location\\_\\_Hyderabad & location\\_\\_Kolkata & location\\_\\_Mumbai & location\\_\\_Noida & location\\_\\_Others & age\\\\\n",
       "\t\\hline\n",
       "\t& Float64 & Int64 & Int64 & Float64 & Float64 & Float64 & Float64 & Float64 & Float64 & Float64 & Float64 & Int64 & Float64 & Float64 & Float64 & Float64 & Float64 & Float64 & Float64 & Float64 & Float64 & Float64 & Float64 & Float64 & Float64 & Float64 & Float64 & Float64 & Int64\\\\\n",
       "\t\\hline\n",
       "\t1 & 0.0 & 14 & 30 & 0.0 & 0.0 & 1.0 & 42.86 & 1.0 & 1.0 & 1.0 & 0.0 & 7 & 0.0 & 0.0 & 0.0 & 1.0 & 0.0 & 0.0 & 0.0 & 0.0 & 0.0 & 0.0 & 0.0 & 0.0 & 0.0 & 0.0 & 1.0 & 0.0 & 34 \\\\\n",
       "\t2 & 1.0 & 18 & 30 & 0.0 & 0.0 & 1.0 & 180.0 & 1.0 & 0.0 & 0.0 & 0.0 & 8 & 0.0 & 0.0 & 0.0 & 0.0 & 0.0 & 1.0 & 0.0 & 0.0 & 1.0 & 0.0 & 0.0 & 0.0 & 0.0 & 0.0 & 0.0 & 0.0 & 34 \\\\\n",
       "\t3 & 1.0 & 3 & 45 & 0.0 & 0.0 & 1.0 & 0.0 & 1.0 & 0.0 & 1.0 & 0.0 & 4 & 0.0 & 0.0 & 0.0 & 0.0 & 0.0 & 1.0 & 0.0 & 0.0 & 0.0 & 0.0 & 0.0 & 0.0 & 0.0 & 0.0 & 1.0 & 0.0 & 27 \\\\\n",
       "\t4 & 1.0 & 26 & 30 & 0.0 & 0.0 & 1.0 & 0.0 & 1.0 & 0.0 & 0.0 & 0.0 & 4 & 0.0 & 0.0 & 0.0 & 0.0 & 0.0 & 1.0 & 0.0 & 0.0 & 0.0 & 0.0 & 0.0 & 0.0 & 0.0 & 0.0 & 1.0 & 0.0 & 34 \\\\\n",
       "\t5 & 0.0 & 1 & 120 & 0.0 & 0.0 & 1.0 & 0.0 & 1.0 & 0.0 & 0.0 & 0.0 & 6 & 0.0 & 0.0 & 0.0 & 0.0 & 0.0 & 1.0 & 0.0 & 0.0 & 0.0 & 0.0 & 0.0 & 0.0 & 0.0 & 0.0 & 1.0 & 0.0 & 34 \\\\\n",
       "\t6 & 0.0 & 17 & 30 & 0.0 & 1.0 & 0.0 & 0.0 & 1.0 & 0.0 & 0.0 & 0.0 & 2 & 0.0 & 0.0 & 0.0 & 0.0 & 0.0 & 1.0 & 0.0 & 0.0 & 0.0 & 0.0 & 0.0 & 0.0 & 0.0 & 0.0 & 1.0 & 0.0 & 34 \\\\\n",
       "\\end{tabular}\n"
      ],
      "text/plain": [
       "6×29 DataFrame\n",
       "│ Row │ doj_extended__No │ duration_to_accept_offer │ notice_period │ offered_band__E0 │ offered_band__E1 │ offered_band__E2 │ percent_difference_ctc │ joining_bonus__No │ gender__Female │ candidate_source__Agency │ candidate_source__Direct │ rex_in_yrs │ lob__AXON │ lob__BFSI │ lob__CSMP │ lob__ERS │ lob__ETS │ lob__INFRA │ location__Ahmedabad │ location__Bangalore │ location__Chennai │ location__Cochin │ location__Gurgaon │ location__Hyderabad │ location__Kolkata │ location__Mumbai │ location__Noida │ location__Others │ age   │\n",
       "│     │ \u001b[90mFloat64\u001b[39m          │ \u001b[90mInt64\u001b[39m                    │ \u001b[90mInt64\u001b[39m         │ \u001b[90mFloat64\u001b[39m          │ \u001b[90mFloat64\u001b[39m          │ \u001b[90mFloat64\u001b[39m          │ \u001b[90mFloat64\u001b[39m                │ \u001b[90mFloat64\u001b[39m           │ \u001b[90mFloat64\u001b[39m        │ \u001b[90mFloat64\u001b[39m                  │ \u001b[90mFloat64\u001b[39m                  │ \u001b[90mInt64\u001b[39m      │ \u001b[90mFloat64\u001b[39m   │ \u001b[90mFloat64\u001b[39m   │ \u001b[90mFloat64\u001b[39m   │ \u001b[90mFloat64\u001b[39m  │ \u001b[90mFloat64\u001b[39m  │ \u001b[90mFloat64\u001b[39m    │ \u001b[90mFloat64\u001b[39m             │ \u001b[90mFloat64\u001b[39m             │ \u001b[90mFloat64\u001b[39m           │ \u001b[90mFloat64\u001b[39m          │ \u001b[90mFloat64\u001b[39m           │ \u001b[90mFloat64\u001b[39m             │ \u001b[90mFloat64\u001b[39m           │ \u001b[90mFloat64\u001b[39m          │ \u001b[90mFloat64\u001b[39m         │ \u001b[90mFloat64\u001b[39m          │ \u001b[90mInt64\u001b[39m │\n",
       "├─────┼──────────────────┼──────────────────────────┼───────────────┼──────────────────┼──────────────────┼──────────────────┼────────────────────────┼───────────────────┼────────────────┼──────────────────────────┼──────────────────────────┼────────────┼───────────┼───────────┼───────────┼──────────┼──────────┼────────────┼─────────────────────┼─────────────────────┼───────────────────┼──────────────────┼───────────────────┼─────────────────────┼───────────────────┼──────────────────┼─────────────────┼──────────────────┼───────┤\n",
       "│ 1   │ 0.0              │ 14                       │ 30            │ 0.0              │ 0.0              │ 1.0              │ 42.86                  │ 1.0               │ 1.0            │ 1.0                      │ 0.0                      │ 7          │ 0.0       │ 0.0       │ 0.0       │ 1.0      │ 0.0      │ 0.0        │ 0.0                 │ 0.0                 │ 0.0               │ 0.0              │ 0.0               │ 0.0                 │ 0.0               │ 0.0              │ 1.0             │ 0.0              │ 34    │\n",
       "│ 2   │ 1.0              │ 18                       │ 30            │ 0.0              │ 0.0              │ 1.0              │ 180.0                  │ 1.0               │ 0.0            │ 0.0                      │ 0.0                      │ 8          │ 0.0       │ 0.0       │ 0.0       │ 0.0      │ 0.0      │ 1.0        │ 0.0                 │ 0.0                 │ 1.0               │ 0.0              │ 0.0               │ 0.0                 │ 0.0               │ 0.0              │ 0.0             │ 0.0              │ 34    │\n",
       "│ 3   │ 1.0              │ 3                        │ 45            │ 0.0              │ 0.0              │ 1.0              │ 0.0                    │ 1.0               │ 0.0            │ 1.0                      │ 0.0                      │ 4          │ 0.0       │ 0.0       │ 0.0       │ 0.0      │ 0.0      │ 1.0        │ 0.0                 │ 0.0                 │ 0.0               │ 0.0              │ 0.0               │ 0.0                 │ 0.0               │ 0.0              │ 1.0             │ 0.0              │ 27    │\n",
       "│ 4   │ 1.0              │ 26                       │ 30            │ 0.0              │ 0.0              │ 1.0              │ 0.0                    │ 1.0               │ 0.0            │ 0.0                      │ 0.0                      │ 4          │ 0.0       │ 0.0       │ 0.0       │ 0.0      │ 0.0      │ 1.0        │ 0.0                 │ 0.0                 │ 0.0               │ 0.0              │ 0.0               │ 0.0                 │ 0.0               │ 0.0              │ 1.0             │ 0.0              │ 34    │\n",
       "│ 5   │ 0.0              │ 1                        │ 120           │ 0.0              │ 0.0              │ 1.0              │ 0.0                    │ 1.0               │ 0.0            │ 0.0                      │ 0.0                      │ 6          │ 0.0       │ 0.0       │ 0.0       │ 0.0      │ 0.0      │ 1.0        │ 0.0                 │ 0.0                 │ 0.0               │ 0.0              │ 0.0               │ 0.0                 │ 0.0               │ 0.0              │ 1.0             │ 0.0              │ 34    │\n",
       "│ 6   │ 0.0              │ 17                       │ 30            │ 0.0              │ 1.0              │ 0.0              │ 0.0                    │ 1.0               │ 0.0            │ 0.0                      │ 0.0                      │ 2          │ 0.0       │ 0.0       │ 0.0       │ 0.0      │ 0.0      │ 1.0        │ 0.0                 │ 0.0                 │ 0.0               │ 0.0              │ 0.0               │ 0.0                 │ 0.0               │ 0.0              │ 1.0             │ 0.0              │ 34    │"
      ]
     },
     "execution_count": 33,
     "metadata": {},
     "output_type": "execute_result"
    }
   ],
   "source": [
    "head(encoded_X_df)"
   ]
  },
  {
   "cell_type": "code",
   "execution_count": 32,
   "metadata": {},
   "outputs": [
    {
     "data": {
      "text/html": [
       "<table class=\"data-frame\"><thead><tr><th></th><th>status__Joined</th></tr><tr><th></th><th>Float64</th></tr></thead><tbody><p>6 rows × 1 columns</p><tr><th>1</th><td>1.0</td></tr><tr><th>2</th><td>1.0</td></tr><tr><th>3</th><td>1.0</td></tr><tr><th>4</th><td>1.0</td></tr><tr><th>5</th><td>1.0</td></tr><tr><th>6</th><td>1.0</td></tr></tbody></table>"
      ],
      "text/latex": [
       "\\begin{tabular}{r|c}\n",
       "\t& status\\_\\_Joined\\\\\n",
       "\t\\hline\n",
       "\t& Float64\\\\\n",
       "\t\\hline\n",
       "\t1 & 1.0 \\\\\n",
       "\t2 & 1.0 \\\\\n",
       "\t3 & 1.0 \\\\\n",
       "\t4 & 1.0 \\\\\n",
       "\t5 & 1.0 \\\\\n",
       "\t6 & 1.0 \\\\\n",
       "\\end{tabular}\n"
      ],
      "text/plain": [
       "6×1 DataFrame\n",
       "│ Row │ status__Joined │\n",
       "│     │ \u001b[90mFloat64\u001b[39m        │\n",
       "├─────┼────────────────┤\n",
       "│ 1   │ 1.0            │\n",
       "│ 2   │ 1.0            │\n",
       "│ 3   │ 1.0            │\n",
       "│ 4   │ 1.0            │\n",
       "│ 5   │ 1.0            │\n",
       "│ 6   │ 1.0            │"
      ]
     },
     "execution_count": 32,
     "metadata": {},
     "output_type": "execute_result"
    }
   ],
   "source": [
    "head(encoded_Y_df)"
   ]
  },
  {
   "cell_type": "code",
   "execution_count": 34,
   "metadata": {},
   "outputs": [
    {
     "data": {
      "text/plain": [
       "8995×1 Array{Float64,2}:\n",
       " 1.0\n",
       " 1.0\n",
       " 1.0\n",
       " 1.0\n",
       " 1.0\n",
       " 1.0\n",
       " 1.0\n",
       " 1.0\n",
       " 1.0\n",
       " 1.0\n",
       " 0.0\n",
       " 1.0\n",
       " 0.0\n",
       " ⋮\n",
       " 1.0\n",
       " 1.0\n",
       " 1.0\n",
       " 1.0\n",
       " 1.0\n",
       " 1.0\n",
       " 0.0\n",
       " 1.0\n",
       " 1.0\n",
       " 1.0\n",
       " 1.0\n",
       " 1.0"
      ]
     },
     "execution_count": 34,
     "metadata": {},
     "output_type": "execute_result"
    }
   ],
   "source": [
    "X = Matrix(encoded_X_df);\n",
    "Y = Matrix(encoded_Y_df);"
   ]
  },
  {
   "cell_type": "markdown",
   "metadata": {},
   "source": [
    "### Train and test data split using Python\n",
    "\n",
    "The train and test split can also be done using the **sklearn module**. If we use @sk_import to call the train_test_split function from model_selection module, we will get a warning message. Reason, the native ScikitLearn package in Julia has already defined train_test_split() in CrossValidation module, so better to use it from this module.\n",
    "\n",
    "In MLJ, we have partition() function to do the split but we are not using it as of now."
   ]
  },
  {
   "cell_type": "code",
   "execution_count": 35,
   "metadata": {},
   "outputs": [],
   "source": [
    "using ScikitLearn.CrossValidation: train_test_split"
   ]
  },
  {
   "cell_type": "code",
   "execution_count": 36,
   "metadata": {},
   "outputs": [],
   "source": [
    "X_train, X_test, y_train, y_test = train_test_split( X, Y, test_size = 0.3, random_state = 42);"
   ]
  },
  {
   "cell_type": "code",
   "execution_count": 37,
   "metadata": {},
   "outputs": [
    {
     "name": "stdout",
     "output_type": "stream",
     "text": [
      "size(X_train) = (6296, 29)\n",
      "size(X_test) = (2699, 29)\n"
     ]
    },
    {
     "data": {
      "text/plain": [
       "(2699, 29)"
      ]
     },
     "execution_count": 37,
     "metadata": {},
     "output_type": "execute_result"
    }
   ],
   "source": [
    "@show size(X_train)\n",
    "@show size(X_test)"
   ]
  },
  {
   "cell_type": "markdown",
   "metadata": {},
   "source": [
    "In case there is class imbalance, the below code chunk can be used to remove the class imbalance before any algorithm is tried."
   ]
  },
  {
   "cell_type": "markdown",
   "metadata": {},
   "source": [
    "## Model Building: Using the **sklearn** \n",
    "\n"
   ]
  },
  {
   "cell_type": "code",
   "execution_count": 38,
   "metadata": {},
   "outputs": [
    {
     "data": {
      "text/plain": [
       "PyObject <class 'sklearn.linear_model._logistic.LogisticRegression'>"
      ]
     },
     "execution_count": 38,
     "metadata": {},
     "output_type": "execute_result"
    }
   ],
   "source": [
    "@sk_import linear_model: (LogisticRegression)"
   ]
  },
  {
   "cell_type": "code",
   "execution_count": 41,
   "metadata": {
    "Rmd_chunk_options": "caretModel, echo=TRUE, message=FALSE, warning=FALSE",
    "autoscroll": false,
    "scrolled": false
   },
   "outputs": [
    {
     "data": {
      "text/plain": [
       "PyObject LogisticRegression()"
      ]
     },
     "execution_count": 41,
     "metadata": {},
     "output_type": "execute_result"
    }
   ],
   "source": [
    "lg_reg_model = ScikitLearn.fit!(LogisticRegression(), X_train, y_train)"
   ]
  },
  {
   "cell_type": "markdown",
   "metadata": {},
   "source": [
    "## Model Evaluation\n"
   ]
  },
  {
   "cell_type": "markdown",
   "metadata": {},
   "source": [
    "### 1. The prediction on train data.\n",
    "\n",
    "To predict the outcome on the **train set**\n",
    "> * Use **predict** function of the model object \n"
   ]
  },
  {
   "cell_type": "code",
   "execution_count": 43,
   "metadata": {
    "Rmd_chunk_options": "caretVarImp, echo=TRUE",
    "autoscroll": false
   },
   "outputs": [
    {
     "data": {
      "text/plain": [
       "2699-element Array{Float64,1}:\n",
       " 1.0\n",
       " 1.0\n",
       " 1.0\n",
       " 1.0\n",
       " 1.0\n",
       " 1.0\n",
       " 1.0\n",
       " 1.0\n",
       " 1.0\n",
       " 1.0\n",
       " 1.0\n",
       " 1.0\n",
       " 1.0\n",
       " ⋮\n",
       " 1.0\n",
       " 1.0\n",
       " 1.0\n",
       " 1.0\n",
       " 1.0\n",
       " 1.0\n",
       " 1.0\n",
       " 1.0\n",
       " 1.0\n",
       " 1.0\n",
       " 1.0\n",
       " 1.0"
      ]
     },
     "execution_count": 43,
     "metadata": {},
     "output_type": "execute_result"
    }
   ],
   "source": [
    "# Make predictions using the testing set\n",
    "y_pred = ScikitLearn.predict(lg_reg_model,X_test)"
   ]
  },
  {
   "cell_type": "code",
   "execution_count": 44,
   "metadata": {
    "Rmd_chunk_options": "caretVarImp, echo=TRUE",
    "autoscroll": false
   },
   "outputs": [
    {
     "data": {
      "text/plain": [
       "2699×2 Array{Float64,2}:\n",
       " 0.0450288  0.954971\n",
       " 0.109835   0.890165\n",
       " 0.0849472  0.915053\n",
       " 0.222328   0.777672\n",
       " 0.0854943  0.914506\n",
       " 0.226441   0.773559\n",
       " 0.218286   0.781714\n",
       " 0.17077    0.82923\n",
       " 0.0592248  0.940775\n",
       " 0.173216   0.826784\n",
       " 0.289107   0.710893\n",
       " 0.0777633  0.922237\n",
       " 0.111257   0.888743\n",
       " ⋮          \n",
       " 0.315407   0.684593\n",
       " 0.369644   0.630356\n",
       " 0.0954781  0.904522\n",
       " 0.2535     0.7465\n",
       " 0.181376   0.818624\n",
       " 0.313577   0.686423\n",
       " 0.269765   0.730235\n",
       " 0.2568     0.7432\n",
       " 0.30588    0.69412\n",
       " 0.127011   0.872989\n",
       " 0.219395   0.780605\n",
       " 0.37469    0.62531"
      ]
     },
     "execution_count": 44,
     "metadata": {},
     "output_type": "execute_result"
    }
   ],
   "source": [
    "y_pred = lg_reg_model.predict_proba(X_test)"
   ]
  },
  {
   "cell_type": "code",
   "execution_count": 45,
   "metadata": {},
   "outputs": [
    {
     "name": "stdout",
     "output_type": "stream",
     "text": [
      "Coefficients: \n",
      "[-0.11195296063309901 0.0020243874193852135 -0.020062165454874045 -0.509670606327758 0.43273468204578897 0.12314217949720567 0.0034563775473930624 0.056298252746685706 0.01948241670657845 -0.6979869844884219 -0.3997031930051729 -0.03162935326834916 -0.20377634216801174 -0.046837731013220626 0.05840433396316921 0.1162952357379013 0.288598744322289 0.6192756335716718 -0.027521383163637964 -0.05140982751605044 -0.04149328182996375 0.026376992142095435 -0.127901128067067 -0.015543111473654657 0.06629587575726618 0.11827507689112314 0.32697633790810043 0.043587440759225535 0.06592847638113887]Intercept: \n",
      "[0.35238705737807335]"
     ]
    }
   ],
   "source": [
    "# The coefficients\n",
    "print(\"Coefficients: \\n\", lg_reg_model.coef_)\n",
    "print(\"Intercept: \\n\", lg_reg_model.intercept_)"
   ]
  },
  {
   "cell_type": "code",
   "execution_count": 49,
   "metadata": {
    "Rmd_chunk_options": "caretVarImp, echo=TRUE",
    "autoscroll": false,
    "scrolled": false
   },
   "outputs": [
    {
     "data": {
      "text/html": [
       "<table class=\"data-frame\"><thead><tr><th></th><th>x1</th><th>x2</th></tr><tr><th></th><th>Float64</th><th>Float64</th></tr></thead><tbody><p>6 rows × 2 columns</p><tr><th>1</th><td>0.144336</td><td>0.855664</td></tr><tr><th>2</th><td>0.0943273</td><td>0.905673</td></tr><tr><th>3</th><td>0.152119</td><td>0.847881</td></tr><tr><th>4</th><td>0.276366</td><td>0.723634</td></tr><tr><th>5</th><td>0.193261</td><td>0.806739</td></tr><tr><th>6</th><td>0.303941</td><td>0.696059</td></tr></tbody></table>"
      ],
      "text/latex": [
       "\\begin{tabular}{r|cc}\n",
       "\t& x1 & x2\\\\\n",
       "\t\\hline\n",
       "\t& Float64 & Float64\\\\\n",
       "\t\\hline\n",
       "\t1 & 0.144336 & 0.855664 \\\\\n",
       "\t2 & 0.0943273 & 0.905673 \\\\\n",
       "\t3 & 0.152119 & 0.847881 \\\\\n",
       "\t4 & 0.276366 & 0.723634 \\\\\n",
       "\t5 & 0.193261 & 0.806739 \\\\\n",
       "\t6 & 0.303941 & 0.696059 \\\\\n",
       "\\end{tabular}\n"
      ],
      "text/plain": [
       "6×2 DataFrame\n",
       "│ Row │ x1        │ x2       │\n",
       "│     │ \u001b[90mFloat64\u001b[39m   │ \u001b[90mFloat64\u001b[39m  │\n",
       "├─────┼───────────┼──────────┤\n",
       "│ 1   │ 0.144336  │ 0.855664 │\n",
       "│ 2   │ 0.0943273 │ 0.905673 │\n",
       "│ 3   │ 0.152119  │ 0.847881 │\n",
       "│ 4   │ 0.276366  │ 0.723634 │\n",
       "│ 5   │ 0.193261  │ 0.806739 │\n",
       "│ 6   │ 0.303941  │ 0.696059 │"
      ]
     },
     "execution_count": 49,
     "metadata": {},
     "output_type": "execute_result"
    }
   ],
   "source": [
    "predict_porb_train_df = convert(DataFrame, lg_reg_model.predict_proba(X_train))\n",
    "\n",
    "head(predict_porb_train_df)"
   ]
  },
  {
   "cell_type": "markdown",
   "metadata": {},
   "source": [
    "### 2. The prediction on test data.\n",
    "\n",
    "The prediction can be carried out by **defining functions** as well. Below is one such instance wherein a function is defined and is used for prediction"
   ]
  },
  {
   "cell_type": "code",
   "execution_count": null,
   "metadata": {
    "Rmd_chunk_options": "caretPrediction, echo=TRUE",
    "autoscroll": false
   },
   "outputs": [],
   "source": [
    "def get_predictions ( test_class, model, test_data ):\n",
    "    predicted_df = pd.DataFrame(model.predict_proba(test_data))\n",
    "    y_pred_df = pd.concat([test_class.reset_index(drop=True), predicted_df.iloc[:,1:]], axis =1)\n",
    "    return y_pred_df"
   ]
  },
  {
   "cell_type": "markdown",
   "metadata": {},
   "source": [
    "Giving label to the Y column of the test set by using the dictionary data type in python. This is being done for the model which was built using dummy variable coding. It will be used to generate confusion matrix at a later time"
   ]
  },
  {
   "cell_type": "code",
   "execution_count": null,
   "metadata": {
    "scrolled": false
   },
   "outputs": [],
   "source": [
    "test_series = y_test\n",
    "train_series = y_train\n",
    "\n",
    "status_dict = {1:\"Joined\", 0:\"Not Joined\"}\n",
    "class_test_df = test_series.replace(dict(Joined=status_dict))\n",
    "class_test_df.rename({'Joined': 'status'}, axis='columns', inplace=True )\n",
    "\n",
    "class_train_df = train_series.replace(dict(Joined=status_dict))\n",
    "class_train_df.rename({'Joined': 'status'}, axis='columns', inplace=True )\n",
    "\n",
    "class_test_df.head()\n",
    "y_test.head()\n",
    "#class_train_df.info()"
   ]
  },
  {
   "cell_type": "code",
   "execution_count": 54,
   "metadata": {},
   "outputs": [
    {
     "data": {
      "text/html": [
       "<table class=\"data-frame\"><thead><tr><th></th><th>x1</th><th>x2</th></tr><tr><th></th><th>Float64</th><th>Float64</th></tr></thead><tbody><p>6 rows × 2 columns</p><tr><th>1</th><td>0.0450288</td><td>0.954971</td></tr><tr><th>2</th><td>0.109835</td><td>0.890165</td></tr><tr><th>3</th><td>0.0849472</td><td>0.915053</td></tr><tr><th>4</th><td>0.222328</td><td>0.777672</td></tr><tr><th>5</th><td>0.0854943</td><td>0.914506</td></tr><tr><th>6</th><td>0.226441</td><td>0.773559</td></tr></tbody></table>"
      ],
      "text/latex": [
       "\\begin{tabular}{r|cc}\n",
       "\t& x1 & x2\\\\\n",
       "\t\\hline\n",
       "\t& Float64 & Float64\\\\\n",
       "\t\\hline\n",
       "\t1 & 0.0450288 & 0.954971 \\\\\n",
       "\t2 & 0.109835 & 0.890165 \\\\\n",
       "\t3 & 0.0849472 & 0.915053 \\\\\n",
       "\t4 & 0.222328 & 0.777672 \\\\\n",
       "\t5 & 0.0854943 & 0.914506 \\\\\n",
       "\t6 & 0.226441 & 0.773559 \\\\\n",
       "\\end{tabular}\n"
      ],
      "text/plain": [
       "6×2 DataFrame\n",
       "│ Row │ x1        │ x2       │\n",
       "│     │ \u001b[90mFloat64\u001b[39m   │ \u001b[90mFloat64\u001b[39m  │\n",
       "├─────┼───────────┼──────────┤\n",
       "│ 1   │ 0.0450288 │ 0.954971 │\n",
       "│ 2   │ 0.109835  │ 0.890165 │\n",
       "│ 3   │ 0.0849472 │ 0.915053 │\n",
       "│ 4   │ 0.222328  │ 0.777672 │\n",
       "│ 5   │ 0.0854943 │ 0.914506 │\n",
       "│ 6   │ 0.226441  │ 0.773559 │"
      ]
     },
     "execution_count": 54,
     "metadata": {},
     "output_type": "execute_result"
    }
   ],
   "source": [
    "predict_test_df = convert(DataFrame, lg_reg_model.predict_proba(X_test))\n",
    "\n",
    "head(predict_test_df)"
   ]
  },
  {
   "cell_type": "code",
   "execution_count": null,
   "metadata": {
    "scrolled": true
   },
   "outputs": [],
   "source": [
    "predict_test_df = pd.DataFrame(get_predictions(class_test_df.status, lg_reg_model, X_test))\n",
    "predict_test_df.rename(columns = {1:'predicted_prob'}, inplace=True)\n",
    "predict_test_df.head()"
   ]
  },
  {
   "cell_type": "code",
   "execution_count": null,
   "metadata": {},
   "outputs": [],
   "source": [
    "predict_test_df['predicted'] = predict_test_df.predicted_prob.map(lambda x: 'Joined' if x > 0.5 else 'Not Joined')\n",
    "predict_test_df[0:10]"
   ]
  },
  {
   "cell_type": "code",
   "execution_count": null,
   "metadata": {},
   "outputs": [],
   "source": [
    "pd.crosstab(predict_test_df.status,predict_test_df.predicted)"
   ]
  },
  {
   "cell_type": "markdown",
   "metadata": {},
   "source": [
    "### 3. Confusion Matrix\n",
    "\n",
    "We will built classification matrix using the **metrics** method from **sklearn** package. We will also write a custom function to build a classification matrix and use it for reporting the performance measures.\n",
    "\n",
    "#### 3a. Confusion Matrix using sklearn"
   ]
  },
  {
   "cell_type": "code",
   "execution_count": 50,
   "metadata": {},
   "outputs": [
    {
     "data": {
      "text/plain": [
       "PyObject <function classification_report at 0x7fc8808bc3a0>"
      ]
     },
     "execution_count": 50,
     "metadata": {},
     "output_type": "execute_result"
    }
   ],
   "source": [
    "@sk_import metrics: (confusion_matrix, classification_report)"
   ]
  },
  {
   "cell_type": "code",
   "execution_count": 51,
   "metadata": {},
   "outputs": [],
   "source": [
    "#from sklearn import metrics\n",
    "#from sklearn.metrics import confusion_matrix\n",
    "#from sklearn.metrics import classification_report"
   ]
  },
  {
   "cell_type": "code",
   "execution_count": 52,
   "metadata": {
    "scrolled": true
   },
   "outputs": [
    {
     "name": "stdout",
     "output_type": "stream",
     "text": [
      "The model with dummy variable coding output: "
     ]
    },
    {
     "ename": "LoadError",
     "evalue": "UndefVarError: class_test_df not defined",
     "output_type": "error",
     "traceback": [
      "UndefVarError: class_test_df not defined",
      "",
      "Stacktrace:",
      " [1] top-level scope at In[52]:2",
      " [2] include_string(::Function, ::Module, ::String, ::String) at ./loading.jl:1091",
      " [3] execute_code(::String, ::String) at /Users/Rahul/.julia/packages/IJulia/rWZ9e/src/execute_request.jl:27",
      " [4] execute_request(::ZMQ.Socket, ::IJulia.Msg) at /Users/Rahul/.julia/packages/IJulia/rWZ9e/src/execute_request.jl:86",
      " [5] #invokelatest#1 at ./essentials.jl:710 [inlined]",
      " [6] invokelatest at ./essentials.jl:709 [inlined]",
      " [7] eventloop(::ZMQ.Socket) at /Users/Rahul/.julia/packages/IJulia/rWZ9e/src/eventloop.jl:8",
      " [8] (::IJulia.var\"#15#18\")() at ./task.jl:356"
     ]
    }
   ],
   "source": [
    "print(\"The model with dummy variable coding output: \")\n",
    "confusion_matrix(class_test_df.status, predict_test_df.predicted)\n",
    "lg_reg_report = (classification_report(class_test_df.status, predict_test_df.predicted))\n",
    "print(lg_reg_report)\n"
   ]
  },
  {
   "cell_type": "markdown",
   "metadata": {},
   "source": [
    "### 4. Performance Measure on the test set\n"
   ]
  },
  {
   "cell_type": "code",
   "execution_count": null,
   "metadata": {},
   "outputs": [],
   "source": [
    "def measure_performance (clasf_matrix):\n",
    "    measure = pd.DataFrame({\n",
    "                        'sensitivity': [round(clasf_matrix[0,0]/(clasf_matrix[0,0]+clasf_matrix[0,1]),2)], \n",
    "                        'specificity': [round(clasf_matrix[1,1]/(clasf_matrix[1,0]+clasf_matrix[1,1]),2)],\n",
    "                        'recall': [round(clasf_matrix[0,0]/(clasf_matrix[0,0]+clasf_matrix[0,1]),2)],\n",
    "                        'precision': [round(clasf_matrix[0,0]/(clasf_matrix[0,0]+clasf_matrix[1,0]),2)],\n",
    "                        'overall_acc': [round((clasf_matrix[0,0]+clasf_matrix[1,1])/\n",
    "                                              (clasf_matrix[0,0]+clasf_matrix[0,1]+clasf_matrix[1,0]+clasf_matrix[1,1]),2)]\n",
    "                       })\n",
    "    return measure"
   ]
  },
  {
   "cell_type": "code",
   "execution_count": null,
   "metadata": {},
   "outputs": [],
   "source": [
    "cm = metrics.confusion_matrix(predict_test_df.status, predict_test_df.predicted)\n",
    "\n",
    "lg_reg_metrics_df = pd.DataFrame(measure_performance(cm))\n",
    "lg_reg_metrics_df\n",
    "\n",
    "print( 'Total Accuracy sklearn: ',np.round( metrics.accuracy_score( class_test_df.status, predict_test_df.predicted ), 2 ))\n",
    "\n"
   ]
  },
  {
   "cell_type": "markdown",
   "metadata": {},
   "source": [
    "\n",
    "### 5. The optimal cut-off\n",
    "\n",
    "We are going to use model with dummy variable coding to select the optimal cut-off. \n"
   ]
  },
  {
   "cell_type": "markdown",
   "metadata": {},
   "source": [
    "\n",
    "#### Select the optimal cut-off value, if:\n",
    "\n",
    "> 1. Cost of Mis-classifying Not Joined as Joined is twice as costly as cost of micalssifying Joined as Not Joined\n",
    "2. Both sensitivity and specificity are equally important\n",
    "\n",
    "The best cut-off is the one which minimizes the misclassification cost (in case of **_option 1_**) or which maximizes the Youden's Index (in case of **_Option 2_**)."
   ]
  },
  {
   "cell_type": "code",
   "execution_count": null,
   "metadata": {
    "Rmd_chunk_options": "modelOptimalCutOff, echo=FALSE,tidy=TRUE",
    "autoscroll": false
   },
   "outputs": [],
   "source": [
    "lg_pred_prob = pd.DataFrame(lg_reg_model.predict_proba(X_train))\n",
    "n = len(X_train)\n",
    "\n",
    "d = {\"Joined\":(0,5), \"Not Joined\": (2,0)}\n",
    "\n",
    "costs = pd.DataFrame(d, index = ('Joined', 'Not Joined'))\n",
    "\n",
    "print(costs)\n"
   ]
  },
  {
   "cell_type": "markdown",
   "metadata": {},
   "source": [
    "The other way to create the cost table"
   ]
  },
  {
   "cell_type": "code",
   "execution_count": null,
   "metadata": {},
   "outputs": [],
   "source": [
    "costs =  pd.DataFrame.from_dict({'Joined': [0,1], 'Not Joined': [2,0]},\n",
    "                    orient='index', columns=['Joined', 'Not Joined'])\n",
    "\n",
    "print(costs)\n",
    "costs.iloc[0][1] #to refer to specific value at a given position"
   ]
  },
  {
   "cell_type": "code",
   "execution_count": null,
   "metadata": {},
   "outputs": [],
   "source": [
    "lg_pred_prob.rename(columns = {1: 'predicted'}, inplace=True)"
   ]
  },
  {
   "cell_type": "markdown",
   "metadata": {},
   "source": [
    "\n",
    "Defining loop function to loop through float values\n"
   ]
  },
  {
   "cell_type": "code",
   "execution_count": null,
   "metadata": {},
   "outputs": [],
   "source": [
    "def frange(start, stop, step):\n",
    "     s = start\n",
    "     while s < stop:\n",
    "         yield s\n",
    "         s += step"
   ]
  },
  {
   "cell_type": "markdown",
   "metadata": {},
   "source": [
    "* 'P11': [round(tbl[0,0]/(tbl[0,0]+tbl[0,1]),2)], \n",
    "* 'P00': [round(tbl[1,1]/(tbl[1,0]+tbl[1,1]),2)],"
   ]
  },
  {
   "cell_type": "code",
   "execution_count": null,
   "metadata": {
    "Rmd_chunk_options": "costCal, echo=TRUE, tidy=TRUE",
    "autoscroll": false
   },
   "outputs": [],
   "source": [
    "#creating empty vectors to store the results.\n",
    "cutoff = []\n",
    "P11 = [] #correct classification of positive as positive\n",
    "P00 = [] #correct classification of negative as negative\n",
    "P10 = [] #\n",
    "P01 = [] \n",
    "\n",
    "for i in frange(0.00, 1, 0.05):\n",
    "    predicted_y = lg_pred_prob.predicted.map(lambda x: 'Joined' if x > i else 'Not Joined')\n",
    "    tbl = metrics.confusion_matrix(class_train_df.status, predicted_y)\n",
    "    if ( i <= 1):\n",
    "        j = int(20*i)\n",
    "        P01.append(tbl[1,0]/(tbl[1,0] + tbl[1,1]))\n",
    "        P00.append(tbl[1,1]/(tbl[1,0] + tbl[1,1]))\n",
    "        P10.append(tbl[0,1]/(tbl[0,0] + tbl[0,1]))\n",
    "        P11.append(tbl[0,0]/(tbl[0,0] + tbl[0,1]))\n",
    "        cutoff.append(i)\n",
    "\n",
    "d = {'cutoff':cutoff,'P10':P10,'P01': P01,'P00': P00,'P11':P11}\n",
    "df_cost_table = pd.DataFrame(d, columns=['cutoff','P00','P01','P10','P11'])"
   ]
  },
  {
   "cell_type": "code",
   "execution_count": null,
   "metadata": {},
   "outputs": [],
   "source": [
    "df_cost_table"
   ]
  },
  {
   "cell_type": "markdown",
   "metadata": {},
   "source": [
    "\n",
    "The table summarizing the optimal cut-off value:\n",
    "\n",
    "_write the cost.table into a csv file_\n"
   ]
  },
  {
   "cell_type": "code",
   "execution_count": null,
   "metadata": {
    "Rmd_chunk_options": "modelOptimalCutoffTable, echo=FALSE",
    "autoscroll": false
   },
   "outputs": [],
   "source": [
    "df_cost_table['msclaf_cost'] = df_cost_table.P10*costs.iloc[0,1]+df_cost_table.P01*costs.iloc[1,0]\n",
    "df_cost_table['youden_index'] = df_cost_table.P00+df_cost_table.P11 -1\n",
    "df_cost_table\n",
    "\n",
    "#write to csv\n",
    "#df_cost_table.to_csv(\"optimal_Cutoff_caret.csv\", sep=',')\n",
    "#os.getcwd()"
   ]
  },
  {
   "cell_type": "markdown",
   "metadata": {},
   "source": [
    "\n",
    "### 5. Confusion Matrix using Optimal Cut-off\n",
    "\n",
    "The probability value along with the optimal cut-off can be used to build confusion matrix. We will use the **draw_cm** and **performance_measure** functions defined previously to report the performance of the model."
   ]
  },
  {
   "cell_type": "code",
   "execution_count": null,
   "metadata": {
    "Rmd_chunk_options": "modelValidation, echo=FALSE,tidy=TRUE",
    "autoscroll": false,
    "scrolled": true
   },
   "outputs": [],
   "source": [
    "predict_test_df['predicted'] = predict_test_df.predicted_prob.map(lambda x: 'Joined' if x > 0.9 else 'Not Joined') \n",
    "predict_test_df[0:10]"
   ]
  },
  {
   "cell_type": "code",
   "execution_count": null,
   "metadata": {},
   "outputs": [],
   "source": [
    "draw_cm( predict_test_df.status, predict_test_df.predicted )"
   ]
  },
  {
   "cell_type": "code",
   "execution_count": null,
   "metadata": {},
   "outputs": [],
   "source": [
    "predict_test_df['predicted_8'] = predict_test_df.predicted_prob.map(lambda x: 'Joined' if x > 0.8 else 'Not Joined') \n",
    "draw_cm( predict_test_df.status, predict_test_df.predicted_8)"
   ]
  },
  {
   "cell_type": "code",
   "execution_count": null,
   "metadata": {},
   "outputs": [],
   "source": [
    "cm = metrics.confusion_matrix(predict_test_df.status, predict_test_df.predicted)\n",
    "\n",
    "pd.DataFrame(measure_performance(cm))"
   ]
  },
  {
   "cell_type": "code",
   "execution_count": null,
   "metadata": {},
   "outputs": [],
   "source": [
    "cm = metrics.confusion_matrix(predict_test_df.status, predict_test_df.predicted_8)\n",
    "\n",
    "pd.DataFrame(measure_performance(cm))"
   ]
  },
  {
   "cell_type": "markdown",
   "metadata": {},
   "source": [
    "## Deployment - Save model\n",
    "\n",
    "Save the model using JLD and PyCallJLD (Neeed if using @sk_import)"
   ]
  },
  {
   "cell_type": "code",
   "execution_count": null,
   "metadata": {},
   "outputs": [],
   "source": [
    "JLD.save(\"lg_reg_model.jld\", \"model\", lg_reg_model)"
   ]
  },
  {
   "cell_type": "markdown",
   "metadata": {},
   "source": [
    "## Use model on New Cases\n",
    "\n",
    "We can load the model object for later use. Assuming that X_test is a new data on which we will want to use the model."
   ]
  },
  {
   "cell_type": "code",
   "execution_count": null,
   "metadata": {},
   "outputs": [],
   "source": [
    "new_model = JLD.load(\"lg_reg_model.jld\", \"model\")    # Load it back"
   ]
  },
  {
   "cell_type": "code",
   "execution_count": null,
   "metadata": {},
   "outputs": [],
   "source": [
    "new_model.estimator"
   ]
  },
  {
   "cell_type": "code",
   "execution_count": null,
   "metadata": {},
   "outputs": [],
   "source": [
    "new_model.predict(X_test)"
   ]
  },
  {
   "cell_type": "code",
   "execution_count": null,
   "metadata": {},
   "outputs": [],
   "source": [
    "new_model.score(X_test,y_test)"
   ]
  },
  {
   "cell_type": "markdown",
   "metadata": {},
   "source": [
    "\n",
    "#### End of Document\n",
    "\n",
    "***\n",
    "***\n"
   ]
  }
 ],
 "metadata": {
  "@webio": {
   "lastCommId": null,
   "lastKernelId": null
  },
  "Rmd_header": {
   "author": "Kumar Rahul",
   "date": "9 September 2016",
   "output": "word_document",
   "title": "Logistic Regression using Caret Package"
  },
  "kernelspec": {
   "display_name": "Julia 1.5.2",
   "language": "julia",
   "name": "julia-1.5"
  },
  "language_info": {
   "file_extension": ".jl",
   "mimetype": "application/julia",
   "name": "julia",
   "version": "1.5.2"
  }
 },
 "nbformat": 4,
 "nbformat_minor": 1
}

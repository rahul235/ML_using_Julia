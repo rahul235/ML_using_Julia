{
 "cells": [
  {
   "cell_type": "markdown",
   "metadata": {},
   "source": [
    "<p style=\"font-family: Arial; font-size:2.75em;color:purple; font-style:bold\">\n",
    "Ridge Regression using Julia (ScikitLearn):</p>\n",
    "<p style=\"font-family: Arial; font-size:2.25em;color:green; font-style:bold\">\n",
    "Kumar Rahul</p><br>\n",
    "\n",
    "\n",
    "ScikitLearn.jl implements the popular scikit-learn interface and algorithms in Julia. It supports both models from the Julia ecosystem and those of the scikit-learn library (via PyCall.jl).\n",
    "\n",
    "* More at: https://cstjean.github.io/ScikitLearn.jl/dev/man/python/\n",
    "* Examples at: https://github.com/cstjean/ScikitLearn.jl/blob/master/docs/src/man/examples.md\n",
    "\n",
    "\n",
    "### We will be using DAD hospital data in this exercise. Refer the Exhibit 1 to understand the feature list. Use the DAD Hospital data and answer the below questions.\n",
    "\n",
    "1.\tLoad the dataset in Jupyter Notebook using CSV\n",
    "2.\tBuild a correlation matrix between all the numeric features in the dataset.\n",
    "3.\tBuild a new feature named BMI using body height and body weight. Include this as a part of the data frame created in step 1.\n",
    "4.\tCreate a new data frame with the numeric features and categorical features as dummy variable coded features. Which features will you include for model building and why?\n",
    "5.\tSplit the data into training set and test set. Use 80% of data for model training and 20% for model testing. \n",
    "6.\tBuild a model using age as independent variable and cost of treatment as dependent variable.\n",
    "    > * Is age a significant feature in this model?\n",
    "    * What inferences can be drawn from this model? \n",
    "7.\tBuild a model with statsmodel.api to estimate the total cost to hospital. How do you interpret the model outcome? Report the model performance on the test set.\n",
    "8.\tBuild a model with statsmodel.formula.api to estimate the total cost to hospital and report the model performance on the test set. What difference do you observe in the model built here and the one built in step 7.\n",
    "9.\tBuild a model using sklearn package to estimate the total cost to hospital. What difference do you observe in this model compared to model built in step 7 and 8.\n",
    "10. Build a model using lasso, ridge and elastic net regression. What differences do you observe?\n",
    "\n",
    "**PS: Not all the questions are being answered as a part of the same notebook. You are encouraged to answer the questions if you find them missing.**\n",
    "\n",
    "**Exhibit 1**\n",
    "\n",
    "|Sl.No.|Variable|\tDescription|\n",
    "|------|--------|--------------|\n",
    "|1|Age|\t Age of the patient in years|\n",
    "|2|Body Weight|\t Weight of the patient in Kilograms|\n",
    "|3|Body Height| \tHeight of the patient in cm|\n",
    "|4|HR Pulse|\t Pulse of patient at the time of admission|\n",
    "|5|BP-High|\t High BP of patient (Systolic)|\n",
    "|6|BP-Low|\t Low BP of patient (Diastolic)|\n",
    "|7|RR|\t Respiratory rate of patient|\n",
    "|8|HB|\t Hemoglobin count of patient|\n",
    "|9|Urea|\t Urea levels of patient|\n",
    "|10|Creatinine|\t Creatinine levels of patient|\n",
    "|11|Marital Status|\t Marital status of the patient|\n",
    "|12|Gender|\t  Gender code for patient|\n",
    "|13|Past Medical History Code|\t Code given to the past medical history of the Patient|\n",
    "|14|Mode of Arrival|\t Way in which the patient arrived the hospital|\n",
    "|15|State at the Time of Arrival|\t State in which the patient arrived|\n",
    "|16|Type of Admission|\t Type of admission for the patient|\n",
    "|17|Key Complaints Code|\t Codes given to the key complaints faced by the patient|\n",
    "|18|Total Cost to Hospital|\t Actual cost incurred by the hospital|\n",
    "|19|Total Length of Stay|\t Number of days patient stayed in the hospital|\n",
    "|20|Length of Stay - ICU|\t Number of days patient stayed in the ICU|\n",
    "|21|Length of Stay - Ward|\t Number of days patient stayed in the ward|\n",
    "|22|Implant used (Y/N)|\t Any implant done on the patient|\n",
    "|23|Cost of Implant|\t Total cost of all the implants done on the patient, if any|\n",
    "\n",
    "\n",
    "***\n",
    "\n",
    "# Code starts here"
   ]
  },
  {
   "cell_type": "markdown",
   "metadata": {},
   "source": [
    "We are going to use below mentioned libraries for **data import, processing and visulization**. As we progress, we will use other specific libraries for model building and evaluation. "
   ]
  },
  {
   "cell_type": "code",
   "execution_count": 1,
   "metadata": {
    "Rmd_chunk_options": "libraries, echo=TRUE, message=FALSE, warning=FALSE",
    "autoscroll": false
   },
   "outputs": [],
   "source": [
    "#import pandas as pd \n",
    "#import numpy as np\n",
    "#import seaborn as sn # visualization library based on matplotlib\n",
    "#import matplotlib.pylab as plt\n",
    "\n",
    "#the output of plotting commands is displayed inline within Jupyter notebook\n",
    "#%matplotlib inline "
   ]
  },
  {
   "cell_type": "markdown",
   "metadata": {},
   "source": [
    "**Use Pkg.add(\"Package-name\") to install the packages before proceeding further.**"
   ]
  },
  {
   "cell_type": "code",
   "execution_count": 2,
   "metadata": {},
   "outputs": [],
   "source": [
    "using Pkg\n",
    "using CSV\n",
    "using DataFrames\n",
    "using Statistics\n",
    "using FreqTables\n",
    "using StatsBase\n",
    "using Gadfly\n",
    "using Printf\n",
    "using MLJ ##Machine Learning Julia, schema() from this package.\n",
    "using ScikitLearn ##Machine Learning using SciKitLearn\n",
    "using JLD ##To save model object\n",
    "using PyCallJLD #to save model object"
   ]
  },
  {
   "cell_type": "markdown",
   "metadata": {},
   "source": [
    "\n",
    "## Data Import and Manipulation\n",
    "\n",
    "### 1. Importing a data set\n",
    "\n",
    "_Give the correct path to the data_\n",
    "\n"
   ]
  },
  {
   "cell_type": "markdown",
   "metadata": {},
   "source": [
    "Change the display settings for columns"
   ]
  },
  {
   "cell_type": "code",
   "execution_count": 3,
   "metadata": {},
   "outputs": [
    {
     "data": {
      "text/plain": [
       "30"
      ]
     },
     "execution_count": 3,
     "metadata": {},
     "output_type": "execute_result"
    }
   ],
   "source": [
    "ENV[\"COLUMNS\"] = 1000\n",
    "\n",
    "ENV[\"LINES\"] = 30"
   ]
  },
  {
   "cell_type": "code",
   "execution_count": 4,
   "metadata": {},
   "outputs": [
    {
     "data": {
      "text/latex": [
       "The analogue of IPython's \\texttt{\\%pwd} is \\texttt{pwd()} in Julia.\n",
       "\n"
      ],
      "text/markdown": [
       "The analogue of IPython's `%pwd` is `pwd()` in Julia.\n"
      ],
      "text/plain": [
       "  The analogue of IPython's \u001b[36m%pwd\u001b[39m is \u001b[36mpwd()\u001b[39m in Julia."
      ]
     },
     "metadata": {},
     "output_type": "display_data"
    }
   ],
   "source": [
    "%pwd"
   ]
  },
  {
   "cell_type": "code",
   "execution_count": 5,
   "metadata": {},
   "outputs": [
    {
     "data": {
      "text/plain": [
       "\"/Users/Rahul/Documents/Rahul Office/IIMB/Concepts/Julia/ML_using_Julia/Julia_Code/Julia_regression/Code\""
      ]
     },
     "execution_count": 5,
     "metadata": {},
     "output_type": "execute_result"
    }
   ],
   "source": [
    "pwd()"
   ]
  },
  {
   "cell_type": "code",
   "execution_count": 6,
   "metadata": {
    "Rmd_chunk_options": "readData, echo=TRUE,tidy=TRUE",
    "autoscroll": false,
    "scrolled": true
   },
   "outputs": [
    {
     "data": {
      "text/html": [
       "<table class=\"data-frame\"><thead><tr><th></th><th>Sl_NO</th><th>AGE</th><th>GENDER</th><th>MARITAL_STATUS</th><th>KEY_COMPLAINTS_CODE</th><th>BODY_WEIGHT</th><th>BODY_HEIGHT</th><th>HR_PULSE</th><th>BP_HIGH</th><th>BP_LOW</th><th>RR</th><th>PAST_MEDICAL_HISTORY_CODE</th><th>HB</th><th>UREA</th><th>CREATININE</th><th>MODE_OF_ARRIVAL</th><th>STATE_AT_THE_TIME_OF_ARRIVAL</th><th>TYPE_OF_ADMSN</th><th>TOTAL_COST_TO_HOSPITAL</th><th>TOTAL_AMOUNT_BILLED_TO_THE_PATIENT</th><th>CONCESSION</th><th>ACTUAL_RECEIVABLE_AMOUNT</th><th>TOTAL_LENGTH_OF_STAY</th><th>LENGTH_OF_STAY_ICU</th><th>LENGTH_OF_STAY_WARD</th><th>IMPLANT_USED</th><th>COST_OF_IMPLANT</th></tr><tr><th></th><th>Int64</th><th>Float64</th><th>String</th><th>String</th><th>String</th><th>Int64</th><th>Int64</th><th>Int64</th><th>Int64</th><th>Int64</th><th>Int64</th><th>String</th><th>Int64</th><th>Int64</th><th>Float64</th><th>String</th><th>String</th><th>String</th><th>Float64</th><th>Int64</th><th>Int64</th><th>Int64</th><th>Int64</th><th>Int64</th><th>Int64</th><th>String</th><th>Int64</th></tr></thead><tbody><p>6 rows × 27 columns</p><tr><th>1</th><td>1</td><td>58.0</td><td>M</td><td>MARRIED</td><td>other- heart</td><td>49</td><td>160</td><td>118</td><td>100</td><td>80</td><td>32</td><td>None</td><td>11</td><td>33</td><td>0.8</td><td>AMBULANCE</td><td>ALERT</td><td>EMERGENCY</td><td>660293.0</td><td>474901</td><td>0</td><td>474901</td><td>25</td><td>12</td><td>13</td><td>Y</td><td>38000</td></tr><tr><th>2</th><td>2</td><td>59.0</td><td>M</td><td>MARRIED</td><td>CAD-DVD</td><td>41</td><td>155</td><td>78</td><td>70</td><td>50</td><td>28</td><td>None</td><td>11</td><td>95</td><td>1.7</td><td>AMBULANCE</td><td>ALERT</td><td>EMERGENCY</td><td>809130.0</td><td>944819</td><td>96422</td><td>848397</td><td>41</td><td>20</td><td>21</td><td>Y</td><td>39690</td></tr><tr><th>3</th><td>3</td><td>82.0</td><td>M</td><td>MARRIED</td><td>CAD-TVD</td><td>47</td><td>164</td><td>100</td><td>110</td><td>80</td><td>20</td><td>Diabetes2</td><td>12</td><td>15</td><td>0.8</td><td>WALKED IN</td><td>ALERT</td><td>ELECTIVE</td><td>362231.0</td><td>390000</td><td>30000</td><td>360000</td><td>18</td><td>9</td><td>9</td><td>N</td><td>0</td></tr><tr><th>4</th><td>4</td><td>46.0</td><td>M</td><td>MARRIED</td><td>CAD-DVD</td><td>80</td><td>173</td><td>122</td><td>110</td><td>80</td><td>24</td><td>hypertension1</td><td>12</td><td>74</td><td>1.5</td><td>AMBULANCE</td><td>ALERT</td><td>EMERGENCY</td><td>629990.0</td><td>324910</td><td>0</td><td>324910</td><td>14</td><td>13</td><td>1</td><td>Y</td><td>89450</td></tr><tr><th>5</th><td>5</td><td>60.0</td><td>M</td><td>MARRIED</td><td>CAD-DVD</td><td>58</td><td>175</td><td>72</td><td>180</td><td>100</td><td>18</td><td>Diabetes2</td><td>10</td><td>48</td><td>1.9</td><td>AMBULANCE</td><td>ALERT</td><td>EMERGENCY</td><td>444876.0</td><td>254673</td><td>10000</td><td>244673</td><td>24</td><td>12</td><td>12</td><td>N</td><td>0</td></tr><tr><th>6</th><td>6</td><td>75.0</td><td>M</td><td>MARRIED</td><td>CAD-DVD</td><td>45</td><td>140</td><td>130</td><td>215</td><td>140</td><td>42</td><td>None</td><td>12</td><td>29</td><td>1.0</td><td>AMBULANCE</td><td>ALERT</td><td>EMERGENCY</td><td>372357.0</td><td>499987</td><td>0</td><td>499987</td><td>31</td><td>9</td><td>22</td><td>N</td><td>0</td></tr></tbody></table>"
      ],
      "text/latex": [
       "\\begin{tabular}{r|ccccccccccccccccccccccccccc}\n",
       "\t& Sl\\_NO & AGE & GENDER & MARITAL\\_STATUS & KEY\\_COMPLAINTS\\_CODE & BODY\\_WEIGHT & BODY\\_HEIGHT & HR\\_PULSE & BP\\_HIGH & BP\\_LOW & RR & PAST\\_MEDICAL\\_HISTORY\\_CODE & HB & UREA & CREATININE & MODE\\_OF\\_ARRIVAL & STATE\\_AT\\_THE\\_TIME\\_OF\\_ARRIVAL & TYPE\\_OF\\_ADMSN & TOTAL\\_COST\\_TO\\_HOSPITAL & TOTAL\\_AMOUNT\\_BILLED\\_TO\\_THE\\_PATIENT & CONCESSION & ACTUAL\\_RECEIVABLE\\_AMOUNT & TOTAL\\_LENGTH\\_OF\\_STAY & LENGTH\\_OF\\_STAY\\_ICU & LENGTH\\_OF\\_STAY\\_WARD & IMPLANT\\_USED & COST\\_OF\\_IMPLANT\\\\\n",
       "\t\\hline\n",
       "\t& Int64 & Float64 & String & String & String & Int64 & Int64 & Int64 & Int64 & Int64 & Int64 & String & Int64 & Int64 & Float64 & String & String & String & Float64 & Int64 & Int64 & Int64 & Int64 & Int64 & Int64 & String & Int64\\\\\n",
       "\t\\hline\n",
       "\t1 & 1 & 58.0 & M & MARRIED & other- heart & 49 & 160 & 118 & 100 & 80 & 32 & None & 11 & 33 & 0.8 & AMBULANCE & ALERT & EMERGENCY & 660293.0 & 474901 & 0 & 474901 & 25 & 12 & 13 & Y & 38000 \\\\\n",
       "\t2 & 2 & 59.0 & M & MARRIED & CAD-DVD & 41 & 155 & 78 & 70 & 50 & 28 & None & 11 & 95 & 1.7 & AMBULANCE & ALERT & EMERGENCY & 809130.0 & 944819 & 96422 & 848397 & 41 & 20 & 21 & Y & 39690 \\\\\n",
       "\t3 & 3 & 82.0 & M & MARRIED & CAD-TVD & 47 & 164 & 100 & 110 & 80 & 20 & Diabetes2 & 12 & 15 & 0.8 & WALKED IN & ALERT & ELECTIVE & 362231.0 & 390000 & 30000 & 360000 & 18 & 9 & 9 & N & 0 \\\\\n",
       "\t4 & 4 & 46.0 & M & MARRIED & CAD-DVD & 80 & 173 & 122 & 110 & 80 & 24 & hypertension1 & 12 & 74 & 1.5 & AMBULANCE & ALERT & EMERGENCY & 629990.0 & 324910 & 0 & 324910 & 14 & 13 & 1 & Y & 89450 \\\\\n",
       "\t5 & 5 & 60.0 & M & MARRIED & CAD-DVD & 58 & 175 & 72 & 180 & 100 & 18 & Diabetes2 & 10 & 48 & 1.9 & AMBULANCE & ALERT & EMERGENCY & 444876.0 & 254673 & 10000 & 244673 & 24 & 12 & 12 & N & 0 \\\\\n",
       "\t6 & 6 & 75.0 & M & MARRIED & CAD-DVD & 45 & 140 & 130 & 215 & 140 & 42 & None & 12 & 29 & 1.0 & AMBULANCE & ALERT & EMERGENCY & 372357.0 & 499987 & 0 & 499987 & 31 & 9 & 22 & N & 0 \\\\\n",
       "\\end{tabular}\n"
      ],
      "text/plain": [
       "6×27 DataFrame\n",
       "│ Row │ Sl_NO │ AGE     │ GENDER │ MARITAL_STATUS │ KEY_COMPLAINTS_CODE │ BODY_WEIGHT │ BODY_HEIGHT │ HR_PULSE │ BP_HIGH │ BP_LOW │ RR    │ PAST_MEDICAL_HISTORY_CODE │ HB    │ UREA  │ CREATININE │ MODE_OF_ARRIVAL │ STATE_AT_THE_TIME_OF_ARRIVAL │ TYPE_OF_ADMSN │ TOTAL_COST_TO_HOSPITAL │ TOTAL_AMOUNT_BILLED_TO_THE_PATIENT │ CONCESSION │ ACTUAL_RECEIVABLE_AMOUNT │ TOTAL_LENGTH_OF_STAY │ LENGTH_OF_STAY_ICU │ LENGTH_OF_STAY_WARD │ IMPLANT_USED │ COST_OF_IMPLANT │\n",
       "│     │ \u001b[90mInt64\u001b[39m │ \u001b[90mFloat64\u001b[39m │ \u001b[90mString\u001b[39m │ \u001b[90mString\u001b[39m         │ \u001b[90mString\u001b[39m              │ \u001b[90mInt64\u001b[39m       │ \u001b[90mInt64\u001b[39m       │ \u001b[90mInt64\u001b[39m    │ \u001b[90mInt64\u001b[39m   │ \u001b[90mInt64\u001b[39m  │ \u001b[90mInt64\u001b[39m │ \u001b[90mString\u001b[39m                    │ \u001b[90mInt64\u001b[39m │ \u001b[90mInt64\u001b[39m │ \u001b[90mFloat64\u001b[39m    │ \u001b[90mString\u001b[39m          │ \u001b[90mString\u001b[39m                       │ \u001b[90mString\u001b[39m        │ \u001b[90mFloat64\u001b[39m                │ \u001b[90mInt64\u001b[39m                              │ \u001b[90mInt64\u001b[39m      │ \u001b[90mInt64\u001b[39m                    │ \u001b[90mInt64\u001b[39m                │ \u001b[90mInt64\u001b[39m              │ \u001b[90mInt64\u001b[39m               │ \u001b[90mString\u001b[39m       │ \u001b[90mInt64\u001b[39m           │\n",
       "├─────┼───────┼─────────┼────────┼────────────────┼─────────────────────┼─────────────┼─────────────┼──────────┼─────────┼────────┼───────┼───────────────────────────┼───────┼───────┼────────────┼─────────────────┼──────────────────────────────┼───────────────┼────────────────────────┼────────────────────────────────────┼────────────┼──────────────────────────┼──────────────────────┼────────────────────┼─────────────────────┼──────────────┼─────────────────┤\n",
       "│ 1   │ 1     │ 58.0    │ M      │ MARRIED        │ other- heart        │ 49          │ 160         │ 118      │ 100     │ 80     │ 32    │ None                      │ 11    │ 33    │ 0.8        │ AMBULANCE       │ ALERT                        │ EMERGENCY     │ 660293.0               │ 474901                             │ 0          │ 474901                   │ 25                   │ 12                 │ 13                  │ Y            │ 38000           │\n",
       "│ 2   │ 2     │ 59.0    │ M      │ MARRIED        │ CAD-DVD             │ 41          │ 155         │ 78       │ 70      │ 50     │ 28    │ None                      │ 11    │ 95    │ 1.7        │ AMBULANCE       │ ALERT                        │ EMERGENCY     │ 809130.0               │ 944819                             │ 96422      │ 848397                   │ 41                   │ 20                 │ 21                  │ Y            │ 39690           │\n",
       "│ 3   │ 3     │ 82.0    │ M      │ MARRIED        │ CAD-TVD             │ 47          │ 164         │ 100      │ 110     │ 80     │ 20    │ Diabetes2                 │ 12    │ 15    │ 0.8        │ WALKED IN       │ ALERT                        │ ELECTIVE      │ 362231.0               │ 390000                             │ 30000      │ 360000                   │ 18                   │ 9                  │ 9                   │ N            │ 0               │\n",
       "│ 4   │ 4     │ 46.0    │ M      │ MARRIED        │ CAD-DVD             │ 80          │ 173         │ 122      │ 110     │ 80     │ 24    │ hypertension1             │ 12    │ 74    │ 1.5        │ AMBULANCE       │ ALERT                        │ EMERGENCY     │ 629990.0               │ 324910                             │ 0          │ 324910                   │ 14                   │ 13                 │ 1                   │ Y            │ 89450           │\n",
       "│ 5   │ 5     │ 60.0    │ M      │ MARRIED        │ CAD-DVD             │ 58          │ 175         │ 72       │ 180     │ 100    │ 18    │ Diabetes2                 │ 10    │ 48    │ 1.9        │ AMBULANCE       │ ALERT                        │ EMERGENCY     │ 444876.0               │ 254673                             │ 10000      │ 244673                   │ 24                   │ 12                 │ 12                  │ N            │ 0               │\n",
       "│ 6   │ 6     │ 75.0    │ M      │ MARRIED        │ CAD-DVD             │ 45          │ 140         │ 130      │ 215     │ 140    │ 42    │ None                      │ 12    │ 29    │ 1.0        │ AMBULANCE       │ ALERT                        │ EMERGENCY     │ 372357.0               │ 499987                             │ 0          │ 499987                   │ 31                   │ 9                  │ 22                  │ N            │ 0               │"
      ]
     },
     "execution_count": 6,
     "metadata": {},
     "output_type": "execute_result"
    }
   ],
   "source": [
    "raw_df = CSV.read( \"../DAD_hospital/data/DAD_Case_Data_Corrected.csv\", DataFrame, \n",
    "                    delim = \",\", header =1,\n",
    "                    normalizenames=true,\n",
    "                    missingstrings = [\"\", \" \"]\n",
    "                    )\n",
    "head(raw_df)"
   ]
  },
  {
   "cell_type": "code",
   "execution_count": 7,
   "metadata": {
    "scrolled": true
   },
   "outputs": [],
   "source": [
    "rename!(raw_df, lowercase.(names(raw_df)));"
   ]
  },
  {
   "cell_type": "markdown",
   "metadata": {},
   "source": [
    "Dropping SL No as these will not be used for any analysis or model building."
   ]
  },
  {
   "cell_type": "code",
   "execution_count": 8,
   "metadata": {
    "scrolled": false
   },
   "outputs": [],
   "source": [
    "#if Set([\"sl no\"]) in names(raw_df){\n",
    "#    raw_df.drop(['sl no'],axis=1, inplace=True)\n",
    "#    }\n",
    "    "
   ]
  },
  {
   "cell_type": "code",
   "execution_count": 9,
   "metadata": {},
   "outputs": [
    {
     "data": {
      "text/html": [
       "<table class=\"data-frame\"><thead><tr><th></th><th>age</th><th>gender</th><th>marital_status</th><th>key_complaints_code</th><th>body_weight</th><th>body_height</th><th>hr_pulse</th><th>bp_high</th><th>bp_low</th><th>rr</th><th>past_medical_history_code</th><th>hb</th><th>urea</th><th>creatinine</th><th>mode_of_arrival</th><th>state_at_the_time_of_arrival</th><th>type_of_admsn</th><th>total_cost_to_hospital</th><th>total_amount_billed_to_the_patient</th><th>concession</th><th>actual_receivable_amount</th><th>total_length_of_stay</th><th>length_of_stay_icu</th><th>length_of_stay_ward</th><th>implant_used</th><th>cost_of_implant</th></tr><tr><th></th><th>Float64</th><th>String</th><th>String</th><th>String</th><th>Int64</th><th>Int64</th><th>Int64</th><th>Int64</th><th>Int64</th><th>Int64</th><th>String</th><th>Int64</th><th>Int64</th><th>Float64</th><th>String</th><th>String</th><th>String</th><th>Float64</th><th>Int64</th><th>Int64</th><th>Int64</th><th>Int64</th><th>Int64</th><th>Int64</th><th>String</th><th>Int64</th></tr></thead><tbody><p>163 rows × 26 columns</p><tr><th>1</th><td>58.0</td><td>M</td><td>MARRIED</td><td>other- heart</td><td>49</td><td>160</td><td>118</td><td>100</td><td>80</td><td>32</td><td>None</td><td>11</td><td>33</td><td>0.8</td><td>AMBULANCE</td><td>ALERT</td><td>EMERGENCY</td><td>660293.0</td><td>474901</td><td>0</td><td>474901</td><td>25</td><td>12</td><td>13</td><td>Y</td><td>38000</td></tr><tr><th>2</th><td>59.0</td><td>M</td><td>MARRIED</td><td>CAD-DVD</td><td>41</td><td>155</td><td>78</td><td>70</td><td>50</td><td>28</td><td>None</td><td>11</td><td>95</td><td>1.7</td><td>AMBULANCE</td><td>ALERT</td><td>EMERGENCY</td><td>809130.0</td><td>944819</td><td>96422</td><td>848397</td><td>41</td><td>20</td><td>21</td><td>Y</td><td>39690</td></tr><tr><th>3</th><td>82.0</td><td>M</td><td>MARRIED</td><td>CAD-TVD</td><td>47</td><td>164</td><td>100</td><td>110</td><td>80</td><td>20</td><td>Diabetes2</td><td>12</td><td>15</td><td>0.8</td><td>WALKED IN</td><td>ALERT</td><td>ELECTIVE</td><td>362231.0</td><td>390000</td><td>30000</td><td>360000</td><td>18</td><td>9</td><td>9</td><td>N</td><td>0</td></tr><tr><th>4</th><td>46.0</td><td>M</td><td>MARRIED</td><td>CAD-DVD</td><td>80</td><td>173</td><td>122</td><td>110</td><td>80</td><td>24</td><td>hypertension1</td><td>12</td><td>74</td><td>1.5</td><td>AMBULANCE</td><td>ALERT</td><td>EMERGENCY</td><td>629990.0</td><td>324910</td><td>0</td><td>324910</td><td>14</td><td>13</td><td>1</td><td>Y</td><td>89450</td></tr><tr><th>5</th><td>60.0</td><td>M</td><td>MARRIED</td><td>CAD-DVD</td><td>58</td><td>175</td><td>72</td><td>180</td><td>100</td><td>18</td><td>Diabetes2</td><td>10</td><td>48</td><td>1.9</td><td>AMBULANCE</td><td>ALERT</td><td>EMERGENCY</td><td>444876.0</td><td>254673</td><td>10000</td><td>244673</td><td>24</td><td>12</td><td>12</td><td>N</td><td>0</td></tr><tr><th>6</th><td>75.0</td><td>M</td><td>MARRIED</td><td>CAD-DVD</td><td>45</td><td>140</td><td>130</td><td>215</td><td>140</td><td>42</td><td>None</td><td>12</td><td>29</td><td>1.0</td><td>AMBULANCE</td><td>ALERT</td><td>EMERGENCY</td><td>372357.0</td><td>499987</td><td>0</td><td>499987</td><td>31</td><td>9</td><td>22</td><td>N</td><td>0</td></tr><tr><th>7</th><td>73.0</td><td>M</td><td>MARRIED</td><td>CAD-TVD</td><td>60</td><td>170</td><td>108</td><td>160</td><td>90</td><td>24</td><td>Diabetes2</td><td>15</td><td>31</td><td>1.6</td><td>WALKED IN</td><td>ALERT</td><td>ELECTIVE</td><td>887350.0</td><td>660504</td><td>504</td><td>660000</td><td>15</td><td>15</td><td>0</td><td>N</td><td>0</td></tr><tr><th>8</th><td>71.0</td><td>M</td><td>MARRIED</td><td>CAD-TVD</td><td>44</td><td>164</td><td>60</td><td>130</td><td>90</td><td>22</td><td>None</td><td>10</td><td>37</td><td>1.5</td><td>WALKED IN</td><td>ALERT</td><td>EMERGENCY</td><td>389827.0</td><td>248580</td><td>0</td><td>248580</td><td>24</td><td>11</td><td>13</td><td>N</td><td>0</td></tr><tr><th>9</th><td>72.0</td><td>M</td><td>MARRIED</td><td>CAD-DVD</td><td>72</td><td>174</td><td>95</td><td>100</td><td>50</td><td>25</td><td>Diabetes2</td><td>10</td><td>32</td><td>1.2</td><td>AMBULANCE</td><td>ALERT</td><td>EMERGENCY</td><td>4.37529e5</td><td>691297</td><td>0</td><td>691297</td><td>26</td><td>9</td><td>17</td><td>N</td><td>0</td></tr><tr><th>10</th><td>61.0</td><td>M</td><td>MARRIED</td><td>CAD-TVD</td><td>77</td><td>175</td><td>66</td><td>140</td><td>90</td><td>22</td><td>None</td><td>14</td><td>15</td><td>0.4</td><td>WALKED IN</td><td>ALERT</td><td>ELECTIVE</td><td>364222.0</td><td>247654</td><td>0</td><td>247654</td><td>20</td><td>4</td><td>16</td><td>N</td><td>0</td></tr><tr><th>11</th><td>61.0</td><td>M</td><td>MARRIED</td><td>CAD-DVD</td><td>64</td><td>170</td><td>99</td><td>140</td><td>80</td><td>24</td><td>hypertension1</td><td>13</td><td>15</td><td>1.0</td><td>WALKED IN</td><td>ALERT</td><td>ELECTIVE</td><td>514524.0</td><td>282000</td><td>15000</td><td>267000</td><td>21</td><td>10</td><td>11</td><td>Y</td><td>39690</td></tr><tr><th>12</th><td>45.0</td><td>F</td><td>MARRIED</td><td>other- heart</td><td>50</td><td>151</td><td>60</td><td>110</td><td>60</td><td>19</td><td>None</td><td>13</td><td>30</td><td>0.9</td><td>WALKED IN</td><td>ALERT</td><td>ELECTIVE</td><td>539976.0</td><td>194000</td><td>10000</td><td>184000</td><td>27</td><td>22</td><td>5</td><td>Y</td><td>20900</td></tr><tr><th>13</th><td>40.0</td><td>M</td><td>MARRIED</td><td>RHD</td><td>71</td><td>165</td><td>100</td><td>110</td><td>70</td><td>22</td><td>None</td><td>13</td><td>32</td><td>0.9</td><td>WALKED IN</td><td>ALERT</td><td>ELECTIVE</td><td>711616.0</td><td>556175</td><td>174</td><td>556001</td><td>17</td><td>10</td><td>7</td><td>Y</td><td>196848</td></tr><tr><th>14</th><td>68.0</td><td>F</td><td>UNMARRIED</td><td>CAD-DVD</td><td>51</td><td>123</td><td>66</td><td>120</td><td>80</td><td>20</td><td>hypertension3</td><td>13</td><td>21</td><td>0.7</td><td>AMBULANCE</td><td>ALERT</td><td>EMERGENCY</td><td>4.95969e5</td><td>161250</td><td>0</td><td>161250</td><td>16</td><td>16</td><td>0</td><td>N</td><td>0</td></tr><tr><th>15</th><td>78.0</td><td>F</td><td>MARRIED</td><td>CAD-DVD</td><td>70</td><td>154</td><td>63</td><td>150</td><td>90</td><td>20</td><td>hypertension2</td><td>10</td><td>25</td><td>1.0</td><td>WALKED IN</td><td>ALERT</td><td>ELECTIVE</td><td>157763.0</td><td>180000</td><td>0</td><td>180000</td><td>9</td><td>4</td><td>3</td><td>N</td><td>0</td></tr><tr><th>16</th><td>65.0</td><td>M</td><td>MARRIED</td><td>CAD-DVD</td><td>65</td><td>140</td><td>93</td><td>140</td><td>80</td><td>18</td><td>Diabetes1</td><td>13</td><td>15</td><td>1.0</td><td>AMBULANCE</td><td>ALERT</td><td>EMERGENCY</td><td>501897.0</td><td>388017</td><td>12017</td><td>376000</td><td>18</td><td>12</td><td>6</td><td>N</td><td>0</td></tr><tr><th>17</th><td>59.0</td><td>F</td><td>MARRIED</td><td>RHD</td><td>47</td><td>150</td><td>60</td><td>130</td><td>90</td><td>24</td><td>hypertension1</td><td>12</td><td>15</td><td>0.7</td><td>WALKED IN</td><td>ALERT</td><td>ELECTIVE</td><td>343984.0</td><td>89050</td><td>0</td><td>89050</td><td>17</td><td>5</td><td>12</td><td>Y</td><td>20800</td></tr><tr><th>18</th><td>76.0</td><td>M</td><td>MARRIED</td><td>CAD-TVD</td><td>67</td><td>172</td><td>80</td><td>130</td><td>80</td><td>20</td><td>None</td><td>15</td><td>43</td><td>0.9</td><td>WALKED IN</td><td>ALERT</td><td>ELECTIVE</td><td>449395.0</td><td>318890</td><td>0</td><td>318890</td><td>27</td><td>13</td><td>14</td><td>N</td><td>0</td></tr><tr><th>19</th><td>47.0</td><td>M</td><td>MARRIED</td><td>CAD-DVD</td><td>59</td><td>160</td><td>80</td><td>110</td><td>80</td><td>20</td><td>None</td><td>14</td><td>15</td><td>0.6</td><td>WALKED IN</td><td>ALERT</td><td>ELECTIVE</td><td>214716.0</td><td>307622</td><td>0</td><td>307622</td><td>10</td><td>2</td><td>8</td><td>N</td><td>0</td></tr><tr><th>20</th><td>54.0</td><td>F</td><td>MARRIED</td><td>CAD-DVD</td><td>51</td><td>147</td><td>110</td><td>100</td><td>70</td><td>26</td><td>Diabetes1</td><td>11</td><td>16</td><td>0.5</td><td>WALKED IN</td><td>ALERT</td><td>ELECTIVE</td><td>341109.0</td><td>250001</td><td>0</td><td>250001</td><td>16</td><td>10</td><td>6</td><td>N</td><td>0</td></tr><tr><th>21</th><td>62.0</td><td>M</td><td>MARRIED</td><td>CAD-TVD</td><td>74</td><td>160</td><td>60</td><td>160</td><td>70</td><td>24</td><td>Diabetes2</td><td>10</td><td>31</td><td>1.1</td><td>WALKED IN</td><td>ALERT</td><td>ELECTIVE</td><td>288960.0</td><td>237964</td><td>0</td><td>237964</td><td>9</td><td>8</td><td>1</td><td>N</td><td>0</td></tr><tr><th>22</th><td>60.0</td><td>M</td><td>MARRIED</td><td>CAD-DVD</td><td>73</td><td>172</td><td>104</td><td>120</td><td>80</td><td>24</td><td>Diabetes1</td><td>15</td><td>15</td><td>1.1</td><td>WALKED IN</td><td>ALERT</td><td>ELECTIVE</td><td>348687.0</td><td>186500</td><td>0</td><td>186500</td><td>13</td><td>6</td><td>7</td><td>Y</td><td>38000</td></tr><tr><th>23</th><td>70.0</td><td>M</td><td>MARRIED</td><td>CAD-DVD</td><td>60</td><td>158</td><td>81</td><td>90</td><td>60</td><td>18</td><td>Diabetes1</td><td>11</td><td>36</td><td>1.8</td><td>AMBULANCE</td><td>ALERT</td><td>EMERGENCY</td><td>345590.0</td><td>292399</td><td>0</td><td>292399</td><td>23</td><td>9</td><td>14</td><td>N</td><td>0</td></tr><tr><th>24</th><td>60.0</td><td>F</td><td>MARRIED</td><td>CAD-TVD</td><td>53</td><td>155</td><td>85</td><td>110</td><td>70</td><td>30</td><td>Diabetes2</td><td>10</td><td>36</td><td>1.4</td><td>AMBULANCE</td><td>ALERT</td><td>EMERGENCY</td><td>361738.0</td><td>170304</td><td>0</td><td>170304</td><td>11</td><td>11</td><td>0</td><td>Y</td><td>38000</td></tr><tr><th>25</th><td>88.0</td><td>M</td><td>MARRIED</td><td>CAD-TVD</td><td>62</td><td>162</td><td>92</td><td>140</td><td>100</td><td>22</td><td>hypertension1</td><td>12</td><td>52</td><td>1.2</td><td>AMBULANCE</td><td>ALERT</td><td>EMERGENCY</td><td>305193.0</td><td>307256</td><td>6000</td><td>301256</td><td>16</td><td>9</td><td>7</td><td>N</td><td>0</td></tr><tr><th>26</th><td>47.0</td><td>M</td><td>MARRIED</td><td>CAD-TVD</td><td>73</td><td>171</td><td>87</td><td>100</td><td>70</td><td>22</td><td>Diabetes2</td><td>15</td><td>76</td><td>2.3</td><td>AMBULANCE</td><td>ALERT</td><td>EMERGENCY</td><td>2.78214e5</td><td>121000</td><td>0</td><td>121000</td><td>15</td><td>6</td><td>10</td><td>N</td><td>0</td></tr><tr><th>27</th><td>70.0</td><td>M</td><td>MARRIED</td><td>CAD-DVD</td><td>68</td><td>163</td><td>78</td><td>130</td><td>80</td><td>20</td><td>hypertension1</td><td>9</td><td>35</td><td>2.0</td><td>WALKED IN</td><td>ALERT</td><td>ELECTIVE</td><td>355276.0</td><td>415324</td><td>10000</td><td>405324</td><td>22</td><td>9</td><td>13</td><td>N</td><td>0</td></tr><tr><th>28</th><td>61.0</td><td>M</td><td>MARRIED</td><td>CAD-TVD</td><td>60</td><td>169</td><td>60</td><td>130</td><td>70</td><td>24</td><td>None</td><td>12</td><td>18</td><td>0.7</td><td>WALKED IN</td><td>ALERT</td><td>ELECTIVE</td><td>229289.0</td><td>247531</td><td>0</td><td>247531</td><td>12</td><td>5</td><td>7</td><td>N</td><td>0</td></tr><tr><th>29</th><td>46.0</td><td>M</td><td>MARRIED</td><td>CAD-DVD</td><td>53</td><td>159</td><td>96</td><td>140</td><td>90</td><td>20</td><td>hypertension1</td><td>15</td><td>20</td><td>1.0</td><td>WALKED IN</td><td>ALERT</td><td>ELECTIVE</td><td>247473.0</td><td>127350</td><td>0</td><td>127350</td><td>15</td><td>4</td><td>11</td><td>N</td><td>0</td></tr><tr><th>30</th><td>56.0</td><td>M</td><td>MARRIED</td><td>CAD-SVD</td><td>61</td><td>163</td><td>73</td><td>100</td><td>60</td><td>24</td><td>hypertension1</td><td>16</td><td>28</td><td>1.0</td><td>WALKED IN</td><td>ALERT</td><td>ELECTIVE</td><td>395163.0</td><td>348133</td><td>123132</td><td>225001</td><td>15</td><td>4</td><td>11</td><td>Y</td><td>39690</td></tr><tr><th>&vellip;</th><td>&vellip;</td><td>&vellip;</td><td>&vellip;</td><td>&vellip;</td><td>&vellip;</td><td>&vellip;</td><td>&vellip;</td><td>&vellip;</td><td>&vellip;</td><td>&vellip;</td><td>&vellip;</td><td>&vellip;</td><td>&vellip;</td><td>&vellip;</td><td>&vellip;</td><td>&vellip;</td><td>&vellip;</td><td>&vellip;</td><td>&vellip;</td><td>&vellip;</td><td>&vellip;</td><td>&vellip;</td><td>&vellip;</td><td>&vellip;</td><td>&vellip;</td><td>&vellip;</td></tr></tbody></table>"
      ],
      "text/latex": [
       "\\begin{tabular}{r|cccccccccccccccccccccccccc}\n",
       "\t& age & gender & marital\\_status & key\\_complaints\\_code & body\\_weight & body\\_height & hr\\_pulse & bp\\_high & bp\\_low & rr & past\\_medical\\_history\\_code & hb & urea & creatinine & mode\\_of\\_arrival & state\\_at\\_the\\_time\\_of\\_arrival & type\\_of\\_admsn & total\\_cost\\_to\\_hospital & total\\_amount\\_billed\\_to\\_the\\_patient & concession & actual\\_receivable\\_amount & total\\_length\\_of\\_stay & length\\_of\\_stay\\_icu & length\\_of\\_stay\\_ward & implant\\_used & cost\\_of\\_implant\\\\\n",
       "\t\\hline\n",
       "\t& Float64 & String & String & String & Int64 & Int64 & Int64 & Int64 & Int64 & Int64 & String & Int64 & Int64 & Float64 & String & String & String & Float64 & Int64 & Int64 & Int64 & Int64 & Int64 & Int64 & String & Int64\\\\\n",
       "\t\\hline\n",
       "\t1 & 58.0 & M & MARRIED & other- heart & 49 & 160 & 118 & 100 & 80 & 32 & None & 11 & 33 & 0.8 & AMBULANCE & ALERT & EMERGENCY & 660293.0 & 474901 & 0 & 474901 & 25 & 12 & 13 & Y & 38000 \\\\\n",
       "\t2 & 59.0 & M & MARRIED & CAD-DVD & 41 & 155 & 78 & 70 & 50 & 28 & None & 11 & 95 & 1.7 & AMBULANCE & ALERT & EMERGENCY & 809130.0 & 944819 & 96422 & 848397 & 41 & 20 & 21 & Y & 39690 \\\\\n",
       "\t3 & 82.0 & M & MARRIED & CAD-TVD & 47 & 164 & 100 & 110 & 80 & 20 & Diabetes2 & 12 & 15 & 0.8 & WALKED IN & ALERT & ELECTIVE & 362231.0 & 390000 & 30000 & 360000 & 18 & 9 & 9 & N & 0 \\\\\n",
       "\t4 & 46.0 & M & MARRIED & CAD-DVD & 80 & 173 & 122 & 110 & 80 & 24 & hypertension1 & 12 & 74 & 1.5 & AMBULANCE & ALERT & EMERGENCY & 629990.0 & 324910 & 0 & 324910 & 14 & 13 & 1 & Y & 89450 \\\\\n",
       "\t5 & 60.0 & M & MARRIED & CAD-DVD & 58 & 175 & 72 & 180 & 100 & 18 & Diabetes2 & 10 & 48 & 1.9 & AMBULANCE & ALERT & EMERGENCY & 444876.0 & 254673 & 10000 & 244673 & 24 & 12 & 12 & N & 0 \\\\\n",
       "\t6 & 75.0 & M & MARRIED & CAD-DVD & 45 & 140 & 130 & 215 & 140 & 42 & None & 12 & 29 & 1.0 & AMBULANCE & ALERT & EMERGENCY & 372357.0 & 499987 & 0 & 499987 & 31 & 9 & 22 & N & 0 \\\\\n",
       "\t7 & 73.0 & M & MARRIED & CAD-TVD & 60 & 170 & 108 & 160 & 90 & 24 & Diabetes2 & 15 & 31 & 1.6 & WALKED IN & ALERT & ELECTIVE & 887350.0 & 660504 & 504 & 660000 & 15 & 15 & 0 & N & 0 \\\\\n",
       "\t8 & 71.0 & M & MARRIED & CAD-TVD & 44 & 164 & 60 & 130 & 90 & 22 & None & 10 & 37 & 1.5 & WALKED IN & ALERT & EMERGENCY & 389827.0 & 248580 & 0 & 248580 & 24 & 11 & 13 & N & 0 \\\\\n",
       "\t9 & 72.0 & M & MARRIED & CAD-DVD & 72 & 174 & 95 & 100 & 50 & 25 & Diabetes2 & 10 & 32 & 1.2 & AMBULANCE & ALERT & EMERGENCY & 4.37529e5 & 691297 & 0 & 691297 & 26 & 9 & 17 & N & 0 \\\\\n",
       "\t10 & 61.0 & M & MARRIED & CAD-TVD & 77 & 175 & 66 & 140 & 90 & 22 & None & 14 & 15 & 0.4 & WALKED IN & ALERT & ELECTIVE & 364222.0 & 247654 & 0 & 247654 & 20 & 4 & 16 & N & 0 \\\\\n",
       "\t11 & 61.0 & M & MARRIED & CAD-DVD & 64 & 170 & 99 & 140 & 80 & 24 & hypertension1 & 13 & 15 & 1.0 & WALKED IN & ALERT & ELECTIVE & 514524.0 & 282000 & 15000 & 267000 & 21 & 10 & 11 & Y & 39690 \\\\\n",
       "\t12 & 45.0 & F & MARRIED & other- heart & 50 & 151 & 60 & 110 & 60 & 19 & None & 13 & 30 & 0.9 & WALKED IN & ALERT & ELECTIVE & 539976.0 & 194000 & 10000 & 184000 & 27 & 22 & 5 & Y & 20900 \\\\\n",
       "\t13 & 40.0 & M & MARRIED & RHD & 71 & 165 & 100 & 110 & 70 & 22 & None & 13 & 32 & 0.9 & WALKED IN & ALERT & ELECTIVE & 711616.0 & 556175 & 174 & 556001 & 17 & 10 & 7 & Y & 196848 \\\\\n",
       "\t14 & 68.0 & F & UNMARRIED & CAD-DVD & 51 & 123 & 66 & 120 & 80 & 20 & hypertension3 & 13 & 21 & 0.7 & AMBULANCE & ALERT & EMERGENCY & 4.95969e5 & 161250 & 0 & 161250 & 16 & 16 & 0 & N & 0 \\\\\n",
       "\t15 & 78.0 & F & MARRIED & CAD-DVD & 70 & 154 & 63 & 150 & 90 & 20 & hypertension2 & 10 & 25 & 1.0 & WALKED IN & ALERT & ELECTIVE & 157763.0 & 180000 & 0 & 180000 & 9 & 4 & 3 & N & 0 \\\\\n",
       "\t16 & 65.0 & M & MARRIED & CAD-DVD & 65 & 140 & 93 & 140 & 80 & 18 & Diabetes1 & 13 & 15 & 1.0 & AMBULANCE & ALERT & EMERGENCY & 501897.0 & 388017 & 12017 & 376000 & 18 & 12 & 6 & N & 0 \\\\\n",
       "\t17 & 59.0 & F & MARRIED & RHD & 47 & 150 & 60 & 130 & 90 & 24 & hypertension1 & 12 & 15 & 0.7 & WALKED IN & ALERT & ELECTIVE & 343984.0 & 89050 & 0 & 89050 & 17 & 5 & 12 & Y & 20800 \\\\\n",
       "\t18 & 76.0 & M & MARRIED & CAD-TVD & 67 & 172 & 80 & 130 & 80 & 20 & None & 15 & 43 & 0.9 & WALKED IN & ALERT & ELECTIVE & 449395.0 & 318890 & 0 & 318890 & 27 & 13 & 14 & N & 0 \\\\\n",
       "\t19 & 47.0 & M & MARRIED & CAD-DVD & 59 & 160 & 80 & 110 & 80 & 20 & None & 14 & 15 & 0.6 & WALKED IN & ALERT & ELECTIVE & 214716.0 & 307622 & 0 & 307622 & 10 & 2 & 8 & N & 0 \\\\\n",
       "\t20 & 54.0 & F & MARRIED & CAD-DVD & 51 & 147 & 110 & 100 & 70 & 26 & Diabetes1 & 11 & 16 & 0.5 & WALKED IN & ALERT & ELECTIVE & 341109.0 & 250001 & 0 & 250001 & 16 & 10 & 6 & N & 0 \\\\\n",
       "\t21 & 62.0 & M & MARRIED & CAD-TVD & 74 & 160 & 60 & 160 & 70 & 24 & Diabetes2 & 10 & 31 & 1.1 & WALKED IN & ALERT & ELECTIVE & 288960.0 & 237964 & 0 & 237964 & 9 & 8 & 1 & N & 0 \\\\\n",
       "\t22 & 60.0 & M & MARRIED & CAD-DVD & 73 & 172 & 104 & 120 & 80 & 24 & Diabetes1 & 15 & 15 & 1.1 & WALKED IN & ALERT & ELECTIVE & 348687.0 & 186500 & 0 & 186500 & 13 & 6 & 7 & Y & 38000 \\\\\n",
       "\t23 & 70.0 & M & MARRIED & CAD-DVD & 60 & 158 & 81 & 90 & 60 & 18 & Diabetes1 & 11 & 36 & 1.8 & AMBULANCE & ALERT & EMERGENCY & 345590.0 & 292399 & 0 & 292399 & 23 & 9 & 14 & N & 0 \\\\\n",
       "\t24 & 60.0 & F & MARRIED & CAD-TVD & 53 & 155 & 85 & 110 & 70 & 30 & Diabetes2 & 10 & 36 & 1.4 & AMBULANCE & ALERT & EMERGENCY & 361738.0 & 170304 & 0 & 170304 & 11 & 11 & 0 & Y & 38000 \\\\\n",
       "\t25 & 88.0 & M & MARRIED & CAD-TVD & 62 & 162 & 92 & 140 & 100 & 22 & hypertension1 & 12 & 52 & 1.2 & AMBULANCE & ALERT & EMERGENCY & 305193.0 & 307256 & 6000 & 301256 & 16 & 9 & 7 & N & 0 \\\\\n",
       "\t26 & 47.0 & M & MARRIED & CAD-TVD & 73 & 171 & 87 & 100 & 70 & 22 & Diabetes2 & 15 & 76 & 2.3 & AMBULANCE & ALERT & EMERGENCY & 2.78214e5 & 121000 & 0 & 121000 & 15 & 6 & 10 & N & 0 \\\\\n",
       "\t27 & 70.0 & M & MARRIED & CAD-DVD & 68 & 163 & 78 & 130 & 80 & 20 & hypertension1 & 9 & 35 & 2.0 & WALKED IN & ALERT & ELECTIVE & 355276.0 & 415324 & 10000 & 405324 & 22 & 9 & 13 & N & 0 \\\\\n",
       "\t28 & 61.0 & M & MARRIED & CAD-TVD & 60 & 169 & 60 & 130 & 70 & 24 & None & 12 & 18 & 0.7 & WALKED IN & ALERT & ELECTIVE & 229289.0 & 247531 & 0 & 247531 & 12 & 5 & 7 & N & 0 \\\\\n",
       "\t29 & 46.0 & M & MARRIED & CAD-DVD & 53 & 159 & 96 & 140 & 90 & 20 & hypertension1 & 15 & 20 & 1.0 & WALKED IN & ALERT & ELECTIVE & 247473.0 & 127350 & 0 & 127350 & 15 & 4 & 11 & N & 0 \\\\\n",
       "\t30 & 56.0 & M & MARRIED & CAD-SVD & 61 & 163 & 73 & 100 & 60 & 24 & hypertension1 & 16 & 28 & 1.0 & WALKED IN & ALERT & ELECTIVE & 395163.0 & 348133 & 123132 & 225001 & 15 & 4 & 11 & Y & 39690 \\\\\n",
       "\t$\\dots$ & $\\dots$ & $\\dots$ & $\\dots$ & $\\dots$ & $\\dots$ & $\\dots$ & $\\dots$ & $\\dots$ & $\\dots$ & $\\dots$ & $\\dots$ & $\\dots$ & $\\dots$ & $\\dots$ & $\\dots$ & $\\dots$ & $\\dots$ & $\\dots$ & $\\dots$ & $\\dots$ & $\\dots$ & $\\dots$ & $\\dots$ & $\\dots$ & $\\dots$ & $\\dots$ \\\\\n",
       "\\end{tabular}\n"
      ],
      "text/plain": [
       "163×26 DataFrame\n",
       "│ Row │ age     │ gender │ marital_status │ key_complaints_code │ body_weight │ body_height │ hr_pulse │ bp_high │ bp_low │ rr    │ past_medical_history_code │ hb    │ urea  │ creatinine │ mode_of_arrival │ state_at_the_time_of_arrival │ type_of_admsn │ total_cost_to_hospital │ total_amount_billed_to_the_patient │ concession │ actual_receivable_amount │ total_length_of_stay │ length_of_stay_icu │ length_of_stay_ward │ implant_used │ cost_of_implant │\n",
       "│     │ \u001b[90mFloat64\u001b[39m │ \u001b[90mString\u001b[39m │ \u001b[90mString\u001b[39m         │ \u001b[90mString\u001b[39m              │ \u001b[90mInt64\u001b[39m       │ \u001b[90mInt64\u001b[39m       │ \u001b[90mInt64\u001b[39m    │ \u001b[90mInt64\u001b[39m   │ \u001b[90mInt64\u001b[39m  │ \u001b[90mInt64\u001b[39m │ \u001b[90mString\u001b[39m                    │ \u001b[90mInt64\u001b[39m │ \u001b[90mInt64\u001b[39m │ \u001b[90mFloat64\u001b[39m    │ \u001b[90mString\u001b[39m          │ \u001b[90mString\u001b[39m                       │ \u001b[90mString\u001b[39m        │ \u001b[90mFloat64\u001b[39m                │ \u001b[90mInt64\u001b[39m                              │ \u001b[90mInt64\u001b[39m      │ \u001b[90mInt64\u001b[39m                    │ \u001b[90mInt64\u001b[39m                │ \u001b[90mInt64\u001b[39m              │ \u001b[90mInt64\u001b[39m               │ \u001b[90mString\u001b[39m       │ \u001b[90mInt64\u001b[39m           │\n",
       "├─────┼─────────┼────────┼────────────────┼─────────────────────┼─────────────┼─────────────┼──────────┼─────────┼────────┼───────┼───────────────────────────┼───────┼───────┼────────────┼─────────────────┼──────────────────────────────┼───────────────┼────────────────────────┼────────────────────────────────────┼────────────┼──────────────────────────┼──────────────────────┼────────────────────┼─────────────────────┼──────────────┼─────────────────┤\n",
       "│ 1   │ 58.0    │ M      │ MARRIED        │ other- heart        │ 49          │ 160         │ 118      │ 100     │ 80     │ 32    │ None                      │ 11    │ 33    │ 0.8        │ AMBULANCE       │ ALERT                        │ EMERGENCY     │ 660293.0               │ 474901                             │ 0          │ 474901                   │ 25                   │ 12                 │ 13                  │ Y            │ 38000           │\n",
       "│ 2   │ 59.0    │ M      │ MARRIED        │ CAD-DVD             │ 41          │ 155         │ 78       │ 70      │ 50     │ 28    │ None                      │ 11    │ 95    │ 1.7        │ AMBULANCE       │ ALERT                        │ EMERGENCY     │ 809130.0               │ 944819                             │ 96422      │ 848397                   │ 41                   │ 20                 │ 21                  │ Y            │ 39690           │\n",
       "│ 3   │ 82.0    │ M      │ MARRIED        │ CAD-TVD             │ 47          │ 164         │ 100      │ 110     │ 80     │ 20    │ Diabetes2                 │ 12    │ 15    │ 0.8        │ WALKED IN       │ ALERT                        │ ELECTIVE      │ 362231.0               │ 390000                             │ 30000      │ 360000                   │ 18                   │ 9                  │ 9                   │ N            │ 0               │\n",
       "│ 4   │ 46.0    │ M      │ MARRIED        │ CAD-DVD             │ 80          │ 173         │ 122      │ 110     │ 80     │ 24    │ hypertension1             │ 12    │ 74    │ 1.5        │ AMBULANCE       │ ALERT                        │ EMERGENCY     │ 629990.0               │ 324910                             │ 0          │ 324910                   │ 14                   │ 13                 │ 1                   │ Y            │ 89450           │\n",
       "│ 5   │ 60.0    │ M      │ MARRIED        │ CAD-DVD             │ 58          │ 175         │ 72       │ 180     │ 100    │ 18    │ Diabetes2                 │ 10    │ 48    │ 1.9        │ AMBULANCE       │ ALERT                        │ EMERGENCY     │ 444876.0               │ 254673                             │ 10000      │ 244673                   │ 24                   │ 12                 │ 12                  │ N            │ 0               │\n",
       "│ 6   │ 75.0    │ M      │ MARRIED        │ CAD-DVD             │ 45          │ 140         │ 130      │ 215     │ 140    │ 42    │ None                      │ 12    │ 29    │ 1.0        │ AMBULANCE       │ ALERT                        │ EMERGENCY     │ 372357.0               │ 499987                             │ 0          │ 499987                   │ 31                   │ 9                  │ 22                  │ N            │ 0               │\n",
       "│ 7   │ 73.0    │ M      │ MARRIED        │ CAD-TVD             │ 60          │ 170         │ 108      │ 160     │ 90     │ 24    │ Diabetes2                 │ 15    │ 31    │ 1.6        │ WALKED IN       │ ALERT                        │ ELECTIVE      │ 887350.0               │ 660504                             │ 504        │ 660000                   │ 15                   │ 15                 │ 0                   │ N            │ 0               │\n",
       "│ 8   │ 71.0    │ M      │ MARRIED        │ CAD-TVD             │ 44          │ 164         │ 60       │ 130     │ 90     │ 22    │ None                      │ 10    │ 37    │ 1.5        │ WALKED IN       │ ALERT                        │ EMERGENCY     │ 389827.0               │ 248580                             │ 0          │ 248580                   │ 24                   │ 11                 │ 13                  │ N            │ 0               │\n",
       "│ 9   │ 72.0    │ M      │ MARRIED        │ CAD-DVD             │ 72          │ 174         │ 95       │ 100     │ 50     │ 25    │ Diabetes2                 │ 10    │ 32    │ 1.2        │ AMBULANCE       │ ALERT                        │ EMERGENCY     │ 4.37529e5              │ 691297                             │ 0          │ 691297                   │ 26                   │ 9                  │ 17                  │ N            │ 0               │\n",
       "│ 10  │ 61.0    │ M      │ MARRIED        │ CAD-TVD             │ 77          │ 175         │ 66       │ 140     │ 90     │ 22    │ None                      │ 14    │ 15    │ 0.4        │ WALKED IN       │ ALERT                        │ ELECTIVE      │ 364222.0               │ 247654                             │ 0          │ 247654                   │ 20                   │ 4                  │ 16                  │ N            │ 0               │\n",
       "⋮\n",
       "│ 153 │ 50.0    │ M      │ UNMARRIED      │ CAD-DVD             │ 64          │ 158         │ 82       │ 110     │ 60     │ 12    │ hypertension2             │ 10    │ 28    │ 1.2        │ WALKED IN       │ ALERT                        │ ELECTIVE      │ 186450.0               │ 202558                             │ 558        │ 202000                   │ 11                   │ 5                  │ 6                   │ N            │ 0               │\n",
       "│ 154 │ 19.0    │ M      │ UNMARRIED      │ OS-ASD              │ 41          │ 156         │ 72       │ 110     │ 70     │ 18    │ None                      │ 13    │ 25    │ 0.7        │ WALKED IN       │ ALERT                        │ ELECTIVE      │ 135612.0               │ 150000                             │ 30000      │ 120000                   │ 11                   │ 2                  │ 9                   │ N            │ 0               │\n",
       "│ 155 │ 15.0    │ M      │ UNMARRIED      │ RHD                 │ 52          │ 170         │ 82       │ 130     │ 60     │ 24    │ None                      │ 15    │ 32    │ 0.9        │ WALKED IN       │ ALERT                        │ ELECTIVE      │ 209886.0               │ 223000                             │ 40000      │ 183000                   │ 9                    │ 2                  │ 7                   │ Y            │ 41800           │\n",
       "│ 156 │ 53.0    │ F      │ MARRIED        │ OS-ASD              │ 50          │ 164         │ 64       │ 110     │ 70     │ 24    │ None                      │ 12    │ 32    │ 0.8        │ WALKED IN       │ ALERT                        │ ELECTIVE      │ 132997.0               │ 192913                             │ 0          │ 192913                   │ 7                    │ 2                  │ 5                   │ N            │ 0               │\n",
       "│ 157 │ 11.0    │ F      │ UNMARRIED      │ other- respiratory  │ 29          │ 139         │ 98       │ 110     │ 60     │ 24    │ None                      │ 12    │ 26    │ 0.4        │ WALKED IN       │ ALERT                        │ ELECTIVE      │ 124860.0               │ 150000                             │ 30000      │ 120000                   │ 7                    │ 2                  │ 5                   │ N            │ 0               │\n",
       "│ 158 │ 5.0     │ M      │ UNMARRIED      │ other- heart        │ 17          │ 118         │ 118      │ 80      │ 60     │ 24    │ other                     │ 12    │ 28    │ 0.3        │ WALKED IN       │ ALERT                        │ ELECTIVE      │ 118607.0               │ 150000                             │ 37500      │ 112500                   │ 7                    │ 1                  │ 6                   │ N            │ 0               │\n",
       "│ 159 │ 51.0    │ M      │ MARRIED        │ other- heart        │ 69          │ 176         │ 62       │ 130     │ 90     │ 24    │ None                      │ 13    │ 26    │ 1.1        │ WALKED IN       │ ALERT                        │ ELECTIVE      │ 295155.0               │ 197000                             │ 0          │ 197000                   │ 10                   │ 3                  │ 7                   │ Y            │ 35000           │\n",
       "│ 160 │ 58.0    │ M      │ MARRIED        │ CAD-TVD             │ 57          │ 159         │ 58       │ 100     │ 70     │ 24    │ other                     │ 11    │ 15    │ 0.8        │ WALKED IN       │ ALERT                        │ ELECTIVE      │ 200321.0               │ 220000                             │ 0          │ 220000                   │ 11                   │ 2                  │ 9                   │ Y            │ 26000           │\n",
       "│ 161 │ 44.0    │ M      │ MARRIED        │ CAD-TVD             │ 58          │ 159         │ 68       │ 150     │ 90     │ 24    │ hypertension1             │ 15    │ 23    │ 0.9        │ WALKED IN       │ ALERT                        │ ELECTIVE      │ 191188.0               │ 150000                             │ 10000      │ 140000                   │ 13                   │ 5                  │ 8                   │ N            │ 0               │\n",
       "│ 162 │ 60.0    │ M      │ MARRIED        │ other- heart        │ 65          │ 165         │ 98       │ 100     │ 60     │ 17    │ None                      │ 15    │ 36    │ 1.0        │ AMBULANCE       │ ALERT                        │ EMERGENCY     │ 202807.0               │ 229920                             │ 10000      │ 219920                   │ 9                    │ 6                  │ 3                   │ N            │ 0               │\n",
       "│ 163 │ 30.0    │ M      │ MARRIED        │ RHD                 │ 71          │ 180         │ 87       │ 130     │ 40     │ 20    │ None                      │ 13    │ 15    │ 0.8        │ WALKED IN       │ ALERT                        │ ELECTIVE      │ 248112.0               │ 185000                             │ 0          │ 185000                   │ 10                   │ 4                  │ 6                   │ Y            │ 41800           │"
      ]
     },
     "execution_count": 9,
     "metadata": {},
     "output_type": "execute_result"
    }
   ],
   "source": [
    "if \"sl_no\" in names(raw_df)\n",
    "    select!(raw_df, Not([\"sl_no\"]))\n",
    "end"
   ]
  },
  {
   "cell_type": "code",
   "execution_count": 10,
   "metadata": {},
   "outputs": [
    {
     "data": {
      "text/plain": [
       "26-element Array{String,1}:\n",
       " \"age\"\n",
       " \"gender\"\n",
       " \"marital_status\"\n",
       " \"key_complaints_code\"\n",
       " \"body_weight\"\n",
       " \"body_height\"\n",
       " \"hr_pulse\"\n",
       " \"bp_high\"\n",
       " \"bp_low\"\n",
       " \"rr\"\n",
       " \"past_medical_history_code\"\n",
       " \"hb\"\n",
       " \"urea\"\n",
       " \"creatinine\"\n",
       " \"mode_of_arrival\"\n",
       " \"state_at_the_time_of_arrival\"\n",
       " \"type_of_admsn\"\n",
       " \"total_cost_to_hospital\"\n",
       " \"total_amount_billed_to_the_patient\"\n",
       " \"concession\"\n",
       " \"actual_receivable_amount\"\n",
       " \"total_length_of_stay\"\n",
       " \"length_of_stay_icu\"\n",
       " \"length_of_stay_ward\"\n",
       " \"implant_used\"\n",
       " \"cost_of_implant\""
      ]
     },
     "execution_count": 10,
     "metadata": {},
     "output_type": "execute_result"
    }
   ],
   "source": [
    "names(raw_df)"
   ]
  },
  {
   "cell_type": "markdown",
   "metadata": {},
   "source": [
    "**Optional: To iterate over rows and columns of a dataframe.**"
   ]
  },
  {
   "cell_type": "code",
   "execution_count": 11,
   "metadata": {},
   "outputs": [],
   "source": [
    "eachcol(raw_df);\n",
    "eachrow(raw_df);"
   ]
  },
  {
   "cell_type": "markdown",
   "metadata": {},
   "source": [
    "\n",
    "### 2. Structure of the dataset\n",
    "\n"
   ]
  },
  {
   "cell_type": "code",
   "execution_count": 12,
   "metadata": {
    "Rmd_chunk_options": "summarizeData, echo=TRUE,tidy=TRUE",
    "autoscroll": false
   },
   "outputs": [],
   "source": [
    "#raw_df.info()"
   ]
  },
  {
   "cell_type": "markdown",
   "metadata": {},
   "source": [
    "Not very informative as it does not print the column names:"
   ]
  },
  {
   "cell_type": "code",
   "execution_count": 13,
   "metadata": {
    "Rmd_chunk_options": "summarizeData, echo=TRUE,tidy=TRUE",
    "autoscroll": false
   },
   "outputs": [
    {
     "data": {
      "text/plain": [
       "26-element Array{DataType,1}:\n",
       " Float64\n",
       " String\n",
       " String\n",
       " String\n",
       " Int64\n",
       " Int64\n",
       " Int64\n",
       " Int64\n",
       " Int64\n",
       " Int64\n",
       " String\n",
       " Int64\n",
       " Int64\n",
       " Float64\n",
       " String\n",
       " String\n",
       " String\n",
       " Float64\n",
       " Int64\n",
       " Int64\n",
       " Int64\n",
       " Int64\n",
       " Int64\n",
       " Int64\n",
       " String\n",
       " Int64"
      ]
     },
     "execution_count": 13,
     "metadata": {},
     "output_type": "execute_result"
    }
   ],
   "source": [
    "eltypes(raw_df)"
   ]
  },
  {
   "cell_type": "markdown",
   "metadata": {},
   "source": [
    "'=>' is a pair operator in Julia"
   ]
  },
  {
   "cell_type": "code",
   "execution_count": 14,
   "metadata": {
    "Rmd_chunk_options": "summarizeData, echo=TRUE,tidy=TRUE",
    "autoscroll": false,
    "scrolled": false
   },
   "outputs": [
    {
     "data": {
      "text/plain": [
       "Dict{String,DataType} with 26 entries:\n",
       "  \"urea\"                               => Int64\n",
       "  \"total_cost_to_hospital\"             => Float64\n",
       "  \"length_of_stay_ward\"                => Int64\n",
       "  \"concession\"                         => Int64\n",
       "  \"age\"                                => Float64\n",
       "  \"type_of_admsn\"                      => String\n",
       "  \"hb\"                                 => Int64\n",
       "  \"creatinine\"                         => Float64\n",
       "  \"actual_receivable_amount\"           => Int64\n",
       "  \"key_complaints_code\"                => String\n",
       "  \"total_amount_billed_to_the_patient\" => Int64\n",
       "  \"hr_pulse\"                           => Int64\n",
       "  \"body_height\"                        => Int64\n",
       "  \"past_medical_history_code\"          => String\n",
       "  \"mode_of_arrival\"                    => String\n",
       "  \"state_at_the_time_of_arrival\"       => String\n",
       "  \"total_length_of_stay\"               => Int64\n",
       "  \"marital_status\"                     => String\n",
       "  \"cost_of_implant\"                    => Int64\n",
       "  \"bp_high\"                            => Int64\n",
       "  \"rr\"                                 => Int64\n",
       "  \"gender\"                             => String\n",
       "  \"length_of_stay_icu\"                 => Int64\n",
       "  \"implant_used\"                       => String\n",
       "  \"bp_low\"                             => Int64\n",
       "  \"body_weight\"                        => Int64"
      ]
     },
     "execution_count": 14,
     "metadata": {},
     "output_type": "execute_result"
    }
   ],
   "source": [
    "Dict(names(raw_df) .=> eltype.(eachcol(raw_df)))"
   ]
  },
  {
   "cell_type": "markdown",
   "metadata": {},
   "source": [
    "Or, we can use schema() from MLJ package to get the data types. This package has useful functions for OneHotEncoding etc."
   ]
  },
  {
   "cell_type": "code",
   "execution_count": 15,
   "metadata": {},
   "outputs": [
    {
     "data": {
      "text/plain": [
       "┌────────────────────────────────────┬─────────┬────────────┐\n",
       "│\u001b[22m _.names                            \u001b[0m│\u001b[22m _.types \u001b[0m│\u001b[22m _.scitypes \u001b[0m│\n",
       "├────────────────────────────────────┼─────────┼────────────┤\n",
       "│ age                                │ Float64 │ Continuous │\n",
       "│ gender                             │ String  │ Textual    │\n",
       "│ marital_status                     │ String  │ Textual    │\n",
       "│ key_complaints_code                │ String  │ Textual    │\n",
       "│ body_weight                        │ Int64   │ Count      │\n",
       "│ body_height                        │ Int64   │ Count      │\n",
       "│ hr_pulse                           │ Int64   │ Count      │\n",
       "│ bp_high                            │ Int64   │ Count      │\n",
       "│ bp_low                             │ Int64   │ Count      │\n",
       "│ rr                                 │ Int64   │ Count      │\n",
       "│ past_medical_history_code          │ String  │ Textual    │\n",
       "│ hb                                 │ Int64   │ Count      │\n",
       "│ urea                               │ Int64   │ Count      │\n",
       "│ creatinine                         │ Float64 │ Continuous │\n",
       "│ mode_of_arrival                    │ String  │ Textual    │\n",
       "│ state_at_the_time_of_arrival       │ String  │ Textual    │\n",
       "│ type_of_admsn                      │ String  │ Textual    │\n",
       "│ total_cost_to_hospital             │ Float64 │ Continuous │\n",
       "│ total_amount_billed_to_the_patient │ Int64   │ Count      │\n",
       "│ concession                         │ Int64   │ Count      │\n",
       "│ actual_receivable_amount           │ Int64   │ Count      │\n",
       "│ total_length_of_stay               │ Int64   │ Count      │\n",
       "│                 ⋮                  │    ⋮    │     ⋮      │\n",
       "└────────────────────────────────────┴─────────┴────────────┘\n",
       "\u001b[36m                                               4 rows omitted\u001b[0m\n",
       "_.nrows = 163\n"
      ]
     },
     "execution_count": 15,
     "metadata": {},
     "output_type": "execute_result"
    }
   ],
   "source": [
    "schema(raw_df)"
   ]
  },
  {
   "cell_type": "markdown",
   "metadata": {},
   "source": [
    "Get numeric features from the data and find the corelation amongst numeric features"
   ]
  },
  {
   "cell_type": "code",
   "execution_count": 16,
   "metadata": {},
   "outputs": [],
   "source": [
    "#numerical_features = [x for x in raw_df.select_dtypes(include=[np.number])]\n",
    "#numerical_features"
   ]
  },
  {
   "cell_type": "code",
   "execution_count": 17,
   "metadata": {},
   "outputs": [
    {
     "data": {
      "text/plain": [
       "18-element Array{String,1}:\n",
       " \"age\"\n",
       " \"body_weight\"\n",
       " \"body_height\"\n",
       " \"hr_pulse\"\n",
       " \"bp_high\"\n",
       " \"bp_low\"\n",
       " \"rr\"\n",
       " \"hb\"\n",
       " \"urea\"\n",
       " \"creatinine\"\n",
       " \"total_cost_to_hospital\"\n",
       " \"total_amount_billed_to_the_patient\"\n",
       " \"concession\"\n",
       " \"actual_receivable_amount\"\n",
       " \"total_length_of_stay\"\n",
       " \"length_of_stay_icu\"\n",
       " \"length_of_stay_ward\"\n",
       " \"cost_of_implant\""
      ]
     },
     "execution_count": 17,
     "metadata": {},
     "output_type": "execute_result"
    }
   ],
   "source": [
    "numerical_features = names(raw_df[(<:).(eltypes(raw_df),Union{Number,Missing})])"
   ]
  },
  {
   "cell_type": "markdown",
   "metadata": {},
   "source": [
    "### Exercise\n",
    "\n",
    "* **Build a correlation matrix between all the numeric features in the dataset.**\n",
    "\n",
    "This is how it was done in python"
   ]
  },
  {
   "cell_type": "code",
   "execution_count": 18,
   "metadata": {
    "scrolled": false
   },
   "outputs": [],
   "source": [
    "#numerical_features_df = raw_df.select_dtypes(include=[np.number])\n",
    "#numerical_features_df.corr()"
   ]
  },
  {
   "cell_type": "code",
   "execution_count": 19,
   "metadata": {},
   "outputs": [],
   "source": [
    "## Write your code here\n",
    "\n"
   ]
  },
  {
   "cell_type": "markdown",
   "metadata": {},
   "source": [
    "Get categorical features from the data."
   ]
  },
  {
   "cell_type": "code",
   "execution_count": 20,
   "metadata": {},
   "outputs": [],
   "source": [
    "#categorical_features = [x for x in raw_df.select_dtypes(include=[np.object])]\n",
    "#categorical_features"
   ]
  },
  {
   "cell_type": "code",
   "execution_count": 21,
   "metadata": {
    "scrolled": true
   },
   "outputs": [
    {
     "data": {
      "text/plain": [
       "8-element Array{String,1}:\n",
       " \"gender\"\n",
       " \"marital_status\"\n",
       " \"key_complaints_code\"\n",
       " \"past_medical_history_code\"\n",
       " \"mode_of_arrival\"\n",
       " \"state_at_the_time_of_arrival\"\n",
       " \"type_of_admsn\"\n",
       " \"implant_used\""
      ]
     },
     "execution_count": 21,
     "metadata": {},
     "output_type": "execute_result"
    }
   ],
   "source": [
    "categorical_features = names(raw_df[(<:).(eltypes(raw_df),Union{String,Missing})])"
   ]
  },
  {
   "cell_type": "code",
   "execution_count": 22,
   "metadata": {},
   "outputs": [],
   "source": [
    "#raw_df.describe(include='all')"
   ]
  },
  {
   "cell_type": "code",
   "execution_count": 23,
   "metadata": {},
   "outputs": [
    {
     "data": {
      "text/html": [
       "<table class=\"data-frame\"><thead><tr><th></th><th>variable</th><th>mean</th><th>std</th><th>min</th><th>q25</th><th>median</th><th>q75</th><th>max</th><th>nunique</th><th>nmissing</th><th>first</th><th>last</th><th>eltype</th></tr><tr><th></th><th>Symbol</th><th>Float64</th><th>Float64</th><th>Real</th><th>Float64</th><th>Float64</th><th>Float64</th><th>Real</th><th>Nothing</th><th>Nothing</th><th>Real</th><th>Real</th><th>DataType</th></tr></thead><tbody><p>18 rows × 13 columns</p><tr><th>1</th><td>age</td><td>31.6063</td><td>26.6156</td><td>0.83</td><td>6.0</td><td>21.0</td><td>58.0</td><td>88.0</td><td></td><td></td><td>58.0</td><td>30.0</td><td>Float64</td></tr><tr><th>2</th><td>body_weight</td><td>39.5521</td><td>22.9404</td><td>3</td><td>16.5</td><td>43.0</td><td>59.5</td><td>85</td><td></td><td></td><td>49</td><td>71</td><td>Int64</td></tr><tr><th>3</th><td>body_height</td><td>133.607</td><td>38.1152</td><td>19</td><td>110.5</td><td>151.0</td><td>162.0</td><td>185</td><td></td><td></td><td>160</td><td>180</td><td>Int64</td></tr><tr><th>4</th><td>hr_pulse</td><td>90.9141</td><td>19.3998</td><td>58</td><td>76.0</td><td>90.0</td><td>102.0</td><td>140</td><td></td><td></td><td>118</td><td>87</td><td>Int64</td></tr><tr><th>5</th><td>bp_high</td><td>113.767</td><td>23.228</td><td>70</td><td>100.0</td><td>110.0</td><td>130.0</td><td>215</td><td></td><td></td><td>100</td><td>130</td><td>Int64</td></tr><tr><th>6</th><td>bp_low</td><td>71.5337</td><td>15.7195</td><td>40</td><td>60.0</td><td>70.0</td><td>80.0</td><td>140</td><td></td><td></td><td>80</td><td>40</td><td>Int64</td></tr><tr><th>7</th><td>rr</td><td>23.227</td><td>3.77173</td><td>12</td><td>22.0</td><td>24.0</td><td>24.0</td><td>42</td><td></td><td></td><td>32</td><td>20</td><td>Int64</td></tr><tr><th>8</th><td>hb</td><td>13.2086</td><td>3.10009</td><td>8</td><td>11.0</td><td>13.0</td><td>14.5</td><td>26</td><td></td><td></td><td>11</td><td>13</td><td>Int64</td></tr><tr><th>9</th><td>urea</td><td>28.4724</td><td>17.9362</td><td>15</td><td>18.0</td><td>24.0</td><td>32.0</td><td>143</td><td></td><td></td><td>33</td><td>15</td><td>Int64</td></tr><tr><th>10</th><td>creatinine</td><td>0.718405</td><td>0.461912</td><td>0.1</td><td>0.3</td><td>0.6</td><td>1.0</td><td>2.5</td><td></td><td></td><td>0.8</td><td>0.8</td><td>Float64</td></tr><tr><th>11</th><td>total_cost_to_hospital</td><td>2.13398e5</td><td>136952.0</td><td>46093.0</td><td>1.37288e5</td><td>169951.0</td><td>2.47792e5</td><td>887350.0</td><td></td><td></td><td>660293.0</td><td>248112.0</td><td>Float64</td></tr><tr><th>12</th><td>total_amount_billed_to_the_patient</td><td>1.91525e5</td><td>1.16874e5</td><td>43641</td><td>150000.0</td><td>150000.0</td><td>209675.0</td><td>944819</td><td></td><td></td><td>474901</td><td>185000</td><td>Int64</td></tr><tr><th>13</th><td>concession</td><td>16100.8</td><td>20383.7</td><td>0</td><td>0.0</td><td>2196.0</td><td>37500.0</td><td>123132</td><td></td><td></td><td>0</td><td>0</td><td>Int64</td></tr><tr><th>14</th><td>actual_receivable_amount</td><td>1.78482e5</td><td>1.23157e5</td><td>31000</td><td>112500.0</td><td>137000.0</td><td>2.03722e5</td><td>848397</td><td></td><td></td><td>474901</td><td>185000</td><td>Int64</td></tr><tr><th>15</th><td>total_length_of_stay</td><td>12.0061</td><td>5.46763</td><td>3</td><td>8.0</td><td>11.0</td><td>14.0</td><td>41</td><td></td><td></td><td>25</td><td>10</td><td>Int64</td></tr><tr><th>16</th><td>length_of_stay_icu</td><td>3.84049</td><td>3.85049</td><td>0</td><td>1.0</td><td>2.0</td><td>5.0</td><td>22</td><td></td><td></td><td>12</td><td>4</td><td>Int64</td></tr><tr><th>17</th><td>length_of_stay_ward</td><td>8.18405</td><td>3.80908</td><td>0</td><td>6.0</td><td>7.0</td><td>10.0</td><td>22</td><td></td><td></td><td>13</td><td>6</td><td>Int64</td></tr><tr><th>18</th><td>cost_of_implant</td><td>10137.3</td><td>24193.8</td><td>0</td><td>0.0</td><td>0.0</td><td>0.0</td><td>196848</td><td></td><td></td><td>38000</td><td>41800</td><td>Int64</td></tr></tbody></table>"
      ],
      "text/latex": [
       "\\begin{tabular}{r|ccccccccccccc}\n",
       "\t& variable & mean & std & min & q25 & median & q75 & max & nunique & nmissing & first & last & eltype\\\\\n",
       "\t\\hline\n",
       "\t& Symbol & Float64 & Float64 & Real & Float64 & Float64 & Float64 & Real & Nothing & Nothing & Real & Real & DataType\\\\\n",
       "\t\\hline\n",
       "\t1 & age & 31.6063 & 26.6156 & 0.83 & 6.0 & 21.0 & 58.0 & 88.0 &  &  & 58.0 & 30.0 & Float64 \\\\\n",
       "\t2 & body\\_weight & 39.5521 & 22.9404 & 3 & 16.5 & 43.0 & 59.5 & 85 &  &  & 49 & 71 & Int64 \\\\\n",
       "\t3 & body\\_height & 133.607 & 38.1152 & 19 & 110.5 & 151.0 & 162.0 & 185 &  &  & 160 & 180 & Int64 \\\\\n",
       "\t4 & hr\\_pulse & 90.9141 & 19.3998 & 58 & 76.0 & 90.0 & 102.0 & 140 &  &  & 118 & 87 & Int64 \\\\\n",
       "\t5 & bp\\_high & 113.767 & 23.228 & 70 & 100.0 & 110.0 & 130.0 & 215 &  &  & 100 & 130 & Int64 \\\\\n",
       "\t6 & bp\\_low & 71.5337 & 15.7195 & 40 & 60.0 & 70.0 & 80.0 & 140 &  &  & 80 & 40 & Int64 \\\\\n",
       "\t7 & rr & 23.227 & 3.77173 & 12 & 22.0 & 24.0 & 24.0 & 42 &  &  & 32 & 20 & Int64 \\\\\n",
       "\t8 & hb & 13.2086 & 3.10009 & 8 & 11.0 & 13.0 & 14.5 & 26 &  &  & 11 & 13 & Int64 \\\\\n",
       "\t9 & urea & 28.4724 & 17.9362 & 15 & 18.0 & 24.0 & 32.0 & 143 &  &  & 33 & 15 & Int64 \\\\\n",
       "\t10 & creatinine & 0.718405 & 0.461912 & 0.1 & 0.3 & 0.6 & 1.0 & 2.5 &  &  & 0.8 & 0.8 & Float64 \\\\\n",
       "\t11 & total\\_cost\\_to\\_hospital & 2.13398e5 & 136952.0 & 46093.0 & 1.37288e5 & 169951.0 & 2.47792e5 & 887350.0 &  &  & 660293.0 & 248112.0 & Float64 \\\\\n",
       "\t12 & total\\_amount\\_billed\\_to\\_the\\_patient & 1.91525e5 & 1.16874e5 & 43641 & 150000.0 & 150000.0 & 209675.0 & 944819 &  &  & 474901 & 185000 & Int64 \\\\\n",
       "\t13 & concession & 16100.8 & 20383.7 & 0 & 0.0 & 2196.0 & 37500.0 & 123132 &  &  & 0 & 0 & Int64 \\\\\n",
       "\t14 & actual\\_receivable\\_amount & 1.78482e5 & 1.23157e5 & 31000 & 112500.0 & 137000.0 & 2.03722e5 & 848397 &  &  & 474901 & 185000 & Int64 \\\\\n",
       "\t15 & total\\_length\\_of\\_stay & 12.0061 & 5.46763 & 3 & 8.0 & 11.0 & 14.0 & 41 &  &  & 25 & 10 & Int64 \\\\\n",
       "\t16 & length\\_of\\_stay\\_icu & 3.84049 & 3.85049 & 0 & 1.0 & 2.0 & 5.0 & 22 &  &  & 12 & 4 & Int64 \\\\\n",
       "\t17 & length\\_of\\_stay\\_ward & 8.18405 & 3.80908 & 0 & 6.0 & 7.0 & 10.0 & 22 &  &  & 13 & 6 & Int64 \\\\\n",
       "\t18 & cost\\_of\\_implant & 10137.3 & 24193.8 & 0 & 0.0 & 0.0 & 0.0 & 196848 &  &  & 38000 & 41800 & Int64 \\\\\n",
       "\\end{tabular}\n"
      ],
      "text/plain": [
       "18×13 DataFrame\n",
       "│ Row │ variable                           │ mean      │ std       │ min     │ q25       │ median   │ q75       │ max      │ nunique │ nmissing │ first    │ last     │ eltype   │\n",
       "│     │ \u001b[90mSymbol\u001b[39m                             │ \u001b[90mFloat64\u001b[39m   │ \u001b[90mFloat64\u001b[39m   │ \u001b[90mReal\u001b[39m    │ \u001b[90mFloat64\u001b[39m   │ \u001b[90mFloat64\u001b[39m  │ \u001b[90mFloat64\u001b[39m   │ \u001b[90mReal\u001b[39m     │ \u001b[90mNothing\u001b[39m │ \u001b[90mNothing\u001b[39m  │ \u001b[90mReal\u001b[39m     │ \u001b[90mReal\u001b[39m     │ \u001b[90mDataType\u001b[39m │\n",
       "├─────┼────────────────────────────────────┼───────────┼───────────┼─────────┼───────────┼──────────┼───────────┼──────────┼─────────┼──────────┼──────────┼──────────┼──────────┤\n",
       "│ 1   │ age                                │ 31.6063   │ 26.6156   │ 0.83    │ 6.0       │ 21.0     │ 58.0      │ 88.0     │         │          │ 58.0     │ 30.0     │ Float64  │\n",
       "│ 2   │ body_weight                        │ 39.5521   │ 22.9404   │ 3       │ 16.5      │ 43.0     │ 59.5      │ 85       │         │          │ 49       │ 71       │ Int64    │\n",
       "│ 3   │ body_height                        │ 133.607   │ 38.1152   │ 19      │ 110.5     │ 151.0    │ 162.0     │ 185      │         │          │ 160      │ 180      │ Int64    │\n",
       "│ 4   │ hr_pulse                           │ 90.9141   │ 19.3998   │ 58      │ 76.0      │ 90.0     │ 102.0     │ 140      │         │          │ 118      │ 87       │ Int64    │\n",
       "│ 5   │ bp_high                            │ 113.767   │ 23.228    │ 70      │ 100.0     │ 110.0    │ 130.0     │ 215      │         │          │ 100      │ 130      │ Int64    │\n",
       "│ 6   │ bp_low                             │ 71.5337   │ 15.7195   │ 40      │ 60.0      │ 70.0     │ 80.0      │ 140      │         │          │ 80       │ 40       │ Int64    │\n",
       "│ 7   │ rr                                 │ 23.227    │ 3.77173   │ 12      │ 22.0      │ 24.0     │ 24.0      │ 42       │         │          │ 32       │ 20       │ Int64    │\n",
       "│ 8   │ hb                                 │ 13.2086   │ 3.10009   │ 8       │ 11.0      │ 13.0     │ 14.5      │ 26       │         │          │ 11       │ 13       │ Int64    │\n",
       "│ 9   │ urea                               │ 28.4724   │ 17.9362   │ 15      │ 18.0      │ 24.0     │ 32.0      │ 143      │         │          │ 33       │ 15       │ Int64    │\n",
       "│ 10  │ creatinine                         │ 0.718405  │ 0.461912  │ 0.1     │ 0.3       │ 0.6      │ 1.0       │ 2.5      │         │          │ 0.8      │ 0.8      │ Float64  │\n",
       "│ 11  │ total_cost_to_hospital             │ 2.13398e5 │ 136952.0  │ 46093.0 │ 1.37288e5 │ 169951.0 │ 2.47792e5 │ 887350.0 │         │          │ 660293.0 │ 248112.0 │ Float64  │\n",
       "│ 12  │ total_amount_billed_to_the_patient │ 1.91525e5 │ 1.16874e5 │ 43641   │ 150000.0  │ 150000.0 │ 209675.0  │ 944819   │         │          │ 474901   │ 185000   │ Int64    │\n",
       "│ 13  │ concession                         │ 16100.8   │ 20383.7   │ 0       │ 0.0       │ 2196.0   │ 37500.0   │ 123132   │         │          │ 0        │ 0        │ Int64    │\n",
       "│ 14  │ actual_receivable_amount           │ 1.78482e5 │ 1.23157e5 │ 31000   │ 112500.0  │ 137000.0 │ 2.03722e5 │ 848397   │         │          │ 474901   │ 185000   │ Int64    │\n",
       "│ 15  │ total_length_of_stay               │ 12.0061   │ 5.46763   │ 3       │ 8.0       │ 11.0     │ 14.0      │ 41       │         │          │ 25       │ 10       │ Int64    │\n",
       "│ 16  │ length_of_stay_icu                 │ 3.84049   │ 3.85049   │ 0       │ 1.0       │ 2.0      │ 5.0       │ 22       │         │          │ 12       │ 4        │ Int64    │\n",
       "│ 17  │ length_of_stay_ward                │ 8.18405   │ 3.80908   │ 0       │ 6.0       │ 7.0      │ 10.0      │ 22       │         │          │ 13       │ 6        │ Int64    │\n",
       "│ 18  │ cost_of_implant                    │ 10137.3   │ 24193.8   │ 0       │ 0.0       │ 0.0      │ 0.0       │ 196848   │         │          │ 38000    │ 41800    │ Int64    │"
      ]
     },
     "execution_count": 23,
     "metadata": {},
     "output_type": "execute_result"
    }
   ],
   "source": [
    "describe(raw_df, :all, cols=numerical_features)"
   ]
  },
  {
   "cell_type": "code",
   "execution_count": 24,
   "metadata": {},
   "outputs": [
    {
     "data": {
      "text/html": [
       "<table class=\"data-frame\"><thead><tr><th></th><th>variable</th><th>mean</th><th>std</th><th>min</th><th>q25</th><th>median</th><th>q75</th><th>max</th><th>nunique</th><th>nmissing</th><th>first</th><th>last</th><th>eltype</th></tr><tr><th></th><th>Symbol</th><th>Nothing</th><th>Nothing</th><th>String</th><th>Nothing</th><th>Nothing</th><th>Nothing</th><th>String</th><th>Int64</th><th>Nothing</th><th>String</th><th>String</th><th>DataType</th></tr></thead><tbody><p>8 rows × 13 columns</p><tr><th>1</th><td>gender</td><td></td><td></td><td>F</td><td></td><td></td><td></td><td>M</td><td>2</td><td></td><td>M</td><td>M</td><td>String</td></tr><tr><th>2</th><td>marital_status</td><td></td><td></td><td>MARRIED</td><td></td><td></td><td></td><td>UNMARRIED</td><td>2</td><td></td><td>MARRIED</td><td>MARRIED</td><td>String</td></tr><tr><th>3</th><td>key_complaints_code</td><td></td><td></td><td>ACHD</td><td></td><td></td><td></td><td>other-tertalogy</td><td>13</td><td></td><td>other- heart</td><td>RHD</td><td>String</td></tr><tr><th>4</th><td>past_medical_history_code</td><td></td><td></td><td>Diabetes1</td><td></td><td></td><td></td><td>other</td><td>7</td><td></td><td>None</td><td>None</td><td>String</td></tr><tr><th>5</th><td>mode_of_arrival</td><td></td><td></td><td>AMBULANCE</td><td></td><td></td><td></td><td>WALKED IN</td><td>3</td><td></td><td>AMBULANCE</td><td>WALKED IN</td><td>String</td></tr><tr><th>6</th><td>state_at_the_time_of_arrival</td><td></td><td></td><td>ALERT</td><td></td><td></td><td></td><td>ALERT</td><td>1</td><td></td><td>ALERT</td><td>ALERT</td><td>String</td></tr><tr><th>7</th><td>type_of_admsn</td><td></td><td></td><td>ELECTIVE</td><td></td><td></td><td></td><td>EMERGENCY</td><td>2</td><td></td><td>EMERGENCY</td><td>ELECTIVE</td><td>String</td></tr><tr><th>8</th><td>implant_used</td><td></td><td></td><td>N</td><td></td><td></td><td></td><td>Y</td><td>2</td><td></td><td>Y</td><td>Y</td><td>String</td></tr></tbody></table>"
      ],
      "text/latex": [
       "\\begin{tabular}{r|ccccccccccccc}\n",
       "\t& variable & mean & std & min & q25 & median & q75 & max & nunique & nmissing & first & last & eltype\\\\\n",
       "\t\\hline\n",
       "\t& Symbol & Nothing & Nothing & String & Nothing & Nothing & Nothing & String & Int64 & Nothing & String & String & DataType\\\\\n",
       "\t\\hline\n",
       "\t1 & gender &  &  & F &  &  &  & M & 2 &  & M & M & String \\\\\n",
       "\t2 & marital\\_status &  &  & MARRIED &  &  &  & UNMARRIED & 2 &  & MARRIED & MARRIED & String \\\\\n",
       "\t3 & key\\_complaints\\_code &  &  & ACHD &  &  &  & other-tertalogy & 13 &  & other- heart & RHD & String \\\\\n",
       "\t4 & past\\_medical\\_history\\_code &  &  & Diabetes1 &  &  &  & other & 7 &  & None & None & String \\\\\n",
       "\t5 & mode\\_of\\_arrival &  &  & AMBULANCE &  &  &  & WALKED IN & 3 &  & AMBULANCE & WALKED IN & String \\\\\n",
       "\t6 & state\\_at\\_the\\_time\\_of\\_arrival &  &  & ALERT &  &  &  & ALERT & 1 &  & ALERT & ALERT & String \\\\\n",
       "\t7 & type\\_of\\_admsn &  &  & ELECTIVE &  &  &  & EMERGENCY & 2 &  & EMERGENCY & ELECTIVE & String \\\\\n",
       "\t8 & implant\\_used &  &  & N &  &  &  & Y & 2 &  & Y & Y & String \\\\\n",
       "\\end{tabular}\n"
      ],
      "text/plain": [
       "8×13 DataFrame\n",
       "│ Row │ variable                     │ mean    │ std     │ min       │ q25     │ median  │ q75     │ max             │ nunique │ nmissing │ first        │ last      │ eltype   │\n",
       "│     │ \u001b[90mSymbol\u001b[39m                       │ \u001b[90mNothing\u001b[39m │ \u001b[90mNothing\u001b[39m │ \u001b[90mString\u001b[39m    │ \u001b[90mNothing\u001b[39m │ \u001b[90mNothing\u001b[39m │ \u001b[90mNothing\u001b[39m │ \u001b[90mString\u001b[39m          │ \u001b[90mInt64\u001b[39m   │ \u001b[90mNothing\u001b[39m  │ \u001b[90mString\u001b[39m       │ \u001b[90mString\u001b[39m    │ \u001b[90mDataType\u001b[39m │\n",
       "├─────┼──────────────────────────────┼─────────┼─────────┼───────────┼─────────┼─────────┼─────────┼─────────────────┼─────────┼──────────┼──────────────┼───────────┼──────────┤\n",
       "│ 1   │ gender                       │         │         │ F         │         │         │         │ M               │ 2       │          │ M            │ M         │ String   │\n",
       "│ 2   │ marital_status               │         │         │ MARRIED   │         │         │         │ UNMARRIED       │ 2       │          │ MARRIED      │ MARRIED   │ String   │\n",
       "│ 3   │ key_complaints_code          │         │         │ ACHD      │         │         │         │ other-tertalogy │ 13      │          │ other- heart │ RHD       │ String   │\n",
       "│ 4   │ past_medical_history_code    │         │         │ Diabetes1 │         │         │         │ other           │ 7       │          │ None         │ None      │ String   │\n",
       "│ 5   │ mode_of_arrival              │         │         │ AMBULANCE │         │         │         │ WALKED IN       │ 3       │          │ AMBULANCE    │ WALKED IN │ String   │\n",
       "│ 6   │ state_at_the_time_of_arrival │         │         │ ALERT     │         │         │         │ ALERT           │ 1       │          │ ALERT        │ ALERT     │ String   │\n",
       "│ 7   │ type_of_admsn                │         │         │ ELECTIVE  │         │         │         │ EMERGENCY       │ 2       │          │ EMERGENCY    │ ELECTIVE  │ String   │\n",
       "│ 8   │ implant_used                 │         │         │ N         │         │         │         │ Y               │ 2       │          │ Y            │ Y         │ String   │"
      ]
     },
     "execution_count": 24,
     "metadata": {},
     "output_type": "execute_result"
    }
   ],
   "source": [
    "describe(raw_df, :all, cols=categorical_features)"
   ]
  },
  {
   "cell_type": "code",
   "execution_count": 25,
   "metadata": {},
   "outputs": [
    {
     "data": {
      "text/html": [
       "<table class=\"data-frame\"><thead><tr><th></th><th>variable</th><th>min</th><th>max</th><th>nunique</th><th>first</th><th>last</th><th>eltype</th></tr><tr><th></th><th>Symbol</th><th>String</th><th>String</th><th>Int64</th><th>String</th><th>String</th><th>DataType</th></tr></thead><tbody><p>8 rows × 7 columns</p><tr><th>1</th><td>gender</td><td>F</td><td>M</td><td>2</td><td>M</td><td>M</td><td>String</td></tr><tr><th>2</th><td>marital_status</td><td>MARRIED</td><td>UNMARRIED</td><td>2</td><td>MARRIED</td><td>MARRIED</td><td>String</td></tr><tr><th>3</th><td>key_complaints_code</td><td>ACHD</td><td>other-tertalogy</td><td>13</td><td>other- heart</td><td>RHD</td><td>String</td></tr><tr><th>4</th><td>past_medical_history_code</td><td>Diabetes1</td><td>other</td><td>7</td><td>None</td><td>None</td><td>String</td></tr><tr><th>5</th><td>mode_of_arrival</td><td>AMBULANCE</td><td>WALKED IN</td><td>3</td><td>AMBULANCE</td><td>WALKED IN</td><td>String</td></tr><tr><th>6</th><td>state_at_the_time_of_arrival</td><td>ALERT</td><td>ALERT</td><td>1</td><td>ALERT</td><td>ALERT</td><td>String</td></tr><tr><th>7</th><td>type_of_admsn</td><td>ELECTIVE</td><td>EMERGENCY</td><td>2</td><td>EMERGENCY</td><td>ELECTIVE</td><td>String</td></tr><tr><th>8</th><td>implant_used</td><td>N</td><td>Y</td><td>2</td><td>Y</td><td>Y</td><td>String</td></tr></tbody></table>"
      ],
      "text/latex": [
       "\\begin{tabular}{r|ccccccc}\n",
       "\t& variable & min & max & nunique & first & last & eltype\\\\\n",
       "\t\\hline\n",
       "\t& Symbol & String & String & Int64 & String & String & DataType\\\\\n",
       "\t\\hline\n",
       "\t1 & gender & F & M & 2 & M & M & String \\\\\n",
       "\t2 & marital\\_status & MARRIED & UNMARRIED & 2 & MARRIED & MARRIED & String \\\\\n",
       "\t3 & key\\_complaints\\_code & ACHD & other-tertalogy & 13 & other- heart & RHD & String \\\\\n",
       "\t4 & past\\_medical\\_history\\_code & Diabetes1 & other & 7 & None & None & String \\\\\n",
       "\t5 & mode\\_of\\_arrival & AMBULANCE & WALKED IN & 3 & AMBULANCE & WALKED IN & String \\\\\n",
       "\t6 & state\\_at\\_the\\_time\\_of\\_arrival & ALERT & ALERT & 1 & ALERT & ALERT & String \\\\\n",
       "\t7 & type\\_of\\_admsn & ELECTIVE & EMERGENCY & 2 & EMERGENCY & ELECTIVE & String \\\\\n",
       "\t8 & implant\\_used & N & Y & 2 & Y & Y & String \\\\\n",
       "\\end{tabular}\n"
      ],
      "text/plain": [
       "8×7 DataFrame\n",
       "│ Row │ variable                     │ min       │ max             │ nunique │ first        │ last      │ eltype   │\n",
       "│     │ \u001b[90mSymbol\u001b[39m                       │ \u001b[90mString\u001b[39m    │ \u001b[90mString\u001b[39m          │ \u001b[90mInt64\u001b[39m   │ \u001b[90mString\u001b[39m       │ \u001b[90mString\u001b[39m    │ \u001b[90mDataType\u001b[39m │\n",
       "├─────┼──────────────────────────────┼───────────┼─────────────────┼─────────┼──────────────┼───────────┼──────────┤\n",
       "│ 1   │ gender                       │ F         │ M               │ 2       │ M            │ M         │ String   │\n",
       "│ 2   │ marital_status               │ MARRIED   │ UNMARRIED       │ 2       │ MARRIED      │ MARRIED   │ String   │\n",
       "│ 3   │ key_complaints_code          │ ACHD      │ other-tertalogy │ 13      │ other- heart │ RHD       │ String   │\n",
       "│ 4   │ past_medical_history_code    │ Diabetes1 │ other           │ 7       │ None         │ None      │ String   │\n",
       "│ 5   │ mode_of_arrival              │ AMBULANCE │ WALKED IN       │ 3       │ AMBULANCE    │ WALKED IN │ String   │\n",
       "│ 6   │ state_at_the_time_of_arrival │ ALERT     │ ALERT           │ 1       │ ALERT        │ ALERT     │ String   │\n",
       "│ 7   │ type_of_admsn                │ ELECTIVE  │ EMERGENCY       │ 2       │ EMERGENCY    │ ELECTIVE  │ String   │\n",
       "│ 8   │ implant_used                 │ N         │ Y               │ 2       │ Y            │ Y         │ String   │"
      ]
     },
     "execution_count": 25,
     "metadata": {},
     "output_type": "execute_result"
    }
   ],
   "source": [
    "describe(raw_df, :min,:max,:nunique,:first,:last,:eltype, cols=categorical_features)"
   ]
  },
  {
   "cell_type": "markdown",
   "metadata": {},
   "source": [
    "### 2. Summarizing the dataset\n",
    "Create a new data frame and store the raw data copy. This is being done to have a copy of the raw data intact for further manipulation if needed. The *dropna()* function is used for row wise deletion of missing value. The axis = 0 means row-wise, 1 means column wise.\n"
   ]
  },
  {
   "cell_type": "code",
   "execution_count": 26,
   "metadata": {
    "Rmd_chunk_options": "createDataCopy, echo=TRUE,tidy=TRUE",
    "autoscroll": false
   },
   "outputs": [],
   "source": [
    "#filter_df = raw_df.dropna()\n",
    "#list(filter_df.columns )"
   ]
  },
  {
   "cell_type": "code",
   "execution_count": 27,
   "metadata": {
    "Rmd_chunk_options": "createDataCopy, echo=TRUE,tidy=TRUE",
    "autoscroll": false,
    "scrolled": false
   },
   "outputs": [
    {
     "data": {
      "text/html": [
       "<table class=\"data-frame\"><thead><tr><th></th><th>age</th><th>gender</th><th>marital_status</th><th>key_complaints_code</th><th>body_weight</th><th>body_height</th><th>hr_pulse</th><th>bp_high</th><th>bp_low</th><th>rr</th><th>past_medical_history_code</th><th>hb</th><th>urea</th><th>creatinine</th><th>mode_of_arrival</th><th>state_at_the_time_of_arrival</th><th>type_of_admsn</th><th>total_cost_to_hospital</th><th>total_amount_billed_to_the_patient</th><th>concession</th><th>actual_receivable_amount</th><th>total_length_of_stay</th><th>length_of_stay_icu</th><th>length_of_stay_ward</th><th>implant_used</th><th>cost_of_implant</th></tr><tr><th></th><th>Float64</th><th>String</th><th>String</th><th>String</th><th>Int64</th><th>Int64</th><th>Int64</th><th>Int64</th><th>Int64</th><th>Int64</th><th>String</th><th>Int64</th><th>Int64</th><th>Float64</th><th>String</th><th>String</th><th>String</th><th>Float64</th><th>Int64</th><th>Int64</th><th>Int64</th><th>Int64</th><th>Int64</th><th>Int64</th><th>String</th><th>Int64</th></tr></thead><tbody><p>6 rows × 26 columns</p><tr><th>1</th><td>58.0</td><td>M</td><td>MARRIED</td><td>other- heart</td><td>49</td><td>160</td><td>118</td><td>100</td><td>80</td><td>32</td><td>None</td><td>11</td><td>33</td><td>0.8</td><td>AMBULANCE</td><td>ALERT</td><td>EMERGENCY</td><td>660293.0</td><td>474901</td><td>0</td><td>474901</td><td>25</td><td>12</td><td>13</td><td>Y</td><td>38000</td></tr><tr><th>2</th><td>59.0</td><td>M</td><td>MARRIED</td><td>CAD-DVD</td><td>41</td><td>155</td><td>78</td><td>70</td><td>50</td><td>28</td><td>None</td><td>11</td><td>95</td><td>1.7</td><td>AMBULANCE</td><td>ALERT</td><td>EMERGENCY</td><td>809130.0</td><td>944819</td><td>96422</td><td>848397</td><td>41</td><td>20</td><td>21</td><td>Y</td><td>39690</td></tr><tr><th>3</th><td>82.0</td><td>M</td><td>MARRIED</td><td>CAD-TVD</td><td>47</td><td>164</td><td>100</td><td>110</td><td>80</td><td>20</td><td>Diabetes2</td><td>12</td><td>15</td><td>0.8</td><td>WALKED IN</td><td>ALERT</td><td>ELECTIVE</td><td>362231.0</td><td>390000</td><td>30000</td><td>360000</td><td>18</td><td>9</td><td>9</td><td>N</td><td>0</td></tr><tr><th>4</th><td>46.0</td><td>M</td><td>MARRIED</td><td>CAD-DVD</td><td>80</td><td>173</td><td>122</td><td>110</td><td>80</td><td>24</td><td>hypertension1</td><td>12</td><td>74</td><td>1.5</td><td>AMBULANCE</td><td>ALERT</td><td>EMERGENCY</td><td>629990.0</td><td>324910</td><td>0</td><td>324910</td><td>14</td><td>13</td><td>1</td><td>Y</td><td>89450</td></tr><tr><th>5</th><td>60.0</td><td>M</td><td>MARRIED</td><td>CAD-DVD</td><td>58</td><td>175</td><td>72</td><td>180</td><td>100</td><td>18</td><td>Diabetes2</td><td>10</td><td>48</td><td>1.9</td><td>AMBULANCE</td><td>ALERT</td><td>EMERGENCY</td><td>444876.0</td><td>254673</td><td>10000</td><td>244673</td><td>24</td><td>12</td><td>12</td><td>N</td><td>0</td></tr><tr><th>6</th><td>75.0</td><td>M</td><td>MARRIED</td><td>CAD-DVD</td><td>45</td><td>140</td><td>130</td><td>215</td><td>140</td><td>42</td><td>None</td><td>12</td><td>29</td><td>1.0</td><td>AMBULANCE</td><td>ALERT</td><td>EMERGENCY</td><td>372357.0</td><td>499987</td><td>0</td><td>499987</td><td>31</td><td>9</td><td>22</td><td>N</td><td>0</td></tr></tbody></table>"
      ],
      "text/latex": [
       "\\begin{tabular}{r|cccccccccccccccccccccccccc}\n",
       "\t& age & gender & marital\\_status & key\\_complaints\\_code & body\\_weight & body\\_height & hr\\_pulse & bp\\_high & bp\\_low & rr & past\\_medical\\_history\\_code & hb & urea & creatinine & mode\\_of\\_arrival & state\\_at\\_the\\_time\\_of\\_arrival & type\\_of\\_admsn & total\\_cost\\_to\\_hospital & total\\_amount\\_billed\\_to\\_the\\_patient & concession & actual\\_receivable\\_amount & total\\_length\\_of\\_stay & length\\_of\\_stay\\_icu & length\\_of\\_stay\\_ward & implant\\_used & cost\\_of\\_implant\\\\\n",
       "\t\\hline\n",
       "\t& Float64 & String & String & String & Int64 & Int64 & Int64 & Int64 & Int64 & Int64 & String & Int64 & Int64 & Float64 & String & String & String & Float64 & Int64 & Int64 & Int64 & Int64 & Int64 & Int64 & String & Int64\\\\\n",
       "\t\\hline\n",
       "\t1 & 58.0 & M & MARRIED & other- heart & 49 & 160 & 118 & 100 & 80 & 32 & None & 11 & 33 & 0.8 & AMBULANCE & ALERT & EMERGENCY & 660293.0 & 474901 & 0 & 474901 & 25 & 12 & 13 & Y & 38000 \\\\\n",
       "\t2 & 59.0 & M & MARRIED & CAD-DVD & 41 & 155 & 78 & 70 & 50 & 28 & None & 11 & 95 & 1.7 & AMBULANCE & ALERT & EMERGENCY & 809130.0 & 944819 & 96422 & 848397 & 41 & 20 & 21 & Y & 39690 \\\\\n",
       "\t3 & 82.0 & M & MARRIED & CAD-TVD & 47 & 164 & 100 & 110 & 80 & 20 & Diabetes2 & 12 & 15 & 0.8 & WALKED IN & ALERT & ELECTIVE & 362231.0 & 390000 & 30000 & 360000 & 18 & 9 & 9 & N & 0 \\\\\n",
       "\t4 & 46.0 & M & MARRIED & CAD-DVD & 80 & 173 & 122 & 110 & 80 & 24 & hypertension1 & 12 & 74 & 1.5 & AMBULANCE & ALERT & EMERGENCY & 629990.0 & 324910 & 0 & 324910 & 14 & 13 & 1 & Y & 89450 \\\\\n",
       "\t5 & 60.0 & M & MARRIED & CAD-DVD & 58 & 175 & 72 & 180 & 100 & 18 & Diabetes2 & 10 & 48 & 1.9 & AMBULANCE & ALERT & EMERGENCY & 444876.0 & 254673 & 10000 & 244673 & 24 & 12 & 12 & N & 0 \\\\\n",
       "\t6 & 75.0 & M & MARRIED & CAD-DVD & 45 & 140 & 130 & 215 & 140 & 42 & None & 12 & 29 & 1.0 & AMBULANCE & ALERT & EMERGENCY & 372357.0 & 499987 & 0 & 499987 & 31 & 9 & 22 & N & 0 \\\\\n",
       "\\end{tabular}\n"
      ],
      "text/plain": [
       "6×26 DataFrame\n",
       "│ Row │ age     │ gender │ marital_status │ key_complaints_code │ body_weight │ body_height │ hr_pulse │ bp_high │ bp_low │ rr    │ past_medical_history_code │ hb    │ urea  │ creatinine │ mode_of_arrival │ state_at_the_time_of_arrival │ type_of_admsn │ total_cost_to_hospital │ total_amount_billed_to_the_patient │ concession │ actual_receivable_amount │ total_length_of_stay │ length_of_stay_icu │ length_of_stay_ward │ implant_used │ cost_of_implant │\n",
       "│     │ \u001b[90mFloat64\u001b[39m │ \u001b[90mString\u001b[39m │ \u001b[90mString\u001b[39m         │ \u001b[90mString\u001b[39m              │ \u001b[90mInt64\u001b[39m       │ \u001b[90mInt64\u001b[39m       │ \u001b[90mInt64\u001b[39m    │ \u001b[90mInt64\u001b[39m   │ \u001b[90mInt64\u001b[39m  │ \u001b[90mInt64\u001b[39m │ \u001b[90mString\u001b[39m                    │ \u001b[90mInt64\u001b[39m │ \u001b[90mInt64\u001b[39m │ \u001b[90mFloat64\u001b[39m    │ \u001b[90mString\u001b[39m          │ \u001b[90mString\u001b[39m                       │ \u001b[90mString\u001b[39m        │ \u001b[90mFloat64\u001b[39m                │ \u001b[90mInt64\u001b[39m                              │ \u001b[90mInt64\u001b[39m      │ \u001b[90mInt64\u001b[39m                    │ \u001b[90mInt64\u001b[39m                │ \u001b[90mInt64\u001b[39m              │ \u001b[90mInt64\u001b[39m               │ \u001b[90mString\u001b[39m       │ \u001b[90mInt64\u001b[39m           │\n",
       "├─────┼─────────┼────────┼────────────────┼─────────────────────┼─────────────┼─────────────┼──────────┼─────────┼────────┼───────┼───────────────────────────┼───────┼───────┼────────────┼─────────────────┼──────────────────────────────┼───────────────┼────────────────────────┼────────────────────────────────────┼────────────┼──────────────────────────┼──────────────────────┼────────────────────┼─────────────────────┼──────────────┼─────────────────┤\n",
       "│ 1   │ 58.0    │ M      │ MARRIED        │ other- heart        │ 49          │ 160         │ 118      │ 100     │ 80     │ 32    │ None                      │ 11    │ 33    │ 0.8        │ AMBULANCE       │ ALERT                        │ EMERGENCY     │ 660293.0               │ 474901                             │ 0          │ 474901                   │ 25                   │ 12                 │ 13                  │ Y            │ 38000           │\n",
       "│ 2   │ 59.0    │ M      │ MARRIED        │ CAD-DVD             │ 41          │ 155         │ 78       │ 70      │ 50     │ 28    │ None                      │ 11    │ 95    │ 1.7        │ AMBULANCE       │ ALERT                        │ EMERGENCY     │ 809130.0               │ 944819                             │ 96422      │ 848397                   │ 41                   │ 20                 │ 21                  │ Y            │ 39690           │\n",
       "│ 3   │ 82.0    │ M      │ MARRIED        │ CAD-TVD             │ 47          │ 164         │ 100      │ 110     │ 80     │ 20    │ Diabetes2                 │ 12    │ 15    │ 0.8        │ WALKED IN       │ ALERT                        │ ELECTIVE      │ 362231.0               │ 390000                             │ 30000      │ 360000                   │ 18                   │ 9                  │ 9                   │ N            │ 0               │\n",
       "│ 4   │ 46.0    │ M      │ MARRIED        │ CAD-DVD             │ 80          │ 173         │ 122      │ 110     │ 80     │ 24    │ hypertension1             │ 12    │ 74    │ 1.5        │ AMBULANCE       │ ALERT                        │ EMERGENCY     │ 629990.0               │ 324910                             │ 0          │ 324910                   │ 14                   │ 13                 │ 1                   │ Y            │ 89450           │\n",
       "│ 5   │ 60.0    │ M      │ MARRIED        │ CAD-DVD             │ 58          │ 175         │ 72       │ 180     │ 100    │ 18    │ Diabetes2                 │ 10    │ 48    │ 1.9        │ AMBULANCE       │ ALERT                        │ EMERGENCY     │ 444876.0               │ 254673                             │ 10000      │ 244673                   │ 24                   │ 12                 │ 12                  │ N            │ 0               │\n",
       "│ 6   │ 75.0    │ M      │ MARRIED        │ CAD-DVD             │ 45          │ 140         │ 130      │ 215     │ 140    │ 42    │ None                      │ 12    │ 29    │ 1.0        │ AMBULANCE       │ ALERT                        │ EMERGENCY     │ 372357.0               │ 499987                             │ 0          │ 499987                   │ 31                   │ 9                  │ 22                  │ N            │ 0               │"
      ]
     },
     "execution_count": 27,
     "metadata": {},
     "output_type": "execute_result"
    }
   ],
   "source": [
    "filter_df = copy(dropmissing(raw_df))\n",
    "head(filter_df)"
   ]
  },
  {
   "cell_type": "markdown",
   "metadata": {},
   "source": [
    "'=>' is a pair operator in Julia"
   ]
  },
  {
   "cell_type": "code",
   "execution_count": 28,
   "metadata": {},
   "outputs": [
    {
     "data": {
      "text/plain": [
       "Dict{String,DataType} with 26 entries:\n",
       "  \"urea\"                               => Int64\n",
       "  \"total_cost_to_hospital\"             => Float64\n",
       "  \"length_of_stay_ward\"                => Int64\n",
       "  \"concession\"                         => Int64\n",
       "  \"age\"                                => Float64\n",
       "  \"type_of_admsn\"                      => String\n",
       "  \"hb\"                                 => Int64\n",
       "  \"creatinine\"                         => Float64\n",
       "  \"actual_receivable_amount\"           => Int64\n",
       "  \"key_complaints_code\"                => String\n",
       "  \"total_amount_billed_to_the_patient\" => Int64\n",
       "  \"hr_pulse\"                           => Int64\n",
       "  \"body_height\"                        => Int64\n",
       "  \"past_medical_history_code\"          => String\n",
       "  \"mode_of_arrival\"                    => String\n",
       "  \"state_at_the_time_of_arrival\"       => String\n",
       "  \"total_length_of_stay\"               => Int64\n",
       "  \"marital_status\"                     => String\n",
       "  \"cost_of_implant\"                    => Int64\n",
       "  \"bp_high\"                            => Int64\n",
       "  \"rr\"                                 => Int64\n",
       "  \"gender\"                             => String\n",
       "  \"length_of_stay_icu\"                 => Int64\n",
       "  \"implant_used\"                       => String\n",
       "  \"bp_low\"                             => Int64\n",
       "  \"body_weight\"                        => Int64"
      ]
     },
     "execution_count": 28,
     "metadata": {},
     "output_type": "execute_result"
    }
   ],
   "source": [
    "Dict(names(filter_df) .=> eltype.(eachcol(filter_df)))"
   ]
  },
  {
   "cell_type": "markdown",
   "metadata": {},
   "source": [
    "We will first start by printing the unique labels in categorical features"
   ]
  },
  {
   "cell_type": "code",
   "execution_count": 29,
   "metadata": {
    "scrolled": true
   },
   "outputs": [
    {
     "name": "stdout",
     "output_type": "stream",
     "text": [
      "Set(filter_df[:, \"gender\"]) = Set([\"F\", \"M\"])\n"
     ]
    },
    {
     "data": {
      "text/plain": [
       "2-element Array{String,1}:\n",
       " \"M\"\n",
       " \"F\""
      ]
     },
     "execution_count": 29,
     "metadata": {},
     "output_type": "execute_result"
    }
   ],
   "source": [
    "@show Set(filter_df[:,\"gender\"]);\n",
    "unique(filter_df[:,\"gender\"])"
   ]
  },
  {
   "cell_type": "code",
   "execution_count": 30,
   "metadata": {},
   "outputs": [],
   "source": [
    "#for f in categorical_features:\n",
    "#    print(\"\\nThe unique labels in {} is {}\\n\".format(f, filter_df[f].unique()))\n",
    "#    print(\"The values in {} is \\n{}\\n\".format(f,  filter_df[f].value_counts()))"
   ]
  },
  {
   "cell_type": "markdown",
   "metadata": {},
   "source": [
    "The '@' is used before printf as 'printf' is a macro and not a function.  It can parse and interpret the format string at compile time and generate custom code for that specific format string. \n",
    "\n",
    "More at: https://stackoverflow.com/questions/19783030/in-julia-why-is-printf-a-macro-instead-of-a-function"
   ]
  },
  {
   "cell_type": "code",
   "execution_count": 31,
   "metadata": {
    "scrolled": false
   },
   "outputs": [
    {
     "name": "stdout",
     "output_type": "stream",
     "text": [
      "\n",
      "The unique labels in gender is [\"M\", \"F\"] \n",
      "\n",
      "The unique labels in gender is Dict(\"M\" => 110,\"F\" => 53) \n",
      "\n",
      "The unique labels in marital_status is [\"MARRIED\", \"UNMARRIED\"] \n",
      "\n",
      "The unique labels in marital_status is Dict(\"UNMARRIED\" => 85,\"MARRIED\" => 78) \n",
      "\n",
      "The unique labels in key_complaints_code is [\"other- heart\", \"CAD-DVD\", \"CAD-TVD\", \"RHD\", \"CAD-SVD\", \"other- respiratory\", \"ACHD\", \"other-tertalogy\", \"other-nervous\", \"PM-VSD\", \"OS-ASD\", \"CAD-VSD\", \"other-general\"] \n",
      "\n",
      "The unique labels in key_complaints_code is Dict(\"CAD-SVD\" => 2,\"CAD-VSD\" => 1,\"CAD-DVD\" => 26,\"CAD-TVD\" => 22,\"PM-VSD\" => 4,\"other-general\" => 1,\"other- heart\" => 42,\"OS-ASD\" => 13,\"ACHD\" => 16,\"other-nervous\" => 1,\"RHD\" => 19,\"other- respiratory\" => 5,\"other-tertalogy\" => 11) \n",
      "\n",
      "The unique labels in past_medical_history_code is [\"None\", \"Diabetes2\", \"hypertension1\", \"hypertension3\", \"hypertension2\", \"Diabetes1\", \"other\"] \n",
      "\n",
      "The unique labels in past_medical_history_code is Dict(\"None\" => 105,\"hypertension2\" => 7,\"other\" => 14,\"hypertension1\" => 16,\"Diabetes2\" => 9,\"Diabetes1\" => 9,\"hypertension3\" => 3) \n",
      "\n",
      "The unique labels in mode_of_arrival is [\"AMBULANCE\", \"WALKED IN\", \"TRANSFERRED\"] \n",
      "\n",
      "The unique labels in mode_of_arrival is Dict(\"AMBULANCE\" => 23,\"TRANSFERRED\" => 2,\"WALKED IN\" => 138) \n",
      "\n",
      "The unique labels in state_at_the_time_of_arrival is [\"ALERT\"] \n",
      "\n",
      "The unique labels in state_at_the_time_of_arrival is Dict(\"ALERT\" => 163) \n",
      "\n",
      "The unique labels in type_of_admsn is [\"EMERGENCY\", \"ELECTIVE\"] \n",
      "\n",
      "The unique labels in type_of_admsn is Dict(\"ELECTIVE\" => 138,\"EMERGENCY\" => 25) \n",
      "\n",
      "The unique labels in implant_used is [\"Y\", \"N\"] \n",
      "\n",
      "The unique labels in implant_used is Dict(\"Y\" => 37,\"N\" => 126) \n"
     ]
    }
   ],
   "source": [
    "for f in categorical_features\n",
    "    #print(repr(f)) ## to convert symbol to categorical name.\n",
    "    unq = unique(filter_df[:, f]) ## Set(filter_df[:, (f)]) also works.\n",
    "    val_cnt = StatsBase.countmap(filter_df[:, (f)])\n",
    "    @printf(\"\\nThe unique labels in %s is %s \\n\", f, unq)\n",
    "    @printf(\"\\nThe unique labels in %s is %s \\n\", f, val_cnt)\n",
    "end"
   ]
  },
  {
   "cell_type": "markdown",
   "metadata": {},
   "source": [
    "Clubbing some of the feature labels together."
   ]
  },
  {
   "cell_type": "code",
   "execution_count": 32,
   "metadata": {},
   "outputs": [],
   "source": [
    "#filter_df['past_medical_history_code']=np.where(\n",
    "#    (filter_df['past_medical_history_code'] =='hypertension1') |\n",
    "#    (filter_df['past_medical_history_code'] =='hypertension2') |\n",
    "#    (filter_df['past_medical_history_code'] =='hypertension3'), \n",
    "#    'hypertension', filter_df['past_medical_history_code'])"
   ]
  },
  {
   "cell_type": "markdown",
   "metadata": {},
   "source": [
    "`.` is a broadcasting operator in julia. So, f.(a, b) means \"apply f elementwise to a and b\".\n",
    "\n",
    "More at: https://docs.julialang.org/en/v1/manual/arrays/#Broadcasting"
   ]
  },
  {
   "cell_type": "code",
   "execution_count": 33,
   "metadata": {},
   "outputs": [],
   "source": [
    "filter_df[:,\"past_medical_history_code\"].= ifelse.(\n",
    "        (filter_df[:,\"past_medical_history_code\"] .== \"hypertension1\") .|\n",
    "        (filter_df[:,\"past_medical_history_code\"] .== \"hypertension2\") .| \n",
    "        (filter_df[:,\"past_medical_history_code\"] .== \"hypertension3\"),\n",
    "    \"hypertension\", filter_df[:,\"past_medical_history_code\"]);"
   ]
  },
  {
   "cell_type": "code",
   "execution_count": 34,
   "metadata": {},
   "outputs": [
    {
     "data": {
      "text/html": [
       "<table class=\"data-frame\"><thead><tr><th></th><th>age</th><th>gender</th><th>marital_status</th><th>key_complaints_code</th><th>body_weight</th><th>body_height</th><th>hr_pulse</th><th>bp_high</th><th>bp_low</th><th>rr</th><th>past_medical_history_code</th><th>hb</th><th>urea</th><th>creatinine</th><th>mode_of_arrival</th><th>state_at_the_time_of_arrival</th><th>type_of_admsn</th><th>total_cost_to_hospital</th><th>total_amount_billed_to_the_patient</th><th>concession</th><th>actual_receivable_amount</th><th>total_length_of_stay</th><th>length_of_stay_icu</th><th>length_of_stay_ward</th><th>implant_used</th><th>cost_of_implant</th></tr><tr><th></th><th>Float64</th><th>String</th><th>String</th><th>String</th><th>Int64</th><th>Int64</th><th>Int64</th><th>Int64</th><th>Int64</th><th>Int64</th><th>String</th><th>Int64</th><th>Int64</th><th>Float64</th><th>String</th><th>String</th><th>String</th><th>Float64</th><th>Int64</th><th>Int64</th><th>Int64</th><th>Int64</th><th>Int64</th><th>Int64</th><th>String</th><th>Int64</th></tr></thead><tbody><p>6 rows × 26 columns</p><tr><th>1</th><td>46.0</td><td>M</td><td>MARRIED</td><td>CAD-DVD</td><td>80</td><td>173</td><td>122</td><td>110</td><td>80</td><td>24</td><td>hypertension</td><td>12</td><td>74</td><td>1.5</td><td>AMBULANCE</td><td>ALERT</td><td>EMERGENCY</td><td>629990.0</td><td>324910</td><td>0</td><td>324910</td><td>14</td><td>13</td><td>1</td><td>Y</td><td>89450</td></tr><tr><th>2</th><td>61.0</td><td>M</td><td>MARRIED</td><td>CAD-DVD</td><td>64</td><td>170</td><td>99</td><td>140</td><td>80</td><td>24</td><td>hypertension</td><td>13</td><td>15</td><td>1.0</td><td>WALKED IN</td><td>ALERT</td><td>ELECTIVE</td><td>514524.0</td><td>282000</td><td>15000</td><td>267000</td><td>21</td><td>10</td><td>11</td><td>Y</td><td>39690</td></tr><tr><th>3</th><td>68.0</td><td>F</td><td>UNMARRIED</td><td>CAD-DVD</td><td>51</td><td>123</td><td>66</td><td>120</td><td>80</td><td>20</td><td>hypertension</td><td>13</td><td>21</td><td>0.7</td><td>AMBULANCE</td><td>ALERT</td><td>EMERGENCY</td><td>4.95969e5</td><td>161250</td><td>0</td><td>161250</td><td>16</td><td>16</td><td>0</td><td>N</td><td>0</td></tr><tr><th>4</th><td>78.0</td><td>F</td><td>MARRIED</td><td>CAD-DVD</td><td>70</td><td>154</td><td>63</td><td>150</td><td>90</td><td>20</td><td>hypertension</td><td>10</td><td>25</td><td>1.0</td><td>WALKED IN</td><td>ALERT</td><td>ELECTIVE</td><td>157763.0</td><td>180000</td><td>0</td><td>180000</td><td>9</td><td>4</td><td>3</td><td>N</td><td>0</td></tr><tr><th>5</th><td>59.0</td><td>F</td><td>MARRIED</td><td>RHD</td><td>47</td><td>150</td><td>60</td><td>130</td><td>90</td><td>24</td><td>hypertension</td><td>12</td><td>15</td><td>0.7</td><td>WALKED IN</td><td>ALERT</td><td>ELECTIVE</td><td>343984.0</td><td>89050</td><td>0</td><td>89050</td><td>17</td><td>5</td><td>12</td><td>Y</td><td>20800</td></tr><tr><th>6</th><td>88.0</td><td>M</td><td>MARRIED</td><td>CAD-TVD</td><td>62</td><td>162</td><td>92</td><td>140</td><td>100</td><td>22</td><td>hypertension</td><td>12</td><td>52</td><td>1.2</td><td>AMBULANCE</td><td>ALERT</td><td>EMERGENCY</td><td>305193.0</td><td>307256</td><td>6000</td><td>301256</td><td>16</td><td>9</td><td>7</td><td>N</td><td>0</td></tr></tbody></table>"
      ],
      "text/latex": [
       "\\begin{tabular}{r|cccccccccccccccccccccccccc}\n",
       "\t& age & gender & marital\\_status & key\\_complaints\\_code & body\\_weight & body\\_height & hr\\_pulse & bp\\_high & bp\\_low & rr & past\\_medical\\_history\\_code & hb & urea & creatinine & mode\\_of\\_arrival & state\\_at\\_the\\_time\\_of\\_arrival & type\\_of\\_admsn & total\\_cost\\_to\\_hospital & total\\_amount\\_billed\\_to\\_the\\_patient & concession & actual\\_receivable\\_amount & total\\_length\\_of\\_stay & length\\_of\\_stay\\_icu & length\\_of\\_stay\\_ward & implant\\_used & cost\\_of\\_implant\\\\\n",
       "\t\\hline\n",
       "\t& Float64 & String & String & String & Int64 & Int64 & Int64 & Int64 & Int64 & Int64 & String & Int64 & Int64 & Float64 & String & String & String & Float64 & Int64 & Int64 & Int64 & Int64 & Int64 & Int64 & String & Int64\\\\\n",
       "\t\\hline\n",
       "\t1 & 46.0 & M & MARRIED & CAD-DVD & 80 & 173 & 122 & 110 & 80 & 24 & hypertension & 12 & 74 & 1.5 & AMBULANCE & ALERT & EMERGENCY & 629990.0 & 324910 & 0 & 324910 & 14 & 13 & 1 & Y & 89450 \\\\\n",
       "\t2 & 61.0 & M & MARRIED & CAD-DVD & 64 & 170 & 99 & 140 & 80 & 24 & hypertension & 13 & 15 & 1.0 & WALKED IN & ALERT & ELECTIVE & 514524.0 & 282000 & 15000 & 267000 & 21 & 10 & 11 & Y & 39690 \\\\\n",
       "\t3 & 68.0 & F & UNMARRIED & CAD-DVD & 51 & 123 & 66 & 120 & 80 & 20 & hypertension & 13 & 21 & 0.7 & AMBULANCE & ALERT & EMERGENCY & 4.95969e5 & 161250 & 0 & 161250 & 16 & 16 & 0 & N & 0 \\\\\n",
       "\t4 & 78.0 & F & MARRIED & CAD-DVD & 70 & 154 & 63 & 150 & 90 & 20 & hypertension & 10 & 25 & 1.0 & WALKED IN & ALERT & ELECTIVE & 157763.0 & 180000 & 0 & 180000 & 9 & 4 & 3 & N & 0 \\\\\n",
       "\t5 & 59.0 & F & MARRIED & RHD & 47 & 150 & 60 & 130 & 90 & 24 & hypertension & 12 & 15 & 0.7 & WALKED IN & ALERT & ELECTIVE & 343984.0 & 89050 & 0 & 89050 & 17 & 5 & 12 & Y & 20800 \\\\\n",
       "\t6 & 88.0 & M & MARRIED & CAD-TVD & 62 & 162 & 92 & 140 & 100 & 22 & hypertension & 12 & 52 & 1.2 & AMBULANCE & ALERT & EMERGENCY & 305193.0 & 307256 & 6000 & 301256 & 16 & 9 & 7 & N & 0 \\\\\n",
       "\\end{tabular}\n"
      ],
      "text/plain": [
       "6×26 DataFrame\n",
       "│ Row │ age     │ gender │ marital_status │ key_complaints_code │ body_weight │ body_height │ hr_pulse │ bp_high │ bp_low │ rr    │ past_medical_history_code │ hb    │ urea  │ creatinine │ mode_of_arrival │ state_at_the_time_of_arrival │ type_of_admsn │ total_cost_to_hospital │ total_amount_billed_to_the_patient │ concession │ actual_receivable_amount │ total_length_of_stay │ length_of_stay_icu │ length_of_stay_ward │ implant_used │ cost_of_implant │\n",
       "│     │ \u001b[90mFloat64\u001b[39m │ \u001b[90mString\u001b[39m │ \u001b[90mString\u001b[39m         │ \u001b[90mString\u001b[39m              │ \u001b[90mInt64\u001b[39m       │ \u001b[90mInt64\u001b[39m       │ \u001b[90mInt64\u001b[39m    │ \u001b[90mInt64\u001b[39m   │ \u001b[90mInt64\u001b[39m  │ \u001b[90mInt64\u001b[39m │ \u001b[90mString\u001b[39m                    │ \u001b[90mInt64\u001b[39m │ \u001b[90mInt64\u001b[39m │ \u001b[90mFloat64\u001b[39m    │ \u001b[90mString\u001b[39m          │ \u001b[90mString\u001b[39m                       │ \u001b[90mString\u001b[39m        │ \u001b[90mFloat64\u001b[39m                │ \u001b[90mInt64\u001b[39m                              │ \u001b[90mInt64\u001b[39m      │ \u001b[90mInt64\u001b[39m                    │ \u001b[90mInt64\u001b[39m                │ \u001b[90mInt64\u001b[39m              │ \u001b[90mInt64\u001b[39m               │ \u001b[90mString\u001b[39m       │ \u001b[90mInt64\u001b[39m           │\n",
       "├─────┼─────────┼────────┼────────────────┼─────────────────────┼─────────────┼─────────────┼──────────┼─────────┼────────┼───────┼───────────────────────────┼───────┼───────┼────────────┼─────────────────┼──────────────────────────────┼───────────────┼────────────────────────┼────────────────────────────────────┼────────────┼──────────────────────────┼──────────────────────┼────────────────────┼─────────────────────┼──────────────┼─────────────────┤\n",
       "│ 1   │ 46.0    │ M      │ MARRIED        │ CAD-DVD             │ 80          │ 173         │ 122      │ 110     │ 80     │ 24    │ hypertension              │ 12    │ 74    │ 1.5        │ AMBULANCE       │ ALERT                        │ EMERGENCY     │ 629990.0               │ 324910                             │ 0          │ 324910                   │ 14                   │ 13                 │ 1                   │ Y            │ 89450           │\n",
       "│ 2   │ 61.0    │ M      │ MARRIED        │ CAD-DVD             │ 64          │ 170         │ 99       │ 140     │ 80     │ 24    │ hypertension              │ 13    │ 15    │ 1.0        │ WALKED IN       │ ALERT                        │ ELECTIVE      │ 514524.0               │ 282000                             │ 15000      │ 267000                   │ 21                   │ 10                 │ 11                  │ Y            │ 39690           │\n",
       "│ 3   │ 68.0    │ F      │ UNMARRIED      │ CAD-DVD             │ 51          │ 123         │ 66       │ 120     │ 80     │ 20    │ hypertension              │ 13    │ 21    │ 0.7        │ AMBULANCE       │ ALERT                        │ EMERGENCY     │ 4.95969e5              │ 161250                             │ 0          │ 161250                   │ 16                   │ 16                 │ 0                   │ N            │ 0               │\n",
       "│ 4   │ 78.0    │ F      │ MARRIED        │ CAD-DVD             │ 70          │ 154         │ 63       │ 150     │ 90     │ 20    │ hypertension              │ 10    │ 25    │ 1.0        │ WALKED IN       │ ALERT                        │ ELECTIVE      │ 157763.0               │ 180000                             │ 0          │ 180000                   │ 9                    │ 4                  │ 3                   │ N            │ 0               │\n",
       "│ 5   │ 59.0    │ F      │ MARRIED        │ RHD                 │ 47          │ 150         │ 60       │ 130     │ 90     │ 24    │ hypertension              │ 12    │ 15    │ 0.7        │ WALKED IN       │ ALERT                        │ ELECTIVE      │ 343984.0               │ 89050                              │ 0          │ 89050                    │ 17                   │ 5                  │ 12                  │ Y            │ 20800           │\n",
       "│ 6   │ 88.0    │ M      │ MARRIED        │ CAD-TVD             │ 62          │ 162         │ 92       │ 140     │ 100    │ 22    │ hypertension              │ 12    │ 52    │ 1.2        │ AMBULANCE       │ ALERT                        │ EMERGENCY     │ 305193.0               │ 307256                             │ 6000       │ 301256                   │ 16                   │ 9                  │ 7                   │ N            │ 0               │"
      ]
     },
     "execution_count": 34,
     "metadata": {},
     "output_type": "execute_result"
    }
   ],
   "source": [
    "head(filter_df[filter_df.past_medical_history_code .== \"hypertension\",:])"
   ]
  },
  {
   "cell_type": "code",
   "execution_count": 35,
   "metadata": {},
   "outputs": [
    {
     "data": {
      "text/plain": [
       "Dict{String,Int64} with 5 entries:\n",
       "  \"None\"         => 105\n",
       "  \"other\"        => 14\n",
       "  \"hypertension\" => 26\n",
       "  \"Diabetes2\"    => 9\n",
       "  \"Diabetes1\"    => 9"
      ]
     },
     "execution_count": 35,
     "metadata": {},
     "output_type": "execute_result"
    }
   ],
   "source": [
    "countmap(filter_df.past_medical_history_code)"
   ]
  },
  {
   "cell_type": "code",
   "execution_count": 36,
   "metadata": {},
   "outputs": [],
   "source": [
    "#filter_df['past_medical_history_code']=np.where(\n",
    "#    (filter_df['past_medical_history_code'] =='Diabetes1') |\n",
    "#    (filter_df['past_medical_history_code'] =='Diabetes2'), \n",
    "#    'diabetes', filter_df['past_medical_history_code'])"
   ]
  },
  {
   "cell_type": "code",
   "execution_count": 37,
   "metadata": {},
   "outputs": [],
   "source": [
    "filter_df[(filter_df.past_medical_history_code .==\"Diabetes1\") .| \n",
    "            (filter_df.past_medical_history_code .==\"Diabetes2\"),\"past_medical_history_code\"] .= \"Diabetes\";"
   ]
  },
  {
   "cell_type": "code",
   "execution_count": 38,
   "metadata": {},
   "outputs": [
    {
     "data": {
      "text/plain": [
       "Dict{String,Int64} with 4 entries:\n",
       "  \"None\"         => 105\n",
       "  \"other\"        => 14\n",
       "  \"hypertension\" => 26\n",
       "  \"Diabetes\"     => 18"
      ]
     },
     "execution_count": 38,
     "metadata": {},
     "output_type": "execute_result"
    }
   ],
   "source": [
    "countmap(filter_df.past_medical_history_code)"
   ]
  },
  {
   "cell_type": "code",
   "execution_count": 39,
   "metadata": {},
   "outputs": [],
   "source": [
    "filter_df[(filter_df.key_complaints_code .==\"other- respiratory\") .| \n",
    "         (filter_df.key_complaints_code .==\"PM-VSD\") .|\n",
    "        (filter_df.key_complaints_code .==\"CAD-SVD\") .|\n",
    "        (filter_df.key_complaints_code .==\"CAD-VSD\") .|\n",
    "        (filter_df.key_complaints_code .==\"other-nervous\") .|\n",
    "        (filter_df.key_complaints_code .==\"other-general\")\n",
    "        ,\"key_complaints_code\"] .= \"others\";"
   ]
  },
  {
   "cell_type": "code",
   "execution_count": 40,
   "metadata": {},
   "outputs": [
    {
     "data": {
      "text/plain": [
       "Dict{String,Int64} with 8 entries:\n",
       "  \"other-tertalogy\" => 11\n",
       "  \"other- heart\"    => 42\n",
       "  \"OS-ASD\"          => 13\n",
       "  \"CAD-DVD\"         => 26\n",
       "  \"RHD\"             => 19\n",
       "  \"others\"          => 14\n",
       "  \"ACHD\"            => 16\n",
       "  \"CAD-TVD\"         => 22"
      ]
     },
     "execution_count": 40,
     "metadata": {},
     "output_type": "execute_result"
    }
   ],
   "source": [
    "countmap(filter_df.key_complaints_code)"
   ]
  },
  {
   "cell_type": "markdown",
   "metadata": {},
   "source": [
    "### Exercise:\n",
    "\n",
    "* **Calculate the average across all the numeric features w.r.t categorical feature.**"
   ]
  },
  {
   "cell_type": "code",
   "execution_count": 41,
   "metadata": {},
   "outputs": [],
   "source": [
    "#def group_by (categorical_features):\n",
    "#    return filter_df.groupby(categorical_features).mean()"
   ]
  },
  {
   "cell_type": "code",
   "execution_count": 42,
   "metadata": {},
   "outputs": [],
   "source": [
    "#group_by(\"past_medical_history_code\")\n",
    "#group_by(\"key_complaints_code\")\n",
    "#group_by(\"marital_status\")"
   ]
  },
  {
   "cell_type": "code",
   "execution_count": 43,
   "metadata": {},
   "outputs": [],
   "source": [
    "##Write your code here\n",
    "\n"
   ]
  },
  {
   "cell_type": "markdown",
   "metadata": {},
   "source": [
    "**Calculating BMI**"
   ]
  },
  {
   "cell_type": "code",
   "execution_count": 44,
   "metadata": {
    "scrolled": true
   },
   "outputs": [],
   "source": [
    "#filter_df['bmi'] = filter_df.body_weight/(np.power((filter_df.body_height/100),2))\n",
    "#filter_df['bmi']"
   ]
  },
  {
   "cell_type": "code",
   "execution_count": 45,
   "metadata": {},
   "outputs": [],
   "source": [
    "filter_df[:,\"bmi\"] = filter_df.body_weight./(filter_df.body_height./100).^2;"
   ]
  },
  {
   "cell_type": "markdown",
   "metadata": {},
   "source": [
    "### Exercise: Visualizing the Data using Gadfly\n",
    "\n",
    "* **Write a custom function to create bar plot to visualize the average of numeric features w.r.t each categorical feature. Say, average age w.r.t gender.**\n",
    "\n",
    "This is how one may do using seaborn in python:"
   ]
  },
  {
   "cell_type": "code",
   "execution_count": 46,
   "metadata": {},
   "outputs": [],
   "source": [
    "#filter_df[numerical_features].info()"
   ]
  },
  {
   "cell_type": "code",
   "execution_count": 47,
   "metadata": {},
   "outputs": [],
   "source": [
    "#def bar_plot(xlabel,ylabel):\n",
    "#    sn.barplot(x = xlabel, y = ylabel, data= filter_df)\n",
    "#    plt.xlabel(xlabel, size = 14)\n",
    "#    plt.ylabel(ylabel, size = 14)\n",
    "#    #plt.grid(True)\n",
    "#    x1,x2,y1,y2 = plt.axis()\n",
    "#    plt.show()"
   ]
  },
  {
   "cell_type": "code",
   "execution_count": 48,
   "metadata": {
    "scrolled": false
   },
   "outputs": [],
   "source": [
    "#numerical_features_set = ['age','rr']\n",
    "#categorical_features_set = ['gender','marital_status']\n",
    "\n",
    "#for c in categorical_features_set:\n",
    "#    for n in numerical_features_set:\n",
    "#        bar_plot(c,n)"
   ]
  },
  {
   "cell_type": "code",
   "execution_count": 49,
   "metadata": {},
   "outputs": [],
   "source": [
    "##Write your code here\n",
    "\n",
    "\n"
   ]
  },
  {
   "cell_type": "markdown",
   "metadata": {},
   "source": [
    "## Model using sklearn:\n",
    "\n",
    "Remove the response variable from the dataset. To get symbols:\n",
    "\n",
    "* Type \\in (TAB) - ∈ or \n",
    "* \\notin (TAB) - ∉"
   ]
  },
  {
   "cell_type": "code",
   "execution_count": 50,
   "metadata": {},
   "outputs": [],
   "source": [
    "#using ScikitLearn"
   ]
  },
  {
   "cell_type": "code",
   "execution_count": 51,
   "metadata": {},
   "outputs": [
    {
     "data": {
      "text/plain": [
       "11-element Array{String,1}:\n",
       " \"body_weight\"\n",
       " \"body_height\"\n",
       " \"creatinine\"\n",
       " \"state_at_the_time_of_arrival\"\n",
       " \"total_amount_billed_to_the_patient\"\n",
       " \"concession\"\n",
       " \"actual_receivable_amount\"\n",
       " \"total_length_of_stay\"\n",
       " \"length_of_stay_icu\"\n",
       " \"length_of_stay_ward\"\n",
       " \"total_cost_to_hospital\""
      ]
     },
     "execution_count": 51,
     "metadata": {},
     "output_type": "execute_result"
    }
   ],
   "source": [
    "removed_features = [\"body_weight\",\"body_height\",\n",
    "                    \"creatinine\",\"state_at_the_time_of_arrival\",\n",
    "                    \"total_amount_billed_to_the_patient\",\"concession\",\n",
    "                    \"actual_receivable_amount\",\"total_length_of_stay\",\n",
    "                    \"length_of_stay_icu\",\"length_of_stay_ward\",\n",
    "                    \"total_cost_to_hospital\"]"
   ]
  },
  {
   "cell_type": "markdown",
   "metadata": {},
   "source": [
    "**Optional: Way to create a list of features the python way:**"
   ]
  },
  {
   "cell_type": "code",
   "execution_count": 52,
   "metadata": {
    "scrolled": false
   },
   "outputs": [],
   "source": [
    "[x for x in names(raw_df) if (x!=\"age\") && (x!=\"gender\")];"
   ]
  },
  {
   "cell_type": "code",
   "execution_count": 53,
   "metadata": {},
   "outputs": [
    {
     "data": {
      "text/plain": [
       "16-element Array{String,1}:\n",
       " \"age\"\n",
       " \"gender\"\n",
       " \"marital_status\"\n",
       " \"key_complaints_code\"\n",
       " \"hr_pulse\"\n",
       " \"bp_high\"\n",
       " \"bp_low\"\n",
       " \"rr\"\n",
       " \"past_medical_history_code\"\n",
       " \"hb\"\n",
       " \"urea\"\n",
       " \"mode_of_arrival\"\n",
       " \"type_of_admsn\"\n",
       " \"implant_used\"\n",
       " \"cost_of_implant\"\n",
       " \"bmi\""
      ]
     },
     "execution_count": 53,
     "metadata": {},
     "output_type": "execute_result"
    }
   ],
   "source": [
    "#X_features = [x for x in names(filter_df) if x not in removed_features] ##Python\n",
    "\n",
    "X_features = [x for x ∈ names(filter_df) if x ∉ removed_features]"
   ]
  },
  {
   "cell_type": "code",
   "execution_count": 54,
   "metadata": {},
   "outputs": [
    {
     "data": {
      "text/plain": [
       "true"
      ]
     },
     "execution_count": 54,
     "metadata": {},
     "output_type": "execute_result"
    }
   ],
   "source": [
    "removed_features ∉ X_features"
   ]
  },
  {
   "cell_type": "code",
   "execution_count": 55,
   "metadata": {},
   "outputs": [
    {
     "data": {
      "text/plain": [
       "false"
      ]
     },
     "execution_count": 55,
     "metadata": {},
     "output_type": "execute_result"
    }
   ],
   "source": [
    "removed_features ∈ X_features"
   ]
  },
  {
   "cell_type": "markdown",
   "metadata": {},
   "source": [
    "### Categorical Encoding using sklearn"
   ]
  },
  {
   "cell_type": "code",
   "execution_count": 56,
   "metadata": {},
   "outputs": [
    {
     "data": {
      "text/plain": [
       "9-element Array{String,1}:\n",
       " \"age\"\n",
       " \"hr_pulse\"\n",
       " \"bp_high\"\n",
       " \"bp_low\"\n",
       " \"rr\"\n",
       " \"hb\"\n",
       " \"urea\"\n",
       " \"cost_of_implant\"\n",
       " \"bmi\""
      ]
     },
     "execution_count": 56,
     "metadata": {},
     "output_type": "execute_result"
    }
   ],
   "source": [
    "X_numeric = names(filter_df[:,X_features][(<:).(eltypes(filter_df[:,X_features]),Union{Number,Missing})])"
   ]
  },
  {
   "cell_type": "markdown",
   "metadata": {},
   "source": []
  },
  {
   "cell_type": "code",
   "execution_count": 57,
   "metadata": {
    "scrolled": true
   },
   "outputs": [
    {
     "data": {
      "text/plain": [
       "7-element Array{String,1}:\n",
       " \"gender\"\n",
       " \"marital_status\"\n",
       " \"key_complaints_code\"\n",
       " \"past_medical_history_code\"\n",
       " \"mode_of_arrival\"\n",
       " \"type_of_admsn\"\n",
       " \"implant_used\""
      ]
     },
     "execution_count": 57,
     "metadata": {},
     "output_type": "execute_result"
    }
   ],
   "source": [
    "X_categoric = names(filter_df[:,X_features][(<:).(eltypes(filter_df[:,X_features]),Union{String,Missing})])"
   ]
  },
  {
   "cell_type": "code",
   "execution_count": 58,
   "metadata": {
    "scrolled": true
   },
   "outputs": [
    {
     "data": {
      "text/plain": [
       "PyObject <class 'sklearn.preprocessing._label.LabelBinarizer'>"
      ]
     },
     "execution_count": 58,
     "metadata": {},
     "output_type": "execute_result"
    }
   ],
   "source": [
    "##We will use LabelBinarizer\n",
    "\n",
    "@sk_import preprocessing:(LabelBinarizer)#, StandardScaler, OneHotEncoder, LabelEncoder, MultiLabelBinarizer) "
   ]
  },
  {
   "cell_type": "markdown",
   "metadata": {},
   "source": [
    "ScikitLearn.DataFrameMapper can be used to do dummy variable coding. The DataFramemapper won't be available until DataFrames is imported. We can individually apply label binarizer but it is not efficient.\n",
    "\n",
    "Label Binarizer is an SciKitLearn class that accepts Categorical data as input and returns a matrix. Unlike Label Encoder, which can be used to assign unique value to each label,  Label Binarizer encodes the data into dummy variables indicating the presence of a particular label or not.\n",
    "\n",
    "One can refer to https://scikit-learn.org/stable/modules/preprocessing.html for different methods from sklearn python which can be used in Julia."
   ]
  },
  {
   "cell_type": "code",
   "execution_count": 59,
   "metadata": {
    "scrolled": true
   },
   "outputs": [
    {
     "data": {
      "text/plain": [
       "DataFrameMapper(Tuple[(:key_complaints_code, PyObject LabelBinarizer())], false, false, Array{Float64,2})"
      ]
     },
     "execution_count": 59,
     "metadata": {},
     "output_type": "execute_result"
    }
   ],
   "source": [
    "mapper = DataFrameMapper([ \n",
    "                        ( :key_complaints_code  , LabelBinarizer() )#,\n",
    "                        #( :gender  , LabelBinarizer() )\n",
    "                        ])"
   ]
  },
  {
   "cell_type": "code",
   "execution_count": 60,
   "metadata": {},
   "outputs": [
    {
     "data": {
      "text/plain": [
       "Dict{String,Int64} with 8 entries:\n",
       "  \"other-tertalogy\" => 11\n",
       "  \"other- heart\"    => 42\n",
       "  \"OS-ASD\"          => 13\n",
       "  \"CAD-DVD\"         => 26\n",
       "  \"RHD\"             => 19\n",
       "  \"others\"          => 14\n",
       "  \"ACHD\"            => 16\n",
       "  \"CAD-TVD\"         => 22"
      ]
     },
     "execution_count": 60,
     "metadata": {},
     "output_type": "execute_result"
    }
   ],
   "source": [
    "countmap(filter_df.key_complaints_code)"
   ]
  },
  {
   "cell_type": "code",
   "execution_count": 61,
   "metadata": {},
   "outputs": [
    {
     "data": {
      "text/plain": [
       "163×8 Array{Float64,2}:\n",
       " 0.0  0.0  0.0  0.0  0.0  1.0  0.0  0.0\n",
       " 0.0  1.0  0.0  0.0  0.0  0.0  0.0  0.0\n",
       " 0.0  0.0  1.0  0.0  0.0  0.0  0.0  0.0\n",
       " 0.0  1.0  0.0  0.0  0.0  0.0  0.0  0.0\n",
       " 0.0  1.0  0.0  0.0  0.0  0.0  0.0  0.0\n",
       " 0.0  1.0  0.0  0.0  0.0  0.0  0.0  0.0\n",
       " 0.0  0.0  1.0  0.0  0.0  0.0  0.0  0.0\n",
       " 0.0  0.0  1.0  0.0  0.0  0.0  0.0  0.0\n",
       " 0.0  1.0  0.0  0.0  0.0  0.0  0.0  0.0\n",
       " 0.0  0.0  1.0  0.0  0.0  0.0  0.0  0.0\n",
       " 0.0  1.0  0.0  0.0  0.0  0.0  0.0  0.0\n",
       " 0.0  0.0  0.0  0.0  0.0  1.0  0.0  0.0\n",
       " 0.0  0.0  0.0  0.0  1.0  0.0  0.0  0.0\n",
       " ⋮                        ⋮         \n",
       " 0.0  0.0  1.0  0.0  0.0  0.0  0.0  0.0\n",
       " 0.0  1.0  0.0  0.0  0.0  0.0  0.0  0.0\n",
       " 0.0  0.0  0.0  1.0  0.0  0.0  0.0  0.0\n",
       " 0.0  0.0  0.0  0.0  1.0  0.0  0.0  0.0\n",
       " 0.0  0.0  0.0  1.0  0.0  0.0  0.0  0.0\n",
       " 0.0  0.0  0.0  0.0  0.0  0.0  0.0  1.0\n",
       " 0.0  0.0  0.0  0.0  0.0  1.0  0.0  0.0\n",
       " 0.0  0.0  0.0  0.0  0.0  1.0  0.0  0.0\n",
       " 0.0  0.0  1.0  0.0  0.0  0.0  0.0  0.0\n",
       " 0.0  0.0  1.0  0.0  0.0  0.0  0.0  0.0\n",
       " 0.0  0.0  0.0  0.0  0.0  1.0  0.0  0.0\n",
       " 0.0  0.0  0.0  0.0  1.0  0.0  0.0  0.0"
      ]
     },
     "execution_count": 61,
     "metadata": {},
     "output_type": "execute_result"
    }
   ],
   "source": [
    "fit_transform!(mapper, copy(filter_df))"
   ]
  },
  {
   "cell_type": "markdown",
   "metadata": {},
   "source": [
    "Though the documentation gives this option but there seems to be some bug or passing a list is not supported for now. Below code will not work:"
   ]
  },
  {
   "cell_type": "code",
   "execution_count": 62,
   "metadata": {},
   "outputs": [],
   "source": [
    "#mapper = DataFrameMapper([ \n",
    "#                        ([ Symbol.(X_categoric) ] , LabelBinarizer()),\n",
    "#                        ( [ Symbol.(X_numeric) ], nothing )]);"
   ]
  },
  {
   "cell_type": "markdown",
   "metadata": {},
   "source": [
    "#### Workaround"
   ]
  },
  {
   "cell_type": "code",
   "execution_count": 63,
   "metadata": {
    "scrolled": true
   },
   "outputs": [
    {
     "data": {
      "text/plain": [
       "DataFrameMapper(Tuple[(:gender, PyObject LabelBinarizer()), (:marital_status, PyObject LabelBinarizer()), (:key_complaints_code, PyObject LabelBinarizer()), (:past_medical_history_code, PyObject LabelBinarizer()), (:mode_of_arrival, PyObject LabelBinarizer()), (:type_of_admsn, PyObject LabelBinarizer()), (:implant_used, PyObject LabelBinarizer())], false, false, Array{Float64,2})"
      ]
     },
     "execution_count": 63,
     "metadata": {},
     "output_type": "execute_result"
    }
   ],
   "source": [
    "cat_col = Symbol.(X_categoric)\n",
    "cat_feature_defs = [(cat_col_name, LabelBinarizer()) for cat_col_name in cat_col]\n",
    "cat_mapper = DataFrameMapper(cat_feature_defs)"
   ]
  },
  {
   "cell_type": "code",
   "execution_count": 64,
   "metadata": {
    "scrolled": true
   },
   "outputs": [
    {
     "data": {
      "text/plain": [
       "DataFrameMapper(Tuple[(:age, nothing), (:hr_pulse, nothing), (:bp_high, nothing), (:bp_low, nothing), (:rr, nothing), (:hb, nothing), (:urea, nothing), (:cost_of_implant, nothing), (:bmi, nothing)], false, false, Array{Float64,2})"
      ]
     },
     "execution_count": 64,
     "metadata": {},
     "output_type": "execute_result"
    }
   ],
   "source": [
    "num_col = Symbol.(X_numeric)\n",
    "num_feature_defs = [(num_col_name, nothing) for num_col_name in num_col]\n",
    "num_mapper = DataFrameMapper(num_feature_defs)"
   ]
  },
  {
   "cell_type": "code",
   "execution_count": 65,
   "metadata": {
    "scrolled": true
   },
   "outputs": [],
   "source": [
    "#fit_transform!(LabelBinarizer(), filter_df)\n",
    "X1 = fit_transform!(cat_mapper, (filter_df));"
   ]
  },
  {
   "cell_type": "code",
   "execution_count": 66,
   "metadata": {},
   "outputs": [],
   "source": [
    "X2 = fit_transform!(num_mapper, (filter_df));"
   ]
  },
  {
   "cell_type": "code",
   "execution_count": 67,
   "metadata": {},
   "outputs": [
    {
     "data": {
      "text/html": [
       "<table class=\"data-frame\"><thead><tr><th></th><th>x1</th><th>x2</th><th>x3</th><th>x4</th><th>x5</th><th>x6</th><th>x7</th><th>x8</th><th>x9</th><th>x10</th><th>x11</th><th>x12</th><th>x13</th><th>x14</th><th>x15</th><th>x16</th><th>x17</th><th>x18</th><th>x19</th><th>x20</th><th>x21</th><th>x22</th><th>x23</th><th>x24</th><th>x25</th><th>x26</th><th>x27</th><th>x28</th></tr><tr><th></th><th>Float64</th><th>Float64</th><th>Float64</th><th>Float64</th><th>Float64</th><th>Float64</th><th>Float64</th><th>Float64</th><th>Float64</th><th>Float64</th><th>Float64</th><th>Float64</th><th>Float64</th><th>Float64</th><th>Float64</th><th>Float64</th><th>Float64</th><th>Float64</th><th>Float64</th><th>Float64</th><th>Float64</th><th>Float64</th><th>Float64</th><th>Float64</th><th>Float64</th><th>Float64</th><th>Float64</th><th>Float64</th></tr></thead><tbody><p>6 rows × 28 columns</p><tr><th>1</th><td>1.0</td><td>0.0</td><td>0.0</td><td>0.0</td><td>0.0</td><td>0.0</td><td>0.0</td><td>1.0</td><td>0.0</td><td>0.0</td><td>0.0</td><td>1.0</td><td>0.0</td><td>0.0</td><td>1.0</td><td>0.0</td><td>0.0</td><td>1.0</td><td>1.0</td><td>58.0</td><td>118.0</td><td>100.0</td><td>80.0</td><td>32.0</td><td>11.0</td><td>33.0</td><td>38000.0</td><td>19.1406</td></tr><tr><th>2</th><td>1.0</td><td>0.0</td><td>0.0</td><td>1.0</td><td>0.0</td><td>0.0</td><td>0.0</td><td>0.0</td><td>0.0</td><td>0.0</td><td>0.0</td><td>1.0</td><td>0.0</td><td>0.0</td><td>1.0</td><td>0.0</td><td>0.0</td><td>1.0</td><td>1.0</td><td>59.0</td><td>78.0</td><td>70.0</td><td>50.0</td><td>28.0</td><td>11.0</td><td>95.0</td><td>39690.0</td><td>17.0656</td></tr><tr><th>3</th><td>1.0</td><td>0.0</td><td>0.0</td><td>0.0</td><td>1.0</td><td>0.0</td><td>0.0</td><td>0.0</td><td>0.0</td><td>0.0</td><td>1.0</td><td>0.0</td><td>0.0</td><td>0.0</td><td>0.0</td><td>0.0</td><td>1.0</td><td>0.0</td><td>0.0</td><td>82.0</td><td>100.0</td><td>110.0</td><td>80.0</td><td>20.0</td><td>12.0</td><td>15.0</td><td>0.0</td><td>17.4747</td></tr><tr><th>4</th><td>1.0</td><td>0.0</td><td>0.0</td><td>1.0</td><td>0.0</td><td>0.0</td><td>0.0</td><td>0.0</td><td>0.0</td><td>0.0</td><td>0.0</td><td>0.0</td><td>1.0</td><td>0.0</td><td>1.0</td><td>0.0</td><td>0.0</td><td>1.0</td><td>1.0</td><td>46.0</td><td>122.0</td><td>110.0</td><td>80.0</td><td>24.0</td><td>12.0</td><td>74.0</td><td>89450.0</td><td>26.7299</td></tr><tr><th>5</th><td>1.0</td><td>0.0</td><td>0.0</td><td>1.0</td><td>0.0</td><td>0.0</td><td>0.0</td><td>0.0</td><td>0.0</td><td>0.0</td><td>1.0</td><td>0.0</td><td>0.0</td><td>0.0</td><td>1.0</td><td>0.0</td><td>0.0</td><td>1.0</td><td>0.0</td><td>60.0</td><td>72.0</td><td>180.0</td><td>100.0</td><td>18.0</td><td>10.0</td><td>48.0</td><td>0.0</td><td>18.9388</td></tr><tr><th>6</th><td>1.0</td><td>0.0</td><td>0.0</td><td>1.0</td><td>0.0</td><td>0.0</td><td>0.0</td><td>0.0</td><td>0.0</td><td>0.0</td><td>0.0</td><td>1.0</td><td>0.0</td><td>0.0</td><td>1.0</td><td>0.0</td><td>0.0</td><td>1.0</td><td>0.0</td><td>75.0</td><td>130.0</td><td>215.0</td><td>140.0</td><td>42.0</td><td>12.0</td><td>29.0</td><td>0.0</td><td>22.9592</td></tr></tbody></table>"
      ],
      "text/latex": [
       "\\begin{tabular}{r|cccccccccccccccccccccccccccc}\n",
       "\t& x1 & x2 & x3 & x4 & x5 & x6 & x7 & x8 & x9 & x10 & x11 & x12 & x13 & x14 & x15 & x16 & x17 & x18 & x19 & x20 & x21 & x22 & x23 & x24 & x25 & x26 & x27 & x28\\\\\n",
       "\t\\hline\n",
       "\t& Float64 & Float64 & Float64 & Float64 & Float64 & Float64 & Float64 & Float64 & Float64 & Float64 & Float64 & Float64 & Float64 & Float64 & Float64 & Float64 & Float64 & Float64 & Float64 & Float64 & Float64 & Float64 & Float64 & Float64 & Float64 & Float64 & Float64 & Float64\\\\\n",
       "\t\\hline\n",
       "\t1 & 1.0 & 0.0 & 0.0 & 0.0 & 0.0 & 0.0 & 0.0 & 1.0 & 0.0 & 0.0 & 0.0 & 1.0 & 0.0 & 0.0 & 1.0 & 0.0 & 0.0 & 1.0 & 1.0 & 58.0 & 118.0 & 100.0 & 80.0 & 32.0 & 11.0 & 33.0 & 38000.0 & 19.1406 \\\\\n",
       "\t2 & 1.0 & 0.0 & 0.0 & 1.0 & 0.0 & 0.0 & 0.0 & 0.0 & 0.0 & 0.0 & 0.0 & 1.0 & 0.0 & 0.0 & 1.0 & 0.0 & 0.0 & 1.0 & 1.0 & 59.0 & 78.0 & 70.0 & 50.0 & 28.0 & 11.0 & 95.0 & 39690.0 & 17.0656 \\\\\n",
       "\t3 & 1.0 & 0.0 & 0.0 & 0.0 & 1.0 & 0.0 & 0.0 & 0.0 & 0.0 & 0.0 & 1.0 & 0.0 & 0.0 & 0.0 & 0.0 & 0.0 & 1.0 & 0.0 & 0.0 & 82.0 & 100.0 & 110.0 & 80.0 & 20.0 & 12.0 & 15.0 & 0.0 & 17.4747 \\\\\n",
       "\t4 & 1.0 & 0.0 & 0.0 & 1.0 & 0.0 & 0.0 & 0.0 & 0.0 & 0.0 & 0.0 & 0.0 & 0.0 & 1.0 & 0.0 & 1.0 & 0.0 & 0.0 & 1.0 & 1.0 & 46.0 & 122.0 & 110.0 & 80.0 & 24.0 & 12.0 & 74.0 & 89450.0 & 26.7299 \\\\\n",
       "\t5 & 1.0 & 0.0 & 0.0 & 1.0 & 0.0 & 0.0 & 0.0 & 0.0 & 0.0 & 0.0 & 1.0 & 0.0 & 0.0 & 0.0 & 1.0 & 0.0 & 0.0 & 1.0 & 0.0 & 60.0 & 72.0 & 180.0 & 100.0 & 18.0 & 10.0 & 48.0 & 0.0 & 18.9388 \\\\\n",
       "\t6 & 1.0 & 0.0 & 0.0 & 1.0 & 0.0 & 0.0 & 0.0 & 0.0 & 0.0 & 0.0 & 0.0 & 1.0 & 0.0 & 0.0 & 1.0 & 0.0 & 0.0 & 1.0 & 0.0 & 75.0 & 130.0 & 215.0 & 140.0 & 42.0 & 12.0 & 29.0 & 0.0 & 22.9592 \\\\\n",
       "\\end{tabular}\n"
      ],
      "text/plain": [
       "6×28 DataFrame\n",
       "│ Row │ x1      │ x2      │ x3      │ x4      │ x5      │ x6      │ x7      │ x8      │ x9      │ x10     │ x11     │ x12     │ x13     │ x14     │ x15     │ x16     │ x17     │ x18     │ x19     │ x20     │ x21     │ x22     │ x23     │ x24     │ x25     │ x26     │ x27     │ x28     │\n",
       "│     │ \u001b[90mFloat64\u001b[39m │ \u001b[90mFloat64\u001b[39m │ \u001b[90mFloat64\u001b[39m │ \u001b[90mFloat64\u001b[39m │ \u001b[90mFloat64\u001b[39m │ \u001b[90mFloat64\u001b[39m │ \u001b[90mFloat64\u001b[39m │ \u001b[90mFloat64\u001b[39m │ \u001b[90mFloat64\u001b[39m │ \u001b[90mFloat64\u001b[39m │ \u001b[90mFloat64\u001b[39m │ \u001b[90mFloat64\u001b[39m │ \u001b[90mFloat64\u001b[39m │ \u001b[90mFloat64\u001b[39m │ \u001b[90mFloat64\u001b[39m │ \u001b[90mFloat64\u001b[39m │ \u001b[90mFloat64\u001b[39m │ \u001b[90mFloat64\u001b[39m │ \u001b[90mFloat64\u001b[39m │ \u001b[90mFloat64\u001b[39m │ \u001b[90mFloat64\u001b[39m │ \u001b[90mFloat64\u001b[39m │ \u001b[90mFloat64\u001b[39m │ \u001b[90mFloat64\u001b[39m │ \u001b[90mFloat64\u001b[39m │ \u001b[90mFloat64\u001b[39m │ \u001b[90mFloat64\u001b[39m │ \u001b[90mFloat64\u001b[39m │\n",
       "├─────┼─────────┼─────────┼─────────┼─────────┼─────────┼─────────┼─────────┼─────────┼─────────┼─────────┼─────────┼─────────┼─────────┼─────────┼─────────┼─────────┼─────────┼─────────┼─────────┼─────────┼─────────┼─────────┼─────────┼─────────┼─────────┼─────────┼─────────┼─────────┤\n",
       "│ 1   │ 1.0     │ 0.0     │ 0.0     │ 0.0     │ 0.0     │ 0.0     │ 0.0     │ 1.0     │ 0.0     │ 0.0     │ 0.0     │ 1.0     │ 0.0     │ 0.0     │ 1.0     │ 0.0     │ 0.0     │ 1.0     │ 1.0     │ 58.0    │ 118.0   │ 100.0   │ 80.0    │ 32.0    │ 11.0    │ 33.0    │ 38000.0 │ 19.1406 │\n",
       "│ 2   │ 1.0     │ 0.0     │ 0.0     │ 1.0     │ 0.0     │ 0.0     │ 0.0     │ 0.0     │ 0.0     │ 0.0     │ 0.0     │ 1.0     │ 0.0     │ 0.0     │ 1.0     │ 0.0     │ 0.0     │ 1.0     │ 1.0     │ 59.0    │ 78.0    │ 70.0    │ 50.0    │ 28.0    │ 11.0    │ 95.0    │ 39690.0 │ 17.0656 │\n",
       "│ 3   │ 1.0     │ 0.0     │ 0.0     │ 0.0     │ 1.0     │ 0.0     │ 0.0     │ 0.0     │ 0.0     │ 0.0     │ 1.0     │ 0.0     │ 0.0     │ 0.0     │ 0.0     │ 0.0     │ 1.0     │ 0.0     │ 0.0     │ 82.0    │ 100.0   │ 110.0   │ 80.0    │ 20.0    │ 12.0    │ 15.0    │ 0.0     │ 17.4747 │\n",
       "│ 4   │ 1.0     │ 0.0     │ 0.0     │ 1.0     │ 0.0     │ 0.0     │ 0.0     │ 0.0     │ 0.0     │ 0.0     │ 0.0     │ 0.0     │ 1.0     │ 0.0     │ 1.0     │ 0.0     │ 0.0     │ 1.0     │ 1.0     │ 46.0    │ 122.0   │ 110.0   │ 80.0    │ 24.0    │ 12.0    │ 74.0    │ 89450.0 │ 26.7299 │\n",
       "│ 5   │ 1.0     │ 0.0     │ 0.0     │ 1.0     │ 0.0     │ 0.0     │ 0.0     │ 0.0     │ 0.0     │ 0.0     │ 1.0     │ 0.0     │ 0.0     │ 0.0     │ 1.0     │ 0.0     │ 0.0     │ 1.0     │ 0.0     │ 60.0    │ 72.0    │ 180.0   │ 100.0   │ 18.0    │ 10.0    │ 48.0    │ 0.0     │ 18.9388 │\n",
       "│ 6   │ 1.0     │ 0.0     │ 0.0     │ 1.0     │ 0.0     │ 0.0     │ 0.0     │ 0.0     │ 0.0     │ 0.0     │ 0.0     │ 1.0     │ 0.0     │ 0.0     │ 1.0     │ 0.0     │ 0.0     │ 1.0     │ 0.0     │ 75.0    │ 130.0   │ 215.0   │ 140.0   │ 42.0    │ 12.0    │ 29.0    │ 0.0     │ 22.9592 │"
      ]
     },
     "execution_count": 67,
     "metadata": {},
     "output_type": "execute_result"
    }
   ],
   "source": [
    "X3 = convert(DataFrame,hcat(X1,X2)) #Can convert\n",
    "head(X3)"
   ]
  },
  {
   "cell_type": "markdown",
   "metadata": {},
   "source": [
    "### MLJ Package\n",
    "\n",
    "MLJ (Machine Learning in Julia) is a toolbox written in Julia providing a common interface and meta-algorithms for selecting, tuning, evaluating, composing and comparing over 150 machine learning models written in Julia and other languages. In particular MLJ wraps a large number of scikit-learn models.\n",
    "\n",
    "https://alan-turing-institute.github.io/MLJ.jl/dev/list_of_supported_models/"
   ]
  },
  {
   "cell_type": "markdown",
   "metadata": {},
   "source": [
    "Just to get the names of models supported by MLJ"
   ]
  },
  {
   "cell_type": "code",
   "execution_count": 68,
   "metadata": {},
   "outputs": [
    {
     "data": {
      "text/plain": [
       "166-element Array{NamedTuple{(:name, :package_name, :is_supervised, :docstring, :hyperparameter_ranges, :hyperparameter_types, :hyperparameters, :implemented_methods, :is_pure_julia, :is_wrapper, :iteration_parameter, :load_path, :package_license, :package_url, :package_uuid, :prediction_type, :supports_class_weights, :supports_online, :supports_training_losses, :supports_weights, :input_scitype, :target_scitype, :output_scitype),T} where T<:Tuple,1}:\n",
       " (name = ARDRegressor, package_name = ScikitLearn, ... )\n",
       " (name = AdaBoostClassifier, package_name = ScikitLearn, ... )\n",
       " (name = AdaBoostRegressor, package_name = ScikitLearn, ... )\n",
       " (name = AdaBoostStumpClassifier, package_name = DecisionTree, ... )\n",
       " (name = AffinityPropagation, package_name = ScikitLearn, ... )\n",
       " (name = AgglomerativeClustering, package_name = ScikitLearn, ... )\n",
       " (name = BaggingClassifier, package_name = ScikitLearn, ... )\n",
       " (name = BaggingRegressor, package_name = ScikitLearn, ... )\n",
       " (name = BayesianLDA, package_name = MultivariateStats, ... )\n",
       " (name = BayesianLDA, package_name = ScikitLearn, ... )\n",
       " (name = BayesianQDA, package_name = ScikitLearn, ... )\n",
       " (name = BayesianRidgeRegressor, package_name = ScikitLearn, ... )\n",
       " (name = BayesianSubspaceLDA, package_name = MultivariateStats, ... )\n",
       " ⋮\n",
       " (name = SubspaceLDA, package_name = MultivariateStats, ... )\n",
       " (name = TheilSenRegressor, package_name = ScikitLearn, ... )\n",
       " (name = UnivariateBoxCoxTransformer, package_name = MLJModels, ... )\n",
       " (name = UnivariateDiscretizer, package_name = MLJModels, ... )\n",
       " (name = UnivariateFillImputer, package_name = MLJModels, ... )\n",
       " (name = UnivariateStandardizer, package_name = MLJModels, ... )\n",
       " (name = UnivariateTimeTypeToContinuous, package_name = MLJModels, ... )\n",
       " (name = UnsupervisedSurrogate, package_name = MLJBase, ... )\n",
       " (name = WrappedFunction, package_name = MLJBase, ... )\n",
       " (name = XGBoostClassifier, package_name = XGBoost, ... )\n",
       " (name = XGBoostCount, package_name = XGBoost, ... )\n",
       " (name = XGBoostRegressor, package_name = XGBoost, ... )"
      ]
     },
     "execution_count": 68,
     "metadata": {},
     "output_type": "execute_result"
    }
   ],
   "source": [
    "models()"
   ]
  },
  {
   "cell_type": "markdown",
   "metadata": {},
   "source": [
    "Models for which code is already loaded can be found with:"
   ]
  },
  {
   "cell_type": "code",
   "execution_count": 69,
   "metadata": {},
   "outputs": [
    {
     "data": {
      "text/plain": [
       "14-element Array{NamedTuple{(:name, :package_name, :is_supervised, :docstring, :hyperparameter_ranges, :hyperparameter_types, :hyperparameters, :implemented_methods, :is_pure_julia, :is_wrapper, :iteration_parameter, :load_path, :package_license, :package_url, :package_uuid, :prediction_type, :supports_class_weights, :supports_online, :supports_training_losses, :supports_weights, :input_scitype, :target_scitype, :output_scitype),T} where T<:Tuple,1}:\n",
       " (name = ConstantClassifier, package_name = MLJModels, ... )\n",
       " (name = ConstantRegressor, package_name = MLJModels, ... )\n",
       " (name = ContinuousEncoder, package_name = MLJModels, ... )\n",
       " (name = DeterministicConstantClassifier, package_name = MLJModels, ... )\n",
       " (name = DeterministicConstantRegressor, package_name = MLJModels, ... )\n",
       " (name = FeatureSelector, package_name = MLJModels, ... )\n",
       " (name = FillImputer, package_name = MLJModels, ... )\n",
       " (name = OneHotEncoder, package_name = MLJModels, ... )\n",
       " (name = Standardizer, package_name = MLJModels, ... )\n",
       " (name = UnivariateBoxCoxTransformer, package_name = MLJModels, ... )\n",
       " (name = UnivariateDiscretizer, package_name = MLJModels, ... )\n",
       " (name = UnivariateFillImputer, package_name = MLJModels, ... )\n",
       " (name = UnivariateStandardizer, package_name = MLJModels, ... )\n",
       " (name = UnivariateTimeTypeToContinuous, package_name = MLJModels, ... )"
      ]
     },
     "execution_count": 69,
     "metadata": {},
     "output_type": "execute_result"
    }
   ],
   "source": [
    "localmodels()"
   ]
  },
  {
   "cell_type": "markdown",
   "metadata": {},
   "source": [
    "To search a model pass the name as a string. All the models matching the name will be shown"
   ]
  },
  {
   "cell_type": "code",
   "execution_count": 70,
   "metadata": {
    "scrolled": false
   },
   "outputs": [
    {
     "data": {
      "text/plain": [
       "36-element Array{NamedTuple{(:name, :package_name, :is_supervised, :docstring, :hyperparameter_ranges, :hyperparameter_types, :hyperparameters, :implemented_methods, :is_pure_julia, :is_wrapper, :iteration_parameter, :load_path, :package_license, :package_url, :package_uuid, :prediction_type, :supports_class_weights, :supports_online, :supports_training_losses, :supports_weights, :input_scitype, :target_scitype, :output_scitype),T} where T<:Tuple,1}:\n",
       " (name = ARDRegressor, package_name = ScikitLearn, ... )\n",
       " (name = AdaBoostRegressor, package_name = ScikitLearn, ... )\n",
       " (name = BaggingRegressor, package_name = ScikitLearn, ... )\n",
       " (name = BayesianRidgeRegressor, package_name = ScikitLearn, ... )\n",
       " (name = DecisionTreeRegressor, package_name = BetaML, ... )\n",
       " (name = ElasticNetCVRegressor, package_name = ScikitLearn, ... )\n",
       " (name = ElasticNetRegressor, package_name = ScikitLearn, ... )\n",
       " (name = EvoTreeCount, package_name = EvoTrees, ... )\n",
       " (name = GradientBoostingRegressor, package_name = ScikitLearn, ... )\n",
       " (name = HuberRegressor, package_name = MLJLinearModels, ... )\n",
       " (name = HuberRegressor, package_name = ScikitLearn, ... )\n",
       " (name = KPLSRegressor, package_name = PartialLeastSquaresRegressor, ... )\n",
       " (name = LADRegressor, package_name = MLJLinearModels, ... )\n",
       " ⋮\n",
       " (name = MultiTaskLassoCVRegressor, package_name = ScikitLearn, ... )\n",
       " (name = MultiTaskLassoRegressor, package_name = ScikitLearn, ... )\n",
       " (name = MultitargetRidgeRegressor, package_name = MultivariateStats, ... )\n",
       " (name = PLSRegressor, package_name = PartialLeastSquaresRegressor, ... )\n",
       " (name = QuantileRegressor, package_name = MLJLinearModels, ... )\n",
       " (name = RandomForestRegressor, package_name = BetaML, ... )\n",
       " (name = RidgeCVClassifier, package_name = ScikitLearn, ... )\n",
       " (name = RidgeCVRegressor, package_name = ScikitLearn, ... )\n",
       " (name = RidgeClassifier, package_name = ScikitLearn, ... )\n",
       " (name = RidgeRegressor, package_name = MultivariateStats, ... )\n",
       " (name = RidgeRegressor, package_name = ScikitLearn, ... )\n",
       " (name = RobustRegressor, package_name = MLJLinearModels, ... )"
      ]
     },
     "execution_count": 70,
     "metadata": {},
     "output_type": "execute_result"
    }
   ],
   "source": [
    "models(\"regression\")"
   ]
  },
  {
   "cell_type": "markdown",
   "metadata": {},
   "source": [
    "###  Categorical Encoding using MLJ \n",
    "\n",
    "By default, the scientific types of categoroical variable is \"Textual\". We need to coerce it to Categorical before applying OneHotEncoding.\n",
    "\n",
    "More on Scientific types and internal working at: https://alan-turing-institute.github.io/MLJ.jl/dev/mlj_cheatsheet/#Scitypes-and-coercion"
   ]
  },
  {
   "cell_type": "code",
   "execution_count": 71,
   "metadata": {
    "scrolled": false
   },
   "outputs": [
    {
     "data": {
      "text/plain": [
       "┌────────────────────────────────────┬─────────┬────────────┐\n",
       "│\u001b[22m _.names                            \u001b[0m│\u001b[22m _.types \u001b[0m│\u001b[22m _.scitypes \u001b[0m│\n",
       "├────────────────────────────────────┼─────────┼────────────┤\n",
       "│ age                                │ Float64 │ Continuous │\n",
       "│ gender                             │ String  │ Textual    │\n",
       "│ marital_status                     │ String  │ Textual    │\n",
       "│ key_complaints_code                │ String  │ Textual    │\n",
       "│ body_weight                        │ Int64   │ Count      │\n",
       "│ body_height                        │ Int64   │ Count      │\n",
       "│ hr_pulse                           │ Int64   │ Count      │\n",
       "│ bp_high                            │ Int64   │ Count      │\n",
       "│ bp_low                             │ Int64   │ Count      │\n",
       "│ rr                                 │ Int64   │ Count      │\n",
       "│ past_medical_history_code          │ String  │ Textual    │\n",
       "│ hb                                 │ Int64   │ Count      │\n",
       "│ urea                               │ Int64   │ Count      │\n",
       "│ creatinine                         │ Float64 │ Continuous │\n",
       "│ mode_of_arrival                    │ String  │ Textual    │\n",
       "│ state_at_the_time_of_arrival       │ String  │ Textual    │\n",
       "│ type_of_admsn                      │ String  │ Textual    │\n",
       "│ total_cost_to_hospital             │ Float64 │ Continuous │\n",
       "│ total_amount_billed_to_the_patient │ Int64   │ Count      │\n",
       "│ concession                         │ Int64   │ Count      │\n",
       "│ actual_receivable_amount           │ Int64   │ Count      │\n",
       "│ total_length_of_stay               │ Int64   │ Count      │\n",
       "│                 ⋮                  │    ⋮    │     ⋮      │\n",
       "└────────────────────────────────────┴─────────┴────────────┘\n",
       "\u001b[36m                                               5 rows omitted\u001b[0m\n",
       "_.nrows = 163\n"
      ]
     },
     "execution_count": 71,
     "metadata": {},
     "output_type": "execute_result"
    }
   ],
   "source": [
    "schema(filter_df)"
   ]
  },
  {
   "cell_type": "markdown",
   "metadata": {},
   "source": [
    "To coerce a particular column to continuos or multiclass, we can write:"
   ]
  },
  {
   "cell_type": "code",
   "execution_count": 72,
   "metadata": {},
   "outputs": [
    {
     "data": {
      "text/html": [
       "<table class=\"data-frame\"><thead><tr><th></th><th>age</th><th>gender</th><th>marital_status</th><th>key_complaints_code</th><th>body_weight</th><th>body_height</th><th>hr_pulse</th><th>bp_high</th><th>bp_low</th><th>rr</th><th>past_medical_history_code</th><th>hb</th><th>urea</th><th>creatinine</th><th>mode_of_arrival</th><th>state_at_the_time_of_arrival</th><th>type_of_admsn</th><th>total_cost_to_hospital</th><th>total_amount_billed_to_the_patient</th><th>concession</th><th>actual_receivable_amount</th><th>total_length_of_stay</th><th>length_of_stay_icu</th><th>length_of_stay_ward</th><th>implant_used</th><th>cost_of_implant</th><th>bmi</th></tr><tr><th></th><th>Float64</th><th>Cat…</th><th>String</th><th>String</th><th>Int64</th><th>Int64</th><th>Int64</th><th>Int64</th><th>Int64</th><th>Int64</th><th>String</th><th>Float64</th><th>Int64</th><th>Float64</th><th>String</th><th>String</th><th>String</th><th>Float64</th><th>Int64</th><th>Int64</th><th>Int64</th><th>Int64</th><th>Int64</th><th>Int64</th><th>String</th><th>Int64</th><th>Float64</th></tr></thead><tbody><p>6 rows × 27 columns</p><tr><th>1</th><td>58.0</td><td>M</td><td>MARRIED</td><td>other- heart</td><td>49</td><td>160</td><td>118</td><td>100</td><td>80</td><td>32</td><td>None</td><td>11.0</td><td>33</td><td>0.8</td><td>AMBULANCE</td><td>ALERT</td><td>EMERGENCY</td><td>660293.0</td><td>474901</td><td>0</td><td>474901</td><td>25</td><td>12</td><td>13</td><td>Y</td><td>38000</td><td>19.1406</td></tr><tr><th>2</th><td>59.0</td><td>M</td><td>MARRIED</td><td>CAD-DVD</td><td>41</td><td>155</td><td>78</td><td>70</td><td>50</td><td>28</td><td>None</td><td>11.0</td><td>95</td><td>1.7</td><td>AMBULANCE</td><td>ALERT</td><td>EMERGENCY</td><td>809130.0</td><td>944819</td><td>96422</td><td>848397</td><td>41</td><td>20</td><td>21</td><td>Y</td><td>39690</td><td>17.0656</td></tr><tr><th>3</th><td>82.0</td><td>M</td><td>MARRIED</td><td>CAD-TVD</td><td>47</td><td>164</td><td>100</td><td>110</td><td>80</td><td>20</td><td>Diabetes</td><td>12.0</td><td>15</td><td>0.8</td><td>WALKED IN</td><td>ALERT</td><td>ELECTIVE</td><td>362231.0</td><td>390000</td><td>30000</td><td>360000</td><td>18</td><td>9</td><td>9</td><td>N</td><td>0</td><td>17.4747</td></tr><tr><th>4</th><td>46.0</td><td>M</td><td>MARRIED</td><td>CAD-DVD</td><td>80</td><td>173</td><td>122</td><td>110</td><td>80</td><td>24</td><td>hypertension</td><td>12.0</td><td>74</td><td>1.5</td><td>AMBULANCE</td><td>ALERT</td><td>EMERGENCY</td><td>629990.0</td><td>324910</td><td>0</td><td>324910</td><td>14</td><td>13</td><td>1</td><td>Y</td><td>89450</td><td>26.7299</td></tr><tr><th>5</th><td>60.0</td><td>M</td><td>MARRIED</td><td>CAD-DVD</td><td>58</td><td>175</td><td>72</td><td>180</td><td>100</td><td>18</td><td>Diabetes</td><td>10.0</td><td>48</td><td>1.9</td><td>AMBULANCE</td><td>ALERT</td><td>EMERGENCY</td><td>444876.0</td><td>254673</td><td>10000</td><td>244673</td><td>24</td><td>12</td><td>12</td><td>N</td><td>0</td><td>18.9388</td></tr><tr><th>6</th><td>75.0</td><td>M</td><td>MARRIED</td><td>CAD-DVD</td><td>45</td><td>140</td><td>130</td><td>215</td><td>140</td><td>42</td><td>None</td><td>12.0</td><td>29</td><td>1.0</td><td>AMBULANCE</td><td>ALERT</td><td>EMERGENCY</td><td>372357.0</td><td>499987</td><td>0</td><td>499987</td><td>31</td><td>9</td><td>22</td><td>N</td><td>0</td><td>22.9592</td></tr></tbody></table>"
      ],
      "text/latex": [
       "\\begin{tabular}{r|ccccccccccccccccccccccccccc}\n",
       "\t& age & gender & marital\\_status & key\\_complaints\\_code & body\\_weight & body\\_height & hr\\_pulse & bp\\_high & bp\\_low & rr & past\\_medical\\_history\\_code & hb & urea & creatinine & mode\\_of\\_arrival & state\\_at\\_the\\_time\\_of\\_arrival & type\\_of\\_admsn & total\\_cost\\_to\\_hospital & total\\_amount\\_billed\\_to\\_the\\_patient & concession & actual\\_receivable\\_amount & total\\_length\\_of\\_stay & length\\_of\\_stay\\_icu & length\\_of\\_stay\\_ward & implant\\_used & cost\\_of\\_implant & bmi\\\\\n",
       "\t\\hline\n",
       "\t& Float64 & Cat… & String & String & Int64 & Int64 & Int64 & Int64 & Int64 & Int64 & String & Float64 & Int64 & Float64 & String & String & String & Float64 & Int64 & Int64 & Int64 & Int64 & Int64 & Int64 & String & Int64 & Float64\\\\\n",
       "\t\\hline\n",
       "\t1 & 58.0 & M & MARRIED & other- heart & 49 & 160 & 118 & 100 & 80 & 32 & None & 11.0 & 33 & 0.8 & AMBULANCE & ALERT & EMERGENCY & 660293.0 & 474901 & 0 & 474901 & 25 & 12 & 13 & Y & 38000 & 19.1406 \\\\\n",
       "\t2 & 59.0 & M & MARRIED & CAD-DVD & 41 & 155 & 78 & 70 & 50 & 28 & None & 11.0 & 95 & 1.7 & AMBULANCE & ALERT & EMERGENCY & 809130.0 & 944819 & 96422 & 848397 & 41 & 20 & 21 & Y & 39690 & 17.0656 \\\\\n",
       "\t3 & 82.0 & M & MARRIED & CAD-TVD & 47 & 164 & 100 & 110 & 80 & 20 & Diabetes & 12.0 & 15 & 0.8 & WALKED IN & ALERT & ELECTIVE & 362231.0 & 390000 & 30000 & 360000 & 18 & 9 & 9 & N & 0 & 17.4747 \\\\\n",
       "\t4 & 46.0 & M & MARRIED & CAD-DVD & 80 & 173 & 122 & 110 & 80 & 24 & hypertension & 12.0 & 74 & 1.5 & AMBULANCE & ALERT & EMERGENCY & 629990.0 & 324910 & 0 & 324910 & 14 & 13 & 1 & Y & 89450 & 26.7299 \\\\\n",
       "\t5 & 60.0 & M & MARRIED & CAD-DVD & 58 & 175 & 72 & 180 & 100 & 18 & Diabetes & 10.0 & 48 & 1.9 & AMBULANCE & ALERT & EMERGENCY & 444876.0 & 254673 & 10000 & 244673 & 24 & 12 & 12 & N & 0 & 18.9388 \\\\\n",
       "\t6 & 75.0 & M & MARRIED & CAD-DVD & 45 & 140 & 130 & 215 & 140 & 42 & None & 12.0 & 29 & 1.0 & AMBULANCE & ALERT & EMERGENCY & 372357.0 & 499987 & 0 & 499987 & 31 & 9 & 22 & N & 0 & 22.9592 \\\\\n",
       "\\end{tabular}\n"
      ],
      "text/plain": [
       "6×27 DataFrame\n",
       "│ Row │ age     │ gender │ marital_status │ key_complaints_code │ body_weight │ body_height │ hr_pulse │ bp_high │ bp_low │ rr    │ past_medical_history_code │ hb      │ urea  │ creatinine │ mode_of_arrival │ state_at_the_time_of_arrival │ type_of_admsn │ total_cost_to_hospital │ total_amount_billed_to_the_patient │ concession │ actual_receivable_amount │ total_length_of_stay │ length_of_stay_icu │ length_of_stay_ward │ implant_used │ cost_of_implant │ bmi     │\n",
       "│     │ \u001b[90mFloat64\u001b[39m │ \u001b[90mCat…\u001b[39m   │ \u001b[90mString\u001b[39m         │ \u001b[90mString\u001b[39m              │ \u001b[90mInt64\u001b[39m       │ \u001b[90mInt64\u001b[39m       │ \u001b[90mInt64\u001b[39m    │ \u001b[90mInt64\u001b[39m   │ \u001b[90mInt64\u001b[39m  │ \u001b[90mInt64\u001b[39m │ \u001b[90mString\u001b[39m                    │ \u001b[90mFloat64\u001b[39m │ \u001b[90mInt64\u001b[39m │ \u001b[90mFloat64\u001b[39m    │ \u001b[90mString\u001b[39m          │ \u001b[90mString\u001b[39m                       │ \u001b[90mString\u001b[39m        │ \u001b[90mFloat64\u001b[39m                │ \u001b[90mInt64\u001b[39m                              │ \u001b[90mInt64\u001b[39m      │ \u001b[90mInt64\u001b[39m                    │ \u001b[90mInt64\u001b[39m                │ \u001b[90mInt64\u001b[39m              │ \u001b[90mInt64\u001b[39m               │ \u001b[90mString\u001b[39m       │ \u001b[90mInt64\u001b[39m           │ \u001b[90mFloat64\u001b[39m │\n",
       "├─────┼─────────┼────────┼────────────────┼─────────────────────┼─────────────┼─────────────┼──────────┼─────────┼────────┼───────┼───────────────────────────┼─────────┼───────┼────────────┼─────────────────┼──────────────────────────────┼───────────────┼────────────────────────┼────────────────────────────────────┼────────────┼──────────────────────────┼──────────────────────┼────────────────────┼─────────────────────┼──────────────┼─────────────────┼─────────┤\n",
       "│ 1   │ 58.0    │ M      │ MARRIED        │ other- heart        │ 49          │ 160         │ 118      │ 100     │ 80     │ 32    │ None                      │ 11.0    │ 33    │ 0.8        │ AMBULANCE       │ ALERT                        │ EMERGENCY     │ 660293.0               │ 474901                             │ 0          │ 474901                   │ 25                   │ 12                 │ 13                  │ Y            │ 38000           │ 19.1406 │\n",
       "│ 2   │ 59.0    │ M      │ MARRIED        │ CAD-DVD             │ 41          │ 155         │ 78       │ 70      │ 50     │ 28    │ None                      │ 11.0    │ 95    │ 1.7        │ AMBULANCE       │ ALERT                        │ EMERGENCY     │ 809130.0               │ 944819                             │ 96422      │ 848397                   │ 41                   │ 20                 │ 21                  │ Y            │ 39690           │ 17.0656 │\n",
       "│ 3   │ 82.0    │ M      │ MARRIED        │ CAD-TVD             │ 47          │ 164         │ 100      │ 110     │ 80     │ 20    │ Diabetes                  │ 12.0    │ 15    │ 0.8        │ WALKED IN       │ ALERT                        │ ELECTIVE      │ 362231.0               │ 390000                             │ 30000      │ 360000                   │ 18                   │ 9                  │ 9                   │ N            │ 0               │ 17.4747 │\n",
       "│ 4   │ 46.0    │ M      │ MARRIED        │ CAD-DVD             │ 80          │ 173         │ 122      │ 110     │ 80     │ 24    │ hypertension              │ 12.0    │ 74    │ 1.5        │ AMBULANCE       │ ALERT                        │ EMERGENCY     │ 629990.0               │ 324910                             │ 0          │ 324910                   │ 14                   │ 13                 │ 1                   │ Y            │ 89450           │ 26.7299 │\n",
       "│ 5   │ 60.0    │ M      │ MARRIED        │ CAD-DVD             │ 58          │ 175         │ 72       │ 180     │ 100    │ 18    │ Diabetes                  │ 10.0    │ 48    │ 1.9        │ AMBULANCE       │ ALERT                        │ EMERGENCY     │ 444876.0               │ 254673                             │ 10000      │ 244673                   │ 24                   │ 12                 │ 12                  │ N            │ 0               │ 18.9388 │\n",
       "│ 6   │ 75.0    │ M      │ MARRIED        │ CAD-DVD             │ 45          │ 140         │ 130      │ 215     │ 140    │ 42    │ None                      │ 12.0    │ 29    │ 1.0        │ AMBULANCE       │ ALERT                        │ EMERGENCY     │ 372357.0               │ 499987                             │ 0          │ 499987                   │ 31                   │ 9                  │ 22                  │ N            │ 0               │ 22.9592 │"
      ]
     },
     "execution_count": 72,
     "metadata": {},
     "output_type": "execute_result"
    }
   ],
   "source": [
    "head(coerce!(copy(filter_df), :hb => Continuous, :gender => Multiclass))"
   ]
  },
  {
   "cell_type": "markdown",
   "metadata": {},
   "source": [
    "Since we want to coerce all Textual column to multiclass, we can write:"
   ]
  },
  {
   "cell_type": "code",
   "execution_count": 73,
   "metadata": {},
   "outputs": [
    {
     "data": {
      "text/html": [
       "<table class=\"data-frame\"><thead><tr><th></th><th>age</th><th>gender</th><th>marital_status</th><th>key_complaints_code</th><th>body_weight</th><th>body_height</th><th>hr_pulse</th><th>bp_high</th><th>bp_low</th><th>rr</th><th>past_medical_history_code</th><th>hb</th><th>urea</th><th>creatinine</th><th>mode_of_arrival</th><th>state_at_the_time_of_arrival</th><th>type_of_admsn</th><th>total_cost_to_hospital</th><th>total_amount_billed_to_the_patient</th><th>concession</th><th>actual_receivable_amount</th><th>total_length_of_stay</th><th>length_of_stay_icu</th><th>length_of_stay_ward</th><th>implant_used</th><th>cost_of_implant</th><th>bmi</th></tr><tr><th></th><th>Float64</th><th>Cat…</th><th>Cat…</th><th>Cat…</th><th>Int64</th><th>Int64</th><th>Int64</th><th>Int64</th><th>Int64</th><th>Int64</th><th>Cat…</th><th>Int64</th><th>Int64</th><th>Float64</th><th>Cat…</th><th>Cat…</th><th>Cat…</th><th>Float64</th><th>Int64</th><th>Int64</th><th>Int64</th><th>Int64</th><th>Int64</th><th>Int64</th><th>Cat…</th><th>Int64</th><th>Float64</th></tr></thead><tbody><p>6 rows × 27 columns</p><tr><th>1</th><td>58.0</td><td>M</td><td>MARRIED</td><td>other- heart</td><td>49</td><td>160</td><td>118</td><td>100</td><td>80</td><td>32</td><td>None</td><td>11</td><td>33</td><td>0.8</td><td>AMBULANCE</td><td>ALERT</td><td>EMERGENCY</td><td>660293.0</td><td>474901</td><td>0</td><td>474901</td><td>25</td><td>12</td><td>13</td><td>Y</td><td>38000</td><td>19.1406</td></tr><tr><th>2</th><td>59.0</td><td>M</td><td>MARRIED</td><td>CAD-DVD</td><td>41</td><td>155</td><td>78</td><td>70</td><td>50</td><td>28</td><td>None</td><td>11</td><td>95</td><td>1.7</td><td>AMBULANCE</td><td>ALERT</td><td>EMERGENCY</td><td>809130.0</td><td>944819</td><td>96422</td><td>848397</td><td>41</td><td>20</td><td>21</td><td>Y</td><td>39690</td><td>17.0656</td></tr><tr><th>3</th><td>82.0</td><td>M</td><td>MARRIED</td><td>CAD-TVD</td><td>47</td><td>164</td><td>100</td><td>110</td><td>80</td><td>20</td><td>Diabetes</td><td>12</td><td>15</td><td>0.8</td><td>WALKED IN</td><td>ALERT</td><td>ELECTIVE</td><td>362231.0</td><td>390000</td><td>30000</td><td>360000</td><td>18</td><td>9</td><td>9</td><td>N</td><td>0</td><td>17.4747</td></tr><tr><th>4</th><td>46.0</td><td>M</td><td>MARRIED</td><td>CAD-DVD</td><td>80</td><td>173</td><td>122</td><td>110</td><td>80</td><td>24</td><td>hypertension</td><td>12</td><td>74</td><td>1.5</td><td>AMBULANCE</td><td>ALERT</td><td>EMERGENCY</td><td>629990.0</td><td>324910</td><td>0</td><td>324910</td><td>14</td><td>13</td><td>1</td><td>Y</td><td>89450</td><td>26.7299</td></tr><tr><th>5</th><td>60.0</td><td>M</td><td>MARRIED</td><td>CAD-DVD</td><td>58</td><td>175</td><td>72</td><td>180</td><td>100</td><td>18</td><td>Diabetes</td><td>10</td><td>48</td><td>1.9</td><td>AMBULANCE</td><td>ALERT</td><td>EMERGENCY</td><td>444876.0</td><td>254673</td><td>10000</td><td>244673</td><td>24</td><td>12</td><td>12</td><td>N</td><td>0</td><td>18.9388</td></tr><tr><th>6</th><td>75.0</td><td>M</td><td>MARRIED</td><td>CAD-DVD</td><td>45</td><td>140</td><td>130</td><td>215</td><td>140</td><td>42</td><td>None</td><td>12</td><td>29</td><td>1.0</td><td>AMBULANCE</td><td>ALERT</td><td>EMERGENCY</td><td>372357.0</td><td>499987</td><td>0</td><td>499987</td><td>31</td><td>9</td><td>22</td><td>N</td><td>0</td><td>22.9592</td></tr></tbody></table>"
      ],
      "text/latex": [
       "\\begin{tabular}{r|ccccccccccccccccccccccccccc}\n",
       "\t& age & gender & marital\\_status & key\\_complaints\\_code & body\\_weight & body\\_height & hr\\_pulse & bp\\_high & bp\\_low & rr & past\\_medical\\_history\\_code & hb & urea & creatinine & mode\\_of\\_arrival & state\\_at\\_the\\_time\\_of\\_arrival & type\\_of\\_admsn & total\\_cost\\_to\\_hospital & total\\_amount\\_billed\\_to\\_the\\_patient & concession & actual\\_receivable\\_amount & total\\_length\\_of\\_stay & length\\_of\\_stay\\_icu & length\\_of\\_stay\\_ward & implant\\_used & cost\\_of\\_implant & bmi\\\\\n",
       "\t\\hline\n",
       "\t& Float64 & Cat… & Cat… & Cat… & Int64 & Int64 & Int64 & Int64 & Int64 & Int64 & Cat… & Int64 & Int64 & Float64 & Cat… & Cat… & Cat… & Float64 & Int64 & Int64 & Int64 & Int64 & Int64 & Int64 & Cat… & Int64 & Float64\\\\\n",
       "\t\\hline\n",
       "\t1 & 58.0 & M & MARRIED & other- heart & 49 & 160 & 118 & 100 & 80 & 32 & None & 11 & 33 & 0.8 & AMBULANCE & ALERT & EMERGENCY & 660293.0 & 474901 & 0 & 474901 & 25 & 12 & 13 & Y & 38000 & 19.1406 \\\\\n",
       "\t2 & 59.0 & M & MARRIED & CAD-DVD & 41 & 155 & 78 & 70 & 50 & 28 & None & 11 & 95 & 1.7 & AMBULANCE & ALERT & EMERGENCY & 809130.0 & 944819 & 96422 & 848397 & 41 & 20 & 21 & Y & 39690 & 17.0656 \\\\\n",
       "\t3 & 82.0 & M & MARRIED & CAD-TVD & 47 & 164 & 100 & 110 & 80 & 20 & Diabetes & 12 & 15 & 0.8 & WALKED IN & ALERT & ELECTIVE & 362231.0 & 390000 & 30000 & 360000 & 18 & 9 & 9 & N & 0 & 17.4747 \\\\\n",
       "\t4 & 46.0 & M & MARRIED & CAD-DVD & 80 & 173 & 122 & 110 & 80 & 24 & hypertension & 12 & 74 & 1.5 & AMBULANCE & ALERT & EMERGENCY & 629990.0 & 324910 & 0 & 324910 & 14 & 13 & 1 & Y & 89450 & 26.7299 \\\\\n",
       "\t5 & 60.0 & M & MARRIED & CAD-DVD & 58 & 175 & 72 & 180 & 100 & 18 & Diabetes & 10 & 48 & 1.9 & AMBULANCE & ALERT & EMERGENCY & 444876.0 & 254673 & 10000 & 244673 & 24 & 12 & 12 & N & 0 & 18.9388 \\\\\n",
       "\t6 & 75.0 & M & MARRIED & CAD-DVD & 45 & 140 & 130 & 215 & 140 & 42 & None & 12 & 29 & 1.0 & AMBULANCE & ALERT & EMERGENCY & 372357.0 & 499987 & 0 & 499987 & 31 & 9 & 22 & N & 0 & 22.9592 \\\\\n",
       "\\end{tabular}\n"
      ],
      "text/plain": [
       "6×27 DataFrame\n",
       "│ Row │ age     │ gender │ marital_status │ key_complaints_code │ body_weight │ body_height │ hr_pulse │ bp_high │ bp_low │ rr    │ past_medical_history_code │ hb    │ urea  │ creatinine │ mode_of_arrival │ state_at_the_time_of_arrival │ type_of_admsn │ total_cost_to_hospital │ total_amount_billed_to_the_patient │ concession │ actual_receivable_amount │ total_length_of_stay │ length_of_stay_icu │ length_of_stay_ward │ implant_used │ cost_of_implant │ bmi     │\n",
       "│     │ \u001b[90mFloat64\u001b[39m │ \u001b[90mCat…\u001b[39m   │ \u001b[90mCategorical…\u001b[39m   │ \u001b[90mCategoricalValue…\u001b[39m   │ \u001b[90mInt64\u001b[39m       │ \u001b[90mInt64\u001b[39m       │ \u001b[90mInt64\u001b[39m    │ \u001b[90mInt64\u001b[39m   │ \u001b[90mInt64\u001b[39m  │ \u001b[90mInt64\u001b[39m │ \u001b[90mCategoricalValue…\u001b[39m         │ \u001b[90mInt64\u001b[39m │ \u001b[90mInt64\u001b[39m │ \u001b[90mFloat64\u001b[39m    │ \u001b[90mCategorical…\u001b[39m    │ \u001b[90mCategoricalValue…\u001b[39m            │ \u001b[90mCategorical…\u001b[39m  │ \u001b[90mFloat64\u001b[39m                │ \u001b[90mInt64\u001b[39m                              │ \u001b[90mInt64\u001b[39m      │ \u001b[90mInt64\u001b[39m                    │ \u001b[90mInt64\u001b[39m                │ \u001b[90mInt64\u001b[39m              │ \u001b[90mInt64\u001b[39m               │ \u001b[90mCategorical…\u001b[39m │ \u001b[90mInt64\u001b[39m           │ \u001b[90mFloat64\u001b[39m │\n",
       "├─────┼─────────┼────────┼────────────────┼─────────────────────┼─────────────┼─────────────┼──────────┼─────────┼────────┼───────┼───────────────────────────┼───────┼───────┼────────────┼─────────────────┼──────────────────────────────┼───────────────┼────────────────────────┼────────────────────────────────────┼────────────┼──────────────────────────┼──────────────────────┼────────────────────┼─────────────────────┼──────────────┼─────────────────┼─────────┤\n",
       "│ 1   │ 58.0    │ M      │ MARRIED        │ other- heart        │ 49          │ 160         │ 118      │ 100     │ 80     │ 32    │ None                      │ 11    │ 33    │ 0.8        │ AMBULANCE       │ ALERT                        │ EMERGENCY     │ 660293.0               │ 474901                             │ 0          │ 474901                   │ 25                   │ 12                 │ 13                  │ Y            │ 38000           │ 19.1406 │\n",
       "│ 2   │ 59.0    │ M      │ MARRIED        │ CAD-DVD             │ 41          │ 155         │ 78       │ 70      │ 50     │ 28    │ None                      │ 11    │ 95    │ 1.7        │ AMBULANCE       │ ALERT                        │ EMERGENCY     │ 809130.0               │ 944819                             │ 96422      │ 848397                   │ 41                   │ 20                 │ 21                  │ Y            │ 39690           │ 17.0656 │\n",
       "│ 3   │ 82.0    │ M      │ MARRIED        │ CAD-TVD             │ 47          │ 164         │ 100      │ 110     │ 80     │ 20    │ Diabetes                  │ 12    │ 15    │ 0.8        │ WALKED IN       │ ALERT                        │ ELECTIVE      │ 362231.0               │ 390000                             │ 30000      │ 360000                   │ 18                   │ 9                  │ 9                   │ N            │ 0               │ 17.4747 │\n",
       "│ 4   │ 46.0    │ M      │ MARRIED        │ CAD-DVD             │ 80          │ 173         │ 122      │ 110     │ 80     │ 24    │ hypertension              │ 12    │ 74    │ 1.5        │ AMBULANCE       │ ALERT                        │ EMERGENCY     │ 629990.0               │ 324910                             │ 0          │ 324910                   │ 14                   │ 13                 │ 1                   │ Y            │ 89450           │ 26.7299 │\n",
       "│ 5   │ 60.0    │ M      │ MARRIED        │ CAD-DVD             │ 58          │ 175         │ 72       │ 180     │ 100    │ 18    │ Diabetes                  │ 10    │ 48    │ 1.9        │ AMBULANCE       │ ALERT                        │ EMERGENCY     │ 444876.0               │ 254673                             │ 10000      │ 244673                   │ 24                   │ 12                 │ 12                  │ N            │ 0               │ 18.9388 │\n",
       "│ 6   │ 75.0    │ M      │ MARRIED        │ CAD-DVD             │ 45          │ 140         │ 130      │ 215     │ 140    │ 42    │ None                      │ 12    │ 29    │ 1.0        │ AMBULANCE       │ ALERT                        │ EMERGENCY     │ 372357.0               │ 499987                             │ 0          │ 499987                   │ 31                   │ 9                  │ 22                  │ N            │ 0               │ 22.9592 │"
      ]
     },
     "execution_count": 73,
     "metadata": {},
     "output_type": "execute_result"
    }
   ],
   "source": [
    "head(coerce!(filter_df, Textual => Multiclass))"
   ]
  },
  {
   "cell_type": "code",
   "execution_count": 74,
   "metadata": {},
   "outputs": [
    {
     "data": {
      "text/plain": [
       "┌────────────────────────────────────┬─────────────────────────────────┬───────────────┐\n",
       "│\u001b[22m _.names                            \u001b[0m│\u001b[22m _.types                         \u001b[0m│\u001b[22m _.scitypes    \u001b[0m│\n",
       "├────────────────────────────────────┼─────────────────────────────────┼───────────────┤\n",
       "│ age                                │ Float64                         │ Continuous    │\n",
       "│ gender                             │ CategoricalValue{String,UInt32} │ Multiclass{2} │\n",
       "│ marital_status                     │ CategoricalValue{String,UInt32} │ Multiclass{2} │\n",
       "│ key_complaints_code                │ CategoricalValue{String,UInt32} │ Multiclass{8} │\n",
       "│ body_weight                        │ Int64                           │ Count         │\n",
       "│ body_height                        │ Int64                           │ Count         │\n",
       "│ hr_pulse                           │ Int64                           │ Count         │\n",
       "│ bp_high                            │ Int64                           │ Count         │\n",
       "│ bp_low                             │ Int64                           │ Count         │\n",
       "│ rr                                 │ Int64                           │ Count         │\n",
       "│ past_medical_history_code          │ CategoricalValue{String,UInt32} │ Multiclass{4} │\n",
       "│ hb                                 │ Int64                           │ Count         │\n",
       "│ urea                               │ Int64                           │ Count         │\n",
       "│ creatinine                         │ Float64                         │ Continuous    │\n",
       "│ mode_of_arrival                    │ CategoricalValue{String,UInt32} │ Multiclass{3} │\n",
       "│ state_at_the_time_of_arrival       │ CategoricalValue{String,UInt32} │ Multiclass{1} │\n",
       "│ type_of_admsn                      │ CategoricalValue{String,UInt32} │ Multiclass{2} │\n",
       "│ total_cost_to_hospital             │ Float64                         │ Continuous    │\n",
       "│ total_amount_billed_to_the_patient │ Int64                           │ Count         │\n",
       "│ concession                         │ Int64                           │ Count         │\n",
       "│ actual_receivable_amount           │ Int64                           │ Count         │\n",
       "│ total_length_of_stay               │ Int64                           │ Count         │\n",
       "│                 ⋮                  │                ⋮                │       ⋮       │\n",
       "└────────────────────────────────────┴─────────────────────────────────┴───────────────┘\n",
       "\u001b[36m                                                                          5 rows omitted\u001b[0m\n",
       "_.nrows = 163\n"
      ]
     },
     "execution_count": 74,
     "metadata": {},
     "output_type": "execute_result"
    }
   ],
   "source": [
    "schema(filter_df)"
   ]
  },
  {
   "cell_type": "markdown",
   "metadata": {},
   "source": [
    "### Exercise \n",
    "\n",
    "Why hb is being shown with scientific type as 'Count' even though we just coerced it to Continuous?"
   ]
  },
  {
   "cell_type": "markdown",
   "metadata": {},
   "source": [
    "Pandas dummy variable encoding is as follows:"
   ]
  },
  {
   "cell_type": "code",
   "execution_count": 75,
   "metadata": {},
   "outputs": [],
   "source": [
    "#encoded_X_df = pd.get_dummies(filter_df[X_features], drop_first = True )\n",
    "#encoded_X_df.head()"
   ]
  },
  {
   "cell_type": "markdown",
   "metadata": {},
   "source": [
    "Transform is same as calling predict function in python. In MLJ:\n",
    "* For supervised problem, we will call predict\n",
    "* For unsupervised problem, it will be transform\n",
    "\n",
    "The function 'machine()' binds a model (i.e., a choice of algorithm + hyperparameters) to data. A machine is also the object storing learned parameters. Under the hood, calling fit! on a machine calls either MLJBase.fit or MLJBase.update, depending on the machine's internal state (as recorded in private fields old_model and old_rows). "
   ]
  },
  {
   "cell_type": "code",
   "execution_count": 76,
   "metadata": {},
   "outputs": [
    {
     "name": "stderr",
     "output_type": "stream",
     "text": [
      "┌ Info: Training \u001b[34mMachine{OneHotEncoder,…} @269\u001b[39m.\n",
      "└ @ MLJBase /Users/Rahul/.julia/packages/MLJBase/hLtde/src/machines.jl:342\n",
      "┌ Info: Spawning 1 sub-features to one-hot encode feature :gender.\n",
      "└ @ MLJModels /Users/Rahul/.julia/packages/MLJModels/E8BbE/src/builtins/Transformers.jl:1142\n",
      "┌ Info: Spawning 1 sub-features to one-hot encode feature :marital_status.\n",
      "└ @ MLJModels /Users/Rahul/.julia/packages/MLJModels/E8BbE/src/builtins/Transformers.jl:1142\n",
      "┌ Info: Spawning 7 sub-features to one-hot encode feature :key_complaints_code.\n",
      "└ @ MLJModels /Users/Rahul/.julia/packages/MLJModels/E8BbE/src/builtins/Transformers.jl:1142\n",
      "┌ Info: Spawning 3 sub-features to one-hot encode feature :past_medical_history_code.\n",
      "└ @ MLJModels /Users/Rahul/.julia/packages/MLJModels/E8BbE/src/builtins/Transformers.jl:1142\n",
      "┌ Info: Spawning 2 sub-features to one-hot encode feature :mode_of_arrival.\n",
      "└ @ MLJModels /Users/Rahul/.julia/packages/MLJModels/E8BbE/src/builtins/Transformers.jl:1142\n",
      "┌ Info: Spawning 1 sub-features to one-hot encode feature :type_of_admsn.\n",
      "└ @ MLJModels /Users/Rahul/.julia/packages/MLJModels/E8BbE/src/builtins/Transformers.jl:1142\n",
      "┌ Info: Spawning 1 sub-features to one-hot encode feature :implant_used.\n",
      "└ @ MLJModels /Users/Rahul/.julia/packages/MLJModels/E8BbE/src/builtins/Transformers.jl:1142\n"
     ]
    }
   ],
   "source": [
    "ohe = machine(MLJ.OneHotEncoder(drop_last=true), filter_df[:,X_features])\n",
    "MLJ.fit!(ohe)\n",
    "encoded_X_df = MLJ.transform(ohe, filter_df[:,X_features]);"
   ]
  },
  {
   "cell_type": "code",
   "execution_count": 77,
   "metadata": {},
   "outputs": [
    {
     "data": {
      "text/html": [
       "<table class=\"data-frame\"><thead><tr><th></th><th>age</th><th>gender__F</th><th>marital_status__MARRIED</th><th>key_complaints_code__ACHD</th><th>key_complaints_code__CAD-DVD</th><th>key_complaints_code__CAD-TVD</th><th>key_complaints_code__OS-ASD</th><th>key_complaints_code__RHD</th><th>key_complaints_code__other- heart</th><th>key_complaints_code__other-tertalogy</th><th>hr_pulse</th><th>bp_high</th><th>bp_low</th><th>rr</th><th>past_medical_history_code__Diabetes</th><th>past_medical_history_code__None</th><th>past_medical_history_code__hypertension</th><th>hb</th><th>urea</th><th>mode_of_arrival__AMBULANCE</th><th>mode_of_arrival__TRANSFERRED</th><th>type_of_admsn__ELECTIVE</th><th>implant_used__N</th><th>cost_of_implant</th><th>bmi</th></tr><tr><th></th><th>Float64</th><th>Float64</th><th>Float64</th><th>Float64</th><th>Float64</th><th>Float64</th><th>Float64</th><th>Float64</th><th>Float64</th><th>Float64</th><th>Int64</th><th>Int64</th><th>Int64</th><th>Int64</th><th>Float64</th><th>Float64</th><th>Float64</th><th>Int64</th><th>Int64</th><th>Float64</th><th>Float64</th><th>Float64</th><th>Float64</th><th>Int64</th><th>Float64</th></tr></thead><tbody><p>6 rows × 25 columns</p><tr><th>1</th><td>58.0</td><td>0.0</td><td>1.0</td><td>0.0</td><td>0.0</td><td>0.0</td><td>0.0</td><td>0.0</td><td>1.0</td><td>0.0</td><td>118</td><td>100</td><td>80</td><td>32</td><td>0.0</td><td>1.0</td><td>0.0</td><td>11</td><td>33</td><td>1.0</td><td>0.0</td><td>0.0</td><td>0.0</td><td>38000</td><td>19.1406</td></tr><tr><th>2</th><td>59.0</td><td>0.0</td><td>1.0</td><td>0.0</td><td>1.0</td><td>0.0</td><td>0.0</td><td>0.0</td><td>0.0</td><td>0.0</td><td>78</td><td>70</td><td>50</td><td>28</td><td>0.0</td><td>1.0</td><td>0.0</td><td>11</td><td>95</td><td>1.0</td><td>0.0</td><td>0.0</td><td>0.0</td><td>39690</td><td>17.0656</td></tr><tr><th>3</th><td>82.0</td><td>0.0</td><td>1.0</td><td>0.0</td><td>0.0</td><td>1.0</td><td>0.0</td><td>0.0</td><td>0.0</td><td>0.0</td><td>100</td><td>110</td><td>80</td><td>20</td><td>1.0</td><td>0.0</td><td>0.0</td><td>12</td><td>15</td><td>0.0</td><td>0.0</td><td>1.0</td><td>1.0</td><td>0</td><td>17.4747</td></tr><tr><th>4</th><td>46.0</td><td>0.0</td><td>1.0</td><td>0.0</td><td>1.0</td><td>0.0</td><td>0.0</td><td>0.0</td><td>0.0</td><td>0.0</td><td>122</td><td>110</td><td>80</td><td>24</td><td>0.0</td><td>0.0</td><td>1.0</td><td>12</td><td>74</td><td>1.0</td><td>0.0</td><td>0.0</td><td>0.0</td><td>89450</td><td>26.7299</td></tr><tr><th>5</th><td>60.0</td><td>0.0</td><td>1.0</td><td>0.0</td><td>1.0</td><td>0.0</td><td>0.0</td><td>0.0</td><td>0.0</td><td>0.0</td><td>72</td><td>180</td><td>100</td><td>18</td><td>1.0</td><td>0.0</td><td>0.0</td><td>10</td><td>48</td><td>1.0</td><td>0.0</td><td>0.0</td><td>1.0</td><td>0</td><td>18.9388</td></tr><tr><th>6</th><td>75.0</td><td>0.0</td><td>1.0</td><td>0.0</td><td>1.0</td><td>0.0</td><td>0.0</td><td>0.0</td><td>0.0</td><td>0.0</td><td>130</td><td>215</td><td>140</td><td>42</td><td>0.0</td><td>1.0</td><td>0.0</td><td>12</td><td>29</td><td>1.0</td><td>0.0</td><td>0.0</td><td>1.0</td><td>0</td><td>22.9592</td></tr></tbody></table>"
      ],
      "text/latex": [
       "\\begin{tabular}{r|ccccccccccccccccccccccccc}\n",
       "\t& age & gender\\_\\_F & marital\\_status\\_\\_MARRIED & key\\_complaints\\_code\\_\\_ACHD & key\\_complaints\\_code\\_\\_CAD-DVD & key\\_complaints\\_code\\_\\_CAD-TVD & key\\_complaints\\_code\\_\\_OS-ASD & key\\_complaints\\_code\\_\\_RHD & key\\_complaints\\_code\\_\\_other- heart & key\\_complaints\\_code\\_\\_other-tertalogy & hr\\_pulse & bp\\_high & bp\\_low & rr & past\\_medical\\_history\\_code\\_\\_Diabetes & past\\_medical\\_history\\_code\\_\\_None & past\\_medical\\_history\\_code\\_\\_hypertension & hb & urea & mode\\_of\\_arrival\\_\\_AMBULANCE & mode\\_of\\_arrival\\_\\_TRANSFERRED & type\\_of\\_admsn\\_\\_ELECTIVE & implant\\_used\\_\\_N & cost\\_of\\_implant & bmi\\\\\n",
       "\t\\hline\n",
       "\t& Float64 & Float64 & Float64 & Float64 & Float64 & Float64 & Float64 & Float64 & Float64 & Float64 & Int64 & Int64 & Int64 & Int64 & Float64 & Float64 & Float64 & Int64 & Int64 & Float64 & Float64 & Float64 & Float64 & Int64 & Float64\\\\\n",
       "\t\\hline\n",
       "\t1 & 58.0 & 0.0 & 1.0 & 0.0 & 0.0 & 0.0 & 0.0 & 0.0 & 1.0 & 0.0 & 118 & 100 & 80 & 32 & 0.0 & 1.0 & 0.0 & 11 & 33 & 1.0 & 0.0 & 0.0 & 0.0 & 38000 & 19.1406 \\\\\n",
       "\t2 & 59.0 & 0.0 & 1.0 & 0.0 & 1.0 & 0.0 & 0.0 & 0.0 & 0.0 & 0.0 & 78 & 70 & 50 & 28 & 0.0 & 1.0 & 0.0 & 11 & 95 & 1.0 & 0.0 & 0.0 & 0.0 & 39690 & 17.0656 \\\\\n",
       "\t3 & 82.0 & 0.0 & 1.0 & 0.0 & 0.0 & 1.0 & 0.0 & 0.0 & 0.0 & 0.0 & 100 & 110 & 80 & 20 & 1.0 & 0.0 & 0.0 & 12 & 15 & 0.0 & 0.0 & 1.0 & 1.0 & 0 & 17.4747 \\\\\n",
       "\t4 & 46.0 & 0.0 & 1.0 & 0.0 & 1.0 & 0.0 & 0.0 & 0.0 & 0.0 & 0.0 & 122 & 110 & 80 & 24 & 0.0 & 0.0 & 1.0 & 12 & 74 & 1.0 & 0.0 & 0.0 & 0.0 & 89450 & 26.7299 \\\\\n",
       "\t5 & 60.0 & 0.0 & 1.0 & 0.0 & 1.0 & 0.0 & 0.0 & 0.0 & 0.0 & 0.0 & 72 & 180 & 100 & 18 & 1.0 & 0.0 & 0.0 & 10 & 48 & 1.0 & 0.0 & 0.0 & 1.0 & 0 & 18.9388 \\\\\n",
       "\t6 & 75.0 & 0.0 & 1.0 & 0.0 & 1.0 & 0.0 & 0.0 & 0.0 & 0.0 & 0.0 & 130 & 215 & 140 & 42 & 0.0 & 1.0 & 0.0 & 12 & 29 & 1.0 & 0.0 & 0.0 & 1.0 & 0 & 22.9592 \\\\\n",
       "\\end{tabular}\n"
      ],
      "text/plain": [
       "6×25 DataFrame\n",
       "│ Row │ age     │ gender__F │ marital_status__MARRIED │ key_complaints_code__ACHD │ key_complaints_code__CAD-DVD │ key_complaints_code__CAD-TVD │ key_complaints_code__OS-ASD │ key_complaints_code__RHD │ key_complaints_code__other- heart │ key_complaints_code__other-tertalogy │ hr_pulse │ bp_high │ bp_low │ rr    │ past_medical_history_code__Diabetes │ past_medical_history_code__None │ past_medical_history_code__hypertension │ hb    │ urea  │ mode_of_arrival__AMBULANCE │ mode_of_arrival__TRANSFERRED │ type_of_admsn__ELECTIVE │ implant_used__N │ cost_of_implant │ bmi     │\n",
       "│     │ \u001b[90mFloat64\u001b[39m │ \u001b[90mFloat64\u001b[39m   │ \u001b[90mFloat64\u001b[39m                 │ \u001b[90mFloat64\u001b[39m                   │ \u001b[90mFloat64\u001b[39m                      │ \u001b[90mFloat64\u001b[39m                      │ \u001b[90mFloat64\u001b[39m                     │ \u001b[90mFloat64\u001b[39m                  │ \u001b[90mFloat64\u001b[39m                           │ \u001b[90mFloat64\u001b[39m                              │ \u001b[90mInt64\u001b[39m    │ \u001b[90mInt64\u001b[39m   │ \u001b[90mInt64\u001b[39m  │ \u001b[90mInt64\u001b[39m │ \u001b[90mFloat64\u001b[39m                             │ \u001b[90mFloat64\u001b[39m                         │ \u001b[90mFloat64\u001b[39m                                 │ \u001b[90mInt64\u001b[39m │ \u001b[90mInt64\u001b[39m │ \u001b[90mFloat64\u001b[39m                    │ \u001b[90mFloat64\u001b[39m                      │ \u001b[90mFloat64\u001b[39m                 │ \u001b[90mFloat64\u001b[39m         │ \u001b[90mInt64\u001b[39m           │ \u001b[90mFloat64\u001b[39m │\n",
       "├─────┼─────────┼───────────┼─────────────────────────┼───────────────────────────┼──────────────────────────────┼──────────────────────────────┼─────────────────────────────┼──────────────────────────┼───────────────────────────────────┼──────────────────────────────────────┼──────────┼─────────┼────────┼───────┼─────────────────────────────────────┼─────────────────────────────────┼─────────────────────────────────────────┼───────┼───────┼────────────────────────────┼──────────────────────────────┼─────────────────────────┼─────────────────┼─────────────────┼─────────┤\n",
       "│ 1   │ 58.0    │ 0.0       │ 1.0                     │ 0.0                       │ 0.0                          │ 0.0                          │ 0.0                         │ 0.0                      │ 1.0                               │ 0.0                                  │ 118      │ 100     │ 80     │ 32    │ 0.0                                 │ 1.0                             │ 0.0                                     │ 11    │ 33    │ 1.0                        │ 0.0                          │ 0.0                     │ 0.0             │ 38000           │ 19.1406 │\n",
       "│ 2   │ 59.0    │ 0.0       │ 1.0                     │ 0.0                       │ 1.0                          │ 0.0                          │ 0.0                         │ 0.0                      │ 0.0                               │ 0.0                                  │ 78       │ 70      │ 50     │ 28    │ 0.0                                 │ 1.0                             │ 0.0                                     │ 11    │ 95    │ 1.0                        │ 0.0                          │ 0.0                     │ 0.0             │ 39690           │ 17.0656 │\n",
       "│ 3   │ 82.0    │ 0.0       │ 1.0                     │ 0.0                       │ 0.0                          │ 1.0                          │ 0.0                         │ 0.0                      │ 0.0                               │ 0.0                                  │ 100      │ 110     │ 80     │ 20    │ 1.0                                 │ 0.0                             │ 0.0                                     │ 12    │ 15    │ 0.0                        │ 0.0                          │ 1.0                     │ 1.0             │ 0               │ 17.4747 │\n",
       "│ 4   │ 46.0    │ 0.0       │ 1.0                     │ 0.0                       │ 1.0                          │ 0.0                          │ 0.0                         │ 0.0                      │ 0.0                               │ 0.0                                  │ 122      │ 110     │ 80     │ 24    │ 0.0                                 │ 0.0                             │ 1.0                                     │ 12    │ 74    │ 1.0                        │ 0.0                          │ 0.0                     │ 0.0             │ 89450           │ 26.7299 │\n",
       "│ 5   │ 60.0    │ 0.0       │ 1.0                     │ 0.0                       │ 1.0                          │ 0.0                          │ 0.0                         │ 0.0                      │ 0.0                               │ 0.0                                  │ 72       │ 180     │ 100    │ 18    │ 1.0                                 │ 0.0                             │ 0.0                                     │ 10    │ 48    │ 1.0                        │ 0.0                          │ 0.0                     │ 1.0             │ 0               │ 18.9388 │\n",
       "│ 6   │ 75.0    │ 0.0       │ 1.0                     │ 0.0                       │ 1.0                          │ 0.0                          │ 0.0                         │ 0.0                      │ 0.0                               │ 0.0                                  │ 130      │ 215     │ 140    │ 42    │ 0.0                                 │ 1.0                             │ 0.0                                     │ 12    │ 29    │ 1.0                        │ 0.0                          │ 0.0                     │ 1.0             │ 0               │ 22.9592 │"
      ]
     },
     "execution_count": 77,
     "metadata": {},
     "output_type": "execute_result"
    }
   ],
   "source": [
    "head(encoded_X_df)"
   ]
  },
  {
   "cell_type": "code",
   "execution_count": 78,
   "metadata": {},
   "outputs": [],
   "source": [
    "X = Matrix(encoded_X_df);"
   ]
  },
  {
   "cell_type": "code",
   "execution_count": 79,
   "metadata": {},
   "outputs": [],
   "source": [
    "Y = filter_df[:,\"total_cost_to_hospital\"];"
   ]
  },
  {
   "cell_type": "markdown",
   "metadata": {},
   "source": [
    "### Train and test data split using Python\n",
    "\n",
    "The train and test split can also be done using the **sklearn module**. If we use @sk_import to call the train_test_split function from model_selection module, we will get a warning message. Reason, the native ScikitLearn package in Julia has already defined train_test_split() in CrossValidation module, so better to use it from this module.\n",
    "\n",
    "In MLJ, we have partition() function to do the split but we are not using it as of now."
   ]
  },
  {
   "cell_type": "code",
   "execution_count": 80,
   "metadata": {
    "scrolled": false
   },
   "outputs": [],
   "source": [
    "#@sk_import model_selection: (train_test_split)"
   ]
  },
  {
   "cell_type": "code",
   "execution_count": 81,
   "metadata": {},
   "outputs": [],
   "source": [
    "using ScikitLearn.CrossValidation: train_test_split"
   ]
  },
  {
   "cell_type": "code",
   "execution_count": 82,
   "metadata": {},
   "outputs": [],
   "source": [
    "#from sklearn.model_selection import train_test_split ##Python code \n",
    "\n",
    "\n",
    "X_train, X_test, y_train, y_test = train_test_split( X, Y, test_size = 0.3, random_state = 42);"
   ]
  },
  {
   "cell_type": "code",
   "execution_count": 83,
   "metadata": {},
   "outputs": [
    {
     "name": "stdout",
     "output_type": "stream",
     "text": [
      "size(X_train) = (114, 25)\n",
      "size(X_test) = (49, 25)\n"
     ]
    },
    {
     "data": {
      "text/plain": [
       "(49, 25)"
      ]
     },
     "execution_count": 83,
     "metadata": {},
     "output_type": "execute_result"
    }
   ],
   "source": [
    "@show size(X_train)\n",
    "@show size(X_test)"
   ]
  },
  {
   "cell_type": "markdown",
   "metadata": {},
   "source": [
    "## Model Building: Using the **sklearn** \n",
    "\n"
   ]
  },
  {
   "cell_type": "code",
   "execution_count": 84,
   "metadata": {
    "Rmd_chunk_options": "caretModel, echo=TRUE, message=FALSE, warning=FALSE",
    "autoscroll": false
   },
   "outputs": [],
   "source": [
    "# Create linear regression object\n",
    "#ridge_reg_model = linear_model.Ridge(alpha = 0.5) #alpha = 0 is same as simple regression with OLS\n",
    "\n",
    "# Train the model using the training sets\n",
    "#ridge_reg_model.fit(X_train, y_train)"
   ]
  },
  {
   "cell_type": "code",
   "execution_count": 85,
   "metadata": {},
   "outputs": [
    {
     "data": {
      "text/plain": [
       "PyObject <class 'sklearn.linear_model._ridge.Ridge'>"
      ]
     },
     "execution_count": 85,
     "metadata": {},
     "output_type": "execute_result"
    }
   ],
   "source": [
    "@sk_import linear_model: (LinearRegression, Ridge)"
   ]
  },
  {
   "cell_type": "code",
   "execution_count": 86,
   "metadata": {},
   "outputs": [
    {
     "data": {
      "text/plain": [
       "PyObject Ridge(alpha=0.5)"
      ]
     },
     "execution_count": 86,
     "metadata": {},
     "output_type": "execute_result"
    }
   ],
   "source": [
    "ridge_reg_model = ScikitLearn.fit!(Ridge(alpha=0.5), X_train, y_train)"
   ]
  },
  {
   "cell_type": "code",
   "execution_count": 87,
   "metadata": {},
   "outputs": [
    {
     "data": {
      "text/plain": [
       "PyCall.PyObject"
      ]
     },
     "execution_count": 87,
     "metadata": {},
     "output_type": "execute_result"
    }
   ],
   "source": [
    "typeof(ridge_reg_model)"
   ]
  },
  {
   "cell_type": "markdown",
   "metadata": {},
   "source": [
    "Making the model is as simple as calling the `fit` method for `Ridge`. However, since we would like to select the best value of alpha, lets try to do it using the below function."
   ]
  },
  {
   "cell_type": "code",
   "execution_count": 88,
   "metadata": {},
   "outputs": [
    {
     "data": {
      "text/plain": [
       "49-element Array{Float64,1}:\n",
       " 182938.13280732383\n",
       " 267057.57298137917\n",
       " 108246.87024747391\n",
       " 247152.20805478108\n",
       " 138815.85232697328\n",
       " 295141.8682028086\n",
       " 135561.86241886733\n",
       " 114918.88293925491\n",
       " 220052.15271643328\n",
       " 243749.7868393778\n",
       " 306549.8113897716\n",
       " 134842.21828385277\n",
       " 347912.5367159734\n",
       "      ⋮\n",
       " 263097.7393053608\n",
       " 221663.56934151924\n",
       " 299463.32962183334\n",
       " 269325.76025941677\n",
       " 248831.20634915543\n",
       " 159590.84787834546\n",
       " 106324.88541929678\n",
       "  94723.9732604602\n",
       " 277533.7495631008\n",
       " 192908.39177949686\n",
       " 358756.6583930644\n",
       " 149731.88931181407"
      ]
     },
     "execution_count": 88,
     "metadata": {},
     "output_type": "execute_result"
    }
   ],
   "source": [
    "# Make predictions using the testing set\n",
    "y_pred = ScikitLearn.predict(ridge_reg_model,X_test);\n",
    "y_pred = ridge_reg_model.predict(X_test)"
   ]
  },
  {
   "cell_type": "code",
   "execution_count": 89,
   "metadata": {},
   "outputs": [
    {
     "name": "stdout",
     "output_type": "stream",
     "text": [
      "Coefficients: \n",
      "[2212.538121660945, -14870.784967336791, -69628.98908251722, -12069.877841376046, 131778.78242220942, 109077.18546018447, 19921.428847709547, -67689.57893840299, 34568.0976313315, 38923.064440075534, 860.9539268966311, 427.9497900556872, -1268.5486553915246, 1727.2269513232438, 52840.47928948892, 32039.576283917217, -1498.4573042947532, 323.3507352814162, 285.4631588578064, -45260.391818217635, 363.2167750531941, -71903.63748240218, -110851.63876744456, 1.5643374914094357, -86.69072064626941]Intercept: \n",
      "170020.87868965947"
     ]
    }
   ],
   "source": [
    "# The coefficients\n",
    "print(\"Coefficients: \\n\", ridge_reg_model.coef_)\n",
    "print(\"Intercept: \\n\", ridge_reg_model.intercept_)"
   ]
  },
  {
   "cell_type": "code",
   "execution_count": 90,
   "metadata": {},
   "outputs": [
    {
     "ename": "LoadError",
     "evalue": "\"mean_squared_error\" is not defined in module Main",
     "output_type": "error",
     "traceback": [
      "\"mean_squared_error\" is not defined in module Main",
      "",
      "Stacktrace:",
      " [1] error(::String) at ./error.jl:33",
      " [2] which(::Module, ::Symbol) at ./reflection.jl:1170",
      " [3] top-level scope at In[90]:1",
      " [4] include_string(::Function, ::Module, ::String, ::String) at ./loading.jl:1091",
      " [5] execute_code(::String, ::String) at /Users/Rahul/.julia/packages/IJulia/rWZ9e/src/execute_request.jl:27",
      " [6] execute_request(::ZMQ.Socket, ::IJulia.Msg) at /Users/Rahul/.julia/packages/IJulia/rWZ9e/src/execute_request.jl:86",
      " [7] #invokelatest#1 at ./essentials.jl:710 [inlined]",
      " [8] invokelatest at ./essentials.jl:709 [inlined]",
      " [9] eventloop(::ZMQ.Socket) at /Users/Rahul/.julia/packages/IJulia/rWZ9e/src/eventloop.jl:8",
      " [10] (::IJulia.var\"#15#18\")() at ./task.jl:356"
     ]
    }
   ],
   "source": [
    "@which mean_squared_error"
   ]
  },
  {
   "cell_type": "code",
   "execution_count": 91,
   "metadata": {},
   "outputs": [
    {
     "data": {
      "text/plain": [
       "PyObject <function r2_score at 0x7f91e3f61550>"
      ]
     },
     "execution_count": 91,
     "metadata": {},
     "output_type": "execute_result"
    }
   ],
   "source": [
    "#from sklearn.metrics import mean_squared_error, r2_score\n",
    "\n",
    "@sk_import metrics: (mean_squared_error, r2_score)"
   ]
  },
  {
   "cell_type": "code",
   "execution_count": 92,
   "metadata": {},
   "outputs": [
    {
     "name": "stdout",
     "output_type": "stream",
     "text": [
      "The mean squared error is 7621825864"
     ]
    }
   ],
   "source": [
    "# The mean squared error\n",
    "@printf(\"The mean squared error is %d\", mean_squared_error(y_test, y_pred))"
   ]
  },
  {
   "cell_type": "code",
   "execution_count": 93,
   "metadata": {},
   "outputs": [
    {
     "name": "stdout",
     "output_type": "stream",
     "text": [
      "The mean squared error is 0.53"
     ]
    }
   ],
   "source": [
    "# Explained variance score: 1 is perfect prediction\n",
    "\n",
    "@printf(\"The mean squared error is %.2f\", r2_score(y_test, y_pred))"
   ]
  },
  {
   "cell_type": "markdown",
   "metadata": {},
   "source": [
    "### Random Search with cross validation\n",
    "\n",
    "To use RandomizedSearchCV, create a parameter grid from where sample will be picked during model building:"
   ]
  },
  {
   "cell_type": "code",
   "execution_count": 94,
   "metadata": {},
   "outputs": [
    {
     "data": {
      "text/plain": [
       "Dict{String,Array{Float64,1}} with 1 entry:\n",
       "  \"alpha\" => [0.1, 0.2, 0.3, 0.4, 0.5, 0.6, 0.7, 0.8, 0.9, 1.0  …  9.1, 9.2, 9.3, 9.4, 9.5, 9.6, 9.7, 9.8, 9.9, 10.0]"
      ]
     },
     "execution_count": 94,
     "metadata": {},
     "output_type": "execute_result"
    }
   ],
   "source": [
    "alpha = collect(0.1:0.1:10)\n",
    "\n",
    "# Create the grid\n",
    "random_grid = Dict(\"alpha\" => alpha)\n",
    "random_grid"
   ]
  },
  {
   "cell_type": "markdown",
   "metadata": {},
   "source": [
    "### Model with Grid Search\n",
    "\n",
    "To report the performance on the selected KPI use `sklearn.metrics.SCORERS.keys()` to get the list of all the metrics and pass the relevant one in `RandomizedSearchCV` or `GridSearchCV`"
   ]
  },
  {
   "cell_type": "code",
   "execution_count": 95,
   "metadata": {},
   "outputs": [],
   "source": [
    "#@sk_import metrics: (SCORERS)\n",
    "\n",
    "#SCORERS"
   ]
  },
  {
   "cell_type": "code",
   "execution_count": 96,
   "metadata": {},
   "outputs": [],
   "source": [
    "# Use the random grid to search for best hyperparameters\n",
    "#from sklearn.model_selection import GridSearchCV"
   ]
  },
  {
   "cell_type": "code",
   "execution_count": 97,
   "metadata": {
    "scrolled": true
   },
   "outputs": [
    {
     "name": "stderr",
     "output_type": "stream",
     "text": [
      "┌ Warning: Module model_selection has been ported to Julia - try `import ScikitLearn: CrossValidation` instead\n",
      "└ @ ScikitLearn.Skcore /Users/Rahul/.julia/packages/ScikitLearn/ssekP/src/Skcore.jl:179\n"
     ]
    },
    {
     "data": {
      "text/plain": [
       "PyObject <class 'sklearn.model_selection._search.GridSearchCV'>"
      ]
     },
     "execution_count": 97,
     "metadata": {},
     "output_type": "execute_result"
    }
   ],
   "source": [
    "#using ScikitLearn.CrossValidation: GridSearchCV\n",
    "@sk_import model_selection: (GridSearchCV)"
   ]
  },
  {
   "cell_type": "code",
   "execution_count": 98,
   "metadata": {},
   "outputs": [
    {
     "data": {
      "text/plain": [
       "PyObject GridSearchCV(cv=3, estimator=Ridge(),\n",
       "             param_grid={'alpha': array([ 0.1,  0.2,  0.3,  0.4,  0.5,  0.6,  0.7,  0.8,  0.9,  1. ,  1.1,\n",
       "        1.2,  1.3,  1.4,  1.5,  1.6,  1.7,  1.8,  1.9,  2. ,  2.1,  2.2,\n",
       "        2.3,  2.4,  2.5,  2.6,  2.7,  2.8,  2.9,  3. ,  3.1,  3.2,  3.3,\n",
       "        3.4,  3.5,  3.6,  3.7,  3.8,  3.9,  4. ,  4.1,  4.2,  4.3,  4.4,\n",
       "        4.5,  4.6,  4.7,  4.8,  4.9,  5. ,  5.1,  5.2,  5.3,  5.4,  5.5,\n",
       "        5.6,  5.7,  5.8,  5.9,  6. ,  6.1,  6.2,  6.3,  6.4,  6.5,  6.6,\n",
       "        6.7,  6.8,  6.9,  7. ,  7.1,  7.2,  7.3,  7.4,  7.5,  7.6,  7.7,\n",
       "        7.8,  7.9,  8. ,  8.1,  8.2,  8.3,  8.4,  8.5,  8.6,  8.7,  8.8,\n",
       "        8.9,  9. ,  9.1,  9.2,  9.3,  9.4,  9.5,  9.6,  9.7,  9.8,  9.9,\n",
       "       10. ])},\n",
       "             scoring='r2')"
      ]
     },
     "execution_count": 98,
     "metadata": {},
     "output_type": "execute_result"
    }
   ],
   "source": [
    "# Random search of parameters, using 3 fold cross validation, \n",
    "\n",
    "ridge_reg_model = Ridge()\n",
    "ridge_best_model = GridSearchCV(estimator = ridge_reg_model, \n",
    "                               param_grid = random_grid, \n",
    "                                scoring = \"r2\",\n",
    "                               cv = 3, verbose=0)\n",
    "# Fit the random search model\n",
    "#ridge_best_model.fit(X_train, y_train)\n",
    "\n",
    "ScikitLearn.fit!(ridge_best_model,X_train,y_train)"
   ]
  },
  {
   "cell_type": "markdown",
   "metadata": {},
   "source": [
    "### Report the parameter\n",
    "\n",
    "The best model has the following parameter selected from the random search grid"
   ]
  },
  {
   "cell_type": "code",
   "execution_count": 99,
   "metadata": {},
   "outputs": [
    {
     "data": {
      "text/plain": [
       "Dict{Any,Any} with 1 entry:\n",
       "  \"alpha\" => 1.5"
      ]
     },
     "execution_count": 99,
     "metadata": {},
     "output_type": "execute_result"
    }
   ],
   "source": [
    "ridge_best_model.best_params_"
   ]
  },
  {
   "cell_type": "markdown",
   "metadata": {},
   "source": [
    "## Model Evaluation\n"
   ]
  },
  {
   "cell_type": "markdown",
   "metadata": {},
   "source": [
    "### 1. The prediction on test data.\n",
    "\n",
    "The prediction can be carried out by **defining functions** as well. Below is one such instance wherein a function is defined and is used for prediction"
   ]
  },
  {
   "cell_type": "code",
   "execution_count": 100,
   "metadata": {
    "Rmd_chunk_options": "caretPrediction, echo=TRUE",
    "autoscroll": false
   },
   "outputs": [
    {
     "data": {
      "text/plain": [
       "49-element Array{Float64,1}:\n",
       " 176111.07181267103\n",
       " 261363.78119535543\n",
       " 105486.04023229908\n",
       " 261956.7804636434\n",
       " 143030.5329592488\n",
       " 306177.78078664414\n",
       " 141534.58314760696\n",
       " 122197.40569525906\n",
       " 208940.93064918497\n",
       " 238011.7596422452\n",
       " 307050.04226832214\n",
       " 134140.48933373034\n",
       " 348179.6428613549\n",
       "      ⋮\n",
       " 275076.1542552053\n",
       " 218785.4416889535\n",
       " 274258.5340234546\n",
       " 262266.5196967971\n",
       " 244105.48774713802\n",
       " 164836.29872330086\n",
       " 104397.43067207298\n",
       " 102777.24456481021\n",
       " 272307.24122067285\n",
       " 189837.98429433335\n",
       " 358149.0965153544\n",
       " 144811.2085408224"
      ]
     },
     "execution_count": 100,
     "metadata": {},
     "output_type": "execute_result"
    }
   ],
   "source": [
    "y_pred = ScikitLearn.predict(ridge_best_model,X_test);\n",
    "y_pred = ridge_best_model.predict(X_test)"
   ]
  },
  {
   "cell_type": "code",
   "execution_count": 101,
   "metadata": {},
   "outputs": [
    {
     "name": "stdout",
     "output_type": "stream",
     "text": [
      "mean_squared_error(y_test, y_pred) = 6.448588927410615e9\n",
      "r2_score(y_test, y_pred) = 0.6010198991261695\n"
     ]
    },
    {
     "data": {
      "text/plain": [
       "0.6010198991261695"
      ]
     },
     "execution_count": 101,
     "metadata": {},
     "output_type": "execute_result"
    }
   ],
   "source": [
    "@show mean_squared_error(y_test, y_pred)\n",
    "@show r2_score(y_test, y_pred)"
   ]
  },
  {
   "cell_type": "markdown",
   "metadata": {},
   "source": [
    "## Deployment - Save model\n",
    "\n",
    "Save the model using JLD and PyCallJLD (Neeed if using @sk_import)"
   ]
  },
  {
   "cell_type": "code",
   "execution_count": 102,
   "metadata": {},
   "outputs": [],
   "source": [
    "#from sklearn.externals import joblib\n",
    "#import joblib\n",
    "#import pickle\n",
    "\n",
    "#joblib.dump( ridge_best_model, \"ridge_best_model.joblib\" )\n",
    "#pickle.dump(ridge_best_model,open(\"ridge_best_model.pkl\",'wb'))"
   ]
  },
  {
   "cell_type": "code",
   "execution_count": 103,
   "metadata": {},
   "outputs": [],
   "source": [
    "JLD.save(\"ridge_best_model.jld\", \"model\", ridge_best_model)\n",
    "#@save \"ridge_best_model1.JLD\" ridge_best_model"
   ]
  },
  {
   "cell_type": "markdown",
   "metadata": {},
   "source": [
    "## Use model on New Cases\n",
    "\n",
    "We can load the model object for later use. Assuming that X_test is a new data on which we will want to use the model."
   ]
  },
  {
   "cell_type": "code",
   "execution_count": 104,
   "metadata": {},
   "outputs": [
    {
     "data": {
      "text/plain": [
       "PyObject GridSearchCV(cv=3, estimator=Ridge(),\n",
       "             param_grid={'alpha': array([ 0.1,  0.2,  0.3,  0.4,  0.5,  0.6,  0.7,  0.8,  0.9,  1. ,  1.1,\n",
       "        1.2,  1.3,  1.4,  1.5,  1.6,  1.7,  1.8,  1.9,  2. ,  2.1,  2.2,\n",
       "        2.3,  2.4,  2.5,  2.6,  2.7,  2.8,  2.9,  3. ,  3.1,  3.2,  3.3,\n",
       "        3.4,  3.5,  3.6,  3.7,  3.8,  3.9,  4. ,  4.1,  4.2,  4.3,  4.4,\n",
       "        4.5,  4.6,  4.7,  4.8,  4.9,  5. ,  5.1,  5.2,  5.3,  5.4,  5.5,\n",
       "        5.6,  5.7,  5.8,  5.9,  6. ,  6.1,  6.2,  6.3,  6.4,  6.5,  6.6,\n",
       "        6.7,  6.8,  6.9,  7. ,  7.1,  7.2,  7.3,  7.4,  7.5,  7.6,  7.7,\n",
       "        7.8,  7.9,  8. ,  8.1,  8.2,  8.3,  8.4,  8.5,  8.6,  8.7,  8.8,\n",
       "        8.9,  9. ,  9.1,  9.2,  9.3,  9.4,  9.5,  9.6,  9.7,  9.8,  9.9,\n",
       "       10. ])},\n",
       "             scoring='r2')"
      ]
     },
     "execution_count": 104,
     "metadata": {},
     "output_type": "execute_result"
    }
   ],
   "source": [
    "new_model = JLD.load(\"ridge_best_model.jld\", \"model\")    # Load it back\n",
    "\n",
    "#@load \"ridge_best_model1.JLD\" ridge_best_model"
   ]
  },
  {
   "cell_type": "markdown",
   "metadata": {},
   "source": [
    "Predict on the test set:"
   ]
  },
  {
   "cell_type": "code",
   "execution_count": 105,
   "metadata": {},
   "outputs": [
    {
     "data": {
      "text/plain": [
       "PyObject Ridge()"
      ]
     },
     "execution_count": 105,
     "metadata": {},
     "output_type": "execute_result"
    }
   ],
   "source": [
    "new_model.estimator"
   ]
  },
  {
   "cell_type": "code",
   "execution_count": 106,
   "metadata": {},
   "outputs": [
    {
     "data": {
      "text/plain": [
       "49-element Array{Float64,1}:\n",
       " 176111.07181267103\n",
       " 261363.78119535543\n",
       " 105486.04023229908\n",
       " 261956.7804636434\n",
       " 143030.5329592488\n",
       " 306177.78078664414\n",
       " 141534.58314760696\n",
       " 122197.40569525906\n",
       " 208940.93064918497\n",
       " 238011.7596422452\n",
       " 307050.04226832214\n",
       " 134140.48933373034\n",
       " 348179.6428613549\n",
       "      ⋮\n",
       " 275076.1542552053\n",
       " 218785.4416889535\n",
       " 274258.5340234546\n",
       " 262266.5196967971\n",
       " 244105.48774713802\n",
       " 164836.29872330086\n",
       " 104397.43067207298\n",
       " 102777.24456481021\n",
       " 272307.24122067285\n",
       " 189837.98429433335\n",
       " 358149.0965153544\n",
       " 144811.2085408224"
      ]
     },
     "execution_count": 106,
     "metadata": {},
     "output_type": "execute_result"
    }
   ],
   "source": [
    "new_model.predict( X_test )"
   ]
  },
  {
   "cell_type": "markdown",
   "metadata": {},
   "source": [
    "Model performance on the test set"
   ]
  },
  {
   "cell_type": "code",
   "execution_count": 107,
   "metadata": {},
   "outputs": [
    {
     "data": {
      "text/plain": [
       "0.6010198991261695"
      ]
     },
     "execution_count": 107,
     "metadata": {},
     "output_type": "execute_result"
    }
   ],
   "source": [
    "new_model.score(X_test,y_test)"
   ]
  },
  {
   "cell_type": "markdown",
   "metadata": {},
   "source": [
    "\n",
    "#### End of Document\n",
    "\n",
    "***\n",
    "***\n"
   ]
  }
 ],
 "metadata": {
  "@webio": {
   "lastCommId": null,
   "lastKernelId": null
  },
  "Rmd_header": {
   "author": "Kumar Rahul",
   "date": "9 September 2016",
   "output": "word_document",
   "title": "Logistic Regression using Caret Package"
  },
  "kernelspec": {
   "display_name": "Julia 1.5.2",
   "language": "julia",
   "name": "julia-1.5"
  },
  "language_info": {
   "file_extension": ".jl",
   "mimetype": "application/julia",
   "name": "julia",
   "version": "1.5.2"
  }
 },
 "nbformat": 4,
 "nbformat_minor": 1
}
